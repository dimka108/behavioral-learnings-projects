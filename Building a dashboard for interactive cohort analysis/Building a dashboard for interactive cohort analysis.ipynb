{
 "cells": [
  {
   "cell_type": "code",
   "execution_count": 95,
   "metadata": {
    "collapsed": true
   },
   "outputs": [],
   "source": [
    "# data munging\n",
    "import pandas as pd\n",
    "import numpy as np\n",
    "import random\n",
    "\n",
    "# visualization\n",
    "\n",
    "%matplotlib inline\n",
    "import matplotlib.pyplot as plt\n",
    "import seaborn as sns\n",
    "sns.set_style(\"darkgrid\")\n",
    "from matplotlib import cm\n",
    "from ipywidgets import interact\n",
    "seq_col_brew = sns.color_palette(\"Blues_r\", 4)\n",
    "sns.set_palette(seq_col_brew)"
   ]
  },
  {
   "cell_type": "code",
   "execution_count": 96,
   "metadata": {},
   "outputs": [
    {
     "data": {
      "text/html": [
       "<div>\n",
       "<style>\n",
       "    .dataframe thead tr:only-child th {\n",
       "        text-align: right;\n",
       "    }\n",
       "\n",
       "    .dataframe thead th {\n",
       "        text-align: left;\n",
       "    }\n",
       "\n",
       "    .dataframe tbody tr th {\n",
       "        vertical-align: top;\n",
       "    }\n",
       "</style>\n",
       "<table border=\"1\" class=\"dataframe\">\n",
       "  <thead>\n",
       "    <tr style=\"text-align: right;\">\n",
       "      <th></th>\n",
       "      <th>device_uuid</th>\n",
       "      <th>date</th>\n",
       "      <th>feature1</th>\n",
       "      <th>feature2</th>\n",
       "      <th>feature3</th>\n",
       "      <th>platform</th>\n",
       "      <th>user_registered</th>\n",
       "      <th>country</th>\n",
       "    </tr>\n",
       "  </thead>\n",
       "  <tbody>\n",
       "    <tr>\n",
       "      <th>0</th>\n",
       "      <td>512ff3c3-fa27-442d-a116-126ec5e46d0b</td>\n",
       "      <td>2016-09-01</td>\n",
       "      <td>2</td>\n",
       "      <td>1</td>\n",
       "      <td>1</td>\n",
       "      <td>Android</td>\n",
       "      <td>False</td>\n",
       "      <td>AU</td>\n",
       "    </tr>\n",
       "    <tr>\n",
       "      <th>1</th>\n",
       "      <td>8a7b8862-4490-4a45-89e4-6f909e09c3f6</td>\n",
       "      <td>2016-10-01</td>\n",
       "      <td>3</td>\n",
       "      <td>2</td>\n",
       "      <td>1</td>\n",
       "      <td>Android</td>\n",
       "      <td>False</td>\n",
       "      <td>AU</td>\n",
       "    </tr>\n",
       "    <tr>\n",
       "      <th>2</th>\n",
       "      <td>8a7b8862-4490-4a45-89e4-6f909e09c3f6</td>\n",
       "      <td>2016-11-01</td>\n",
       "      <td>10</td>\n",
       "      <td>8</td>\n",
       "      <td>6</td>\n",
       "      <td>Android</td>\n",
       "      <td>False</td>\n",
       "      <td>AU</td>\n",
       "    </tr>\n",
       "    <tr>\n",
       "      <th>3</th>\n",
       "      <td>8a7b8862-4490-4a45-89e4-6f909e09c3f6</td>\n",
       "      <td>2016-12-01</td>\n",
       "      <td>2</td>\n",
       "      <td>1</td>\n",
       "      <td>1</td>\n",
       "      <td>Android</td>\n",
       "      <td>False</td>\n",
       "      <td>AU</td>\n",
       "    </tr>\n",
       "    <tr>\n",
       "      <th>4</th>\n",
       "      <td>8a7b8862-4490-4a45-89e4-6f909e09c3f6</td>\n",
       "      <td>2017-01-01</td>\n",
       "      <td>10</td>\n",
       "      <td>8</td>\n",
       "      <td>6</td>\n",
       "      <td>Android</td>\n",
       "      <td>False</td>\n",
       "      <td>AU</td>\n",
       "    </tr>\n",
       "  </tbody>\n",
       "</table>\n",
       "</div>"
      ],
      "text/plain": [
       "                            device_uuid        date  feature1  feature2  \\\n",
       "0  512ff3c3-fa27-442d-a116-126ec5e46d0b  2016-09-01         2         1   \n",
       "1  8a7b8862-4490-4a45-89e4-6f909e09c3f6  2016-10-01         3         2   \n",
       "2  8a7b8862-4490-4a45-89e4-6f909e09c3f6  2016-11-01        10         8   \n",
       "3  8a7b8862-4490-4a45-89e4-6f909e09c3f6  2016-12-01         2         1   \n",
       "4  8a7b8862-4490-4a45-89e4-6f909e09c3f6  2017-01-01        10         8   \n",
       "\n",
       "   feature3 platform  user_registered country  \n",
       "0         1  Android            False      AU  \n",
       "1         1  Android            False      AU  \n",
       "2         6  Android            False      AU  \n",
       "3         1  Android            False      AU  \n",
       "4         6  Android            False      AU  "
      ]
     },
     "execution_count": 96,
     "metadata": {},
     "output_type": "execute_result"
    }
   ],
   "source": [
    "all_user_data_df = pd.DataFrame.from_csv('generating_user_behavioral_data.csv')\n",
    "all_user_data_df[['feature1', 'feature2', 'feature3']] = all_user_data_df[['feature1', 'feature2', 'feature3']].astype(int)\n",
    "all_user_data_df.head()"
   ]
  },
  {
   "cell_type": "code",
   "execution_count": 97,
   "metadata": {},
   "outputs": [
    {
     "data": {
      "text/plain": [
       "9265"
      ]
     },
     "execution_count": 97,
     "metadata": {},
     "output_type": "execute_result"
    }
   ],
   "source": [
    "len(all_user_data_df['device_uuid'].unique())"
   ]
  },
  {
   "cell_type": "markdown",
   "metadata": {},
   "source": [
    "## Simulating difference in retention (iOS vs. Android)"
   ]
  },
  {
   "cell_type": "code",
   "execution_count": 98,
   "metadata": {
    "collapsed": true
   },
   "outputs": [],
   "source": [
    "# all the data is equally distributed across all features we want to remove a certain values to be able to visualize\n",
    "# the difference in retention\n",
    "# we want to simulate a 50% lower retention of iOS users compared to Android users"
   ]
  },
  {
   "cell_type": "code",
   "execution_count": 99,
   "metadata": {},
   "outputs": [
    {
     "data": {
      "text/plain": [
       "6480"
      ]
     },
     "execution_count": 99,
     "metadata": {},
     "output_type": "execute_result"
    }
   ],
   "source": [
    "# extract only iOS users and check whether they have more than a month of usage data\n",
    "ios_lt_df = pd.DataFrame(all_user_data_df[all_user_data_df['platform'] == 'iOS'].groupby('device_uuid').count()['date'] > 1).reset_index()\n",
    "len(ios_lt_df)"
   ]
  },
  {
   "cell_type": "code",
   "execution_count": 100,
   "metadata": {},
   "outputs": [
    {
     "data": {
      "text/plain": [
       "2975"
      ]
     },
     "execution_count": 100,
     "metadata": {},
     "output_type": "execute_result"
    }
   ],
   "source": [
    "# extract the device_uuids from users that have more than a month of data\n",
    "ios_lt_df= ios_lt_df[ios_lt_df['date'] == True]\n",
    "ios_lt_df.reset_index(drop=True, inplace=True)\n",
    "len(ios_lt_df)"
   ]
  },
  {
   "cell_type": "code",
   "execution_count": 101,
   "metadata": {},
   "outputs": [
    {
     "data": {
      "text/plain": [
       "1552"
      ]
     },
     "execution_count": 101,
     "metadata": {},
     "output_type": "execute_result"
    }
   ],
   "source": [
    "# assign 0 or 1 to all users that have more than a month of usage data\n",
    "ios_lt_df['binary_split'] = pd.Series(np.random.randint(2, size=len(ios_lt_df)))\n",
    "\n",
    "# extract only users that don't have the assigned values of 0 (50/50 split)\n",
    "ios_lt_df = ios_lt_df[ios_lt_df['binary_split'] == 1.0]\n",
    "\n",
    "# extract devices uuids into a list\n",
    "ios_lt_devices = ios_lt_df['device_uuid']\n",
    "\n",
    "len(ios_lt_devices)"
   ]
  },
  {
   "cell_type": "code",
   "execution_count": 102,
   "metadata": {},
   "outputs": [],
   "source": [
    "# removing the assigned devices\n",
    "all_user_data_df_updated = all_user_data_df.query(\"device_uuid not in @ios_lt_devices\")"
   ]
  },
  {
   "cell_type": "code",
   "execution_count": 103,
   "metadata": {},
   "outputs": [
    {
     "data": {
      "text/plain": [
       "7713"
      ]
     },
     "execution_count": 103,
     "metadata": {},
     "output_type": "execute_result"
    }
   ],
   "source": [
    "len(all_user_data_df_updated['device_uuid'].unique())"
   ]
  },
  {
   "cell_type": "code",
   "execution_count": 104,
   "metadata": {},
   "outputs": [
    {
     "data": {
      "text/plain": [
       "True"
      ]
     },
     "execution_count": 104,
     "metadata": {},
     "output_type": "execute_result"
    }
   ],
   "source": [
    "num_removed_devices = len(all_user_data_df['device_uuid'].unique()) -  len(all_user_data_df_updated['device_uuid'].unique())\n",
    "len(ios_lt_devices) == num_removed_devices"
   ]
  },
  {
   "cell_type": "code",
   "execution_count": 105,
   "metadata": {
    "collapsed": true
   },
   "outputs": [],
   "source": [
    "all_user_data_df = all_user_data_df_updated.copy()"
   ]
  },
  {
   "cell_type": "markdown",
   "metadata": {},
   "source": [
    "## 1. Segmenting users"
   ]
  },
  {
   "cell_type": "code",
   "execution_count": 106,
   "metadata": {
    "collapsed": true
   },
   "outputs": [],
   "source": [
    "def segmenting(df, country, platform, user_registered):\n",
    "    \n",
    "    df['Date'] = pd.to_datetime(df['date'])\n",
    "\n",
    "    # for each categorical (segmentation) feature\n",
    "    if country != 'All countries':\n",
    "        df = df[df['country'] == country]\n",
    "        \n",
    "    if platform != 'All platforms':\n",
    "        df = df[df['platform'] == platform]\n",
    "        \n",
    "    if user_registered != 'True and False':\n",
    "        df = df[df['user_registered'] == user_registered]\n",
    "        \n",
    "    return df"
   ]
  },
  {
   "cell_type": "code",
   "execution_count": 107,
   "metadata": {
    "collapsed": true
   },
   "outputs": [],
   "source": [
    "# NL / AU / FR\n",
    "country_values = ['All countries'] + list(all_user_data_df['country'].unique())\n",
    "\n",
    "# iOS / Android\n",
    "platform_values = ['All platforms'] + list(all_user_data_df['platform'].unique())\n",
    "\n",
    "# True / False\n",
    "user_registered_values = ['True and False'] + list(all_user_data_df['user_registered'].unique())"
   ]
  },
  {
   "cell_type": "code",
   "execution_count": 109,
   "metadata": {},
   "outputs": [
    {
     "data": {
      "text/html": [
       "<div>\n",
       "<style>\n",
       "    .dataframe thead tr:only-child th {\n",
       "        text-align: right;\n",
       "    }\n",
       "\n",
       "    .dataframe thead th {\n",
       "        text-align: left;\n",
       "    }\n",
       "\n",
       "    .dataframe tbody tr th {\n",
       "        vertical-align: top;\n",
       "    }\n",
       "</style>\n",
       "<table border=\"1\" class=\"dataframe\">\n",
       "  <thead>\n",
       "    <tr style=\"text-align: right;\">\n",
       "      <th></th>\n",
       "      <th>device_uuid</th>\n",
       "      <th>date</th>\n",
       "      <th>feature1</th>\n",
       "      <th>feature2</th>\n",
       "      <th>feature3</th>\n",
       "      <th>platform</th>\n",
       "      <th>user_registered</th>\n",
       "      <th>country</th>\n",
       "      <th>Date</th>\n",
       "    </tr>\n",
       "  </thead>\n",
       "  <tbody>\n",
       "    <tr>\n",
       "      <th>30</th>\n",
       "      <td>cb9e10ff-cbff-46c4-8ac1-69de19e5aeea</td>\n",
       "      <td>2016-08-01</td>\n",
       "      <td>8</td>\n",
       "      <td>6</td>\n",
       "      <td>4</td>\n",
       "      <td>iOS</td>\n",
       "      <td>False</td>\n",
       "      <td>NL</td>\n",
       "      <td>2016-08-01</td>\n",
       "    </tr>\n",
       "    <tr>\n",
       "      <th>31</th>\n",
       "      <td>cb9e10ff-cbff-46c4-8ac1-69de19e5aeea</td>\n",
       "      <td>2016-09-01</td>\n",
       "      <td>3</td>\n",
       "      <td>2</td>\n",
       "      <td>1</td>\n",
       "      <td>iOS</td>\n",
       "      <td>False</td>\n",
       "      <td>NL</td>\n",
       "      <td>2016-09-01</td>\n",
       "    </tr>\n",
       "    <tr>\n",
       "      <th>32</th>\n",
       "      <td>cb9e10ff-cbff-46c4-8ac1-69de19e5aeea</td>\n",
       "      <td>2016-10-01</td>\n",
       "      <td>2</td>\n",
       "      <td>1</td>\n",
       "      <td>1</td>\n",
       "      <td>iOS</td>\n",
       "      <td>False</td>\n",
       "      <td>NL</td>\n",
       "      <td>2016-10-01</td>\n",
       "    </tr>\n",
       "    <tr>\n",
       "      <th>33</th>\n",
       "      <td>cb9e10ff-cbff-46c4-8ac1-69de19e5aeea</td>\n",
       "      <td>2016-11-01</td>\n",
       "      <td>9</td>\n",
       "      <td>7</td>\n",
       "      <td>5</td>\n",
       "      <td>iOS</td>\n",
       "      <td>False</td>\n",
       "      <td>NL</td>\n",
       "      <td>2016-11-01</td>\n",
       "    </tr>\n",
       "    <tr>\n",
       "      <th>34</th>\n",
       "      <td>cb9e10ff-cbff-46c4-8ac1-69de19e5aeea</td>\n",
       "      <td>2016-12-01</td>\n",
       "      <td>4</td>\n",
       "      <td>3</td>\n",
       "      <td>2</td>\n",
       "      <td>iOS</td>\n",
       "      <td>False</td>\n",
       "      <td>NL</td>\n",
       "      <td>2016-12-01</td>\n",
       "    </tr>\n",
       "  </tbody>\n",
       "</table>\n",
       "</div>"
      ],
      "text/plain": [
       "                             device_uuid        date  feature1  feature2  \\\n",
       "30  cb9e10ff-cbff-46c4-8ac1-69de19e5aeea  2016-08-01         8         6   \n",
       "31  cb9e10ff-cbff-46c4-8ac1-69de19e5aeea  2016-09-01         3         2   \n",
       "32  cb9e10ff-cbff-46c4-8ac1-69de19e5aeea  2016-10-01         2         1   \n",
       "33  cb9e10ff-cbff-46c4-8ac1-69de19e5aeea  2016-11-01         9         7   \n",
       "34  cb9e10ff-cbff-46c4-8ac1-69de19e5aeea  2016-12-01         4         3   \n",
       "\n",
       "    feature3 platform  user_registered country       Date  \n",
       "30         4      iOS            False      NL 2016-08-01  \n",
       "31         1      iOS            False      NL 2016-09-01  \n",
       "32         1      iOS            False      NL 2016-10-01  \n",
       "33         5      iOS            False      NL 2016-11-01  \n",
       "34         2      iOS            False      NL 2016-12-01  "
      ]
     },
     "execution_count": 109,
     "metadata": {},
     "output_type": "execute_result"
    }
   ],
   "source": [
    "country_value = 'NL'\n",
    "platform_value = 'iOS'\n",
    "user_registered_value = False\n",
    "\n",
    "df = segmenting(all_user_data_df.copy(), country=country_value, platform=platform_value, user_registered=user_registered_value)\n",
    "df.head()"
   ]
  },
  {
   "cell_type": "markdown",
   "metadata": {},
   "source": [
    "## 2. Building cohorts"
   ]
  },
  {
   "cell_type": "code",
   "execution_count": 112,
   "metadata": {
    "collapsed": true
   },
   "outputs": [],
   "source": [
    "def preprocess_cohorting(df):\n",
    "    df['sum'] = df['feature1'] + df['feature2'] + df['feature3']\n",
    "    df['date'] = pd.to_datetime(df['date'])\n",
    "    \n",
    "    to_month = lambda x: x.strftime('%Y-%m')\n",
    "    df['onboarded_period'] = df['date'].apply(to_month)\n",
    "    \n",
    "    df.set_index('device_uuid', inplace=True)\n",
    "    df['cohort_group'] = df.groupby(level=0)['date'].min().apply(lambda x:  x.strftime('%Y-%m'))\n",
    "    df.reset_index(inplace=True)\n",
    "    \n",
    "    return df"
   ]
  },
  {
   "cell_type": "code",
   "execution_count": 113,
   "metadata": {},
   "outputs": [
    {
     "data": {
      "text/html": [
       "<div>\n",
       "<style>\n",
       "    .dataframe thead tr:only-child th {\n",
       "        text-align: right;\n",
       "    }\n",
       "\n",
       "    .dataframe thead th {\n",
       "        text-align: left;\n",
       "    }\n",
       "\n",
       "    .dataframe tbody tr th {\n",
       "        vertical-align: top;\n",
       "    }\n",
       "</style>\n",
       "<table border=\"1\" class=\"dataframe\">\n",
       "  <thead>\n",
       "    <tr style=\"text-align: right;\">\n",
       "      <th></th>\n",
       "      <th>device_uuid</th>\n",
       "      <th>date</th>\n",
       "      <th>feature1</th>\n",
       "      <th>feature2</th>\n",
       "      <th>feature3</th>\n",
       "      <th>platform</th>\n",
       "      <th>user_registered</th>\n",
       "      <th>country</th>\n",
       "      <th>Date</th>\n",
       "      <th>sum</th>\n",
       "      <th>onboarded_period</th>\n",
       "      <th>cohort_group</th>\n",
       "    </tr>\n",
       "  </thead>\n",
       "  <tbody>\n",
       "    <tr>\n",
       "      <th>0</th>\n",
       "      <td>cb9e10ff-cbff-46c4-8ac1-69de19e5aeea</td>\n",
       "      <td>2016-08-01</td>\n",
       "      <td>8</td>\n",
       "      <td>6</td>\n",
       "      <td>4</td>\n",
       "      <td>iOS</td>\n",
       "      <td>False</td>\n",
       "      <td>NL</td>\n",
       "      <td>2016-08-01</td>\n",
       "      <td>18</td>\n",
       "      <td>2016-08</td>\n",
       "      <td>2016-08</td>\n",
       "    </tr>\n",
       "    <tr>\n",
       "      <th>1</th>\n",
       "      <td>cb9e10ff-cbff-46c4-8ac1-69de19e5aeea</td>\n",
       "      <td>2016-09-01</td>\n",
       "      <td>3</td>\n",
       "      <td>2</td>\n",
       "      <td>1</td>\n",
       "      <td>iOS</td>\n",
       "      <td>False</td>\n",
       "      <td>NL</td>\n",
       "      <td>2016-09-01</td>\n",
       "      <td>6</td>\n",
       "      <td>2016-09</td>\n",
       "      <td>2016-08</td>\n",
       "    </tr>\n",
       "    <tr>\n",
       "      <th>2</th>\n",
       "      <td>cb9e10ff-cbff-46c4-8ac1-69de19e5aeea</td>\n",
       "      <td>2016-10-01</td>\n",
       "      <td>2</td>\n",
       "      <td>1</td>\n",
       "      <td>1</td>\n",
       "      <td>iOS</td>\n",
       "      <td>False</td>\n",
       "      <td>NL</td>\n",
       "      <td>2016-10-01</td>\n",
       "      <td>4</td>\n",
       "      <td>2016-10</td>\n",
       "      <td>2016-08</td>\n",
       "    </tr>\n",
       "    <tr>\n",
       "      <th>3</th>\n",
       "      <td>cb9e10ff-cbff-46c4-8ac1-69de19e5aeea</td>\n",
       "      <td>2016-11-01</td>\n",
       "      <td>9</td>\n",
       "      <td>7</td>\n",
       "      <td>5</td>\n",
       "      <td>iOS</td>\n",
       "      <td>False</td>\n",
       "      <td>NL</td>\n",
       "      <td>2016-11-01</td>\n",
       "      <td>21</td>\n",
       "      <td>2016-11</td>\n",
       "      <td>2016-08</td>\n",
       "    </tr>\n",
       "    <tr>\n",
       "      <th>4</th>\n",
       "      <td>cb9e10ff-cbff-46c4-8ac1-69de19e5aeea</td>\n",
       "      <td>2016-12-01</td>\n",
       "      <td>4</td>\n",
       "      <td>3</td>\n",
       "      <td>2</td>\n",
       "      <td>iOS</td>\n",
       "      <td>False</td>\n",
       "      <td>NL</td>\n",
       "      <td>2016-12-01</td>\n",
       "      <td>9</td>\n",
       "      <td>2016-12</td>\n",
       "      <td>2016-08</td>\n",
       "    </tr>\n",
       "  </tbody>\n",
       "</table>\n",
       "</div>"
      ],
      "text/plain": [
       "                            device_uuid       date  feature1  feature2  \\\n",
       "0  cb9e10ff-cbff-46c4-8ac1-69de19e5aeea 2016-08-01         8         6   \n",
       "1  cb9e10ff-cbff-46c4-8ac1-69de19e5aeea 2016-09-01         3         2   \n",
       "2  cb9e10ff-cbff-46c4-8ac1-69de19e5aeea 2016-10-01         2         1   \n",
       "3  cb9e10ff-cbff-46c4-8ac1-69de19e5aeea 2016-11-01         9         7   \n",
       "4  cb9e10ff-cbff-46c4-8ac1-69de19e5aeea 2016-12-01         4         3   \n",
       "\n",
       "   feature3 platform  user_registered country       Date  sum  \\\n",
       "0         4      iOS            False      NL 2016-08-01   18   \n",
       "1         1      iOS            False      NL 2016-09-01    6   \n",
       "2         1      iOS            False      NL 2016-10-01    4   \n",
       "3         5      iOS            False      NL 2016-11-01   21   \n",
       "4         2      iOS            False      NL 2016-12-01    9   \n",
       "\n",
       "  onboarded_period cohort_group  \n",
       "0          2016-08      2016-08  \n",
       "1          2016-09      2016-08  \n",
       "2          2016-10      2016-08  \n",
       "3          2016-11      2016-08  \n",
       "4          2016-12      2016-08  "
      ]
     },
     "execution_count": 113,
     "metadata": {},
     "output_type": "execute_result"
    }
   ],
   "source": [
    "# step 1\n",
    "df = preprocess_cohorting(df)\n",
    "df.head()"
   ]
  },
  {
   "cell_type": "code",
   "execution_count": 114,
   "metadata": {
    "collapsed": true
   },
   "outputs": [],
   "source": [
    "def build_cohort_data(df):\n",
    "    grouped = df.groupby(['cohort_group', 'onboarded_period'])\n",
    "\n",
    "    # count the unique users, orders, and total revenue per Group + Period\n",
    "    cohorts = grouped.agg({'device_uuid': pd.Series.nunique,\n",
    "                      'sum': np.sum})\n",
    "\n",
    "    # make the column names more meaningful\n",
    "    cohorts.rename(columns={'device_uuid': 'all_users',\n",
    "                       'sum': 'all_num_events'}, inplace=True)\n",
    "    return cohorts"
   ]
  },
  {
   "cell_type": "code",
   "execution_count": 115,
   "metadata": {},
   "outputs": [
    {
     "data": {
      "text/html": [
       "<div>\n",
       "<style>\n",
       "    .dataframe thead tr:only-child th {\n",
       "        text-align: right;\n",
       "    }\n",
       "\n",
       "    .dataframe thead th {\n",
       "        text-align: left;\n",
       "    }\n",
       "\n",
       "    .dataframe tbody tr th {\n",
       "        vertical-align: top;\n",
       "    }\n",
       "</style>\n",
       "<table border=\"1\" class=\"dataframe\">\n",
       "  <thead>\n",
       "    <tr style=\"text-align: right;\">\n",
       "      <th></th>\n",
       "      <th></th>\n",
       "      <th>all_num_events</th>\n",
       "      <th>all_users</th>\n",
       "    </tr>\n",
       "    <tr>\n",
       "      <th>cohort_group</th>\n",
       "      <th>onboarded_period</th>\n",
       "      <th></th>\n",
       "      <th></th>\n",
       "    </tr>\n",
       "  </thead>\n",
       "  <tbody>\n",
       "    <tr>\n",
       "      <th rowspan=\"5\" valign=\"top\">2016-02</th>\n",
       "      <th>2016-02</th>\n",
       "      <td>3914</td>\n",
       "      <td>237</td>\n",
       "    </tr>\n",
       "    <tr>\n",
       "      <th>2016-03</th>\n",
       "      <td>1035</td>\n",
       "      <td>63</td>\n",
       "    </tr>\n",
       "    <tr>\n",
       "      <th>2016-04</th>\n",
       "      <td>1033</td>\n",
       "      <td>60</td>\n",
       "    </tr>\n",
       "    <tr>\n",
       "      <th>2016-05</th>\n",
       "      <td>844</td>\n",
       "      <td>55</td>\n",
       "    </tr>\n",
       "    <tr>\n",
       "      <th>2016-06</th>\n",
       "      <td>867</td>\n",
       "      <td>51</td>\n",
       "    </tr>\n",
       "  </tbody>\n",
       "</table>\n",
       "</div>"
      ],
      "text/plain": [
       "                               all_num_events  all_users\n",
       "cohort_group onboarded_period                           \n",
       "2016-02      2016-02                     3914        237\n",
       "             2016-03                     1035         63\n",
       "             2016-04                     1033         60\n",
       "             2016-05                      844         55\n",
       "             2016-06                      867         51"
      ]
     },
     "execution_count": 115,
     "metadata": {},
     "output_type": "execute_result"
    }
   ],
   "source": [
    "# step 2\n",
    "cohorts = build_cohort_data(df)\n",
    "cohorts.head()"
   ]
  },
  {
   "cell_type": "code",
   "execution_count": 116,
   "metadata": {},
   "outputs": [],
   "source": [
    "def cohort_period(df):\n",
    "    \"\"\"\n",
    "    Creates a `CohortPeriod` column, which is the Nth period based on the user's first purchase.\n",
    "    \n",
    "    Example\n",
    "    -------\n",
    "    Say you want to get the 3rd month for every user:\n",
    "        df.sort(['UserId', 'OrderTime', inplace=True)\n",
    "        df = df.groupby('UserId').apply(cohort_period)\n",
    "        df[df.CohortPeriod == 3]\n",
    "    \"\"\"\n",
    "    \n",
    "    df['cohort_period'] = np.arange(len(df)) + 0\n",
    "    return df"
   ]
  },
  {
   "cell_type": "code",
   "execution_count": 117,
   "metadata": {},
   "outputs": [
    {
     "data": {
      "text/html": [
       "<div>\n",
       "<style>\n",
       "    .dataframe thead tr:only-child th {\n",
       "        text-align: right;\n",
       "    }\n",
       "\n",
       "    .dataframe thead th {\n",
       "        text-align: left;\n",
       "    }\n",
       "\n",
       "    .dataframe tbody tr th {\n",
       "        vertical-align: top;\n",
       "    }\n",
       "</style>\n",
       "<table border=\"1\" class=\"dataframe\">\n",
       "  <thead>\n",
       "    <tr style=\"text-align: right;\">\n",
       "      <th></th>\n",
       "      <th></th>\n",
       "      <th>all_num_events</th>\n",
       "      <th>all_users</th>\n",
       "      <th>cohort_period</th>\n",
       "    </tr>\n",
       "    <tr>\n",
       "      <th>cohort_group</th>\n",
       "      <th>onboarded_period</th>\n",
       "      <th></th>\n",
       "      <th></th>\n",
       "      <th></th>\n",
       "    </tr>\n",
       "  </thead>\n",
       "  <tbody>\n",
       "    <tr>\n",
       "      <th rowspan=\"5\" valign=\"top\">2016-02</th>\n",
       "      <th>2016-02</th>\n",
       "      <td>3914</td>\n",
       "      <td>237</td>\n",
       "      <td>0</td>\n",
       "    </tr>\n",
       "    <tr>\n",
       "      <th>2016-03</th>\n",
       "      <td>1035</td>\n",
       "      <td>63</td>\n",
       "      <td>1</td>\n",
       "    </tr>\n",
       "    <tr>\n",
       "      <th>2016-04</th>\n",
       "      <td>1033</td>\n",
       "      <td>60</td>\n",
       "      <td>2</td>\n",
       "    </tr>\n",
       "    <tr>\n",
       "      <th>2016-05</th>\n",
       "      <td>844</td>\n",
       "      <td>55</td>\n",
       "      <td>3</td>\n",
       "    </tr>\n",
       "    <tr>\n",
       "      <th>2016-06</th>\n",
       "      <td>867</td>\n",
       "      <td>51</td>\n",
       "      <td>4</td>\n",
       "    </tr>\n",
       "  </tbody>\n",
       "</table>\n",
       "</div>"
      ],
      "text/plain": [
       "                               all_num_events  all_users  cohort_period\n",
       "cohort_group onboarded_period                                          \n",
       "2016-02      2016-02                     3914        237              0\n",
       "             2016-03                     1035         63              1\n",
       "             2016-04                     1033         60              2\n",
       "             2016-05                      844         55              3\n",
       "             2016-06                      867         51              4"
      ]
     },
     "execution_count": 117,
     "metadata": {},
     "output_type": "execute_result"
    }
   ],
   "source": [
    "# step 3\n",
    "cohorts = cohorts.groupby(level=0).apply(cohort_period)\n",
    "cohorts.head()"
   ]
  },
  {
   "cell_type": "code",
   "execution_count": 118,
   "metadata": {
    "collapsed": true
   },
   "outputs": [],
   "source": [
    "def cohort_reindex_and_group_size(df):\n",
    "    # reindex the dataframe\n",
    "    df.reset_index(inplace=True)\n",
    "    df.set_index(['cohort_group', 'cohort_period'], inplace=True)\n",
    "    cohort_group_size = df['all_users'].groupby(level=0).first()\n",
    "    return df, cohort_group_size"
   ]
  },
  {
   "cell_type": "code",
   "execution_count": 119,
   "metadata": {},
   "outputs": [
    {
     "data": {
      "text/plain": [
       "cohort_group\n",
       "2016-02    237\n",
       "2016-03    232\n",
       "2016-04    220\n",
       "2016-05    240\n",
       "2016-06    205\n",
       "2016-07    250\n",
       "2016-08    225\n",
       "2016-09    226\n",
       "2016-10    218\n",
       "Name: all_users, dtype: int64"
      ]
     },
     "execution_count": 119,
     "metadata": {},
     "output_type": "execute_result"
    }
   ],
   "source": [
    "# step 4\n",
    "cohorts, cohort_group_size = cohort_reindex_and_group_size(cohorts)\n",
    "cohort_group_size"
   ]
  },
  {
   "cell_type": "code",
   "execution_count": 120,
   "metadata": {
    "collapsed": true
   },
   "outputs": [],
   "source": [
    "def calculate_user_retention(df, cohort_group_size):\n",
    "    df = df['all_users'].unstack(0).divide(cohort_group_size, axis=1)\n",
    "    return df"
   ]
  },
  {
   "cell_type": "code",
   "execution_count": 121,
   "metadata": {},
   "outputs": [
    {
     "data": {
      "text/html": [
       "<div>\n",
       "<style>\n",
       "    .dataframe thead tr:only-child th {\n",
       "        text-align: right;\n",
       "    }\n",
       "\n",
       "    .dataframe thead th {\n",
       "        text-align: left;\n",
       "    }\n",
       "\n",
       "    .dataframe tbody tr th {\n",
       "        vertical-align: top;\n",
       "    }\n",
       "</style>\n",
       "<table border=\"1\" class=\"dataframe\">\n",
       "  <thead>\n",
       "    <tr style=\"text-align: right;\">\n",
       "      <th>cohort_group</th>\n",
       "      <th>2016-02</th>\n",
       "      <th>2016-03</th>\n",
       "      <th>2016-04</th>\n",
       "      <th>2016-05</th>\n",
       "      <th>2016-06</th>\n",
       "      <th>2016-07</th>\n",
       "      <th>2016-08</th>\n",
       "      <th>2016-09</th>\n",
       "      <th>2016-10</th>\n",
       "    </tr>\n",
       "    <tr>\n",
       "      <th>cohort_period</th>\n",
       "      <th></th>\n",
       "      <th></th>\n",
       "      <th></th>\n",
       "      <th></th>\n",
       "      <th></th>\n",
       "      <th></th>\n",
       "      <th></th>\n",
       "      <th></th>\n",
       "      <th></th>\n",
       "    </tr>\n",
       "  </thead>\n",
       "  <tbody>\n",
       "    <tr>\n",
       "      <th>0</th>\n",
       "      <td>1.000000</td>\n",
       "      <td>1.000000</td>\n",
       "      <td>1.000000</td>\n",
       "      <td>1.000000</td>\n",
       "      <td>1.000000</td>\n",
       "      <td>1.000</td>\n",
       "      <td>1.000000</td>\n",
       "      <td>1.000000</td>\n",
       "      <td>1.000000</td>\n",
       "    </tr>\n",
       "    <tr>\n",
       "      <th>1</th>\n",
       "      <td>0.265823</td>\n",
       "      <td>0.306034</td>\n",
       "      <td>0.309091</td>\n",
       "      <td>0.250000</td>\n",
       "      <td>0.263415</td>\n",
       "      <td>0.304</td>\n",
       "      <td>0.333333</td>\n",
       "      <td>0.296460</td>\n",
       "      <td>0.252294</td>\n",
       "    </tr>\n",
       "    <tr>\n",
       "      <th>2</th>\n",
       "      <td>0.253165</td>\n",
       "      <td>0.280172</td>\n",
       "      <td>0.268182</td>\n",
       "      <td>0.233333</td>\n",
       "      <td>0.234146</td>\n",
       "      <td>0.288</td>\n",
       "      <td>0.302222</td>\n",
       "      <td>0.283186</td>\n",
       "      <td>0.220183</td>\n",
       "    </tr>\n",
       "    <tr>\n",
       "      <th>3</th>\n",
       "      <td>0.232068</td>\n",
       "      <td>0.262931</td>\n",
       "      <td>0.259091</td>\n",
       "      <td>0.208333</td>\n",
       "      <td>0.209756</td>\n",
       "      <td>0.268</td>\n",
       "      <td>0.288889</td>\n",
       "      <td>0.269912</td>\n",
       "      <td>0.197248</td>\n",
       "    </tr>\n",
       "    <tr>\n",
       "      <th>4</th>\n",
       "      <td>0.215190</td>\n",
       "      <td>0.237069</td>\n",
       "      <td>0.227273</td>\n",
       "      <td>0.195833</td>\n",
       "      <td>0.185366</td>\n",
       "      <td>0.252</td>\n",
       "      <td>0.271111</td>\n",
       "      <td>0.247788</td>\n",
       "      <td>0.188073</td>\n",
       "    </tr>\n",
       "  </tbody>\n",
       "</table>\n",
       "</div>"
      ],
      "text/plain": [
       "cohort_group    2016-02   2016-03   2016-04   2016-05   2016-06  2016-07  \\\n",
       "cohort_period                                                              \n",
       "0              1.000000  1.000000  1.000000  1.000000  1.000000    1.000   \n",
       "1              0.265823  0.306034  0.309091  0.250000  0.263415    0.304   \n",
       "2              0.253165  0.280172  0.268182  0.233333  0.234146    0.288   \n",
       "3              0.232068  0.262931  0.259091  0.208333  0.209756    0.268   \n",
       "4              0.215190  0.237069  0.227273  0.195833  0.185366    0.252   \n",
       "\n",
       "cohort_group    2016-08   2016-09   2016-10  \n",
       "cohort_period                                \n",
       "0              1.000000  1.000000  1.000000  \n",
       "1              0.333333  0.296460  0.252294  \n",
       "2              0.302222  0.283186  0.220183  \n",
       "3              0.288889  0.269912  0.197248  \n",
       "4              0.271111  0.247788  0.188073  "
      ]
     },
     "execution_count": 121,
     "metadata": {},
     "output_type": "execute_result"
    }
   ],
   "source": [
    "# step 5\n",
    "user_retention = calculate_user_retention(cohorts, cohort_group_size)\n",
    "user_retention.head()"
   ]
  },
  {
   "cell_type": "code",
   "execution_count": 126,
   "metadata": {
    "collapsed": true
   },
   "outputs": [],
   "source": [
    "# combining all cohort functions into one\n",
    "# used for interactive visualization\n",
    "\n",
    "def build_cohorts(df):\n",
    "    \n",
    "    # step 1\n",
    "    df = preprocess_cohorting(df)\n",
    "    \n",
    "    # step 2\n",
    "    cohorts = build_cohort_data(df)\n",
    "    \n",
    "    # step 3\n",
    "    cohorts_s1 = cohorts.groupby(level=0).apply(cohort_period)\n",
    "    \n",
    "    # step 4\n",
    "    cohorts_s2, cohort_group_size = cohort_reindex_and_group_size(cohorts_s1)\n",
    "    \n",
    "    # step 5\n",
    "    user_retention = calculate_user_retention(cohorts_s2, cohort_group_size)\n",
    "    \n",
    "    return user_retention"
   ]
  },
  {
   "cell_type": "markdown",
   "metadata": {},
   "source": [
    "## 3. Visualization"
   ]
  },
  {
   "cell_type": "markdown",
   "metadata": {},
   "source": [
    "### 3.1. Retention curves"
   ]
  },
  {
   "cell_type": "code",
   "execution_count": 127,
   "metadata": {
    "scrolled": true
   },
   "outputs": [
    {
     "data": {
      "image/png": "[encoded data removed]",
      "text/plain": [
       "<matplotlib.figure.Figure at 0x7f199c525128>"
      ]
     },
     "metadata": {},
     "output_type": "display_data"
    }
   ],
   "source": [
    "title = 'User retention for: ' + country_value + ' on ' + platform_value +', registered: ' + str(user_registered_value) \n",
    "\n",
    "fig, ax = plt.subplots(figsize=(10,5))\n",
    "seq_col_brew = sns.color_palette(\"Blues_r\", 4)\n",
    "sns.set_palette(seq_col_brew)\n",
    "\n",
    "\n",
    "for i in range(0, len(user_retention.columns)):\n",
    "    plt.plot(user_retention[user_retention.columns[i]])\n",
    "\n",
    "plt.title(title + ' (retention curves)')\n",
    "# plt.imshow(g, cmap='Blues',  interpolation='nearest')\n",
    "plt.xlabel(\"Cohort period\")\n",
    "plt.ylabel(\"% of cohort active\")\n",
    "plt.xlim(0, 12)\n",
    "plt.show()"
   ]
  },
  {
   "cell_type": "markdown",
   "metadata": {},
   "source": [
    "### 3.2. Heatmap"
   ]
  },
  {
   "cell_type": "code",
   "execution_count": 124,
   "metadata": {},
   "outputs": [
    {
     "data": {
      "image/png": "[encoded data removed]",
      "text/plain": [
       "<matplotlib.figure.Figure at 0x7f199c525588>"
      ]
     },
     "metadata": {},
     "output_type": "display_data"
    }
   ],
   "source": [
    "fig, ax = plt.subplots(figsize=(10,5))\n",
    "sns.heatmap(user_retention, cmap=\"binary\", ax=ax)\n",
    "ax.set_title(title + ' (heatmap)')\n",
    "plt.show()"
   ]
  },
  {
   "cell_type": "markdown",
   "metadata": {},
   "source": [
    "## Interactive visualization"
   ]
  },
  {
   "cell_type": "code",
   "execution_count": 125,
   "metadata": {},
   "outputs": [
    {
     "data": {
      "application/vnd.jupyter.widget-view+json": {
       "model_id": "1e8fc425a6274b8a8828ad7bd3c63bb8"
      }
     },
     "metadata": {},
     "output_type": "display_data"
    }
   ],
   "source": [
    "def func_cohort_analysis(country, platform, user_registered):\n",
    "    \n",
    "    # segmenting users\n",
    "    segmented_user_events_df = segmenting(all_user_data_df.copy(), country=country, platform=platform, user_registered=user_registered)\n",
    "    \n",
    "    # building cohorts\n",
    "    user_retention = build_cohorts(segmented_user_events_df)\n",
    "    \n",
    "    \n",
    "\n",
    "    # visualization 1 - retention curve\n",
    "    \n",
    "    title = 'User retention for: ' + country + ' on ' + platform +', registered: ' + str(user_registered) \n",
    "    fig, ax = plt.subplots(figsize=(10,5))\n",
    "    \n",
    "    for i in range(0, len(user_retention.columns)):\n",
    "        plt.plot(user_retention[user_retention.columns[i]])\n",
    "        \n",
    "    plt.title(title + ' (retention curves)')\n",
    "    plt.xlabel(\"Cohort period\")\n",
    "    plt.ylabel(\"% of cohort active\")\n",
    "    plt.xlim(0, 12)\n",
    "    plt.show()\n",
    "    \n",
    "    \n",
    "    \n",
    "    # visualization 2 - heatmap\n",
    "    \n",
    "    fig, ax = plt.subplots(figsize=(10,5))\n",
    "    sns.heatmap(user_retention, cmap=\"binary\", ax=ax)\n",
    "    ax.set_title(title + ' (heatmap)')\n",
    "    plt.show()\n",
    "    \n",
    "\n",
    "    \n",
    "    \n",
    "interact(func_cohort_analysis, country=country_values , platform=platform_values, user_registered=user_registered_values);"
   ]
  },
  {
   "cell_type": "code",
   "execution_count": null,
   "metadata": {
    "collapsed": true
   },
   "outputs": [],
   "source": []
  },
  {
   "cell_type": "code",
   "execution_count": null,
   "metadata": {
    "collapsed": true
   },
   "outputs": [],
   "source": []
  },
  {
   "cell_type": "code",
   "execution_count": null,
   "metadata": {
    "collapsed": true
   },
   "outputs": [],
   "source": []
  }
 ],
 "metadata": {
  "kernelspec": {
   "display_name": "Python [conda root]",
   "language": "python",
   "name": "conda-root-py"
  },
  "language_info": {
   "codemirror_mode": {
    "name": "ipython",
    "version": 3
   },
   "file_extension": ".py",
   "mimetype": "text/x-python",
   "name": "python",
   "nbconvert_exporter": "python",
   "pygments_lexer": "ipython3",
   "version": "3.5.3"
  }
 },
 "nbformat": 4,
 "nbformat_minor": 2
}
