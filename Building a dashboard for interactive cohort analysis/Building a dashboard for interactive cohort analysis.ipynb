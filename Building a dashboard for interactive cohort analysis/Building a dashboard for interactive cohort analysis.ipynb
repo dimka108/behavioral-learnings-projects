{
 "cells": [
  {
   "cell_type": "code",
   "execution_count": 1,
   "metadata": {
    "collapsed": false
   },
   "outputs": [],
   "source": [
    "# data munging\n",
    "import pandas as pd\n",
    "import numpy as np\n",
    "import random\n",
    "\n",
    "# visualization\n",
    "\n",
    "%matplotlib inline\n",
    "import matplotlib.pyplot as plt\n",
    "import seaborn as sns\n",
    "sns.set_style(\"darkgrid\")\n",
    "from matplotlib import cm\n",
    "from ipywidgets import interact\n",
    "seq_col_brew = sns.color_palette(\"Blues_r\", 4)\n",
    "sns.set_palette(seq_col_brew)"
   ]
  },
  {
   "cell_type": "markdown",
   "metadata": {},
   "source": [
    "#### The aim of this notebook is to build a dashboard for an interactive visualization of cohort analysis. We  use a simulated dataset of 10000 users. We start wih segmenting users on chosen categorical features, then we build cohorts and visualize retention. Final visualization is plotted with a retention curve and a heatmap. More here: http://josolnik.com/interactive_cohort_analysis.html"
   ]
  },
  {
   "cell_type": "code",
   "execution_count": 2,
   "metadata": {
    "collapsed": false
   },
   "outputs": [
    {
     "data": {
      "text/html": [
       "<div>\n",
       "<table border=\"1\" class=\"dataframe\">\n",
       "  <thead>\n",
       "    <tr style=\"text-align: right;\">\n",
       "      <th></th>\n",
       "      <th>device_uuid</th>\n",
       "      <th>date</th>\n",
       "      <th>feature1</th>\n",
       "      <th>feature2</th>\n",
       "      <th>feature3</th>\n",
       "      <th>platform</th>\n",
       "      <th>user_registered</th>\n",
       "      <th>country</th>\n",
       "    </tr>\n",
       "  </thead>\n",
       "  <tbody>\n",
       "    <tr>\n",
       "      <th>0</th>\n",
       "      <td>512ff3c3-fa27-442d-a116-126ec5e46d0b</td>\n",
       "      <td>2016-09-01</td>\n",
       "      <td>2</td>\n",
       "      <td>1</td>\n",
       "      <td>1</td>\n",
       "      <td>Android</td>\n",
       "      <td>False</td>\n",
       "      <td>AU</td>\n",
       "    </tr>\n",
       "    <tr>\n",
       "      <th>1</th>\n",
       "      <td>8a7b8862-4490-4a45-89e4-6f909e09c3f6</td>\n",
       "      <td>2016-10-01</td>\n",
       "      <td>3</td>\n",
       "      <td>2</td>\n",
       "      <td>1</td>\n",
       "      <td>Android</td>\n",
       "      <td>False</td>\n",
       "      <td>AU</td>\n",
       "    </tr>\n",
       "    <tr>\n",
       "      <th>2</th>\n",
       "      <td>8a7b8862-4490-4a45-89e4-6f909e09c3f6</td>\n",
       "      <td>2016-11-01</td>\n",
       "      <td>10</td>\n",
       "      <td>8</td>\n",
       "      <td>6</td>\n",
       "      <td>Android</td>\n",
       "      <td>False</td>\n",
       "      <td>AU</td>\n",
       "    </tr>\n",
       "    <tr>\n",
       "      <th>3</th>\n",
       "      <td>8a7b8862-4490-4a45-89e4-6f909e09c3f6</td>\n",
       "      <td>2016-12-01</td>\n",
       "      <td>2</td>\n",
       "      <td>1</td>\n",
       "      <td>1</td>\n",
       "      <td>Android</td>\n",
       "      <td>False</td>\n",
       "      <td>AU</td>\n",
       "    </tr>\n",
       "    <tr>\n",
       "      <th>4</th>\n",
       "      <td>8a7b8862-4490-4a45-89e4-6f909e09c3f6</td>\n",
       "      <td>2017-01-01</td>\n",
       "      <td>10</td>\n",
       "      <td>8</td>\n",
       "      <td>6</td>\n",
       "      <td>Android</td>\n",
       "      <td>False</td>\n",
       "      <td>AU</td>\n",
       "    </tr>\n",
       "  </tbody>\n",
       "</table>\n",
       "</div>"
      ],
      "text/plain": [
       "                            device_uuid        date  feature1  feature2  \\\n",
       "0  512ff3c3-fa27-442d-a116-126ec5e46d0b  2016-09-01         2         1   \n",
       "1  8a7b8862-4490-4a45-89e4-6f909e09c3f6  2016-10-01         3         2   \n",
       "2  8a7b8862-4490-4a45-89e4-6f909e09c3f6  2016-11-01        10         8   \n",
       "3  8a7b8862-4490-4a45-89e4-6f909e09c3f6  2016-12-01         2         1   \n",
       "4  8a7b8862-4490-4a45-89e4-6f909e09c3f6  2017-01-01        10         8   \n",
       "\n",
       "   feature3 platform user_registered country  \n",
       "0         1  Android           False      AU  \n",
       "1         1  Android           False      AU  \n",
       "2         6  Android           False      AU  \n",
       "3         1  Android           False      AU  \n",
       "4         6  Android           False      AU  "
      ]
     },
     "execution_count": 2,
     "metadata": {},
     "output_type": "execute_result"
    }
   ],
   "source": [
    "all_user_data_df = pd.DataFrame.from_csv('simulating_user_behavioral_data.csv')\n",
    "all_user_data_df[['feature1', 'feature2', 'feature3']] = all_user_data_df[['feature1', 'feature2', 'feature3']].astype(int)\n",
    "all_user_data_df.head()"
   ]
  },
  {
   "cell_type": "code",
   "execution_count": 3,
   "metadata": {
    "collapsed": false
   },
   "outputs": [
    {
     "data": {
      "text/plain": [
       "9265"
      ]
     },
     "execution_count": 3,
     "metadata": {},
     "output_type": "execute_result"
    }
   ],
   "source": [
    "len(all_user_data_df['device_uuid'].unique())"
   ]
  },
  {
   "cell_type": "markdown",
   "metadata": {},
   "source": [
    "## Simulating difference in retention (iOS vs. Android)"
   ]
  },
  {
   "cell_type": "code",
   "execution_count": 4,
   "metadata": {
    "collapsed": true
   },
   "outputs": [],
   "source": [
    "# all the data is equally distributed across all features we want to remove a certain values to be able to visualize\n",
    "# the difference in retention\n",
    "# we want to simulate a 50% lower retention of iOS users compared to Android users"
   ]
  },
  {
   "cell_type": "code",
   "execution_count": 5,
   "metadata": {
    "collapsed": false
   },
   "outputs": [
    {
     "data": {
      "text/plain": [
       "6480"
      ]
     },
     "execution_count": 5,
     "metadata": {},
     "output_type": "execute_result"
    }
   ],
   "source": [
    "# extract only iOS users and check whether they have more than a month of usage data\n",
    "ios_lt_df = pd.DataFrame(all_user_data_df[all_user_data_df['platform'] == 'iOS'].groupby('device_uuid').count()['date'] > 1).reset_index()\n",
    "len(ios_lt_df)"
   ]
  },
  {
   "cell_type": "code",
   "execution_count": 6,
   "metadata": {
    "collapsed": false
   },
   "outputs": [
    {
     "data": {
      "text/plain": [
       "2975"
      ]
     },
     "execution_count": 6,
     "metadata": {},
     "output_type": "execute_result"
    }
   ],
   "source": [
    "# extract the device_uuids from users that have more than a month of data\n",
    "ios_lt_df= ios_lt_df[ios_lt_df['date'] == True]\n",
    "ios_lt_df.reset_index(drop=True, inplace=True)\n",
    "len(ios_lt_df)"
   ]
  },
  {
   "cell_type": "code",
   "execution_count": 7,
   "metadata": {
    "collapsed": false
   },
   "outputs": [
    {
     "data": {
      "text/plain": [
       "1459"
      ]
     },
     "execution_count": 7,
     "metadata": {},
     "output_type": "execute_result"
    }
   ],
   "source": [
    "# assign 0 or 1 to all users that have more than a month of usage data\n",
    "ios_lt_df['binary_split'] = pd.Series(np.random.randint(2, size=len(ios_lt_df)))\n",
    "\n",
    "# extract only users that don't have the assigned values of 0 (50/50 split)\n",
    "ios_lt_df = ios_lt_df[ios_lt_df['binary_split'] == 1.0]\n",
    "\n",
    "# extract devices uuids into a list\n",
    "ios_lt_devices = ios_lt_df['device_uuid']\n",
    "\n",
    "len(ios_lt_devices)"
   ]
  },
  {
   "cell_type": "code",
   "execution_count": 8,
   "metadata": {
    "collapsed": true
   },
   "outputs": [],
   "source": [
    "# removing the assigned devices\n",
    "all_user_data_df_updated = all_user_data_df.query(\"device_uuid not in @ios_lt_devices\")"
   ]
  },
  {
   "cell_type": "code",
   "execution_count": 9,
   "metadata": {
    "collapsed": false
   },
   "outputs": [
    {
     "data": {
      "text/plain": [
       "7806"
      ]
     },
     "execution_count": 9,
     "metadata": {},
     "output_type": "execute_result"
    }
   ],
   "source": [
    "len(all_user_data_df_updated['device_uuid'].unique())"
   ]
  },
  {
   "cell_type": "code",
   "execution_count": 10,
   "metadata": {
    "collapsed": false
   },
   "outputs": [
    {
     "data": {
      "text/plain": [
       "True"
      ]
     },
     "execution_count": 10,
     "metadata": {},
     "output_type": "execute_result"
    }
   ],
   "source": [
    "num_removed_devices = len(all_user_data_df['device_uuid'].unique()) -  len(all_user_data_df_updated['device_uuid'].unique())\n",
    "len(ios_lt_devices) == num_removed_devices"
   ]
  },
  {
   "cell_type": "code",
   "execution_count": 11,
   "metadata": {
    "collapsed": true
   },
   "outputs": [],
   "source": [
    "all_user_data_df = all_user_data_df_updated.copy()"
   ]
  },
  {
   "cell_type": "markdown",
   "metadata": {},
   "source": [
    "## 1. Segmenting users"
   ]
  },
  {
   "cell_type": "code",
   "execution_count": 12,
   "metadata": {
    "collapsed": true
   },
   "outputs": [],
   "source": [
    "def segmenting(df, country, platform, user_registered):\n",
    "\n",
    "    # for each categorical (segmentation) feature\n",
    "    if country != 'All countries':\n",
    "        df = df[df['country'] == country]\n",
    "        \n",
    "    if platform != 'All platforms':\n",
    "        df = df[df['platform'] == platform]\n",
    "        \n",
    "    if user_registered != 'True and False':\n",
    "        df = df[df['user_registered'] == user_registered]\n",
    "        \n",
    "    return df"
   ]
  },
  {
   "cell_type": "code",
   "execution_count": 13,
   "metadata": {
    "collapsed": true
   },
   "outputs": [],
   "source": [
    "# NL / AU / FR\n",
    "country_values = ['All countries'] + list(all_user_data_df['country'].unique())\n",
    "\n",
    "# iOS / Android\n",
    "platform_values = ['All platforms'] + list(all_user_data_df['platform'].unique())\n",
    "\n",
    "# True / False\n",
    "user_registered_values = ['True and False'] + list(all_user_data_df['user_registered'].unique())"
   ]
  },
  {
   "cell_type": "code",
   "execution_count": 14,
   "metadata": {
    "collapsed": false
   },
   "outputs": [
    {
     "data": {
      "text/html": [
       "<div>\n",
       "<table border=\"1\" class=\"dataframe\">\n",
       "  <thead>\n",
       "    <tr style=\"text-align: right;\">\n",
       "      <th></th>\n",
       "      <th>device_uuid</th>\n",
       "      <th>date</th>\n",
       "      <th>feature1</th>\n",
       "      <th>feature2</th>\n",
       "      <th>feature3</th>\n",
       "      <th>platform</th>\n",
       "      <th>user_registered</th>\n",
       "      <th>country</th>\n",
       "    </tr>\n",
       "  </thead>\n",
       "  <tbody>\n",
       "    <tr>\n",
       "      <th>105</th>\n",
       "      <td>8d2ede6e-2f51-4493-a639-1c2dc24bad64</td>\n",
       "      <td>2016-02-01</td>\n",
       "      <td>8</td>\n",
       "      <td>6</td>\n",
       "      <td>4</td>\n",
       "      <td>iOS</td>\n",
       "      <td>False</td>\n",
       "      <td>NL</td>\n",
       "    </tr>\n",
       "    <tr>\n",
       "      <th>106</th>\n",
       "      <td>53037bf0-b744-402f-a834-3d4706fe439a</td>\n",
       "      <td>2016-04-01</td>\n",
       "      <td>7</td>\n",
       "      <td>5</td>\n",
       "      <td>4</td>\n",
       "      <td>iOS</td>\n",
       "      <td>False</td>\n",
       "      <td>NL</td>\n",
       "    </tr>\n",
       "    <tr>\n",
       "      <th>129</th>\n",
       "      <td>c23c3315-af75-400a-b56f-a6d8890381ef</td>\n",
       "      <td>2016-08-01</td>\n",
       "      <td>13</td>\n",
       "      <td>10</td>\n",
       "      <td>7</td>\n",
       "      <td>iOS</td>\n",
       "      <td>False</td>\n",
       "      <td>NL</td>\n",
       "    </tr>\n",
       "    <tr>\n",
       "      <th>130</th>\n",
       "      <td>8cd3a0fe-c06a-42df-98f2-60f49fec4c98</td>\n",
       "      <td>2016-10-01</td>\n",
       "      <td>12</td>\n",
       "      <td>9</td>\n",
       "      <td>7</td>\n",
       "      <td>iOS</td>\n",
       "      <td>False</td>\n",
       "      <td>NL</td>\n",
       "    </tr>\n",
       "    <tr>\n",
       "      <th>193</th>\n",
       "      <td>f1ffcc64-6918-441c-85ac-34a607a00e94</td>\n",
       "      <td>2016-06-01</td>\n",
       "      <td>8</td>\n",
       "      <td>6</td>\n",
       "      <td>4</td>\n",
       "      <td>iOS</td>\n",
       "      <td>False</td>\n",
       "      <td>NL</td>\n",
       "    </tr>\n",
       "  </tbody>\n",
       "</table>\n",
       "</div>"
      ],
      "text/plain": [
       "                              device_uuid        date  feature1  feature2  \\\n",
       "105  8d2ede6e-2f51-4493-a639-1c2dc24bad64  2016-02-01         8         6   \n",
       "106  53037bf0-b744-402f-a834-3d4706fe439a  2016-04-01         7         5   \n",
       "129  c23c3315-af75-400a-b56f-a6d8890381ef  2016-08-01        13        10   \n",
       "130  8cd3a0fe-c06a-42df-98f2-60f49fec4c98  2016-10-01        12         9   \n",
       "193  f1ffcc64-6918-441c-85ac-34a607a00e94  2016-06-01         8         6   \n",
       "\n",
       "     feature3 platform user_registered country  \n",
       "105         4      iOS           False      NL  \n",
       "106         4      iOS           False      NL  \n",
       "129         7      iOS           False      NL  \n",
       "130         7      iOS           False      NL  \n",
       "193         4      iOS           False      NL  "
      ]
     },
     "execution_count": 14,
     "metadata": {},
     "output_type": "execute_result"
    }
   ],
   "source": [
    "country_value = 'NL'\n",
    "platform_value = 'iOS'\n",
    "user_registered_value = False\n",
    "\n",
    "df = segmenting(all_user_data_df.copy(), country=country_value, platform=platform_value, user_registered=user_registered_value)\n",
    "df.head()"
   ]
  },
  {
   "cell_type": "markdown",
   "metadata": {},
   "source": [
    "## 2. Building cohorts"
   ]
  },
  {
   "cell_type": "code",
   "execution_count": 15,
   "metadata": {
    "collapsed": true
   },
   "outputs": [],
   "source": [
    "def preprocess_cohorting(df):\n",
    "    df['sum'] = df['feature1'] + df['feature2'] + df['feature3']\n",
    "    df['date'] = pd.to_datetime(df['date'])\n",
    "    \n",
    "    to_month = lambda x: x.strftime('%Y-%m')\n",
    "    df['usage_period'] = df['date'].apply(to_month)\n",
    "    \n",
    "    df.set_index('device_uuid', inplace=True)\n",
    "    df['cohort_group'] = df.groupby(level=0)['date'].min().apply(lambda x:  x.strftime('%Y-%m'))\n",
    "    df.reset_index(inplace=True)\n",
    "    \n",
    "    return df"
   ]
  },
  {
   "cell_type": "code",
   "execution_count": 16,
   "metadata": {
    "collapsed": false
   },
   "outputs": [
    {
     "data": {
      "text/html": [
       "<div>\n",
       "<table border=\"1\" class=\"dataframe\">\n",
       "  <thead>\n",
       "    <tr style=\"text-align: right;\">\n",
       "      <th></th>\n",
       "      <th>device_uuid</th>\n",
       "      <th>date</th>\n",
       "      <th>feature1</th>\n",
       "      <th>feature2</th>\n",
       "      <th>feature3</th>\n",
       "      <th>platform</th>\n",
       "      <th>user_registered</th>\n",
       "      <th>country</th>\n",
       "      <th>sum</th>\n",
       "      <th>usage_period</th>\n",
       "      <th>cohort_group</th>\n",
       "    </tr>\n",
       "  </thead>\n",
       "  <tbody>\n",
       "    <tr>\n",
       "      <th>0</th>\n",
       "      <td>8d2ede6e-2f51-4493-a639-1c2dc24bad64</td>\n",
       "      <td>2016-02-01</td>\n",
       "      <td>8</td>\n",
       "      <td>6</td>\n",
       "      <td>4</td>\n",
       "      <td>iOS</td>\n",
       "      <td>False</td>\n",
       "      <td>NL</td>\n",
       "      <td>18</td>\n",
       "      <td>2016-02</td>\n",
       "      <td>2016-02</td>\n",
       "    </tr>\n",
       "    <tr>\n",
       "      <th>1</th>\n",
       "      <td>53037bf0-b744-402f-a834-3d4706fe439a</td>\n",
       "      <td>2016-04-01</td>\n",
       "      <td>7</td>\n",
       "      <td>5</td>\n",
       "      <td>4</td>\n",
       "      <td>iOS</td>\n",
       "      <td>False</td>\n",
       "      <td>NL</td>\n",
       "      <td>16</td>\n",
       "      <td>2016-04</td>\n",
       "      <td>2016-04</td>\n",
       "    </tr>\n",
       "    <tr>\n",
       "      <th>2</th>\n",
       "      <td>c23c3315-af75-400a-b56f-a6d8890381ef</td>\n",
       "      <td>2016-08-01</td>\n",
       "      <td>13</td>\n",
       "      <td>10</td>\n",
       "      <td>7</td>\n",
       "      <td>iOS</td>\n",
       "      <td>False</td>\n",
       "      <td>NL</td>\n",
       "      <td>30</td>\n",
       "      <td>2016-08</td>\n",
       "      <td>2016-08</td>\n",
       "    </tr>\n",
       "    <tr>\n",
       "      <th>3</th>\n",
       "      <td>8cd3a0fe-c06a-42df-98f2-60f49fec4c98</td>\n",
       "      <td>2016-10-01</td>\n",
       "      <td>12</td>\n",
       "      <td>9</td>\n",
       "      <td>7</td>\n",
       "      <td>iOS</td>\n",
       "      <td>False</td>\n",
       "      <td>NL</td>\n",
       "      <td>28</td>\n",
       "      <td>2016-10</td>\n",
       "      <td>2016-10</td>\n",
       "    </tr>\n",
       "    <tr>\n",
       "      <th>4</th>\n",
       "      <td>f1ffcc64-6918-441c-85ac-34a607a00e94</td>\n",
       "      <td>2016-06-01</td>\n",
       "      <td>8</td>\n",
       "      <td>6</td>\n",
       "      <td>4</td>\n",
       "      <td>iOS</td>\n",
       "      <td>False</td>\n",
       "      <td>NL</td>\n",
       "      <td>18</td>\n",
       "      <td>2016-06</td>\n",
       "      <td>2016-06</td>\n",
       "    </tr>\n",
       "  </tbody>\n",
       "</table>\n",
       "</div>"
      ],
      "text/plain": [
       "                            device_uuid       date  feature1  feature2  \\\n",
       "0  8d2ede6e-2f51-4493-a639-1c2dc24bad64 2016-02-01         8         6   \n",
       "1  53037bf0-b744-402f-a834-3d4706fe439a 2016-04-01         7         5   \n",
       "2  c23c3315-af75-400a-b56f-a6d8890381ef 2016-08-01        13        10   \n",
       "3  8cd3a0fe-c06a-42df-98f2-60f49fec4c98 2016-10-01        12         9   \n",
       "4  f1ffcc64-6918-441c-85ac-34a607a00e94 2016-06-01         8         6   \n",
       "\n",
       "   feature3 platform user_registered country  sum usage_period cohort_group  \n",
       "0         4      iOS           False      NL   18      2016-02      2016-02  \n",
       "1         4      iOS           False      NL   16      2016-04      2016-04  \n",
       "2         7      iOS           False      NL   30      2016-08      2016-08  \n",
       "3         7      iOS           False      NL   28      2016-10      2016-10  \n",
       "4         4      iOS           False      NL   18      2016-06      2016-06  "
      ]
     },
     "execution_count": 16,
     "metadata": {},
     "output_type": "execute_result"
    }
   ],
   "source": [
    "# step 1\n",
    "df = preprocess_cohorting(df)\n",
    "df.head()"
   ]
  },
  {
   "cell_type": "code",
   "execution_count": 17,
   "metadata": {
    "collapsed": true
   },
   "outputs": [],
   "source": [
    "def build_cohort_data(df):\n",
    "    \n",
    "    # group the df by cohort group and usage period\n",
    "    grouped = df.groupby(['cohort_group', 'usage_period'])\n",
    "    \n",
    "    # aggregate the unique number of users and sum of all events\n",
    "    cohorts = grouped.agg({'device_uuid': pd.Series.nunique,\n",
    "                      'sum': np.sum})\n",
    "\n",
    "    # rename the columns\n",
    "    cohorts.rename(columns={'device_uuid': 'all_users',\n",
    "                       'sum': 'all_num_events'}, inplace=True)\n",
    "    return cohorts"
   ]
  },
  {
   "cell_type": "code",
   "execution_count": 18,
   "metadata": {
    "collapsed": false
   },
   "outputs": [
    {
     "data": {
      "text/html": [
       "<div>\n",
       "<table border=\"1\" class=\"dataframe\">\n",
       "  <thead>\n",
       "    <tr style=\"text-align: right;\">\n",
       "      <th></th>\n",
       "      <th></th>\n",
       "      <th>all_users</th>\n",
       "      <th>all_num_events</th>\n",
       "    </tr>\n",
       "    <tr>\n",
       "      <th>cohort_group</th>\n",
       "      <th>usage_period</th>\n",
       "      <th></th>\n",
       "      <th></th>\n",
       "    </tr>\n",
       "  </thead>\n",
       "  <tbody>\n",
       "    <tr>\n",
       "      <th rowspan=\"5\" valign=\"top\">2016-02</th>\n",
       "      <th>2016-02</th>\n",
       "      <td>249</td>\n",
       "      <td>4065</td>\n",
       "    </tr>\n",
       "    <tr>\n",
       "      <th>2016-03</th>\n",
       "      <td>75</td>\n",
       "      <td>1221</td>\n",
       "    </tr>\n",
       "    <tr>\n",
       "      <th>2016-04</th>\n",
       "      <td>67</td>\n",
       "      <td>994</td>\n",
       "    </tr>\n",
       "    <tr>\n",
       "      <th>2016-05</th>\n",
       "      <td>59</td>\n",
       "      <td>838</td>\n",
       "    </tr>\n",
       "    <tr>\n",
       "      <th>2016-06</th>\n",
       "      <td>55</td>\n",
       "      <td>931</td>\n",
       "    </tr>\n",
       "  </tbody>\n",
       "</table>\n",
       "</div>"
      ],
      "text/plain": [
       "                           all_users  all_num_events\n",
       "cohort_group usage_period                           \n",
       "2016-02      2016-02             249            4065\n",
       "             2016-03              75            1221\n",
       "             2016-04              67             994\n",
       "             2016-05              59             838\n",
       "             2016-06              55             931"
      ]
     },
     "execution_count": 18,
     "metadata": {},
     "output_type": "execute_result"
    }
   ],
   "source": [
    "# step 2\n",
    "cohorts = build_cohort_data(df)\n",
    "cohorts.head()"
   ]
  },
  {
   "cell_type": "code",
   "execution_count": 19,
   "metadata": {
    "collapsed": true
   },
   "outputs": [],
   "source": [
    "def cohort_period(df):\n",
    "    \n",
    "    df['cohort_period'] = np.arange(len(df)) + 0\n",
    "    return df"
   ]
  },
  {
   "cell_type": "code",
   "execution_count": 20,
   "metadata": {
    "collapsed": false
   },
   "outputs": [
    {
     "data": {
      "text/html": [
       "<div>\n",
       "<table border=\"1\" class=\"dataframe\">\n",
       "  <thead>\n",
       "    <tr style=\"text-align: right;\">\n",
       "      <th></th>\n",
       "      <th></th>\n",
       "      <th>all_users</th>\n",
       "      <th>all_num_events</th>\n",
       "      <th>cohort_period</th>\n",
       "    </tr>\n",
       "    <tr>\n",
       "      <th>cohort_group</th>\n",
       "      <th>usage_period</th>\n",
       "      <th></th>\n",
       "      <th></th>\n",
       "      <th></th>\n",
       "    </tr>\n",
       "  </thead>\n",
       "  <tbody>\n",
       "    <tr>\n",
       "      <th rowspan=\"5\" valign=\"top\">2016-02</th>\n",
       "      <th>2016-02</th>\n",
       "      <td>249</td>\n",
       "      <td>4065</td>\n",
       "      <td>0</td>\n",
       "    </tr>\n",
       "    <tr>\n",
       "      <th>2016-03</th>\n",
       "      <td>75</td>\n",
       "      <td>1221</td>\n",
       "      <td>1</td>\n",
       "    </tr>\n",
       "    <tr>\n",
       "      <th>2016-04</th>\n",
       "      <td>67</td>\n",
       "      <td>994</td>\n",
       "      <td>2</td>\n",
       "    </tr>\n",
       "    <tr>\n",
       "      <th>2016-05</th>\n",
       "      <td>59</td>\n",
       "      <td>838</td>\n",
       "      <td>3</td>\n",
       "    </tr>\n",
       "    <tr>\n",
       "      <th>2016-06</th>\n",
       "      <td>55</td>\n",
       "      <td>931</td>\n",
       "      <td>4</td>\n",
       "    </tr>\n",
       "  </tbody>\n",
       "</table>\n",
       "</div>"
      ],
      "text/plain": [
       "                           all_users  all_num_events  cohort_period\n",
       "cohort_group usage_period                                          \n",
       "2016-02      2016-02             249            4065              0\n",
       "             2016-03              75            1221              1\n",
       "             2016-04              67             994              2\n",
       "             2016-05              59             838              3\n",
       "             2016-06              55             931              4"
      ]
     },
     "execution_count": 20,
     "metadata": {},
     "output_type": "execute_result"
    }
   ],
   "source": [
    "# step 3\n",
    "cohorts = cohorts.groupby(level=0).apply(cohort_period)\n",
    "cohorts.head()"
   ]
  },
  {
   "cell_type": "code",
   "execution_count": 21,
   "metadata": {
    "collapsed": true
   },
   "outputs": [],
   "source": [
    "def cohort_reindex_and_group_size(df):\n",
    "    # reindex the dataframe\n",
    "    df.reset_index(inplace=True)\n",
    "    df.set_index(['cohort_group', 'cohort_period'], inplace=True)\n",
    "    cohort_group_size = df['all_users'].groupby(level=0).first()\n",
    "    return df, cohort_group_size"
   ]
  },
  {
   "cell_type": "code",
   "execution_count": 22,
   "metadata": {
    "collapsed": false
   },
   "outputs": [
    {
     "data": {
      "text/plain": [
       "cohort_group\n",
       "2016-02    249\n",
       "2016-03    233\n",
       "2016-04    214\n",
       "2016-05    257\n",
       "2016-06    208\n",
       "2016-07    250\n",
       "2016-08    219\n",
       "2016-09    230\n",
       "2016-10    223\n",
       "Name: all_users, dtype: int64"
      ]
     },
     "execution_count": 22,
     "metadata": {},
     "output_type": "execute_result"
    }
   ],
   "source": [
    "# step 4\n",
    "cohorts, cohort_group_size = cohort_reindex_and_group_size(cohorts)\n",
    "cohort_group_size"
   ]
  },
  {
   "cell_type": "code",
   "execution_count": 23,
   "metadata": {
    "collapsed": false
   },
   "outputs": [
    {
     "data": {
      "text/html": [
       "<div>\n",
       "<table border=\"1\" class=\"dataframe\">\n",
       "  <thead>\n",
       "    <tr style=\"text-align: right;\">\n",
       "      <th></th>\n",
       "      <th></th>\n",
       "      <th>usage_period</th>\n",
       "      <th>all_users</th>\n",
       "      <th>all_num_events</th>\n",
       "    </tr>\n",
       "    <tr>\n",
       "      <th>cohort_group</th>\n",
       "      <th>cohort_period</th>\n",
       "      <th></th>\n",
       "      <th></th>\n",
       "      <th></th>\n",
       "    </tr>\n",
       "  </thead>\n",
       "  <tbody>\n",
       "    <tr>\n",
       "      <th rowspan=\"19\" valign=\"top\">2016-02</th>\n",
       "      <th>0</th>\n",
       "      <td>2016-02</td>\n",
       "      <td>249</td>\n",
       "      <td>4065</td>\n",
       "    </tr>\n",
       "    <tr>\n",
       "      <th>1</th>\n",
       "      <td>2016-03</td>\n",
       "      <td>75</td>\n",
       "      <td>1221</td>\n",
       "    </tr>\n",
       "    <tr>\n",
       "      <th>2</th>\n",
       "      <td>2016-04</td>\n",
       "      <td>67</td>\n",
       "      <td>994</td>\n",
       "    </tr>\n",
       "    <tr>\n",
       "      <th>3</th>\n",
       "      <td>2016-05</td>\n",
       "      <td>59</td>\n",
       "      <td>838</td>\n",
       "    </tr>\n",
       "    <tr>\n",
       "      <th>4</th>\n",
       "      <td>2016-06</td>\n",
       "      <td>55</td>\n",
       "      <td>931</td>\n",
       "    </tr>\n",
       "    <tr>\n",
       "      <th>5</th>\n",
       "      <td>2016-07</td>\n",
       "      <td>52</td>\n",
       "      <td>802</td>\n",
       "    </tr>\n",
       "    <tr>\n",
       "      <th>6</th>\n",
       "      <td>2016-08</td>\n",
       "      <td>50</td>\n",
       "      <td>840</td>\n",
       "    </tr>\n",
       "    <tr>\n",
       "      <th>7</th>\n",
       "      <td>2016-09</td>\n",
       "      <td>48</td>\n",
       "      <td>666</td>\n",
       "    </tr>\n",
       "    <tr>\n",
       "      <th>8</th>\n",
       "      <td>2016-10</td>\n",
       "      <td>43</td>\n",
       "      <td>659</td>\n",
       "    </tr>\n",
       "    <tr>\n",
       "      <th>9</th>\n",
       "      <td>2016-11</td>\n",
       "      <td>39</td>\n",
       "      <td>550</td>\n",
       "    </tr>\n",
       "    <tr>\n",
       "      <th>10</th>\n",
       "      <td>2016-12</td>\n",
       "      <td>37</td>\n",
       "      <td>658</td>\n",
       "    </tr>\n",
       "    <tr>\n",
       "      <th>11</th>\n",
       "      <td>2017-01</td>\n",
       "      <td>33</td>\n",
       "      <td>557</td>\n",
       "    </tr>\n",
       "    <tr>\n",
       "      <th>12</th>\n",
       "      <td>2017-02</td>\n",
       "      <td>30</td>\n",
       "      <td>414</td>\n",
       "    </tr>\n",
       "    <tr>\n",
       "      <th>13</th>\n",
       "      <td>2017-03</td>\n",
       "      <td>29</td>\n",
       "      <td>452</td>\n",
       "    </tr>\n",
       "    <tr>\n",
       "      <th>14</th>\n",
       "      <td>2017-04</td>\n",
       "      <td>23</td>\n",
       "      <td>300</td>\n",
       "    </tr>\n",
       "    <tr>\n",
       "      <th>15</th>\n",
       "      <td>2017-05</td>\n",
       "      <td>22</td>\n",
       "      <td>402</td>\n",
       "    </tr>\n",
       "    <tr>\n",
       "      <th>16</th>\n",
       "      <td>2017-06</td>\n",
       "      <td>19</td>\n",
       "      <td>301</td>\n",
       "    </tr>\n",
       "    <tr>\n",
       "      <th>17</th>\n",
       "      <td>2017-07</td>\n",
       "      <td>18</td>\n",
       "      <td>254</td>\n",
       "    </tr>\n",
       "    <tr>\n",
       "      <th>18</th>\n",
       "      <td>2017-08</td>\n",
       "      <td>15</td>\n",
       "      <td>224</td>\n",
       "    </tr>\n",
       "    <tr>\n",
       "      <th rowspan=\"11\" valign=\"top\">2016-03</th>\n",
       "      <th>0</th>\n",
       "      <td>2016-03</td>\n",
       "      <td>233</td>\n",
       "      <td>3845</td>\n",
       "    </tr>\n",
       "    <tr>\n",
       "      <th>1</th>\n",
       "      <td>2016-04</td>\n",
       "      <td>72</td>\n",
       "      <td>1160</td>\n",
       "    </tr>\n",
       "    <tr>\n",
       "      <th>2</th>\n",
       "      <td>2016-05</td>\n",
       "      <td>67</td>\n",
       "      <td>967</td>\n",
       "    </tr>\n",
       "    <tr>\n",
       "      <th>3</th>\n",
       "      <td>2016-06</td>\n",
       "      <td>61</td>\n",
       "      <td>955</td>\n",
       "    </tr>\n",
       "    <tr>\n",
       "      <th>4</th>\n",
       "      <td>2016-07</td>\n",
       "      <td>56</td>\n",
       "      <td>926</td>\n",
       "    </tr>\n",
       "    <tr>\n",
       "      <th>5</th>\n",
       "      <td>2016-08</td>\n",
       "      <td>51</td>\n",
       "      <td>680</td>\n",
       "    </tr>\n",
       "    <tr>\n",
       "      <th>6</th>\n",
       "      <td>2016-09</td>\n",
       "      <td>46</td>\n",
       "      <td>768</td>\n",
       "    </tr>\n",
       "    <tr>\n",
       "      <th>7</th>\n",
       "      <td>2016-10</td>\n",
       "      <td>42</td>\n",
       "      <td>646</td>\n",
       "    </tr>\n",
       "    <tr>\n",
       "      <th>8</th>\n",
       "      <td>2016-11</td>\n",
       "      <td>38</td>\n",
       "      <td>690</td>\n",
       "    </tr>\n",
       "    <tr>\n",
       "      <th>9</th>\n",
       "      <td>2016-12</td>\n",
       "      <td>37</td>\n",
       "      <td>509</td>\n",
       "    </tr>\n",
       "    <tr>\n",
       "      <th>10</th>\n",
       "      <td>2017-01</td>\n",
       "      <td>34</td>\n",
       "      <td>502</td>\n",
       "    </tr>\n",
       "    <tr>\n",
       "      <th>...</th>\n",
       "      <th>...</th>\n",
       "      <td>...</td>\n",
       "      <td>...</td>\n",
       "      <td>...</td>\n",
       "    </tr>\n",
       "    <tr>\n",
       "      <th rowspan=\"7\" valign=\"top\">2016-08</th>\n",
       "      <th>6</th>\n",
       "      <td>2017-02</td>\n",
       "      <td>45</td>\n",
       "      <td>663</td>\n",
       "    </tr>\n",
       "    <tr>\n",
       "      <th>7</th>\n",
       "      <td>2017-03</td>\n",
       "      <td>39</td>\n",
       "      <td>626</td>\n",
       "    </tr>\n",
       "    <tr>\n",
       "      <th>8</th>\n",
       "      <td>2017-04</td>\n",
       "      <td>36</td>\n",
       "      <td>728</td>\n",
       "    </tr>\n",
       "    <tr>\n",
       "      <th>9</th>\n",
       "      <td>2017-05</td>\n",
       "      <td>34</td>\n",
       "      <td>663</td>\n",
       "    </tr>\n",
       "    <tr>\n",
       "      <th>10</th>\n",
       "      <td>2017-06</td>\n",
       "      <td>33</td>\n",
       "      <td>525</td>\n",
       "    </tr>\n",
       "    <tr>\n",
       "      <th>11</th>\n",
       "      <td>2017-07</td>\n",
       "      <td>30</td>\n",
       "      <td>506</td>\n",
       "    </tr>\n",
       "    <tr>\n",
       "      <th>12</th>\n",
       "      <td>2017-08</td>\n",
       "      <td>28</td>\n",
       "      <td>369</td>\n",
       "    </tr>\n",
       "    <tr>\n",
       "      <th rowspan=\"12\" valign=\"top\">2016-09</th>\n",
       "      <th>0</th>\n",
       "      <td>2016-09</td>\n",
       "      <td>230</td>\n",
       "      <td>3622</td>\n",
       "    </tr>\n",
       "    <tr>\n",
       "      <th>1</th>\n",
       "      <td>2016-10</td>\n",
       "      <td>71</td>\n",
       "      <td>1176</td>\n",
       "    </tr>\n",
       "    <tr>\n",
       "      <th>2</th>\n",
       "      <td>2016-11</td>\n",
       "      <td>70</td>\n",
       "      <td>1140</td>\n",
       "    </tr>\n",
       "    <tr>\n",
       "      <th>3</th>\n",
       "      <td>2016-12</td>\n",
       "      <td>67</td>\n",
       "      <td>1085</td>\n",
       "    </tr>\n",
       "    <tr>\n",
       "      <th>4</th>\n",
       "      <td>2017-01</td>\n",
       "      <td>61</td>\n",
       "      <td>996</td>\n",
       "    </tr>\n",
       "    <tr>\n",
       "      <th>5</th>\n",
       "      <td>2017-02</td>\n",
       "      <td>57</td>\n",
       "      <td>829</td>\n",
       "    </tr>\n",
       "    <tr>\n",
       "      <th>6</th>\n",
       "      <td>2017-03</td>\n",
       "      <td>48</td>\n",
       "      <td>814</td>\n",
       "    </tr>\n",
       "    <tr>\n",
       "      <th>7</th>\n",
       "      <td>2017-04</td>\n",
       "      <td>43</td>\n",
       "      <td>509</td>\n",
       "    </tr>\n",
       "    <tr>\n",
       "      <th>8</th>\n",
       "      <td>2017-05</td>\n",
       "      <td>40</td>\n",
       "      <td>699</td>\n",
       "    </tr>\n",
       "    <tr>\n",
       "      <th>9</th>\n",
       "      <td>2017-06</td>\n",
       "      <td>35</td>\n",
       "      <td>653</td>\n",
       "    </tr>\n",
       "    <tr>\n",
       "      <th>10</th>\n",
       "      <td>2017-07</td>\n",
       "      <td>33</td>\n",
       "      <td>448</td>\n",
       "    </tr>\n",
       "    <tr>\n",
       "      <th>11</th>\n",
       "      <td>2017-08</td>\n",
       "      <td>30</td>\n",
       "      <td>467</td>\n",
       "    </tr>\n",
       "    <tr>\n",
       "      <th rowspan=\"11\" valign=\"top\">2016-10</th>\n",
       "      <th>0</th>\n",
       "      <td>2016-10</td>\n",
       "      <td>223</td>\n",
       "      <td>3653</td>\n",
       "    </tr>\n",
       "    <tr>\n",
       "      <th>1</th>\n",
       "      <td>2016-11</td>\n",
       "      <td>60</td>\n",
       "      <td>1028</td>\n",
       "    </tr>\n",
       "    <tr>\n",
       "      <th>2</th>\n",
       "      <td>2016-12</td>\n",
       "      <td>51</td>\n",
       "      <td>599</td>\n",
       "    </tr>\n",
       "    <tr>\n",
       "      <th>3</th>\n",
       "      <td>2017-01</td>\n",
       "      <td>47</td>\n",
       "      <td>735</td>\n",
       "    </tr>\n",
       "    <tr>\n",
       "      <th>4</th>\n",
       "      <td>2017-02</td>\n",
       "      <td>45</td>\n",
       "      <td>845</td>\n",
       "    </tr>\n",
       "    <tr>\n",
       "      <th>5</th>\n",
       "      <td>2017-03</td>\n",
       "      <td>42</td>\n",
       "      <td>731</td>\n",
       "    </tr>\n",
       "    <tr>\n",
       "      <th>6</th>\n",
       "      <td>2017-04</td>\n",
       "      <td>39</td>\n",
       "      <td>563</td>\n",
       "    </tr>\n",
       "    <tr>\n",
       "      <th>7</th>\n",
       "      <td>2017-05</td>\n",
       "      <td>35</td>\n",
       "      <td>586</td>\n",
       "    </tr>\n",
       "    <tr>\n",
       "      <th>8</th>\n",
       "      <td>2017-06</td>\n",
       "      <td>32</td>\n",
       "      <td>507</td>\n",
       "    </tr>\n",
       "    <tr>\n",
       "      <th>9</th>\n",
       "      <td>2017-07</td>\n",
       "      <td>30</td>\n",
       "      <td>491</td>\n",
       "    </tr>\n",
       "    <tr>\n",
       "      <th>10</th>\n",
       "      <td>2017-08</td>\n",
       "      <td>29</td>\n",
       "      <td>510</td>\n",
       "    </tr>\n",
       "  </tbody>\n",
       "</table>\n",
       "<p>135 rows × 3 columns</p>\n",
       "</div>"
      ],
      "text/plain": [
       "                           usage_period  all_users  all_num_events\n",
       "cohort_group cohort_period                                        \n",
       "2016-02      0                  2016-02        249            4065\n",
       "             1                  2016-03         75            1221\n",
       "             2                  2016-04         67             994\n",
       "             3                  2016-05         59             838\n",
       "             4                  2016-06         55             931\n",
       "             5                  2016-07         52             802\n",
       "             6                  2016-08         50             840\n",
       "             7                  2016-09         48             666\n",
       "             8                  2016-10         43             659\n",
       "             9                  2016-11         39             550\n",
       "             10                 2016-12         37             658\n",
       "             11                 2017-01         33             557\n",
       "             12                 2017-02         30             414\n",
       "             13                 2017-03         29             452\n",
       "             14                 2017-04         23             300\n",
       "             15                 2017-05         22             402\n",
       "             16                 2017-06         19             301\n",
       "             17                 2017-07         18             254\n",
       "             18                 2017-08         15             224\n",
       "2016-03      0                  2016-03        233            3845\n",
       "             1                  2016-04         72            1160\n",
       "             2                  2016-05         67             967\n",
       "             3                  2016-06         61             955\n",
       "             4                  2016-07         56             926\n",
       "             5                  2016-08         51             680\n",
       "             6                  2016-09         46             768\n",
       "             7                  2016-10         42             646\n",
       "             8                  2016-11         38             690\n",
       "             9                  2016-12         37             509\n",
       "             10                 2017-01         34             502\n",
       "...                                 ...        ...             ...\n",
       "2016-08      6                  2017-02         45             663\n",
       "             7                  2017-03         39             626\n",
       "             8                  2017-04         36             728\n",
       "             9                  2017-05         34             663\n",
       "             10                 2017-06         33             525\n",
       "             11                 2017-07         30             506\n",
       "             12                 2017-08         28             369\n",
       "2016-09      0                  2016-09        230            3622\n",
       "             1                  2016-10         71            1176\n",
       "             2                  2016-11         70            1140\n",
       "             3                  2016-12         67            1085\n",
       "             4                  2017-01         61             996\n",
       "             5                  2017-02         57             829\n",
       "             6                  2017-03         48             814\n",
       "             7                  2017-04         43             509\n",
       "             8                  2017-05         40             699\n",
       "             9                  2017-06         35             653\n",
       "             10                 2017-07         33             448\n",
       "             11                 2017-08         30             467\n",
       "2016-10      0                  2016-10        223            3653\n",
       "             1                  2016-11         60            1028\n",
       "             2                  2016-12         51             599\n",
       "             3                  2017-01         47             735\n",
       "             4                  2017-02         45             845\n",
       "             5                  2017-03         42             731\n",
       "             6                  2017-04         39             563\n",
       "             7                  2017-05         35             586\n",
       "             8                  2017-06         32             507\n",
       "             9                  2017-07         30             491\n",
       "             10                 2017-08         29             510\n",
       "\n",
       "[135 rows x 3 columns]"
      ]
     },
     "execution_count": 23,
     "metadata": {},
     "output_type": "execute_result"
    }
   ],
   "source": [
    "cohorts"
   ]
  },
  {
   "cell_type": "code",
   "execution_count": 24,
   "metadata": {
    "collapsed": true
   },
   "outputs": [],
   "source": [
    "def calculate_user_retention(df, cohort_group_size):\n",
    "    df = df['all_users'].unstack(0).divide(cohort_group_size, axis=1)\n",
    "    return df"
   ]
  },
  {
   "cell_type": "code",
   "execution_count": 25,
   "metadata": {
    "collapsed": false
   },
   "outputs": [
    {
     "data": {
      "text/html": [
       "<div>\n",
       "<table border=\"1\" class=\"dataframe\">\n",
       "  <thead>\n",
       "    <tr style=\"text-align: right;\">\n",
       "      <th>cohort_group</th>\n",
       "      <th>2016-02</th>\n",
       "      <th>2016-03</th>\n",
       "      <th>2016-04</th>\n",
       "      <th>2016-05</th>\n",
       "      <th>2016-06</th>\n",
       "      <th>2016-07</th>\n",
       "      <th>2016-08</th>\n",
       "      <th>2016-09</th>\n",
       "      <th>2016-10</th>\n",
       "    </tr>\n",
       "    <tr>\n",
       "      <th>cohort_period</th>\n",
       "      <th></th>\n",
       "      <th></th>\n",
       "      <th></th>\n",
       "      <th></th>\n",
       "      <th></th>\n",
       "      <th></th>\n",
       "      <th></th>\n",
       "      <th></th>\n",
       "      <th></th>\n",
       "    </tr>\n",
       "  </thead>\n",
       "  <tbody>\n",
       "    <tr>\n",
       "      <th>0</th>\n",
       "      <td>1.000000</td>\n",
       "      <td>1.000000</td>\n",
       "      <td>1.000000</td>\n",
       "      <td>1.000000</td>\n",
       "      <td>1.000000</td>\n",
       "      <td>1.000</td>\n",
       "      <td>1.000000</td>\n",
       "      <td>1.000000</td>\n",
       "      <td>1.000000</td>\n",
       "    </tr>\n",
       "    <tr>\n",
       "      <th>1</th>\n",
       "      <td>0.301205</td>\n",
       "      <td>0.309013</td>\n",
       "      <td>0.289720</td>\n",
       "      <td>0.299611</td>\n",
       "      <td>0.274038</td>\n",
       "      <td>0.304</td>\n",
       "      <td>0.315068</td>\n",
       "      <td>0.308696</td>\n",
       "      <td>0.269058</td>\n",
       "    </tr>\n",
       "    <tr>\n",
       "      <th>2</th>\n",
       "      <td>0.269076</td>\n",
       "      <td>0.287554</td>\n",
       "      <td>0.252336</td>\n",
       "      <td>0.287938</td>\n",
       "      <td>0.254808</td>\n",
       "      <td>0.280</td>\n",
       "      <td>0.283105</td>\n",
       "      <td>0.304348</td>\n",
       "      <td>0.228700</td>\n",
       "    </tr>\n",
       "    <tr>\n",
       "      <th>3</th>\n",
       "      <td>0.236948</td>\n",
       "      <td>0.261803</td>\n",
       "      <td>0.247664</td>\n",
       "      <td>0.264591</td>\n",
       "      <td>0.230769</td>\n",
       "      <td>0.264</td>\n",
       "      <td>0.255708</td>\n",
       "      <td>0.291304</td>\n",
       "      <td>0.210762</td>\n",
       "    </tr>\n",
       "    <tr>\n",
       "      <th>4</th>\n",
       "      <td>0.220884</td>\n",
       "      <td>0.240343</td>\n",
       "      <td>0.214953</td>\n",
       "      <td>0.245136</td>\n",
       "      <td>0.201923</td>\n",
       "      <td>0.240</td>\n",
       "      <td>0.232877</td>\n",
       "      <td>0.265217</td>\n",
       "      <td>0.201794</td>\n",
       "    </tr>\n",
       "  </tbody>\n",
       "</table>\n",
       "</div>"
      ],
      "text/plain": [
       "cohort_group    2016-02   2016-03   2016-04   2016-05   2016-06  2016-07  \\\n",
       "cohort_period                                                              \n",
       "0              1.000000  1.000000  1.000000  1.000000  1.000000    1.000   \n",
       "1              0.301205  0.309013  0.289720  0.299611  0.274038    0.304   \n",
       "2              0.269076  0.287554  0.252336  0.287938  0.254808    0.280   \n",
       "3              0.236948  0.261803  0.247664  0.264591  0.230769    0.264   \n",
       "4              0.220884  0.240343  0.214953  0.245136  0.201923    0.240   \n",
       "\n",
       "cohort_group    2016-08   2016-09   2016-10  \n",
       "cohort_period                                \n",
       "0              1.000000  1.000000  1.000000  \n",
       "1              0.315068  0.308696  0.269058  \n",
       "2              0.283105  0.304348  0.228700  \n",
       "3              0.255708  0.291304  0.210762  \n",
       "4              0.232877  0.265217  0.201794  "
      ]
     },
     "execution_count": 25,
     "metadata": {},
     "output_type": "execute_result"
    }
   ],
   "source": [
    "# step 5\n",
    "user_retention = calculate_user_retention(cohorts, cohort_group_size)\n",
    "user_retention.head()"
   ]
  },
  {
   "cell_type": "code",
   "execution_count": 26,
   "metadata": {
    "collapsed": true
   },
   "outputs": [],
   "source": [
    "# combining all cohort functions into one\n",
    "# used for interactive visualization\n",
    "\n",
    "def build_cohorts(df):\n",
    "    \n",
    "    # step 1\n",
    "    df = preprocess_cohorting(df)\n",
    "    \n",
    "    # step 2\n",
    "    cohorts = build_cohort_data(df)\n",
    "    \n",
    "    # step 3\n",
    "    cohorts_s1 = cohorts.groupby(level=0).apply(cohort_period)\n",
    "    \n",
    "    # step 4\n",
    "    cohorts_s2, cohort_group_size = cohort_reindex_and_group_size(cohorts_s1)\n",
    "    \n",
    "    # step 5\n",
    "    user_retention = calculate_user_retention(cohorts_s2, cohort_group_size)\n",
    "    \n",
    "    return user_retention"
   ]
  },
  {
   "cell_type": "markdown",
   "metadata": {},
   "source": [
    "## 3. Visualization"
   ]
  },
  {
   "cell_type": "markdown",
   "metadata": {},
   "source": [
    "### 3.1. Retention curves"
   ]
  },
  {
   "cell_type": "code",
   "execution_count": 27,
   "metadata": {
    "collapsed": false
   },
   "outputs": [
    {
     "data": {
      "image/png": "[encoded data removed]",
      "text/plain": [
       "<matplotlib.figure.Figure at 0x7f5054013dd8>"
      ]
     },
     "metadata": {},
     "output_type": "display_data"
    }
   ],
   "source": [
    "title = 'User retention for: ' + country_value + ' on ' + platform_value +', registered: ' + str(user_registered_value) \n",
    "\n",
    "fig, ax = plt.subplots(figsize=(10,5))\n",
    "\n",
    "seq_col_brew = sns.cubehelix_palette(15, start=2, reverse=False)\n",
    "sns.set_palette(seq_col_brew)\n",
    "\n",
    "for i in range(0, len(user_retention.columns)):\n",
    "    plt.plot(user_retention[user_retention.columns[i]])\n",
    "\n",
    "plt.title(title + ' (retention curves)')\n",
    "# plt.imshow(g, cmap='Blues',  interpolation='nearest')\n",
    "plt.xlabel(\"Cohort period\")\n",
    "plt.ylabel(\"% of cohort active\")\n",
    "ax.legend()\n",
    "plt.xlim(0, 12)\n",
    "plt.show()"
   ]
  },
  {
   "cell_type": "markdown",
   "metadata": {},
   "source": [
    "### 3.2. Heatmap"
   ]
  },
  {
   "cell_type": "code",
   "execution_count": 28,
   "metadata": {
    "collapsed": false
   },
   "outputs": [
    {
     "data": {
      "image/png": "[encoded data removed]",
      "text/plain": [
       "<matplotlib.figure.Figure at 0x7f50540133c8>"
      ]
     },
     "metadata": {},
     "output_type": "display_data"
    }
   ],
   "source": [
    "fig, ax = plt.subplots(figsize=(10,5))\n",
    "sns.heatmap(user_retention, cmap=\"binary\", ax=ax)\n",
    "ax.set_title(title + ' (heatmap)')\n",
    "plt.show()"
   ]
  },
  {
   "cell_type": "markdown",
   "metadata": {},
   "source": [
    "## Interactive visualization"
   ]
  },
  {
   "cell_type": "code",
   "execution_count": 29,
   "metadata": {
    "collapsed": false
   },
   "outputs": [
    {
     "data": {
      "image/png": "[encoded data removed]",
      "text/plain": [
       "<matplotlib.figure.Figure at 0x7f50518a4b38>"
      ]
     },
     "metadata": {},
     "output_type": "display_data"
    },
    {
     "data": {
      "image/png": "[encoded data removed]",
      "text/plain": [
       "<matplotlib.figure.Figure at 0x7f5053fd52b0>"
      ]
     },
     "metadata": {},
     "output_type": "display_data"
    }
   ],
   "source": [
    "def func_cohort_analysis(country, platform, user_registered):\n",
    "    \n",
    "    # segmenting users\n",
    "    segmented_user_events_df = segmenting(all_user_data_df.copy(), country=country, platform=platform, user_registered=user_registered)\n",
    "    \n",
    "    # building cohorts\n",
    "    user_retention = build_cohorts(segmented_user_events_df)\n",
    "    \n",
    "    \n",
    "\n",
    "    # visualization 1 - retention curve\n",
    "    \n",
    "    title = 'User retention for: ' + country + ' on ' + platform +', registered: ' + str(user_registered) \n",
    "\n",
    "    fig, ax = plt.subplots(figsize=(10,5))\n",
    "\n",
    "    seq_col_brew = sns.cubehelix_palette(15, start=2, reverse=False)\n",
    "    sns.set_palette(seq_col_brew)\n",
    "\n",
    "    for i in range(0, len(user_retention.columns)):\n",
    "        plt.plot(user_retention[user_retention.columns[i]])\n",
    "\n",
    "    plt.title(title + ' (retention curves)')\n",
    "    # plt.imshow(g, cmap='Blues',  interpolation='nearest')\n",
    "    plt.xlabel(\"Cohort period\")\n",
    "    plt.ylabel(\"% of cohort active\")\n",
    "    ax.legend()\n",
    "    plt.xlim(0, 12)\n",
    "    plt.show()\n",
    "    \n",
    "    \n",
    "    \n",
    "    # visualization 2 - heatmap\n",
    "    \n",
    "    fig, ax = plt.subplots(figsize=(10,5))\n",
    "    sns.heatmap(user_retention, cmap=\"binary\", ax=ax)\n",
    "    ax.set_title(title + ' (heatmap)')\n",
    "    plt.show()\n",
    "    \n",
    "\n",
    "    \n",
    "    \n",
    "interact(func_cohort_analysis, country=country_values , platform=platform_values, user_registered=user_registered_values);"
   ]
  },
  {
   "cell_type": "code",
   "execution_count": null,
   "metadata": {
    "collapsed": true
   },
   "outputs": [],
   "source": []
  },
  {
   "cell_type": "code",
   "execution_count": null,
   "metadata": {
    "collapsed": true
   },
   "outputs": [],
   "source": []
  },
  {
   "cell_type": "code",
   "execution_count": null,
   "metadata": {
    "collapsed": true
   },
   "outputs": [],
   "source": []
  }
 ],
 "metadata": {
  "anaconda-cloud": {},
  "kernelspec": {
   "display_name": "Python [conda root]",
   "language": "python",
   "name": "conda-root-py"
  },
  "language_info": {
   "codemirror_mode": {
    "name": "ipython",
    "version": 3
   },
   "file_extension": ".py",
   "mimetype": "text/x-python",
   "name": "python",
   "nbconvert_exporter": "python",
   "pygments_lexer": "ipython3",
   "version": "3.5.2"
  },
  "widgets": {
   "state": {
    "232d7a5059ce4274b1df7f5ff842e4f5": {
     "views": [
      {
       "cell_index": 36
      }
     ]
    }
   },
   "version": "1.2.0"
  }
 },
 "nbformat": 4,
 "nbformat_minor": 2
}
