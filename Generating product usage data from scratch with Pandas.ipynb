{
 "cells": [
  {
   "cell_type": "code",
   "execution_count": 13,
   "metadata": {
    "collapsed": true
   },
   "outputs": [],
   "source": [
    "# interesting articles:\n",
    "# http://leananalyticsbook.com/one-metric-that-matters/\n",
    "# https://v4-alpha.getbootstrap.com/content/code/\n",
    "# https://fizzle.co/sparkline/vanity-vs-actionable-metrics\n",
    "\n",
    "import pandas as pd\n",
    "import numpy as np\n",
    "import uuid\n",
    "from datetime import datetime\n",
    "from dateutil.relativedelta import relativedelta\n",
    "# set the settingWithCopyWarning in Pandas to None\n",
    "pd.options.mode.chained_assignment = None  # default='warn'\n",
    "%matplotlib inline"
   ]
  },
  {
   "cell_type": "markdown",
   "metadata": {},
   "source": [
    "### 1. Defining the parameters"
   ]
  },
  {
   "cell_type": "code",
   "execution_count": 14,
   "metadata": {
    "collapsed": true
   },
   "outputs": [],
   "source": [
    "# number of devices to generate data for\n",
    "num_device_uuids = 1000\n",
    "\n",
    "# number of months for each device\n",
    "num_months = 20\n",
    "\n",
    "# starting month of product usage data\n",
    "start_month = '2016-01-01'"
   ]
  },
  {
   "cell_type": "markdown",
   "metadata": {},
   "source": [
    "### 2. Generating device uuids"
   ]
  },
  {
   "cell_type": "code",
   "execution_count": 54,
   "metadata": {},
   "outputs": [
    {
     "data": {
      "text/html": [
       "<div>\n",
       "<style>\n",
       "    .dataframe thead tr:only-child th {\n",
       "        text-align: right;\n",
       "    }\n",
       "\n",
       "    .dataframe thead th {\n",
       "        text-align: left;\n",
       "    }\n",
       "\n",
       "    .dataframe tbody tr th {\n",
       "        vertical-align: top;\n",
       "    }\n",
       "</style>\n",
       "<table border=\"1\" class=\"dataframe\">\n",
       "  <thead>\n",
       "    <tr style=\"text-align: right;\">\n",
       "      <th></th>\n",
       "      <th>device_uuid</th>\n",
       "    </tr>\n",
       "  </thead>\n",
       "  <tbody>\n",
       "    <tr>\n",
       "      <th>19</th>\n",
       "      <td>d98f302e-e358-4995-b76e-596ceeccde9f</td>\n",
       "    </tr>\n",
       "    <tr>\n",
       "      <th>20</th>\n",
       "      <td>cb98d2d2-9544-4d1a-a339-0c1406da8ef3</td>\n",
       "    </tr>\n",
       "  </tbody>\n",
       "</table>\n",
       "</div>"
      ],
      "text/plain": [
       "                             device_uuid\n",
       "19  d98f302e-e358-4995-b76e-596ceeccde9f\n",
       "20  cb98d2d2-9544-4d1a-a339-0c1406da8ef3"
      ]
     },
     "execution_count": 54,
     "metadata": {},
     "output_type": "execute_result"
    }
   ],
   "source": [
    "# generating unique identifiers for each device\n",
    "uuids = pd.Series([str(uuid.uuid4()) for i in range(1,num_device_uuids)])\n",
    "user_data = pd.DataFrame()\n",
    "user_data['device_uuid'] = pd.Series(uuids).repeat(num_months)\n",
    "user_data =user_data.reset_index().drop('index', 1)\n",
    "\n",
    "# example of two different device uuids\n",
    "user_data[19:21]"
   ]
  },
  {
   "cell_type": "markdown",
   "metadata": {},
   "source": [
    "### 2. Generate date data"
   ]
  },
  {
   "cell_type": "code",
   "execution_count": 22,
   "metadata": {},
   "outputs": [
    {
     "data": {
      "text/plain": [
       "('2016-01-01 00:00:00', '2017-08-01 00:00:00')"
      ]
     },
     "execution_count": 22,
     "metadata": {},
     "output_type": "execute_result"
    }
   ],
   "source": [
    "# defining starting and ending month for generating data\n",
    "start_month_ts = pd.to_datetime(start_month)\n",
    "end_month_ts = start_month_ts + relativedelta(months=+num_months - 1)\n",
    "str(start_month_ts), str(end_month_ts)"
   ]
  },
  {
   "cell_type": "code",
   "execution_count": 24,
   "metadata": {},
   "outputs": [
    {
     "data": {
      "text/plain": [
       "0    2016-01-01\n",
       "1    2016-02-01\n",
       "2    2016-03-01\n",
       "3    2016-04-01\n",
       "4    2016-05-01\n",
       "5    2016-06-01\n",
       "6    2016-07-01\n",
       "7    2016-08-01\n",
       "8    2016-09-01\n",
       "9    2016-10-01\n",
       "10   2016-11-01\n",
       "11   2016-12-01\n",
       "12   2017-01-01\n",
       "13   2017-02-01\n",
       "14   2017-03-01\n",
       "15   2017-04-01\n",
       "16   2017-05-01\n",
       "17   2017-06-01\n",
       "18   2017-07-01\n",
       "19   2017-08-01\n",
       "dtype: datetime64[ns]"
      ]
     },
     "execution_count": 24,
     "metadata": {},
     "output_type": "execute_result"
    }
   ],
   "source": [
    "# months for which we will be generating data\n",
    "months = pd.Series(pd.date_range(start_month_ts, end_month_ts, freq='MS'))\n",
    "months"
   ]
  },
  {
   "cell_type": "code",
   "execution_count": 26,
   "metadata": {},
   "outputs": [
    {
     "data": {
      "text/html": [
       "<div>\n",
       "<style>\n",
       "    .dataframe thead tr:only-child th {\n",
       "        text-align: right;\n",
       "    }\n",
       "\n",
       "    .dataframe thead th {\n",
       "        text-align: left;\n",
       "    }\n",
       "\n",
       "    .dataframe tbody tr th {\n",
       "        vertical-align: top;\n",
       "    }\n",
       "</style>\n",
       "<table border=\"1\" class=\"dataframe\">\n",
       "  <thead>\n",
       "    <tr style=\"text-align: right;\">\n",
       "      <th></th>\n",
       "      <th>device_uuid</th>\n",
       "      <th>date</th>\n",
       "    </tr>\n",
       "  </thead>\n",
       "  <tbody>\n",
       "    <tr>\n",
       "      <th>0</th>\n",
       "      <td>0fc75756-7021-4964-a3a3-81ad1219afe0</td>\n",
       "      <td>2016-01-01</td>\n",
       "    </tr>\n",
       "    <tr>\n",
       "      <th>1</th>\n",
       "      <td>0fc75756-7021-4964-a3a3-81ad1219afe0</td>\n",
       "      <td>2016-02-01</td>\n",
       "    </tr>\n",
       "    <tr>\n",
       "      <th>2</th>\n",
       "      <td>0fc75756-7021-4964-a3a3-81ad1219afe0</td>\n",
       "      <td>2016-03-01</td>\n",
       "    </tr>\n",
       "    <tr>\n",
       "      <th>3</th>\n",
       "      <td>0fc75756-7021-4964-a3a3-81ad1219afe0</td>\n",
       "      <td>2016-04-01</td>\n",
       "    </tr>\n",
       "    <tr>\n",
       "      <th>4</th>\n",
       "      <td>0fc75756-7021-4964-a3a3-81ad1219afe0</td>\n",
       "      <td>2016-05-01</td>\n",
       "    </tr>\n",
       "  </tbody>\n",
       "</table>\n",
       "</div>"
      ],
      "text/plain": [
       "                            device_uuid       date\n",
       "0  0fc75756-7021-4964-a3a3-81ad1219afe0 2016-01-01\n",
       "1  0fc75756-7021-4964-a3a3-81ad1219afe0 2016-02-01\n",
       "2  0fc75756-7021-4964-a3a3-81ad1219afe0 2016-03-01\n",
       "3  0fc75756-7021-4964-a3a3-81ad1219afe0 2016-04-01\n",
       "4  0fc75756-7021-4964-a3a3-81ad1219afe0 2016-05-01"
      ]
     },
     "execution_count": 26,
     "metadata": {},
     "output_type": "execute_result"
    }
   ],
   "source": [
    "# adding date column to the user data dataframe\n",
    "user_data['date'] = pd.concat([months] * num_device_uuids, axis=0).reset_index().drop('index', 1)\n",
    "user_data.head()"
   ]
  },
  {
   "cell_type": "markdown",
   "metadata": {},
   "source": [
    "### 3. Generate usage features"
   ]
  },
  {
   "cell_type": "code",
   "execution_count": 30,
   "metadata": {},
   "outputs": [
    {
     "data": {
      "text/plain": [
       "0    0fc75756-7021-4964-a3a3-81ad1219afe0\n",
       "1    5367e8c7-01d1-4622-ab53-37d7ff03b63e\n",
       "2    432da6f5-8905-4bca-a899-265b299ad9e1\n",
       "3    c8860548-e0c9-47d0-9e01-0fc6f8ea4f2f\n",
       "4    83f99b7a-5cc1-4b94-b0f8-b868bcf909f6\n",
       "dtype: object"
      ]
     },
     "execution_count": 30,
     "metadata": {},
     "output_type": "execute_result"
    }
   ],
   "source": [
    "num_usage_features = 3\n",
    "feature_usage_ratio = 0.8\n",
    "\n",
    "# extracting all the unique device uuids\n",
    "device_uuids = pd.Series(user_data['device_uuid'].unique())\n",
    "user_data_with_usage = pd.DataFrame()\n",
    "device_uuids[0:5]"
   ]
  },
  {
   "cell_type": "markdown",
   "metadata": {},
   "source": [
    "### 4.1. Generate feature ratios"
   ]
  },
  {
   "cell_type": "code",
   "execution_count": 36,
   "metadata": {},
   "outputs": [
    {
     "data": {
      "text/plain": [
       "{'feature1': 1.0, 'feature2': 0.8, 'feature3': 0.6}"
      ]
     },
     "execution_count": 36,
     "metadata": {},
     "output_type": "execute_result"
    }
   ],
   "source": [
    "# generate random usage data for each feature and simulate falling usage per feature\n",
    "# (each feature 80% of the previous one)\n",
    "# example: F1 = 1, F2 = F1*0.8 = 0.8, F3 = F2*0.8 = 0.64\n",
    "\n",
    "# extract the names for each feature based on the pre-set number of feature\n",
    "features = ['feature' + str(i) for i in range(1,num_usage_features+1)]\n",
    "\n",
    "usage_features_ratio = {}\n",
    "\n",
    "# set the feature_ratio for the first feature (100%)\n",
    "cur_feature = 1.0\n",
    "\n",
    "# calculate the ratio for each feature\n",
    "for feature in features:\n",
    "    usage_features_ratio[feature] = float(\"{0:.1f}\".format(cur_feature))\n",
    "    cur_feature*= 0.8\n",
    "\n",
    "usage_features_ratio"
   ]
  },
  {
   "cell_type": "markdown",
   "metadata": {},
   "source": [
    "### 4.2. Assign cohort groups to devices"
   ]
  },
  {
   "cell_type": "code",
   "execution_count": 37,
   "metadata": {},
   "outputs": [
    {
     "data": {
      "text/plain": [
       "10"
      ]
     },
     "execution_count": 37,
     "metadata": {},
     "output_type": "execute_result"
    }
   ],
   "source": [
    "# set the number of cohorts to be half of number of months of data (20 months = 10 cohorts)\n",
    "num_cohorts = int(num_months / 2) \n",
    "num_cohorts"
   ]
  },
  {
   "cell_type": "code",
   "execution_count": 38,
   "metadata": {},
   "outputs": [
    {
     "data": {
      "text/html": [
       "<div>\n",
       "<style>\n",
       "    .dataframe thead tr:only-child th {\n",
       "        text-align: right;\n",
       "    }\n",
       "\n",
       "    .dataframe thead th {\n",
       "        text-align: left;\n",
       "    }\n",
       "\n",
       "    .dataframe tbody tr th {\n",
       "        vertical-align: top;\n",
       "    }\n",
       "</style>\n",
       "<table border=\"1\" class=\"dataframe\">\n",
       "  <thead>\n",
       "    <tr style=\"text-align: right;\">\n",
       "      <th></th>\n",
       "      <th>device_uuid</th>\n",
       "      <th>cohort_group</th>\n",
       "    </tr>\n",
       "  </thead>\n",
       "  <tbody>\n",
       "    <tr>\n",
       "      <th>0</th>\n",
       "      <td>0fc75756-7021-4964-a3a3-81ad1219afe0</td>\n",
       "      <td>1</td>\n",
       "    </tr>\n",
       "    <tr>\n",
       "      <th>1</th>\n",
       "      <td>5367e8c7-01d1-4622-ab53-37d7ff03b63e</td>\n",
       "      <td>1</td>\n",
       "    </tr>\n",
       "    <tr>\n",
       "      <th>2</th>\n",
       "      <td>432da6f5-8905-4bca-a899-265b299ad9e1</td>\n",
       "      <td>2</td>\n",
       "    </tr>\n",
       "    <tr>\n",
       "      <th>3</th>\n",
       "      <td>c8860548-e0c9-47d0-9e01-0fc6f8ea4f2f</td>\n",
       "      <td>9</td>\n",
       "    </tr>\n",
       "    <tr>\n",
       "      <th>4</th>\n",
       "      <td>83f99b7a-5cc1-4b94-b0f8-b868bcf909f6</td>\n",
       "      <td>2</td>\n",
       "    </tr>\n",
       "  </tbody>\n",
       "</table>\n",
       "</div>"
      ],
      "text/plain": [
       "                            device_uuid  cohort_group\n",
       "0  0fc75756-7021-4964-a3a3-81ad1219afe0             1\n",
       "1  5367e8c7-01d1-4622-ab53-37d7ff03b63e             1\n",
       "2  432da6f5-8905-4bca-a899-265b299ad9e1             2\n",
       "3  c8860548-e0c9-47d0-9e01-0fc6f8ea4f2f             9\n",
       "4  83f99b7a-5cc1-4b94-b0f8-b868bcf909f6             2"
      ]
     },
     "execution_count": 38,
     "metadata": {},
     "output_type": "execute_result"
    }
   ],
   "source": [
    "# assign cohorts to users randomly (when did the user first used the app?)\n",
    "cohorts = pd.DataFrame()\n",
    "cohorts['device_uuid'] = device_uuids\n",
    "cohorts['cohort_group'] = np.random.randint(low=0, high=num_cohorts, size=num_device_uuids-1)\n",
    "cohorts.head()"
   ]
  },
  {
   "cell_type": "markdown",
   "metadata": {},
   "source": [
    "### 4.3. Creating usage features"
   ]
  },
  {
   "cell_type": "code",
   "execution_count": null,
   "metadata": {
    "collapsed": true
   },
   "outputs": [],
   "source": [
    "# finding cohort groups for each device_uuid\n",
    "user_data_with_cohort_groups = pd.DataFrame()\n",
    "\n",
    "for device_uuid in device_uuids:\n",
    "    \n",
    "    # 1. slice user_data, create a device_uuid data for each user\n",
    "    device_uuid_data = user_data[user_data['device_uuid'] == device_uuid]\n",
    "    \n",
    "    # 2. find cohort group of the device_uui and delete all unnecessary months\n",
    "    device_uuid_cohort_group = int(cohorts[cohorts['device_uuid'] == device_uuid]['cohort_group'])\n",
    "    device_uuid_data = device_uuid_data[device_uuid_cohort_group:]\n",
    "\n",
    "    user_data_with_cohort_groups = user_data_with_cohort_groups.append(device_uuid_data)"
   ]
  },
  {
   "cell_type": "code",
   "execution_count": null,
   "metadata": {},
   "outputs": [],
   "source": [
    "len(user_data_with_cohort_groups) / len(device_uuids)\n",
    "# len(user_data) / len(device_uuids)"
   ]
  },
  {
   "cell_type": "code",
   "execution_count": null,
   "metadata": {},
   "outputs": [],
   "source": [
    "# 3.1. - Generate random data for Feature1\n",
    "\n",
    "user_data_with_cohort_groups = user_data_with_cohort_groups.reset_index().drop('index', axis=1)\n",
    "\n",
    "user_data_with_cohort_groups[features[0]] = pd.Series((\n",
    "        np.random.randint(low=0, high=14, \n",
    "                          size=len(user_data_with_cohort_groups))))\n",
    "\n",
    "# 3.2. - Generate data for remaining features (Feature2, Feature3...)\n",
    "for feature in features[1:]:\n",
    "        user_data_with_cohort_groups[feature] = user_data_with_cohort_groups[features[0]] * usage_features_ratio[feature]\n",
    "        \n",
    "user_data_with_cohort_groups.head()"
   ]
  },
  {
   "cell_type": "code",
   "execution_count": null,
   "metadata": {
    "collapsed": true
   },
   "outputs": [],
   "source": [
    "user_data_with_usage_features = pd.DataFrame()\n",
    "\n",
    "# 4.- Churner stays a churner\n",
    "\n",
    "for device_uuid in device_uuids:\n",
    "    \n",
    "    churner = False\n",
    "            \n",
    "    device_uuid_data = user_data_with_cohort_groups[user_data_with_cohort_groups['device_uuid'] == device_uuid]\n",
    "    \n",
    "    \n",
    "    for index, row in device_uuid_data.iterrows():\n",
    "        \n",
    "        if row[features[0]] == 0:\n",
    "            churner = True\n",
    "\n",
    "        if churner == True:\n",
    "            # if a churner, set the value of all usage features to 0\n",
    "            device_uuid_data.loc[index, features[0:]] = 0\n",
    "    \n",
    "    # print(device_uuid_data)\n",
    "            \n",
    "    user_data_with_usage_features = user_data_with_usage_features.append(device_uuid_data)\n",
    "    \n",
    "# delete the months when with churned device_uuid months\n",
    "user_data_with_usage_features = user_data_with_usage_features[user_data_with_usage_features[features[0]] != 0]"
   ]
  },
  {
   "cell_type": "code",
   "execution_count": null,
   "metadata": {},
   "outputs": [],
   "source": [
    "user_data_with_usage_features.head()"
   ]
  },
  {
   "cell_type": "code",
   "execution_count": null,
   "metadata": {},
   "outputs": [],
   "source": [
    "# average number of months of usage per device_uuid\n",
    "len(user_data_with_usage_features) / len(device_uuids)"
   ]
  },
  {
   "cell_type": "code",
   "execution_count": null,
   "metadata": {},
   "outputs": [],
   "source": [
    "num_months"
   ]
  },
  {
   "cell_type": "markdown",
   "metadata": {},
   "source": [
    "### 4. Generate segmentation features"
   ]
  },
  {
   "cell_type": "markdown",
   "metadata": {},
   "source": [
    "#### function to generate random features\n",
    "#### parameters: name of feature, list of all feature values"
   ]
  },
  {
   "cell_type": "code",
   "execution_count": 15,
   "metadata": {
    "collapsed": true
   },
   "outputs": [],
   "source": [
    "# segmentation features\n",
    "num_segmentation_featues = 3\n",
    "platforms = ['iOS', 'Android']\n",
    "countries = ['NL', 'AU', 'FR']\n",
    "user_registered = [True, False]"
   ]
  },
  {
   "cell_type": "code",
   "execution_count": 16,
   "metadata": {
    "collapsed": true
   },
   "outputs": [],
   "source": [
    "segmentation_features = {'platform': platforms,\n",
    "                'user_registered': user_registered,\n",
    "                'country': countries}"
   ]
  },
  {
   "cell_type": "code",
   "execution_count": 17,
   "metadata": {},
   "outputs": [
    {
     "data": {
      "text/plain": [
       "{'country': ['NL', 'AU', 'FR'],\n",
       " 'platform': ['iOS', 'Android'],\n",
       " 'user_registered': [True, False]}"
      ]
     },
     "execution_count": 17,
     "metadata": {},
     "output_type": "execute_result"
    }
   ],
   "source": [
    "segmentation_features"
   ]
  },
  {
   "cell_type": "code",
   "execution_count": 18,
   "metadata": {
    "collapsed": true
   },
   "outputs": [],
   "source": [
    "# user_data_with_segmentation_features = pd.DataFrame()\n",
    "\n",
    "segmentation_features_df = pd.DataFrame()\n",
    "\n",
    "weights_2 = [0.7, 0.3]\n",
    "weights_3 = [0.6, 0.3, 0.1]\n",
    "\n",
    "for device_uuid in device_uuids[0:device_uuids_limit]:\n",
    "    \n",
    "    device_uuid_feature_values_dict = {}\n",
    "    \n",
    "    for feature_name, feature_values in segmentation_features.items():\n",
    "\n",
    "        # generate the random feature value\n",
    "        # add code if you want to add features with > 3 values\n",
    "        if len(feature_values) == 2:\n",
    "            feature_weights = weights_2\n",
    "        elif len(feature_values) == 3:\n",
    "            feature_weights = weights_3\n",
    "        \n",
    "        # generate the feature value from assigned weights\n",
    "        feature_value = np.random.choice(feature_values, p=feature_weights)\n",
    "        \n",
    "        \n",
    "        # device_uuid_feature_values_list.append(feature_value)\n",
    "        \n",
    "        # make a dict of feature_name\n",
    "        device_uuid_feature_values_dict[feature_name] = feature_value\n",
    "        \n",
    "        \n",
    "        \n",
    "    # make a df with segmentation features for the device_uuid\n",
    "    device_segm_features = pd.DataFrame(list(device_uuid_feature_values_dict.items())).T\n",
    "    device_segm_features.columns = device_segm_features.iloc[0]\n",
    "    device_segm_features['device_uuid'] = device_uuid\n",
    "    device_segm_features = device_segm_features.reindex(device_segm_features.index.drop(0))\n",
    "    device_segm_features['device_uuid'] = device_uuid\n",
    "    # device_segm_features\n",
    "        \n",
    "    # append to the main df\n",
    "        \n",
    "    segmentation_features_df = segmentation_features_df.append(device_segm_features)\n",
    "    \n",
    "    \n",
    "# segmentation_features_df = segmentation_features_df.reset_index().drop('index', axis=1)\n",
    "segmentation_features_df = segmentation_features_df.set_index('device_uuid').reset_index()"
   ]
  },
  {
   "cell_type": "code",
   "execution_count": 19,
   "metadata": {},
   "outputs": [
    {
     "data": {
      "text/html": [
       "<div>\n",
       "<style>\n",
       "    .dataframe thead tr:only-child th {\n",
       "        text-align: right;\n",
       "    }\n",
       "\n",
       "    .dataframe thead th {\n",
       "        text-align: left;\n",
       "    }\n",
       "\n",
       "    .dataframe tbody tr th {\n",
       "        vertical-align: top;\n",
       "    }\n",
       "</style>\n",
       "<table border=\"1\" class=\"dataframe\">\n",
       "  <thead>\n",
       "    <tr style=\"text-align: right;\">\n",
       "      <th></th>\n",
       "      <th>device_uuid</th>\n",
       "      <th>user_registered</th>\n",
       "      <th>country</th>\n",
       "      <th>platform</th>\n",
       "    </tr>\n",
       "  </thead>\n",
       "  <tbody>\n",
       "    <tr>\n",
       "      <th>0</th>\n",
       "      <td>f20ba118-4654-4405-93de-dd281e3c8adc</td>\n",
       "      <td>True</td>\n",
       "      <td>AU</td>\n",
       "      <td>iOS</td>\n",
       "    </tr>\n",
       "    <tr>\n",
       "      <th>1</th>\n",
       "      <td>83c1793e-dd4a-4e6e-95b7-1ee6077d2d50</td>\n",
       "      <td>True</td>\n",
       "      <td>NL</td>\n",
       "      <td>Android</td>\n",
       "    </tr>\n",
       "    <tr>\n",
       "      <th>2</th>\n",
       "      <td>a0b3bf85-1494-45b8-8049-2aab8808321b</td>\n",
       "      <td>True</td>\n",
       "      <td>AU</td>\n",
       "      <td>Android</td>\n",
       "    </tr>\n",
       "    <tr>\n",
       "      <th>3</th>\n",
       "      <td>57f237d3-1119-40ee-83c8-07a4ce8db26e</td>\n",
       "      <td>True</td>\n",
       "      <td>NL</td>\n",
       "      <td>iOS</td>\n",
       "    </tr>\n",
       "    <tr>\n",
       "      <th>4</th>\n",
       "      <td>abac4bfc-f49e-452f-aee6-f531a9fcb470</td>\n",
       "      <td>True</td>\n",
       "      <td>AU</td>\n",
       "      <td>iOS</td>\n",
       "    </tr>\n",
       "  </tbody>\n",
       "</table>\n",
       "</div>"
      ],
      "text/plain": [
       "0                           device_uuid user_registered country platform\n",
       "0  f20ba118-4654-4405-93de-dd281e3c8adc            True      AU      iOS\n",
       "1  83c1793e-dd4a-4e6e-95b7-1ee6077d2d50            True      NL  Android\n",
       "2  a0b3bf85-1494-45b8-8049-2aab8808321b            True      AU  Android\n",
       "3  57f237d3-1119-40ee-83c8-07a4ce8db26e            True      NL      iOS\n",
       "4  abac4bfc-f49e-452f-aee6-f531a9fcb470            True      AU      iOS"
      ]
     },
     "execution_count": 19,
     "metadata": {},
     "output_type": "execute_result"
    }
   ],
   "source": [
    "segmentation_features_df.head()"
   ]
  },
  {
   "cell_type": "code",
   "execution_count": 20,
   "metadata": {
    "scrolled": true
   },
   "outputs": [
    {
     "ename": "NameError",
     "evalue": "name 'user_data_with_usage_features' is not defined",
     "output_type": "error",
     "traceback": [
      "\u001b[0;31m---------------------------------------------------------------------------\u001b[0m",
      "\u001b[0;31mNameError\u001b[0m                                 Traceback (most recent call last)",
      "\u001b[0;32m<ipython-input-20-fb7f9f36e280>\u001b[0m in \u001b[0;36m<module>\u001b[0;34m()\u001b[0m\n\u001b[1;32m      4\u001b[0m \u001b[0;34m\u001b[0m\u001b[0m\n\u001b[1;32m      5\u001b[0m     \u001b[0;31m# extract device data from the main df\u001b[0m\u001b[0;34m\u001b[0m\u001b[0;34m\u001b[0m\u001b[0m\n\u001b[0;32m----> 6\u001b[0;31m     \u001b[0mdevice_uuid_df\u001b[0m \u001b[0;34m=\u001b[0m \u001b[0muser_data_with_usage_features\u001b[0m\u001b[0;34m[\u001b[0m\u001b[0muser_data_with_usage_features\u001b[0m\u001b[0;34m[\u001b[0m\u001b[0;34m'device_uuid'\u001b[0m\u001b[0;34m]\u001b[0m \u001b[0;34m==\u001b[0m \u001b[0mdevice_uuid\u001b[0m\u001b[0;34m]\u001b[0m\u001b[0;34m\u001b[0m\u001b[0m\n\u001b[0m\u001b[1;32m      7\u001b[0m     \u001b[0;31m# extract device data for segmentation features data\u001b[0m\u001b[0;34m\u001b[0m\u001b[0;34m\u001b[0m\u001b[0m\n\u001b[1;32m      8\u001b[0m     \u001b[0mdevice_seg_feature_values_df\u001b[0m \u001b[0;34m=\u001b[0m \u001b[0msegmentation_features_df\u001b[0m\u001b[0;34m[\u001b[0m\u001b[0msegmentation_features_df\u001b[0m\u001b[0;34m[\u001b[0m\u001b[0;34m'device_uuid'\u001b[0m\u001b[0;34m]\u001b[0m \u001b[0;34m==\u001b[0m \u001b[0mdevice_uuid\u001b[0m\u001b[0;34m]\u001b[0m\u001b[0;34m\u001b[0m\u001b[0m\n",
      "\u001b[0;31mNameError\u001b[0m: name 'user_data_with_usage_features' is not defined"
     ]
    }
   ],
   "source": [
    "final_df = pd.DataFrame()\n",
    "\n",
    "for device_uuid in device_uuids[0:device_uuids_limit]:\n",
    "    \n",
    "    # extract device data from the main df\n",
    "    device_uuid_df = user_data_with_usage_features[user_data_with_usage_features['device_uuid'] == device_uuid]\n",
    "    # extract device data for segmentation features data\n",
    "    device_seg_feature_values_df = segmentation_features_df[segmentation_features_df['device_uuid'] == device_uuid]\n",
    "\n",
    "    \n",
    "    # print(device_seg_feature_values_df[0:10])\n",
    "    \n",
    "    # assign the values of segmentation features to the main df\n",
    "    for seg_feature_name in device_seg_feature_values_df.columns[1:]:\n",
    "        # device_uuid_data[seg_feature_name] = device_seg_feature_values_df[seg_feature_name]\n",
    "        device_uuid_df[seg_feature_name] = device_seg_feature_values_df[seg_feature_name][int(device_seg_feature_values_df[seg_feature_name].index.values)]\n",
    "        # None\n",
    "        # print(device_seg_feature_values_df[seg_feature_name][int(device_seg_feature_values_df[seg_feature_name].index.values)])\n",
    "        # [device_seg_feature_values_df[seg_feature_name].index.values])\n",
    "\n",
    "    # append the device data to the main df\n",
    "    final_df = final_df.append(device_uuid_df)\n",
    "\n",
    "final_df.reset_index(inplace=True, drop=True)"
   ]
  },
  {
   "cell_type": "code",
   "execution_count": null,
   "metadata": {},
   "outputs": [],
   "source": [
    "len(final_df)"
   ]
  },
  {
   "cell_type": "code",
   "execution_count": null,
   "metadata": {},
   "outputs": [],
   "source": [
    "final_df.groupby(['country']).count()['device_uuid'].plot(kind='hist');"
   ]
  },
  {
   "cell_type": "code",
   "execution_count": null,
   "metadata": {},
   "outputs": [],
   "source": [
    "final_df.groupby(['user_registered']).mean()"
   ]
  },
  {
   "cell_type": "code",
   "execution_count": null,
   "metadata": {
    "scrolled": true
   },
   "outputs": [],
   "source": [
    "final_df.head()"
   ]
  },
  {
   "cell_type": "code",
   "execution_count": null,
   "metadata": {},
   "outputs": [],
   "source": [
    "len(final_df['device_uuid'].unique())"
   ]
  },
  {
   "cell_type": "code",
   "execution_count": null,
   "metadata": {
    "collapsed": true
   },
   "outputs": [],
   "source": []
  },
  {
   "cell_type": "code",
   "execution_count": null,
   "metadata": {
    "collapsed": true
   },
   "outputs": [],
   "source": [
    "final_df.to_csv('generating_user_behavioral_data.csv')"
   ]
  }
 ],
 "metadata": {
  "kernelspec": {
   "display_name": "Python [default]",
   "language": "python",
   "name": "python3"
  },
  "language_info": {
   "codemirror_mode": {
    "name": "ipython",
    "version": 3
   },
   "file_extension": ".py",
   "mimetype": "text/x-python",
   "name": "python",
   "nbconvert_exporter": "python",
   "pygments_lexer": "ipython3",
   "version": "3.5.3"
  }
 },
 "nbformat": 4,
 "nbformat_minor": 2
}
