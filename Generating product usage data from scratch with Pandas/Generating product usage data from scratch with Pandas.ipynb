{
 "cells": [
  {
   "cell_type": "code",
   "execution_count": 1,
   "metadata": {
    "collapsed": true
   },
   "outputs": [],
   "source": [
    "import pandas as pd\n",
    "import numpy as np\n",
    "import uuid\n",
    "from datetime import datetime\n",
    "from dateutil.relativedelta import relativedelta\n",
    "# set the settingWithCopyWarning in Pandas to None\n",
    "pd.options.mode.chained_assignment = None  # default='warn'\n",
    "%matplotlib inline"
   ]
  },
  {
   "cell_type": "markdown",
   "metadata": {},
   "source": [
    "#### The aim of this notebook is to generate product usage data from scratch. We generate data for 1000 users and simulate their behavior which can then we used for cohort analysis like creating retention curves. More here: http://josolnik.com/generating_product_usage_data.html"
   ]
  },
  {
   "cell_type": "markdown",
   "metadata": {},
   "source": [
    "### 1. Defining the main parameters"
   ]
  },
  {
   "cell_type": "code",
   "execution_count": 2,
   "metadata": {
    "collapsed": true
   },
   "outputs": [],
   "source": [
    "# number of devices to generate data for\n",
    "num_device_uuids = 1000\n",
    "\n",
    "# number of months generated for each device\n",
    "num_months = 20\n",
    "\n",
    "# starting month of product usage data\n",
    "start_month = '2016-01-01'"
   ]
  },
  {
   "cell_type": "markdown",
   "metadata": {},
   "source": [
    "###  2. Generating device uuids and applying them to datetime data"
   ]
  },
  {
   "cell_type": "code",
   "execution_count": 3,
   "metadata": {},
   "outputs": [
    {
     "data": {
      "text/html": [
       "<div>\n",
       "<style>\n",
       "    .dataframe thead tr:only-child th {\n",
       "        text-align: right;\n",
       "    }\n",
       "\n",
       "    .dataframe thead th {\n",
       "        text-align: left;\n",
       "    }\n",
       "\n",
       "    .dataframe tbody tr th {\n",
       "        vertical-align: top;\n",
       "    }\n",
       "</style>\n",
       "<table border=\"1\" class=\"dataframe\">\n",
       "  <thead>\n",
       "    <tr style=\"text-align: right;\">\n",
       "      <th></th>\n",
       "      <th>device_uuid</th>\n",
       "    </tr>\n",
       "  </thead>\n",
       "  <tbody>\n",
       "    <tr>\n",
       "      <th>19</th>\n",
       "      <td>176b4011-c2f6-4007-9e03-6eecb93d5982</td>\n",
       "    </tr>\n",
       "    <tr>\n",
       "      <th>20</th>\n",
       "      <td>e8aa1b74-b67b-4af7-8c3d-87b6f8382fa0</td>\n",
       "    </tr>\n",
       "  </tbody>\n",
       "</table>\n",
       "</div>"
      ],
      "text/plain": [
       "                             device_uuid\n",
       "19  176b4011-c2f6-4007-9e03-6eecb93d5982\n",
       "20  e8aa1b74-b67b-4af7-8c3d-87b6f8382fa0"
      ]
     },
     "execution_count": 3,
     "metadata": {},
     "output_type": "execute_result"
    }
   ],
   "source": [
    "# generating unique identifiers for each device\n",
    "uuids = pd.Series([str(uuid.uuid4()) for i in range(1,num_device_uuids)])\n",
    "user_data = pd.DataFrame()\n",
    "user_data['device_uuid'] = pd.Series(uuids).repeat(num_months)\n",
    "user_data =user_data.reset_index().drop('index', 1)\n",
    "\n",
    "# example of two different device uuids (last row of first device, first row of second device)\n",
    "user_data[19:21]"
   ]
  },
  {
   "cell_type": "code",
   "execution_count": 4,
   "metadata": {},
   "outputs": [
    {
     "data": {
      "text/plain": [
       "('2016-01-01 00:00:00', '2017-08-01 00:00:00')"
      ]
     },
     "execution_count": 4,
     "metadata": {},
     "output_type": "execute_result"
    }
   ],
   "source": [
    "# defining starting and ending month for generating data\n",
    "start_month_ts = pd.to_datetime(start_month)\n",
    "end_month_ts = start_month_ts + relativedelta(months=+num_months - 1)\n",
    "str(start_month_ts), str(end_month_ts)"
   ]
  },
  {
   "cell_type": "code",
   "execution_count": 5,
   "metadata": {},
   "outputs": [
    {
     "data": {
      "text/plain": [
       "0    2016-01-01\n",
       "1    2016-02-01\n",
       "2    2016-03-01\n",
       "3    2016-04-01\n",
       "4    2016-05-01\n",
       "5    2016-06-01\n",
       "6    2016-07-01\n",
       "7    2016-08-01\n",
       "8    2016-09-01\n",
       "9    2016-10-01\n",
       "10   2016-11-01\n",
       "11   2016-12-01\n",
       "12   2017-01-01\n",
       "13   2017-02-01\n",
       "14   2017-03-01\n",
       "15   2017-04-01\n",
       "16   2017-05-01\n",
       "17   2017-06-01\n",
       "18   2017-07-01\n",
       "19   2017-08-01\n",
       "dtype: datetime64[ns]"
      ]
     },
     "execution_count": 5,
     "metadata": {},
     "output_type": "execute_result"
    }
   ],
   "source": [
    "# months for which we will be generating data\n",
    "months = pd.Series(pd.date_range(start_month_ts, end_month_ts, freq='MS'))\n",
    "months"
   ]
  },
  {
   "cell_type": "code",
   "execution_count": 6,
   "metadata": {},
   "outputs": [
    {
     "data": {
      "text/html": [
       "<div>\n",
       "<style>\n",
       "    .dataframe thead tr:only-child th {\n",
       "        text-align: right;\n",
       "    }\n",
       "\n",
       "    .dataframe thead th {\n",
       "        text-align: left;\n",
       "    }\n",
       "\n",
       "    .dataframe tbody tr th {\n",
       "        vertical-align: top;\n",
       "    }\n",
       "</style>\n",
       "<table border=\"1\" class=\"dataframe\">\n",
       "  <thead>\n",
       "    <tr style=\"text-align: right;\">\n",
       "      <th></th>\n",
       "      <th>device_uuid</th>\n",
       "      <th>date</th>\n",
       "    </tr>\n",
       "  </thead>\n",
       "  <tbody>\n",
       "    <tr>\n",
       "      <th>0</th>\n",
       "      <td>176b4011-c2f6-4007-9e03-6eecb93d5982</td>\n",
       "      <td>2016-01-01</td>\n",
       "    </tr>\n",
       "    <tr>\n",
       "      <th>1</th>\n",
       "      <td>176b4011-c2f6-4007-9e03-6eecb93d5982</td>\n",
       "      <td>2016-02-01</td>\n",
       "    </tr>\n",
       "    <tr>\n",
       "      <th>2</th>\n",
       "      <td>176b4011-c2f6-4007-9e03-6eecb93d5982</td>\n",
       "      <td>2016-03-01</td>\n",
       "    </tr>\n",
       "    <tr>\n",
       "      <th>3</th>\n",
       "      <td>176b4011-c2f6-4007-9e03-6eecb93d5982</td>\n",
       "      <td>2016-04-01</td>\n",
       "    </tr>\n",
       "    <tr>\n",
       "      <th>4</th>\n",
       "      <td>176b4011-c2f6-4007-9e03-6eecb93d5982</td>\n",
       "      <td>2016-05-01</td>\n",
       "    </tr>\n",
       "  </tbody>\n",
       "</table>\n",
       "</div>"
      ],
      "text/plain": [
       "                            device_uuid       date\n",
       "0  176b4011-c2f6-4007-9e03-6eecb93d5982 2016-01-01\n",
       "1  176b4011-c2f6-4007-9e03-6eecb93d5982 2016-02-01\n",
       "2  176b4011-c2f6-4007-9e03-6eecb93d5982 2016-03-01\n",
       "3  176b4011-c2f6-4007-9e03-6eecb93d5982 2016-04-01\n",
       "4  176b4011-c2f6-4007-9e03-6eecb93d5982 2016-05-01"
      ]
     },
     "execution_count": 6,
     "metadata": {},
     "output_type": "execute_result"
    }
   ],
   "source": [
    "# adding date column to the user data dataframe\n",
    "user_data['date'] = pd.concat([months] * num_device_uuids, axis=0).reset_index().drop('index', 1)\n",
    "user_data.head()"
   ]
  },
  {
   "cell_type": "markdown",
   "metadata": {},
   "source": [
    "### 3. Generating usage features"
   ]
  },
  {
   "cell_type": "code",
   "execution_count": 7,
   "metadata": {
    "collapsed": true
   },
   "outputs": [],
   "source": [
    "# defining parameters for usage features (used later)\n",
    "num_usage_features = 3\n",
    "feature_usage_ratio = 0.8"
   ]
  },
  {
   "cell_type": "markdown",
   "metadata": {},
   "source": [
    "### 3.1. Calculating feature ratios"
   ]
  },
  {
   "cell_type": "code",
   "execution_count": 8,
   "metadata": {},
   "outputs": [
    {
     "data": {
      "text/plain": [
       "0    176b4011-c2f6-4007-9e03-6eecb93d5982\n",
       "1    e8aa1b74-b67b-4af7-8c3d-87b6f8382fa0\n",
       "2    14353987-d52a-4a9d-a837-4df6a86fe1b1\n",
       "3    0f180a18-2315-457c-a742-10140a93c9af\n",
       "4    6264ad95-0958-4215-8714-b0b75e22630e\n",
       "dtype: object"
      ]
     },
     "execution_count": 8,
     "metadata": {},
     "output_type": "execute_result"
    }
   ],
   "source": [
    "# extracting all the unique device uuids from the main df\n",
    "device_uuids = pd.Series(user_data['device_uuid'].unique())\n",
    "user_data_with_usage = pd.DataFrame()\n",
    "device_uuids[0:5]"
   ]
  },
  {
   "cell_type": "code",
   "execution_count": 9,
   "metadata": {},
   "outputs": [
    {
     "name": "stdout",
     "output_type": "stream",
     "text": [
      "Feature ratios:  {'feature2': 0.8, 'feature1': 1.0, 'feature3': 0.6}\n"
     ]
    }
   ],
   "source": [
    "# generate random usage data for each feature and simulate dimishing usage per feature\n",
    "# (each feature 80% of the previous one)\n",
    "# example: F1 = 1, F2 = F1*0.8 = 0.8, F3 = F2*0.8 = 0.64\n",
    "\n",
    "# extract the names for each feature based on the preset number of feature\n",
    "features = ['feature' + str(i) for i in range(1,num_usage_features+1)]\n",
    "\n",
    "usage_features_ratio = {}\n",
    "\n",
    "# set the feature_ratio for the first feature (100%)\n",
    "cur_feature = 1.0\n",
    "\n",
    "# calculate the ratio for each feature\n",
    "for feature in features:\n",
    "    usage_features_ratio[feature] = float(\"{0:.1f}\".format(cur_feature))\n",
    "    cur_feature*= 0.8\n",
    "\n",
    "print(\"Feature ratios: \", usage_features_ratio)"
   ]
  },
  {
   "cell_type": "markdown",
   "metadata": {},
   "source": [
    "### 3.2. Assigning cohort groups to devices"
   ]
  },
  {
   "cell_type": "markdown",
   "metadata": {},
   "source": [
    "##### When did the user start using the product? (How many months to remove from the beginning of devices' dataframe?)"
   ]
  },
  {
   "cell_type": "code",
   "execution_count": 10,
   "metadata": {},
   "outputs": [
    {
     "data": {
      "text/plain": [
       "10"
      ]
     },
     "execution_count": 10,
     "metadata": {},
     "output_type": "execute_result"
    }
   ],
   "source": [
    "# set the number of cohorts to be half of number of months of data (20 months = 10 cohorts)\n",
    "num_cohorts = int(num_months / 2) \n",
    "num_cohorts"
   ]
  },
  {
   "cell_type": "code",
   "execution_count": 11,
   "metadata": {},
   "outputs": [
    {
     "data": {
      "text/html": [
       "<div>\n",
       "<style>\n",
       "    .dataframe thead tr:only-child th {\n",
       "        text-align: right;\n",
       "    }\n",
       "\n",
       "    .dataframe thead th {\n",
       "        text-align: left;\n",
       "    }\n",
       "\n",
       "    .dataframe tbody tr th {\n",
       "        vertical-align: top;\n",
       "    }\n",
       "</style>\n",
       "<table border=\"1\" class=\"dataframe\">\n",
       "  <thead>\n",
       "    <tr style=\"text-align: right;\">\n",
       "      <th></th>\n",
       "      <th>device_uuid</th>\n",
       "      <th>cohort_group</th>\n",
       "    </tr>\n",
       "  </thead>\n",
       "  <tbody>\n",
       "    <tr>\n",
       "      <th>0</th>\n",
       "      <td>176b4011-c2f6-4007-9e03-6eecb93d5982</td>\n",
       "      <td>8</td>\n",
       "    </tr>\n",
       "    <tr>\n",
       "      <th>1</th>\n",
       "      <td>e8aa1b74-b67b-4af7-8c3d-87b6f8382fa0</td>\n",
       "      <td>3</td>\n",
       "    </tr>\n",
       "    <tr>\n",
       "      <th>2</th>\n",
       "      <td>14353987-d52a-4a9d-a837-4df6a86fe1b1</td>\n",
       "      <td>8</td>\n",
       "    </tr>\n",
       "    <tr>\n",
       "      <th>3</th>\n",
       "      <td>0f180a18-2315-457c-a742-10140a93c9af</td>\n",
       "      <td>3</td>\n",
       "    </tr>\n",
       "    <tr>\n",
       "      <th>4</th>\n",
       "      <td>6264ad95-0958-4215-8714-b0b75e22630e</td>\n",
       "      <td>9</td>\n",
       "    </tr>\n",
       "  </tbody>\n",
       "</table>\n",
       "</div>"
      ],
      "text/plain": [
       "                            device_uuid  cohort_group\n",
       "0  176b4011-c2f6-4007-9e03-6eecb93d5982             8\n",
       "1  e8aa1b74-b67b-4af7-8c3d-87b6f8382fa0             3\n",
       "2  14353987-d52a-4a9d-a837-4df6a86fe1b1             8\n",
       "3  0f180a18-2315-457c-a742-10140a93c9af             3\n",
       "4  6264ad95-0958-4215-8714-b0b75e22630e             9"
      ]
     },
     "execution_count": 11,
     "metadata": {},
     "output_type": "execute_result"
    }
   ],
   "source": [
    "# assign cohorts to users randomly (when did the user first used the app?)\n",
    "cohorts = pd.DataFrame()\n",
    "cohorts['device_uuid'] = device_uuids\n",
    "cohorts['cohort_group'] = np.random.randint(low=1, high=num_cohorts, size=num_device_uuids-1)\n",
    "cohorts.head()"
   ]
  },
  {
   "cell_type": "markdown",
   "metadata": {},
   "source": [
    "### 3.3. Adding cohort data"
   ]
  },
  {
   "cell_type": "code",
   "execution_count": 12,
   "metadata": {
    "collapsed": true
   },
   "outputs": [],
   "source": [
    "# convert a series of dataframes into a dataframe\n",
    "# we need this when we get an output as a series for dataframes,\n",
    "# each dataframe representing data for a specific device\n",
    "def df_series_to_df(df_series):\n",
    "    df = pd.concat([df for df in df_series], ignore_index=True)\n",
    "    return(df)"
   ]
  },
  {
   "cell_type": "code",
   "execution_count": 13,
   "metadata": {
    "collapsed": true
   },
   "outputs": [],
   "source": [
    "# how many months to remove from the beginning of a dataframe?\n",
    "def add_cohorts_to_df(device_uuid):\n",
    "    \n",
    "    # 1. slice user_data, extract device data for each user\n",
    "    device_uuid_data = user_data[user_data['device_uuid'] == device_uuid]\n",
    "    \n",
    "    # 2. find cohort group of the device and delete all unnecessary months\n",
    "    device_uuid_cohort_group = int(cohorts[cohorts['device_uuid'] == device_uuid]['cohort_group'])\n",
    "    device_uuid_data = device_uuid_data[device_uuid_cohort_group:] \n",
    "    \n",
    "    return(device_uuid_data)"
   ]
  },
  {
   "cell_type": "code",
   "execution_count": 14,
   "metadata": {
    "collapsed": true
   },
   "outputs": [],
   "source": [
    "# takes a while to run\n",
    "user_data_with_cohort_groups_df = df_series_to_df(device_uuids.apply(add_cohorts_to_df))"
   ]
  },
  {
   "cell_type": "code",
   "execution_count": 15,
   "metadata": {},
   "outputs": [
    {
     "data": {
      "text/html": [
       "<div>\n",
       "<style>\n",
       "    .dataframe thead tr:only-child th {\n",
       "        text-align: right;\n",
       "    }\n",
       "\n",
       "    .dataframe thead th {\n",
       "        text-align: left;\n",
       "    }\n",
       "\n",
       "    .dataframe tbody tr th {\n",
       "        vertical-align: top;\n",
       "    }\n",
       "</style>\n",
       "<table border=\"1\" class=\"dataframe\">\n",
       "  <thead>\n",
       "    <tr style=\"text-align: right;\">\n",
       "      <th></th>\n",
       "      <th>device_uuid</th>\n",
       "      <th>date</th>\n",
       "    </tr>\n",
       "  </thead>\n",
       "  <tbody>\n",
       "    <tr>\n",
       "      <th>0</th>\n",
       "      <td>176b4011-c2f6-4007-9e03-6eecb93d5982</td>\n",
       "      <td>2016-09-01</td>\n",
       "    </tr>\n",
       "    <tr>\n",
       "      <th>1</th>\n",
       "      <td>176b4011-c2f6-4007-9e03-6eecb93d5982</td>\n",
       "      <td>2016-10-01</td>\n",
       "    </tr>\n",
       "    <tr>\n",
       "      <th>2</th>\n",
       "      <td>176b4011-c2f6-4007-9e03-6eecb93d5982</td>\n",
       "      <td>2016-11-01</td>\n",
       "    </tr>\n",
       "    <tr>\n",
       "      <th>3</th>\n",
       "      <td>176b4011-c2f6-4007-9e03-6eecb93d5982</td>\n",
       "      <td>2016-12-01</td>\n",
       "    </tr>\n",
       "    <tr>\n",
       "      <th>4</th>\n",
       "      <td>176b4011-c2f6-4007-9e03-6eecb93d5982</td>\n",
       "      <td>2017-01-01</td>\n",
       "    </tr>\n",
       "  </tbody>\n",
       "</table>\n",
       "</div>"
      ],
      "text/plain": [
       "                            device_uuid       date\n",
       "0  176b4011-c2f6-4007-9e03-6eecb93d5982 2016-09-01\n",
       "1  176b4011-c2f6-4007-9e03-6eecb93d5982 2016-10-01\n",
       "2  176b4011-c2f6-4007-9e03-6eecb93d5982 2016-11-01\n",
       "3  176b4011-c2f6-4007-9e03-6eecb93d5982 2016-12-01\n",
       "4  176b4011-c2f6-4007-9e03-6eecb93d5982 2017-01-01"
      ]
     },
     "execution_count": 15,
     "metadata": {},
     "output_type": "execute_result"
    }
   ],
   "source": [
    "user_data_with_cohort_groups_df.head()"
   ]
  },
  {
   "cell_type": "code",
   "execution_count": 16,
   "metadata": {},
   "outputs": [
    {
     "name": "stdout",
     "output_type": "stream",
     "text": [
      "Average number of months per user after simulating cohorts: 15 (down from 20)\n"
     ]
    }
   ],
   "source": [
    "# average number of months of usage per device_uuid\n",
    "# down from 20 (deleted the rows where the user stopped using the product - churned)\n",
    "avg_months_per_device_after_cohorts = round(len(user_data_with_cohort_groups_df) / len(device_uuids))\n",
    "print(\"Average number of months per user after simulating cohorts:\", avg_months_per_device_after_cohorts, \\\n",
    "     \"(down from 20)\")"
   ]
  },
  {
   "cell_type": "markdown",
   "metadata": {},
   "source": [
    "### 3.4. Generating product usage data"
   ]
  },
  {
   "cell_type": "code",
   "execution_count": 17,
   "metadata": {},
   "outputs": [
    {
     "data": {
      "text/html": [
       "<div>\n",
       "<style>\n",
       "    .dataframe thead tr:only-child th {\n",
       "        text-align: right;\n",
       "    }\n",
       "\n",
       "    .dataframe thead th {\n",
       "        text-align: left;\n",
       "    }\n",
       "\n",
       "    .dataframe tbody tr th {\n",
       "        vertical-align: top;\n",
       "    }\n",
       "</style>\n",
       "<table border=\"1\" class=\"dataframe\">\n",
       "  <thead>\n",
       "    <tr style=\"text-align: right;\">\n",
       "      <th></th>\n",
       "      <th>device_uuid</th>\n",
       "      <th>date</th>\n",
       "      <th>feature1</th>\n",
       "      <th>feature2</th>\n",
       "      <th>feature3</th>\n",
       "    </tr>\n",
       "  </thead>\n",
       "  <tbody>\n",
       "    <tr>\n",
       "      <th>0</th>\n",
       "      <td>176b4011-c2f6-4007-9e03-6eecb93d5982</td>\n",
       "      <td>2016-09-01</td>\n",
       "      <td>13</td>\n",
       "      <td>10.4</td>\n",
       "      <td>7.8</td>\n",
       "    </tr>\n",
       "    <tr>\n",
       "      <th>1</th>\n",
       "      <td>176b4011-c2f6-4007-9e03-6eecb93d5982</td>\n",
       "      <td>2016-10-01</td>\n",
       "      <td>3</td>\n",
       "      <td>2.4</td>\n",
       "      <td>1.8</td>\n",
       "    </tr>\n",
       "    <tr>\n",
       "      <th>2</th>\n",
       "      <td>176b4011-c2f6-4007-9e03-6eecb93d5982</td>\n",
       "      <td>2016-11-01</td>\n",
       "      <td>11</td>\n",
       "      <td>8.8</td>\n",
       "      <td>6.6</td>\n",
       "    </tr>\n",
       "    <tr>\n",
       "      <th>3</th>\n",
       "      <td>176b4011-c2f6-4007-9e03-6eecb93d5982</td>\n",
       "      <td>2016-12-01</td>\n",
       "      <td>4</td>\n",
       "      <td>3.2</td>\n",
       "      <td>2.4</td>\n",
       "    </tr>\n",
       "    <tr>\n",
       "      <th>4</th>\n",
       "      <td>176b4011-c2f6-4007-9e03-6eecb93d5982</td>\n",
       "      <td>2017-01-01</td>\n",
       "      <td>12</td>\n",
       "      <td>9.6</td>\n",
       "      <td>7.2</td>\n",
       "    </tr>\n",
       "  </tbody>\n",
       "</table>\n",
       "</div>"
      ],
      "text/plain": [
       "                            device_uuid       date  feature1  feature2  \\\n",
       "0  176b4011-c2f6-4007-9e03-6eecb93d5982 2016-09-01        13      10.4   \n",
       "1  176b4011-c2f6-4007-9e03-6eecb93d5982 2016-10-01         3       2.4   \n",
       "2  176b4011-c2f6-4007-9e03-6eecb93d5982 2016-11-01        11       8.8   \n",
       "3  176b4011-c2f6-4007-9e03-6eecb93d5982 2016-12-01         4       3.2   \n",
       "4  176b4011-c2f6-4007-9e03-6eecb93d5982 2017-01-01        12       9.6   \n",
       "\n",
       "   feature3  \n",
       "0       7.8  \n",
       "1       1.8  \n",
       "2       6.6  \n",
       "3       2.4  \n",
       "4       7.2  "
      ]
     },
     "execution_count": 17,
     "metadata": {},
     "output_type": "execute_result"
    }
   ],
   "source": [
    "# reseting the index\n",
    "user_data_with_cohort_groups_df = user_data_with_cohort_groups_df.reset_index().drop('index', axis=1)\n",
    "\n",
    "# generate usage for feature1\n",
    "user_data_with_cohort_groups_df[features[0]] = pd.Series((\n",
    "        np.random.randint(low=0, high=14, \n",
    "        size=len(user_data_with_cohort_groups_df))))\n",
    "\n",
    "\n",
    "# generate usage for the remaining usage features (feature2 and feature3)\n",
    "for feature in features[1:]:\n",
    "        user_data_with_cohort_groups_df[feature] = user_data_with_cohort_groups_df[features[0]] * usage_features_ratio[feature]\n",
    "        \n",
    "user_data_with_cohort_groups_df.head()"
   ]
  },
  {
   "cell_type": "markdown",
   "metadata": {},
   "source": [
    "### 3.5. Simulating churn behavior"
   ]
  },
  {
   "cell_type": "markdown",
   "metadata": {},
   "source": [
    "##### When did the user stop using the product? (How many months to remove from the end of the devices' dataframe?)"
   ]
  },
  {
   "cell_type": "markdown",
   "metadata": {},
   "source": [
    "#### 2 principles:\n",
    "    1. Churner stays a churner (after a month of no usage the user doesn't use the product again)\n",
    "    2. 50 % of users churn in month 1 (about 50% of users have 1 month of data, about 50% have more)"
   ]
  },
  {
   "cell_type": "code",
   "execution_count": 18,
   "metadata": {
    "collapsed": true
   },
   "outputs": [],
   "source": [
    "def simulating_churn(device_uuid):\n",
    "\n",
    "    # set the churner to False\n",
    "    churner = False\n",
    "    \n",
    "    # 50 % chance that the user churns in the first month\n",
    "    churner_in_m1 = True if int(np.random.randint(low=0, high=2, size=1)) == 0 else False\n",
    "    \n",
    "    # get a slice of device_uuid data\n",
    "    device_uuid_data = user_data_with_cohort_groups_df[user_data_with_cohort_groups_df['device_uuid'] == device_uuid]\n",
    "    \n",
    "    \n",
    "    # if the user churns in month 1 then assign all of the months to 0\n",
    "    # (except in month 0 when the user first used the product)\n",
    "    if churner_in_m1:\n",
    "        device_uuid_data.loc[device_uuid_data.index[1]:, features[0:]] = 0\n",
    "        \n",
    "    else:\n",
    "    # if user didn't churn in the first month\n",
    "        for index, row in device_uuid_data.iterrows():\n",
    "        \n",
    "            # did the user churn in this month?\n",
    "            if row[features[0]] == 0:\n",
    "                churner = True   \n",
    "\n",
    "            # if user churned already set the value of all usage features to 0 for the remaining months\n",
    "            if churner == True:\n",
    "                device_uuid_data.loc[index, features[0:]] = 0\n",
    "                \n",
    "    # delete months when the user didn't use the product (churn months)\n",
    "    device_uuid_data = device_uuid_data[device_uuid_data[features[0]] != 0]\n",
    "    \n",
    "    return(device_uuid_data)"
   ]
  },
  {
   "cell_type": "code",
   "execution_count": 19,
   "metadata": {},
   "outputs": [
    {
     "data": {
      "text/html": [
       "<div>\n",
       "<style>\n",
       "    .dataframe thead tr:only-child th {\n",
       "        text-align: right;\n",
       "    }\n",
       "\n",
       "    .dataframe thead th {\n",
       "        text-align: left;\n",
       "    }\n",
       "\n",
       "    .dataframe tbody tr th {\n",
       "        vertical-align: top;\n",
       "    }\n",
       "</style>\n",
       "<table border=\"1\" class=\"dataframe\">\n",
       "  <thead>\n",
       "    <tr style=\"text-align: right;\">\n",
       "      <th></th>\n",
       "      <th>device_uuid</th>\n",
       "      <th>date</th>\n",
       "      <th>feature1</th>\n",
       "      <th>feature2</th>\n",
       "      <th>feature3</th>\n",
       "    </tr>\n",
       "  </thead>\n",
       "  <tbody>\n",
       "    <tr>\n",
       "      <th>0</th>\n",
       "      <td>176b4011-c2f6-4007-9e03-6eecb93d5982</td>\n",
       "      <td>2016-09-01</td>\n",
       "      <td>13</td>\n",
       "      <td>10.4</td>\n",
       "      <td>7.8</td>\n",
       "    </tr>\n",
       "    <tr>\n",
       "      <th>1</th>\n",
       "      <td>e8aa1b74-b67b-4af7-8c3d-87b6f8382fa0</td>\n",
       "      <td>2016-04-01</td>\n",
       "      <td>2</td>\n",
       "      <td>1.6</td>\n",
       "      <td>1.2</td>\n",
       "    </tr>\n",
       "    <tr>\n",
       "      <th>2</th>\n",
       "      <td>14353987-d52a-4a9d-a837-4df6a86fe1b1</td>\n",
       "      <td>2016-09-01</td>\n",
       "      <td>7</td>\n",
       "      <td>5.6</td>\n",
       "      <td>4.2</td>\n",
       "    </tr>\n",
       "    <tr>\n",
       "      <th>3</th>\n",
       "      <td>14353987-d52a-4a9d-a837-4df6a86fe1b1</td>\n",
       "      <td>2016-10-01</td>\n",
       "      <td>11</td>\n",
       "      <td>8.8</td>\n",
       "      <td>6.6</td>\n",
       "    </tr>\n",
       "    <tr>\n",
       "      <th>4</th>\n",
       "      <td>14353987-d52a-4a9d-a837-4df6a86fe1b1</td>\n",
       "      <td>2016-11-01</td>\n",
       "      <td>5</td>\n",
       "      <td>4.0</td>\n",
       "      <td>3.0</td>\n",
       "    </tr>\n",
       "  </tbody>\n",
       "</table>\n",
       "</div>"
      ],
      "text/plain": [
       "                            device_uuid       date  feature1  feature2  \\\n",
       "0  176b4011-c2f6-4007-9e03-6eecb93d5982 2016-09-01        13      10.4   \n",
       "1  e8aa1b74-b67b-4af7-8c3d-87b6f8382fa0 2016-04-01         2       1.6   \n",
       "2  14353987-d52a-4a9d-a837-4df6a86fe1b1 2016-09-01         7       5.6   \n",
       "3  14353987-d52a-4a9d-a837-4df6a86fe1b1 2016-10-01        11       8.8   \n",
       "4  14353987-d52a-4a9d-a837-4df6a86fe1b1 2016-11-01         5       4.0   \n",
       "\n",
       "   feature3  \n",
       "0       7.8  \n",
       "1       1.2  \n",
       "2       4.2  \n",
       "3       6.6  \n",
       "4       3.0  "
      ]
     },
     "execution_count": 19,
     "metadata": {},
     "output_type": "execute_result"
    }
   ],
   "source": [
    "user_data_with_usage_features_and_churn_df = df_series_to_df(device_uuids.apply(simulating_churn))\n",
    "user_data_with_usage_features_and_churn_df.head()"
   ]
  },
  {
   "cell_type": "code",
   "execution_count": 20,
   "metadata": {},
   "outputs": [
    {
     "name": "stdout",
     "output_type": "stream",
     "text": [
      "Average number of months per user after simulating churn: 5 (down from 20)\n"
     ]
    }
   ],
   "source": [
    "# average number of months of usage per device_uuid\n",
    "# down from 20 (deleted the rows where the user stopped using the product - churned)\n",
    "avg_months_per_device_after_churn = round(len(user_data_with_usage_features_and_churn_df) / len(device_uuids))\n",
    "print(\"Average number of months per user after simulating churn:\", avg_months_per_device_after_churn, \\\n",
    "     \"(down from 20)\")"
   ]
  },
  {
   "cell_type": "markdown",
   "metadata": {},
   "source": [
    "### 4. Generating categorical features"
   ]
  },
  {
   "cell_type": "code",
   "execution_count": 21,
   "metadata": {
    "collapsed": true
   },
   "outputs": [],
   "source": [
    "# defining categorical parameters\n",
    "platforms = ['iOS', 'Android']\n",
    "countries = ['NL', 'AU', 'FR']\n",
    "user_registered = [False, True]"
   ]
  },
  {
   "cell_type": "code",
   "execution_count": 22,
   "metadata": {},
   "outputs": [
    {
     "data": {
      "text/plain": [
       "{'country': ['NL', 'AU', 'FR'],\n",
       " 'platform': ['iOS', 'Android'],\n",
       " 'user_registered': [False, True]}"
      ]
     },
     "execution_count": 22,
     "metadata": {},
     "output_type": "execute_result"
    }
   ],
   "source": [
    "segmentation_features = {'platform': platforms,\n",
    "                'user_registered': user_registered,\n",
    "                'country': countries}\n",
    "segmentation_features"
   ]
  },
  {
   "cell_type": "markdown",
   "metadata": {},
   "source": [
    "### 4.1. Generating categorical feature weights"
   ]
  },
  {
   "cell_type": "code",
   "execution_count": 23,
   "metadata": {
    "collapsed": true
   },
   "outputs": [],
   "source": [
    "# Defining weights for the likelihood of a categorical feature appearing\n",
    "\n",
    "weights_2 = [0.7, 0.3]\n",
    "weights_3 = [0.6, 0.3, 0.1]\n",
    "\n",
    "# If there are two possible variants in a categorical variable (e.g. 'Android' and 'iOS') then the data generated will contain 70% of the first variant and 30% with the second variant\n",
    "# If there are three possible variants in a categorical variable (e.g. 'NL', 'AU', 'FR') then the data generated will contain 60% of the first variant, 30% with the second variant and 10% with the third variant"
   ]
  },
  {
   "cell_type": "markdown",
   "metadata": {},
   "source": [
    "### 4.2. Applying the categorical feature weights"
   ]
  },
  {
   "cell_type": "code",
   "execution_count": 24,
   "metadata": {
    "collapsed": true
   },
   "outputs": [],
   "source": [
    "def generating_categorical_features(device_uuid):\n",
    "    \n",
    "    device_uuid_feature_values_dict = {}\n",
    "    \n",
    "    for feature_name, feature_values in segmentation_features.items():\n",
    "\n",
    "        # generate the random feature value\n",
    "        # add code if you want to add features with > 3 values\n",
    "        if len(feature_values) == 2:\n",
    "            feature_weights = weights_2\n",
    "        elif len(feature_values) == 3:\n",
    "            feature_weights = weights_3\n",
    "        \n",
    "        # generate the feature value from assigned weights\n",
    "        feature_value = np.random.choice(feature_values, p=feature_weights)\n",
    "        \n",
    "        # make a dict for feature_name\n",
    "        device_uuid_feature_values_dict[feature_name] = feature_value\n",
    "        \n",
    "        \n",
    "        \n",
    "    # make a df with segmentation features for the device_uuid\n",
    "    device_segm_features = pd.DataFrame(list(device_uuid_feature_values_dict.items())).T\n",
    "    device_segm_features.columns = device_segm_features.iloc[0]\n",
    "    device_segm_features['device_uuid'] = device_uuid\n",
    "    device_segm_features = device_segm_features.reindex(device_segm_features.index.drop(0))\n",
    "    \n",
    "    return(device_segm_features)"
   ]
  },
  {
   "cell_type": "code",
   "execution_count": 25,
   "metadata": {},
   "outputs": [
    {
     "data": {
      "text/html": [
       "<div>\n",
       "<style>\n",
       "    .dataframe thead tr:only-child th {\n",
       "        text-align: right;\n",
       "    }\n",
       "\n",
       "    .dataframe thead th {\n",
       "        text-align: left;\n",
       "    }\n",
       "\n",
       "    .dataframe tbody tr th {\n",
       "        vertical-align: top;\n",
       "    }\n",
       "</style>\n",
       "<table border=\"1\" class=\"dataframe\">\n",
       "  <thead>\n",
       "    <tr style=\"text-align: right;\">\n",
       "      <th></th>\n",
       "      <th>device_uuid</th>\n",
       "      <th>country</th>\n",
       "      <th>platform</th>\n",
       "      <th>user_registered</th>\n",
       "    </tr>\n",
       "  </thead>\n",
       "  <tbody>\n",
       "    <tr>\n",
       "      <th>0</th>\n",
       "      <td>176b4011-c2f6-4007-9e03-6eecb93d5982</td>\n",
       "      <td>AU</td>\n",
       "      <td>iOS</td>\n",
       "      <td>False</td>\n",
       "    </tr>\n",
       "    <tr>\n",
       "      <th>1</th>\n",
       "      <td>e8aa1b74-b67b-4af7-8c3d-87b6f8382fa0</td>\n",
       "      <td>FR</td>\n",
       "      <td>Android</td>\n",
       "      <td>False</td>\n",
       "    </tr>\n",
       "    <tr>\n",
       "      <th>2</th>\n",
       "      <td>14353987-d52a-4a9d-a837-4df6a86fe1b1</td>\n",
       "      <td>AU</td>\n",
       "      <td>Android</td>\n",
       "      <td>True</td>\n",
       "    </tr>\n",
       "    <tr>\n",
       "      <th>3</th>\n",
       "      <td>0f180a18-2315-457c-a742-10140a93c9af</td>\n",
       "      <td>NL</td>\n",
       "      <td>iOS</td>\n",
       "      <td>False</td>\n",
       "    </tr>\n",
       "    <tr>\n",
       "      <th>4</th>\n",
       "      <td>6264ad95-0958-4215-8714-b0b75e22630e</td>\n",
       "      <td>FR</td>\n",
       "      <td>iOS</td>\n",
       "      <td>True</td>\n",
       "    </tr>\n",
       "  </tbody>\n",
       "</table>\n",
       "</div>"
      ],
      "text/plain": [
       "0                           device_uuid country platform user_registered\n",
       "0  176b4011-c2f6-4007-9e03-6eecb93d5982      AU      iOS           False\n",
       "1  e8aa1b74-b67b-4af7-8c3d-87b6f8382fa0      FR  Android           False\n",
       "2  14353987-d52a-4a9d-a837-4df6a86fe1b1      AU  Android            True\n",
       "3  0f180a18-2315-457c-a742-10140a93c9af      NL      iOS           False\n",
       "4  6264ad95-0958-4215-8714-b0b75e22630e      FR      iOS            True"
      ]
     },
     "execution_count": 25,
     "metadata": {},
     "output_type": "execute_result"
    }
   ],
   "source": [
    "segmentation_features_df = df_series_to_df(device_uuids.apply(generating_categorical_features))\n",
    "segmentation_features_df = segmentation_features_df.set_index('device_uuid').reset_index()\n",
    "segmentation_features_df.head()"
   ]
  },
  {
   "cell_type": "markdown",
   "metadata": {},
   "source": [
    "##  5. Merging all features into the final dataframe"
   ]
  },
  {
   "cell_type": "code",
   "execution_count": 26,
   "metadata": {
    "collapsed": true
   },
   "outputs": [],
   "source": [
    "def merge_all_features(device_uuid):\n",
    "    \n",
    "    # extract device data from the main df (which includes usage data)\n",
    "    device_uuid_df = user_data_with_usage_features_and_churn_df[user_data_with_usage_features_and_churn_df['device_uuid'] == device_uuid]\n",
    "    # extract device data for segmentation features data\n",
    "    device_seg_feature_values_df = segmentation_features_df[segmentation_features_df['device_uuid'] == device_uuid]\n",
    "    \n",
    "    # assign the values of segmentation features to the main df\n",
    "    # works but don't understand it well enough to simply if further\n",
    "    for seg_feature_name in device_seg_feature_values_df.columns[1:]:\n",
    "        device_uuid_df[seg_feature_name] = device_seg_feature_values_df[seg_feature_name][int(device_seg_feature_values_df[seg_feature_name].index.values)]\n",
    "\n",
    "    return(device_uuid_df)"
   ]
  },
  {
   "cell_type": "code",
   "execution_count": 27,
   "metadata": {},
   "outputs": [
    {
     "data": {
      "text/html": [
       "<div>\n",
       "<style>\n",
       "    .dataframe thead tr:only-child th {\n",
       "        text-align: right;\n",
       "    }\n",
       "\n",
       "    .dataframe thead th {\n",
       "        text-align: left;\n",
       "    }\n",
       "\n",
       "    .dataframe tbody tr th {\n",
       "        vertical-align: top;\n",
       "    }\n",
       "</style>\n",
       "<table border=\"1\" class=\"dataframe\">\n",
       "  <thead>\n",
       "    <tr style=\"text-align: right;\">\n",
       "      <th></th>\n",
       "      <th>device_uuid</th>\n",
       "      <th>date</th>\n",
       "      <th>feature1</th>\n",
       "      <th>feature2</th>\n",
       "      <th>feature3</th>\n",
       "      <th>country</th>\n",
       "      <th>platform</th>\n",
       "      <th>user_registered</th>\n",
       "    </tr>\n",
       "  </thead>\n",
       "  <tbody>\n",
       "    <tr>\n",
       "      <th>0</th>\n",
       "      <td>176b4011-c2f6-4007-9e03-6eecb93d5982</td>\n",
       "      <td>2016-09-01</td>\n",
       "      <td>13</td>\n",
       "      <td>10.4</td>\n",
       "      <td>7.8</td>\n",
       "      <td>AU</td>\n",
       "      <td>iOS</td>\n",
       "      <td>False</td>\n",
       "    </tr>\n",
       "    <tr>\n",
       "      <th>1</th>\n",
       "      <td>e8aa1b74-b67b-4af7-8c3d-87b6f8382fa0</td>\n",
       "      <td>2016-04-01</td>\n",
       "      <td>2</td>\n",
       "      <td>1.6</td>\n",
       "      <td>1.2</td>\n",
       "      <td>FR</td>\n",
       "      <td>Android</td>\n",
       "      <td>False</td>\n",
       "    </tr>\n",
       "    <tr>\n",
       "      <th>2</th>\n",
       "      <td>14353987-d52a-4a9d-a837-4df6a86fe1b1</td>\n",
       "      <td>2016-09-01</td>\n",
       "      <td>7</td>\n",
       "      <td>5.6</td>\n",
       "      <td>4.2</td>\n",
       "      <td>AU</td>\n",
       "      <td>Android</td>\n",
       "      <td>True</td>\n",
       "    </tr>\n",
       "    <tr>\n",
       "      <th>3</th>\n",
       "      <td>14353987-d52a-4a9d-a837-4df6a86fe1b1</td>\n",
       "      <td>2016-10-01</td>\n",
       "      <td>11</td>\n",
       "      <td>8.8</td>\n",
       "      <td>6.6</td>\n",
       "      <td>AU</td>\n",
       "      <td>Android</td>\n",
       "      <td>True</td>\n",
       "    </tr>\n",
       "    <tr>\n",
       "      <th>4</th>\n",
       "      <td>14353987-d52a-4a9d-a837-4df6a86fe1b1</td>\n",
       "      <td>2016-11-01</td>\n",
       "      <td>5</td>\n",
       "      <td>4.0</td>\n",
       "      <td>3.0</td>\n",
       "      <td>AU</td>\n",
       "      <td>Android</td>\n",
       "      <td>True</td>\n",
       "    </tr>\n",
       "  </tbody>\n",
       "</table>\n",
       "</div>"
      ],
      "text/plain": [
       "                            device_uuid       date  feature1  feature2  \\\n",
       "0  176b4011-c2f6-4007-9e03-6eecb93d5982 2016-09-01        13      10.4   \n",
       "1  e8aa1b74-b67b-4af7-8c3d-87b6f8382fa0 2016-04-01         2       1.6   \n",
       "2  14353987-d52a-4a9d-a837-4df6a86fe1b1 2016-09-01         7       5.6   \n",
       "3  14353987-d52a-4a9d-a837-4df6a86fe1b1 2016-10-01        11       8.8   \n",
       "4  14353987-d52a-4a9d-a837-4df6a86fe1b1 2016-11-01         5       4.0   \n",
       "\n",
       "   feature3 country platform  user_registered  \n",
       "0       7.8      AU      iOS            False  \n",
       "1       1.2      FR  Android            False  \n",
       "2       4.2      AU  Android             True  \n",
       "3       6.6      AU  Android             True  \n",
       "4       3.0      AU  Android             True  "
      ]
     },
     "execution_count": 27,
     "metadata": {},
     "output_type": "execute_result"
    }
   ],
   "source": [
    "final_df = df_series_to_df(device_uuids.apply(merge_all_features))\n",
    "final_df.head()"
   ]
  },
  {
   "cell_type": "markdown",
   "metadata": {},
   "source": [
    "## 6. Checking simulation output in our final dataframe"
   ]
  },
  {
   "cell_type": "markdown",
   "metadata": {},
   "source": [
    "#### Did we generate the data that we intended to?"
   ]
  },
  {
   "cell_type": "markdown",
   "metadata": {},
   "source": [
    "Why? Law of large numbers: The average of the results obtained from a large number of trials should be close to the expected value, and will tend to become closer as more trials are performed) - <a href=\"https://en.wikipedia.org/wiki/Law_of_large_numbers\"> More on that </a> "
   ]
  },
  {
   "cell_type": "markdown",
   "metadata": {},
   "source": [
    "### 6.1. Usage features (average per feature)"
   ]
  },
  {
   "cell_type": "code",
   "execution_count": 28,
   "metadata": {},
   "outputs": [
    {
     "name": "stdout",
     "output_type": "stream",
     "text": [
      "32 % users are registered (expected value is 30%)\n"
     ]
    }
   ],
   "source": [
    "# checking proportion of usage for usage features\n",
    "# (each feature 80% of the previous one)\n",
    "print((final_df['user_registered'].sum() / len(final_df['user_registered'])*100).astype(int), \\\n",
    "      \"% users are registered (expected value is 30%)\")"
   ]
  },
  {
   "cell_type": "markdown",
   "metadata": {},
   "source": [
    "### 6.2. Segmentation features: Percent of users registered"
   ]
  },
  {
   "cell_type": "code",
   "execution_count": 29,
   "metadata": {},
   "outputs": [
    {
     "data": {
      "text/html": [
       "<div>\n",
       "<style>\n",
       "    .dataframe thead tr:only-child th {\n",
       "        text-align: right;\n",
       "    }\n",
       "\n",
       "    .dataframe thead th {\n",
       "        text-align: left;\n",
       "    }\n",
       "\n",
       "    .dataframe tbody tr th {\n",
       "        vertical-align: top;\n",
       "    }\n",
       "</style>\n",
       "<table border=\"1\" class=\"dataframe\">\n",
       "  <thead>\n",
       "    <tr style=\"text-align: right;\">\n",
       "      <th></th>\n",
       "      <th>feature1</th>\n",
       "      <th>feature2</th>\n",
       "      <th>feature3</th>\n",
       "    </tr>\n",
       "    <tr>\n",
       "      <th>user_registered</th>\n",
       "      <th></th>\n",
       "      <th></th>\n",
       "      <th></th>\n",
       "    </tr>\n",
       "  </thead>\n",
       "  <tbody>\n",
       "    <tr>\n",
       "      <th>False</th>\n",
       "      <td>7.005252</td>\n",
       "      <td>5.604202</td>\n",
       "      <td>4.203151</td>\n",
       "    </tr>\n",
       "    <tr>\n",
       "      <th>True</th>\n",
       "      <td>7.171084</td>\n",
       "      <td>5.736867</td>\n",
       "      <td>4.302651</td>\n",
       "    </tr>\n",
       "  </tbody>\n",
       "</table>\n",
       "</div>"
      ],
      "text/plain": [
       "                 feature1  feature2  feature3\n",
       "user_registered                              \n",
       "False            7.005252  5.604202  4.203151\n",
       "True             7.171084  5.736867  4.302651"
      ]
     },
     "execution_count": 29,
     "metadata": {},
     "output_type": "execute_result"
    }
   ],
   "source": [
    "# checking proportion of usage for usage features\n",
    "# (each feature 80% of the previous one)\n",
    "final_df.groupby(['user_registered']).mean()"
   ]
  },
  {
   "cell_type": "code",
   "execution_count": 30,
   "metadata": {},
   "outputs": [
    {
     "name": "stdout",
     "output_type": "stream",
     "text": [
      "Feature 1 / Feature 2: 79 % (expected value is 80%)\n"
     ]
    }
   ],
   "source": [
    "print(\"Feature 1 / Feature 2:\", int((final_df[features[1]].mean() / final_df[features[0]].mean())*100), \"%\", \\\n",
    "     \"(expected value is 80%)\")"
   ]
  },
  {
   "cell_type": "code",
   "execution_count": 31,
   "metadata": {},
   "outputs": [
    {
     "name": "stdout",
     "output_type": "stream",
     "text": [
      "Feature 2 / Feature 3: 75 % (expected value is 80%)\n"
     ]
    }
   ],
   "source": [
    "print(\"Feature 2 / Feature 3:\", int((final_df[features[2]].mean() / final_df[features[1]].mean())*100), \"%\" \\\n",
    "      , \"(expected value is 80%)\")"
   ]
  },
  {
   "cell_type": "markdown",
   "metadata": {},
   "source": [
    "### 6.3. Churn simulation"
   ]
  },
  {
   "cell_type": "code",
   "execution_count": 32,
   "metadata": {},
   "outputs": [
    {
     "name": "stdout",
     "output_type": "stream",
     "text": [
      "Number of m1 users / Number of non-m1 users: 489 / 455\n"
     ]
    }
   ],
   "source": [
    "# number of m1 users / number of non-m2 users should be close to 50/50\n",
    "m1_users = (user_data_with_usage_features_and_churn_df.groupby('device_uuid')['date'].count() == 1).sum()\n",
    "non_m1_users = (user_data_with_usage_features_and_churn_df.groupby('device_uuid')['date'].count() != 1).sum()\n",
    "print(\"Number of m1 users / Number of non-m1 users:\", m1_users, \"/\", non_m1_users)"
   ]
  },
  {
   "cell_type": "code",
   "execution_count": 33,
   "metadata": {},
   "outputs": [
    {
     "name": "stdout",
     "output_type": "stream",
     "text": [
      "48 % of users churn in the first month (expected value is 50%)\n"
     ]
    }
   ],
   "source": [
    "# checking that 50% of users churn in the first month\n",
    "m1_users = (final_df.groupby('device_uuid')['date'].count() == 1).sum()\n",
    "print(((m1_users / len(device_uuids))*100).astype(int), \"% of users churn in the first month\", \\\n",
    "     (\"(expected value is 50%)\"))"
   ]
  },
  {
   "cell_type": "markdown",
   "metadata": {},
   "source": [
    "## 7. Export the final dataframe as a csv"
   ]
  },
  {
   "cell_type": "code",
   "execution_count": 34,
   "metadata": {
    "collapsed": true
   },
   "outputs": [],
   "source": [
    "# exporting the final dataframe for later usage\n",
    "final_df.to_csv('generating_user_behavioral_data.csv')"
   ]
  },
  {
   "cell_type": "code",
   "execution_count": null,
   "metadata": {
    "collapsed": true
   },
   "outputs": [],
   "source": []
  }
 ],
 "metadata": {
  "kernelspec": {
   "display_name": "Python [default]",
   "language": "python",
   "name": "python3"
  },
  "language_info": {
   "codemirror_mode": {
    "name": "ipython",
    "version": 3
   },
   "file_extension": ".py",
   "mimetype": "text/x-python",
   "name": "python",
   "nbconvert_exporter": "python",
   "pygments_lexer": "ipython3",
   "version": "3.5.3"
  }
 },
 "nbformat": 4,
 "nbformat_minor": 2
}
