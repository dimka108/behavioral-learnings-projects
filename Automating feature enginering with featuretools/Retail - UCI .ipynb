{
 "cells": [
  {
   "cell_type": "code",
   "execution_count": 1,
   "metadata": {
    "collapsed": true
   },
   "outputs": [],
   "source": [
    "import numpy as np\n",
    "import pandas as pd\n",
    "import matplotlib\n",
    "%matplotlib notebook\n",
    "\n",
    "\n",
    "# feature engineering\n",
    "import featuretools as ft\n",
    "\n",
    "# machine learning\n",
    "from sklearn.ensemble import RandomForestClassifier\n",
    "from sklearn.model_selection import cross_val_score\n",
    "import os"
   ]
  },
  {
   "cell_type": "markdown",
   "metadata": {},
   "source": [
    "## 1. Load data"
   ]
  },
  {
   "cell_type": "markdown",
   "metadata": {},
   "source": [
    "This is a transnational data set which contains all the transactions occurring between 01/12/2010 and 09/12/2011 for a UK-based and registered non-store online retail.The company mainly sells unique all-occasion gifts. Many customers of the company are wholesalers."
   ]
  },
  {
   "cell_type": "code",
   "execution_count": 134,
   "metadata": {
    "collapsed": false
   },
   "outputs": [],
   "source": [
    "data = pd.read_csv('online_retail_data.csv', encoding = \"ISO-8859-1\")"
   ]
  },
  {
   "cell_type": "code",
   "execution_count": 135,
   "metadata": {
    "collapsed": false
   },
   "outputs": [
    {
     "data": {
      "text/plain": [
       "541909"
      ]
     },
     "execution_count": 135,
     "metadata": {},
     "output_type": "execute_result"
    }
   ],
   "source": [
    "len(data)"
   ]
  },
  {
   "cell_type": "code",
   "execution_count": 240,
   "metadata": {
    "collapsed": false
   },
   "outputs": [
    {
     "data": {
      "text/plain": [
       "135080"
      ]
     },
     "execution_count": 240,
     "metadata": {},
     "output_type": "execute_result"
    }
   ],
   "source": [
    "# deleting all rows without a CustomerID\n",
    "len(data[data['CustomerID'].isnull()])"
   ]
  },
  {
   "cell_type": "code",
   "execution_count": 241,
   "metadata": {
    "collapsed": true
   },
   "outputs": [],
   "source": [
    "data = data[data['CustomerID'].isnull() == False]"
   ]
  },
  {
   "cell_type": "code",
   "execution_count": 242,
   "metadata": {
    "collapsed": false
   },
   "outputs": [
    {
     "data": {
      "text/plain": [
       "406829"
      ]
     },
     "execution_count": 242,
     "metadata": {},
     "output_type": "execute_result"
    }
   ],
   "source": [
    "len(data)"
   ]
  },
  {
   "cell_type": "code",
   "execution_count": 243,
   "metadata": {
    "collapsed": true
   },
   "outputs": [],
   "source": [
    "# sample the data (25% of data)\n",
    "# data = data[0:int(len(data) / 4)]"
   ]
  },
  {
   "cell_type": "code",
   "execution_count": 245,
   "metadata": {
    "collapsed": false
   },
   "outputs": [
    {
     "data": {
      "text/html": [
       "<div>\n",
       "<style scoped>\n",
       "    .dataframe tbody tr th:only-of-type {\n",
       "        vertical-align: middle;\n",
       "    }\n",
       "\n",
       "    .dataframe tbody tr th {\n",
       "        vertical-align: top;\n",
       "    }\n",
       "\n",
       "    .dataframe thead th {\n",
       "        text-align: right;\n",
       "    }\n",
       "</style>\n",
       "<table border=\"1\" class=\"dataframe\">\n",
       "  <thead>\n",
       "    <tr style=\"text-align: right;\">\n",
       "      <th></th>\n",
       "      <th>InvoiceNo</th>\n",
       "      <th>StockCode</th>\n",
       "      <th>Description</th>\n",
       "      <th>Quantity</th>\n",
       "      <th>InvoiceDate</th>\n",
       "      <th>UnitPrice</th>\n",
       "      <th>CustomerID</th>\n",
       "      <th>Country</th>\n",
       "      <th>InvoiceMonth</th>\n",
       "      <th>Value</th>\n",
       "    </tr>\n",
       "  </thead>\n",
       "  <tbody>\n",
       "    <tr>\n",
       "      <th>0</th>\n",
       "      <td>536365</td>\n",
       "      <td>85123A</td>\n",
       "      <td>WHITE HANGING HEART T-LIGHT HOLDER</td>\n",
       "      <td>6</td>\n",
       "      <td>2010-12-01 08:26:00</td>\n",
       "      <td>2.55</td>\n",
       "      <td>17850.0</td>\n",
       "      <td>United Kingdom</td>\n",
       "      <td>2010-12</td>\n",
       "      <td>15.30</td>\n",
       "    </tr>\n",
       "    <tr>\n",
       "      <th>1</th>\n",
       "      <td>536365</td>\n",
       "      <td>71053</td>\n",
       "      <td>WHITE METAL LANTERN</td>\n",
       "      <td>6</td>\n",
       "      <td>2010-12-01 08:26:00</td>\n",
       "      <td>3.39</td>\n",
       "      <td>17850.0</td>\n",
       "      <td>United Kingdom</td>\n",
       "      <td>2010-12</td>\n",
       "      <td>20.34</td>\n",
       "    </tr>\n",
       "    <tr>\n",
       "      <th>2</th>\n",
       "      <td>536365</td>\n",
       "      <td>84406B</td>\n",
       "      <td>CREAM CUPID HEARTS COAT HANGER</td>\n",
       "      <td>8</td>\n",
       "      <td>2010-12-01 08:26:00</td>\n",
       "      <td>2.75</td>\n",
       "      <td>17850.0</td>\n",
       "      <td>United Kingdom</td>\n",
       "      <td>2010-12</td>\n",
       "      <td>22.00</td>\n",
       "    </tr>\n",
       "    <tr>\n",
       "      <th>3</th>\n",
       "      <td>536365</td>\n",
       "      <td>84029G</td>\n",
       "      <td>KNITTED UNION FLAG HOT WATER BOTTLE</td>\n",
       "      <td>6</td>\n",
       "      <td>2010-12-01 08:26:00</td>\n",
       "      <td>3.39</td>\n",
       "      <td>17850.0</td>\n",
       "      <td>United Kingdom</td>\n",
       "      <td>2010-12</td>\n",
       "      <td>20.34</td>\n",
       "    </tr>\n",
       "    <tr>\n",
       "      <th>4</th>\n",
       "      <td>536365</td>\n",
       "      <td>84029E</td>\n",
       "      <td>RED WOOLLY HOTTIE WHITE HEART.</td>\n",
       "      <td>6</td>\n",
       "      <td>2010-12-01 08:26:00</td>\n",
       "      <td>3.39</td>\n",
       "      <td>17850.0</td>\n",
       "      <td>United Kingdom</td>\n",
       "      <td>2010-12</td>\n",
       "      <td>20.34</td>\n",
       "    </tr>\n",
       "  </tbody>\n",
       "</table>\n",
       "</div>"
      ],
      "text/plain": [
       "  InvoiceNo StockCode                          Description  Quantity  \\\n",
       "0    536365    85123A   WHITE HANGING HEART T-LIGHT HOLDER         6   \n",
       "1    536365     71053                  WHITE METAL LANTERN         6   \n",
       "2    536365    84406B       CREAM CUPID HEARTS COAT HANGER         8   \n",
       "3    536365    84029G  KNITTED UNION FLAG HOT WATER BOTTLE         6   \n",
       "4    536365    84029E       RED WOOLLY HOTTIE WHITE HEART.         6   \n",
       "\n",
       "          InvoiceDate  UnitPrice  CustomerID         Country InvoiceMonth  \\\n",
       "0 2010-12-01 08:26:00       2.55     17850.0  United Kingdom      2010-12   \n",
       "1 2010-12-01 08:26:00       3.39     17850.0  United Kingdom      2010-12   \n",
       "2 2010-12-01 08:26:00       2.75     17850.0  United Kingdom      2010-12   \n",
       "3 2010-12-01 08:26:00       3.39     17850.0  United Kingdom      2010-12   \n",
       "4 2010-12-01 08:26:00       3.39     17850.0  United Kingdom      2010-12   \n",
       "\n",
       "   Value  \n",
       "0  15.30  \n",
       "1  20.34  \n",
       "2  22.00  \n",
       "3  20.34  \n",
       "4  20.34  "
      ]
     },
     "execution_count": 245,
     "metadata": {},
     "output_type": "execute_result"
    }
   ],
   "source": [
    "data.head()"
   ]
  },
  {
   "cell_type": "code",
   "execution_count": 246,
   "metadata": {
    "collapsed": false
   },
   "outputs": [],
   "source": [
    "data['InvoiceDate'] = pd.to_datetime(data['InvoiceDate'])"
   ]
  },
  {
   "cell_type": "code",
   "execution_count": 247,
   "metadata": {
    "collapsed": false
   },
   "outputs": [],
   "source": [
    "data['InvoiceMonth'] = data['InvoiceDate'].dt.to_period('M')"
   ]
  },
  {
   "cell_type": "code",
   "execution_count": 248,
   "metadata": {
    "collapsed": false
   },
   "outputs": [
    {
     "data": {
      "text/plain": [
       "20.401853884564613"
      ]
     },
     "execution_count": 248,
     "metadata": {},
     "output_type": "execute_result"
    }
   ],
   "source": [
    "data['Value'] = data['Quantity'] * data['UnitPrice']\n",
    "data['Value'].mean()"
   ]
  },
  {
   "cell_type": "markdown",
   "metadata": {},
   "source": [
    "## 2. EDA"
   ]
  },
  {
   "cell_type": "code",
   "execution_count": 249,
   "metadata": {
    "collapsed": false
   },
   "outputs": [
    {
     "data": {
      "text/plain": [
       "37"
      ]
     },
     "execution_count": 249,
     "metadata": {},
     "output_type": "execute_result"
    }
   ],
   "source": [
    "# 38 countries\n",
    "len(data['Country'].unique())"
   ]
  },
  {
   "cell_type": "code",
   "execution_count": 250,
   "metadata": {
    "collapsed": false
   },
   "outputs": [
    {
     "data": {
      "text/plain": [
       "3896"
      ]
     },
     "execution_count": 250,
     "metadata": {},
     "output_type": "execute_result"
    }
   ],
   "source": [
    "# 4224 unique descriptions\n",
    "len(data['Description'].unique())"
   ]
  },
  {
   "cell_type": "code",
   "execution_count": 251,
   "metadata": {
    "collapsed": false
   },
   "outputs": [
    {
     "data": {
      "text/plain": [
       "3684"
      ]
     },
     "execution_count": 251,
     "metadata": {},
     "output_type": "execute_result"
    }
   ],
   "source": [
    "# 4070 unique stock codes\n",
    "len(data['StockCode'].unique())"
   ]
  },
  {
   "cell_type": "code",
   "execution_count": 252,
   "metadata": {
    "collapsed": false
   },
   "outputs": [
    {
     "data": {
      "text/plain": [
       "406829"
      ]
     },
     "execution_count": 252,
     "metadata": {},
     "output_type": "execute_result"
    }
   ],
   "source": [
    "# ~ 540k rows of data\n",
    "len(data)"
   ]
  },
  {
   "cell_type": "code",
   "execution_count": 253,
   "metadata": {
    "collapsed": false
   },
   "outputs": [
    {
     "data": {
      "text/plain": [
       "93"
      ]
     },
     "execution_count": 253,
     "metadata": {},
     "output_type": "execute_result"
    }
   ],
   "source": [
    "# 123 invoices per customer\n",
    "int(len(data)*1.0 / len(data['CustomerID'].unique())*1.0)"
   ]
  },
  {
   "cell_type": "code",
   "execution_count": 254,
   "metadata": {
    "collapsed": false
   },
   "outputs": [
    {
     "data": {
      "text/plain": [
       "4372"
      ]
     },
     "execution_count": 254,
     "metadata": {},
     "output_type": "execute_result"
    }
   ],
   "source": [
    "# 4373 unique customers \n",
    "len(data['CustomerID'].unique())"
   ]
  },
  {
   "cell_type": "code",
   "execution_count": 3,
   "metadata": {
    "collapsed": false
   },
   "outputs": [
    {
     "ename": "NameError",
     "evalue": "name 'data' is not defined",
     "output_type": "error",
     "traceback": [
      "\u001b[0;31m---------------------------------------------------------------------------\u001b[0m",
      "\u001b[0;31mNameError\u001b[0m                                 Traceback (most recent call last)",
      "\u001b[0;32m<ipython-input-3-bcdab9d06963>\u001b[0m in \u001b[0;36m<module>\u001b[0;34m()\u001b[0m\n\u001b[1;32m      1\u001b[0m \u001b[0;31m# first invoice data\u001b[0m\u001b[0;34m\u001b[0m\u001b[0;34m\u001b[0m\u001b[0m\n\u001b[0;32m----> 2\u001b[0;31m \u001b[0mdata\u001b[0m\u001b[0;34m[\u001b[0m\u001b[0;34m'InvoiceDate'\u001b[0m\u001b[0;34m]\u001b[0m\u001b[0;34m.\u001b[0m\u001b[0mmin\u001b[0m\u001b[0;34m(\u001b[0m\u001b[0;34m)\u001b[0m\u001b[0;34m,\u001b[0m \u001b[0;34m'->'\u001b[0m\u001b[0;34m,\u001b[0m \u001b[0mdata\u001b[0m\u001b[0;34m[\u001b[0m\u001b[0;34m'InvoiceDate'\u001b[0m\u001b[0;34m]\u001b[0m\u001b[0;34m.\u001b[0m\u001b[0mmax\u001b[0m\u001b[0;34m(\u001b[0m\u001b[0;34m)\u001b[0m\u001b[0;34m\u001b[0m\u001b[0m\n\u001b[0m",
      "\u001b[0;31mNameError\u001b[0m: name 'data' is not defined"
     ]
    }
   ],
   "source": [
    "# first invoice data\n",
    "data['InvoiceDate'].min(), ' -> ', data['InvoiceDate'].max()"
   ]
  },
  {
   "cell_type": "code",
   "execution_count": 256,
   "metadata": {
    "collapsed": false
   },
   "outputs": [
    {
     "data": {
      "text/plain": [
       "Timestamp('2011-12-09 12:50:00')"
      ]
     },
     "execution_count": 256,
     "metadata": {},
     "output_type": "execute_result"
    }
   ],
   "source": [
    "# last invoice date\n"
   ]
  },
  {
   "cell_type": "code",
   "execution_count": 257,
   "metadata": {
    "collapsed": false
   },
   "outputs": [
    {
     "data": {
      "text/plain": [
       "312"
      ]
     },
     "execution_count": 257,
     "metadata": {},
     "output_type": "execute_result"
    }
   ],
   "source": [
    "# 312 rows of data for the first customer by index\n",
    "len(data[data['CustomerID'] == data['CustomerID'][0]])"
   ]
  },
  {
   "cell_type": "code",
   "execution_count": 258,
   "metadata": {
    "collapsed": false
   },
   "outputs": [
    {
     "data": {
      "text/plain": [
       "35"
      ]
     },
     "execution_count": 258,
     "metadata": {},
     "output_type": "execute_result"
    }
   ],
   "source": [
    "# 35 invoices for the first customer by index\n",
    "len(data[data['CustomerID'] == data['CustomerID'][0]]['InvoiceNo'].unique())"
   ]
  },
  {
   "cell_type": "code",
   "execution_count": 427,
   "metadata": {
    "collapsed": false
   },
   "outputs": [
    {
     "data": {
      "text/plain": [
       "0.02237864516842412"
      ]
     },
     "execution_count": 427,
     "metadata": {},
     "output_type": "execute_result"
    }
   ],
   "source": [
    "# 2% of orders with a negative quantity\n",
    "len(data[data['Quantity'] < 0])*1.0 /  len(data[data['Quantity'] > 0])*1.0"
   ]
  },
  {
   "cell_type": "markdown",
   "metadata": {},
   "source": [
    "## 3. Building an EntitySet"
   ]
  },
  {
   "cell_type": "code",
   "execution_count": 259,
   "metadata": {
    "collapsed": true
   },
   "outputs": [],
   "source": [
    "es = ft.EntitySet(\"online_retail\")"
   ]
  },
  {
   "cell_type": "code",
   "execution_count": 260,
   "metadata": {
    "collapsed": false
   },
   "outputs": [
    {
     "data": {
      "text/html": [
       "<div>\n",
       "<style scoped>\n",
       "    .dataframe tbody tr th:only-of-type {\n",
       "        vertical-align: middle;\n",
       "    }\n",
       "\n",
       "    .dataframe tbody tr th {\n",
       "        vertical-align: top;\n",
       "    }\n",
       "\n",
       "    .dataframe thead th {\n",
       "        text-align: right;\n",
       "    }\n",
       "</style>\n",
       "<table border=\"1\" class=\"dataframe\">\n",
       "  <thead>\n",
       "    <tr style=\"text-align: right;\">\n",
       "      <th></th>\n",
       "      <th>InvoiceNo</th>\n",
       "      <th>CustomerID</th>\n",
       "      <th>InvoiceDate</th>\n",
       "    </tr>\n",
       "  </thead>\n",
       "  <tbody>\n",
       "    <tr>\n",
       "      <th>0</th>\n",
       "      <td>536365</td>\n",
       "      <td>17850.0</td>\n",
       "      <td>2010-12-01 08:26:00</td>\n",
       "    </tr>\n",
       "    <tr>\n",
       "      <th>1</th>\n",
       "      <td>536365</td>\n",
       "      <td>17850.0</td>\n",
       "      <td>2010-12-01 08:26:00</td>\n",
       "    </tr>\n",
       "    <tr>\n",
       "      <th>2</th>\n",
       "      <td>536365</td>\n",
       "      <td>17850.0</td>\n",
       "      <td>2010-12-01 08:26:00</td>\n",
       "    </tr>\n",
       "    <tr>\n",
       "      <th>3</th>\n",
       "      <td>536365</td>\n",
       "      <td>17850.0</td>\n",
       "      <td>2010-12-01 08:26:00</td>\n",
       "    </tr>\n",
       "    <tr>\n",
       "      <th>4</th>\n",
       "      <td>536365</td>\n",
       "      <td>17850.0</td>\n",
       "      <td>2010-12-01 08:26:00</td>\n",
       "    </tr>\n",
       "  </tbody>\n",
       "</table>\n",
       "</div>"
      ],
      "text/plain": [
       "  InvoiceNo  CustomerID         InvoiceDate\n",
       "0    536365     17850.0 2010-12-01 08:26:00\n",
       "1    536365     17850.0 2010-12-01 08:26:00\n",
       "2    536365     17850.0 2010-12-01 08:26:00\n",
       "3    536365     17850.0 2010-12-01 08:26:00\n",
       "4    536365     17850.0 2010-12-01 08:26:00"
      ]
     },
     "execution_count": 260,
     "metadata": {},
     "output_type": "execute_result"
    }
   ],
   "source": [
    "orders = data[['InvoiceNo', 'CustomerID', 'InvoiceDate']]\n",
    "orders.head()"
   ]
  },
  {
   "cell_type": "code",
   "execution_count": 261,
   "metadata": {
    "collapsed": false
   },
   "outputs": [
    {
     "data": {
      "text/plain": [
       "406829"
      ]
     },
     "execution_count": 261,
     "metadata": {},
     "output_type": "execute_result"
    }
   ],
   "source": [
    "len(orders)"
   ]
  },
  {
   "cell_type": "code",
   "execution_count": 262,
   "metadata": {
    "collapsed": false
   },
   "outputs": [
    {
     "data": {
      "text/html": [
       "<div>\n",
       "<style scoped>\n",
       "    .dataframe tbody tr th:only-of-type {\n",
       "        vertical-align: middle;\n",
       "    }\n",
       "\n",
       "    .dataframe tbody tr th {\n",
       "        vertical-align: top;\n",
       "    }\n",
       "\n",
       "    .dataframe thead th {\n",
       "        text-align: right;\n",
       "    }\n",
       "</style>\n",
       "<table border=\"1\" class=\"dataframe\">\n",
       "  <thead>\n",
       "    <tr style=\"text-align: right;\">\n",
       "      <th></th>\n",
       "      <th>InvoiceNo</th>\n",
       "      <th>CustomerID</th>\n",
       "    </tr>\n",
       "  </thead>\n",
       "  <tbody>\n",
       "    <tr>\n",
       "      <th>0</th>\n",
       "      <td>536365</td>\n",
       "      <td>17850.0</td>\n",
       "    </tr>\n",
       "    <tr>\n",
       "      <th>1</th>\n",
       "      <td>536366</td>\n",
       "      <td>17850.0</td>\n",
       "    </tr>\n",
       "    <tr>\n",
       "      <th>2</th>\n",
       "      <td>536367</td>\n",
       "      <td>13047.0</td>\n",
       "    </tr>\n",
       "    <tr>\n",
       "      <th>3</th>\n",
       "      <td>536368</td>\n",
       "      <td>13047.0</td>\n",
       "    </tr>\n",
       "    <tr>\n",
       "      <th>4</th>\n",
       "      <td>536369</td>\n",
       "      <td>13047.0</td>\n",
       "    </tr>\n",
       "  </tbody>\n",
       "</table>\n",
       "</div>"
      ],
      "text/plain": [
       "  InvoiceNo  CustomerID\n",
       "0    536365     17850.0\n",
       "1    536366     17850.0\n",
       "2    536367     13047.0\n",
       "3    536368     13047.0\n",
       "4    536369     13047.0"
      ]
     },
     "execution_count": 262,
     "metadata": {},
     "output_type": "execute_result"
    }
   ],
   "source": [
    "orders = orders.groupby('InvoiceNo').mean().reset_index()\n",
    "orders.head()"
   ]
  },
  {
   "cell_type": "code",
   "execution_count": 263,
   "metadata": {
    "collapsed": false
   },
   "outputs": [
    {
     "data": {
      "text/plain": [
       "22190"
      ]
     },
     "execution_count": 263,
     "metadata": {},
     "output_type": "execute_result"
    }
   ],
   "source": [
    "len(orders)"
   ]
  },
  {
   "cell_type": "code",
   "execution_count": 264,
   "metadata": {
    "collapsed": true
   },
   "outputs": [],
   "source": [
    "# InvoiceNo | CustomerID | InvoiceDate\n",
    "invoice_dates = data[['InvoiceNo', 'InvoiceDate']].groupby('InvoiceNo').min().reset_index()\n",
    "orders = pd.merge(orders, invoice_dates, on='InvoiceNo', how='left')"
   ]
  },
  {
   "cell_type": "code",
   "execution_count": 265,
   "metadata": {
    "collapsed": false
   },
   "outputs": [
    {
     "data": {
      "text/html": [
       "<div>\n",
       "<style scoped>\n",
       "    .dataframe tbody tr th:only-of-type {\n",
       "        vertical-align: middle;\n",
       "    }\n",
       "\n",
       "    .dataframe tbody tr th {\n",
       "        vertical-align: top;\n",
       "    }\n",
       "\n",
       "    .dataframe thead th {\n",
       "        text-align: right;\n",
       "    }\n",
       "</style>\n",
       "<table border=\"1\" class=\"dataframe\">\n",
       "  <thead>\n",
       "    <tr style=\"text-align: right;\">\n",
       "      <th></th>\n",
       "      <th>InvoiceNo</th>\n",
       "      <th>CustomerID</th>\n",
       "      <th>InvoiceDate</th>\n",
       "    </tr>\n",
       "  </thead>\n",
       "  <tbody>\n",
       "    <tr>\n",
       "      <th>0</th>\n",
       "      <td>536365</td>\n",
       "      <td>17850.0</td>\n",
       "      <td>2010-12-01 08:26:00</td>\n",
       "    </tr>\n",
       "    <tr>\n",
       "      <th>1</th>\n",
       "      <td>536366</td>\n",
       "      <td>17850.0</td>\n",
       "      <td>2010-12-01 08:28:00</td>\n",
       "    </tr>\n",
       "    <tr>\n",
       "      <th>2</th>\n",
       "      <td>536367</td>\n",
       "      <td>13047.0</td>\n",
       "      <td>2010-12-01 08:34:00</td>\n",
       "    </tr>\n",
       "    <tr>\n",
       "      <th>3</th>\n",
       "      <td>536368</td>\n",
       "      <td>13047.0</td>\n",
       "      <td>2010-12-01 08:34:00</td>\n",
       "    </tr>\n",
       "    <tr>\n",
       "      <th>4</th>\n",
       "      <td>536369</td>\n",
       "      <td>13047.0</td>\n",
       "      <td>2010-12-01 08:35:00</td>\n",
       "    </tr>\n",
       "  </tbody>\n",
       "</table>\n",
       "</div>"
      ],
      "text/plain": [
       "  InvoiceNo  CustomerID         InvoiceDate\n",
       "0    536365     17850.0 2010-12-01 08:26:00\n",
       "1    536366     17850.0 2010-12-01 08:28:00\n",
       "2    536367     13047.0 2010-12-01 08:34:00\n",
       "3    536368     13047.0 2010-12-01 08:34:00\n",
       "4    536369     13047.0 2010-12-01 08:35:00"
      ]
     },
     "execution_count": 265,
     "metadata": {},
     "output_type": "execute_result"
    }
   ],
   "source": [
    "orders.head()"
   ]
  },
  {
   "cell_type": "code",
   "execution_count": 266,
   "metadata": {
    "collapsed": false
   },
   "outputs": [
    {
     "data": {
      "text/plain": [
       "22190"
      ]
     },
     "execution_count": 266,
     "metadata": {},
     "output_type": "execute_result"
    }
   ],
   "source": [
    "len(orders)"
   ]
  },
  {
   "cell_type": "code",
   "execution_count": 267,
   "metadata": {
    "collapsed": false
   },
   "outputs": [],
   "source": [
    "# orders = orders[['InvoiceDate', 'InvoiceDate']].groupby('InvoiceDate').min()\n",
    "# orders.head()\n",
    "# orders"
   ]
  },
  {
   "cell_type": "code",
   "execution_count": 268,
   "metadata": {
    "collapsed": false
   },
   "outputs": [
    {
     "data": {
      "text/plain": [
       "Entityset: online_retail\n",
       "  Entities:\n",
       "    orders (shape = [22190, 3])\n",
       "  Relationships:\n",
       "    No relationships"
      ]
     },
     "execution_count": 268,
     "metadata": {},
     "output_type": "execute_result"
    }
   ],
   "source": [
    "es.entity_from_dataframe(entity_id='orders',\n",
    "                        dataframe=orders,\n",
    "                        index='InvoiceNo',\n",
    "                        time_index='InvoiceDate')"
   ]
  },
  {
   "cell_type": "code",
   "execution_count": 271,
   "metadata": {
    "collapsed": false
   },
   "outputs": [
    {
     "data": {
      "text/html": [
       "<div>\n",
       "<style scoped>\n",
       "    .dataframe tbody tr th:only-of-type {\n",
       "        vertical-align: middle;\n",
       "    }\n",
       "\n",
       "    .dataframe tbody tr th {\n",
       "        vertical-align: top;\n",
       "    }\n",
       "\n",
       "    .dataframe thead th {\n",
       "        text-align: right;\n",
       "    }\n",
       "</style>\n",
       "<table border=\"1\" class=\"dataframe\">\n",
       "  <thead>\n",
       "    <tr style=\"text-align: right;\">\n",
       "      <th></th>\n",
       "      <th>InvoiceNo</th>\n",
       "      <th>Description</th>\n",
       "      <th>InvoiceDate</th>\n",
       "      <th>Country</th>\n",
       "      <th>UnitPrice</th>\n",
       "      <th>Quantity</th>\n",
       "      <th>Value</th>\n",
       "    </tr>\n",
       "  </thead>\n",
       "  <tbody>\n",
       "    <tr>\n",
       "      <th>0</th>\n",
       "      <td>536365</td>\n",
       "      <td>WHITE HANGING HEART T-LIGHT HOLDER</td>\n",
       "      <td>2010-12-01 08:26:00</td>\n",
       "      <td>United Kingdom</td>\n",
       "      <td>2.55</td>\n",
       "      <td>6</td>\n",
       "      <td>15.30</td>\n",
       "    </tr>\n",
       "    <tr>\n",
       "      <th>1</th>\n",
       "      <td>536365</td>\n",
       "      <td>WHITE METAL LANTERN</td>\n",
       "      <td>2010-12-01 08:26:00</td>\n",
       "      <td>United Kingdom</td>\n",
       "      <td>3.39</td>\n",
       "      <td>6</td>\n",
       "      <td>20.34</td>\n",
       "    </tr>\n",
       "    <tr>\n",
       "      <th>2</th>\n",
       "      <td>536365</td>\n",
       "      <td>CREAM CUPID HEARTS COAT HANGER</td>\n",
       "      <td>2010-12-01 08:26:00</td>\n",
       "      <td>United Kingdom</td>\n",
       "      <td>2.75</td>\n",
       "      <td>8</td>\n",
       "      <td>22.00</td>\n",
       "    </tr>\n",
       "    <tr>\n",
       "      <th>3</th>\n",
       "      <td>536365</td>\n",
       "      <td>KNITTED UNION FLAG HOT WATER BOTTLE</td>\n",
       "      <td>2010-12-01 08:26:00</td>\n",
       "      <td>United Kingdom</td>\n",
       "      <td>3.39</td>\n",
       "      <td>6</td>\n",
       "      <td>20.34</td>\n",
       "    </tr>\n",
       "    <tr>\n",
       "      <th>4</th>\n",
       "      <td>536365</td>\n",
       "      <td>RED WOOLLY HOTTIE WHITE HEART.</td>\n",
       "      <td>2010-12-01 08:26:00</td>\n",
       "      <td>United Kingdom</td>\n",
       "      <td>3.39</td>\n",
       "      <td>6</td>\n",
       "      <td>20.34</td>\n",
       "    </tr>\n",
       "  </tbody>\n",
       "</table>\n",
       "</div>"
      ],
      "text/plain": [
       "  InvoiceNo                          Description         InvoiceDate  \\\n",
       "0    536365   WHITE HANGING HEART T-LIGHT HOLDER 2010-12-01 08:26:00   \n",
       "1    536365                  WHITE METAL LANTERN 2010-12-01 08:26:00   \n",
       "2    536365       CREAM CUPID HEARTS COAT HANGER 2010-12-01 08:26:00   \n",
       "3    536365  KNITTED UNION FLAG HOT WATER BOTTLE 2010-12-01 08:26:00   \n",
       "4    536365       RED WOOLLY HOTTIE WHITE HEART. 2010-12-01 08:26:00   \n",
       "\n",
       "          Country  UnitPrice  Quantity  Value  \n",
       "0  United Kingdom       2.55         6  15.30  \n",
       "1  United Kingdom       3.39         6  20.34  \n",
       "2  United Kingdom       2.75         8  22.00  \n",
       "3  United Kingdom       3.39         6  20.34  \n",
       "4  United Kingdom       3.39         6  20.34  "
      ]
     },
     "execution_count": 271,
     "metadata": {},
     "output_type": "execute_result"
    }
   ],
   "source": [
    "order_products = data[['InvoiceNo', 'Description', 'InvoiceDate', 'Country', 'UnitPrice', 'Quantity', 'Value']]\n",
    "order_products.head()"
   ]
  },
  {
   "cell_type": "code",
   "execution_count": 272,
   "metadata": {
    "collapsed": false
   },
   "outputs": [
    {
     "name": "stdout",
     "output_type": "stream",
     "text": [
      "2018-01-07 15:36:54,433 featuretools.entityset - WARNING    index order_product_id not found in dataframe, creating new integer column\n"
     ]
    },
    {
     "data": {
      "text/plain": [
       "Entityset: online_retail\n",
       "  Entities:\n",
       "    order_products (shape = [406829, 8])\n",
       "    orders (shape = [22190, 3])\n",
       "  Relationships:\n",
       "    No relationships"
      ]
     },
     "execution_count": 272,
     "metadata": {},
     "output_type": "execute_result"
    }
   ],
   "source": [
    "es.entity_from_dataframe(entity_id='order_products',\n",
    "                        dataframe=order_products,\n",
    "                        index='order_product_id',\n",
    "                        time_index='InvoiceDate')"
   ]
  },
  {
   "cell_type": "code",
   "execution_count": 273,
   "metadata": {
    "collapsed": false
   },
   "outputs": [
    {
     "data": {
      "text/plain": [
       "Entityset: online_retail\n",
       "  Entities:\n",
       "    order_products (shape = [406829, 8])\n",
       "    orders (shape = [22190, 3])\n",
       "  Relationships:\n",
       "    order_products.InvoiceNo -> orders.InvoiceNo"
      ]
     },
     "execution_count": 273,
     "metadata": {},
     "output_type": "execute_result"
    }
   ],
   "source": [
    "es.add_relationship(ft.Relationship(es['orders']['InvoiceNo'], es['order_products']['InvoiceNo']))"
   ]
  },
  {
   "cell_type": "code",
   "execution_count": 274,
   "metadata": {
    "collapsed": false
   },
   "outputs": [
    {
     "data": {
      "text/plain": [
       "Entityset: online_retail\n",
       "  Entities:\n",
       "    order_products (shape = [406829, 8])\n",
       "    customers (shape = [4372, 2])\n",
       "    orders (shape = [22190, 3])\n",
       "  Relationships:\n",
       "    order_products.InvoiceNo -> orders.InvoiceNo\n",
       "    orders.CustomerID -> customers.CustomerID"
      ]
     },
     "execution_count": 274,
     "metadata": {},
     "output_type": "execute_result"
    }
   ],
   "source": [
    "es.normalize_entity(base_entity_id='orders', new_entity_id='customers', index='CustomerID')"
   ]
  },
  {
   "cell_type": "code",
   "execution_count": 275,
   "metadata": {
    "collapsed": false
   },
   "outputs": [
    {
     "data": {
      "text/plain": [
       "4372"
      ]
     },
     "execution_count": 275,
     "metadata": {},
     "output_type": "execute_result"
    }
   ],
   "source": [
    "len(data['CustomerID'].unique())"
   ]
  },
  {
   "cell_type": "markdown",
   "metadata": {
    "collapsed": true
   },
   "source": [
    "## 4. Building labels"
   ]
  },
  {
   "cell_type": "code",
   "execution_count": 276,
   "metadata": {
    "collapsed": true
   },
   "outputs": [],
   "source": [
    "# predicting whether a customer will be a big spender in the last month of available data"
   ]
  },
  {
   "cell_type": "code",
   "execution_count": 277,
   "metadata": {
    "collapsed": false,
    "scrolled": true
   },
   "outputs": [
    {
     "data": {
      "text/plain": [
       "Timedelta('373 days 04:24:00')"
      ]
     },
     "execution_count": 277,
     "metadata": {},
     "output_type": "execute_result"
    }
   ],
   "source": [
    "# diff in days\n",
    "data['InvoiceDate'].max() - data['InvoiceDate'].min()"
   ]
  },
  {
   "cell_type": "code",
   "execution_count": 278,
   "metadata": {
    "collapsed": false
   },
   "outputs": [
    {
     "data": {
      "text/plain": [
       "Timestamp('2010-12-01 08:26:00')"
      ]
     },
     "execution_count": 278,
     "metadata": {},
     "output_type": "execute_result"
    }
   ],
   "source": [
    "# 1 year of training data - 12 January 2010 to 12 January 2011\n",
    "data['InvoiceDate'].min()"
   ]
  },
  {
   "cell_type": "code",
   "execution_count": 279,
   "metadata": {
    "collapsed": false
   },
   "outputs": [
    {
     "data": {
      "text/plain": [
       "Timestamp('2011-12-09 12:50:00')"
      ]
     },
     "execution_count": 279,
     "metadata": {},
     "output_type": "execute_result"
    }
   ],
   "source": [
    "data['InvoiceDate'].max()"
   ]
  },
  {
   "cell_type": "code",
   "execution_count": 360,
   "metadata": {
    "collapsed": false
   },
   "outputs": [
    {
     "data": {
      "application/javascript": [
       "/* Put everything inside the global mpl namespace */\n",
       "window.mpl = {};\n",
       "\n",
       "\n",
       "mpl.get_websocket_type = function() {\n",
       "    if (typeof(WebSocket) !== 'undefined') {\n",
       "        return WebSocket;\n",
       "    } else if (typeof(MozWebSocket) !== 'undefined') {\n",
       "        return MozWebSocket;\n",
       "    } else {\n",
       "        alert('Your browser does not have WebSocket support.' +\n",
       "              'Please try Chrome, Safari or Firefox ≥ 6. ' +\n",
       "              'Firefox 4 and 5 are also supported but you ' +\n",
       "              'have to enable WebSockets in about:config.');\n",
       "    };\n",
       "}\n",
       "\n",
       "mpl.figure = function(figure_id, websocket, ondownload, parent_element) {\n",
       "    this.id = figure_id;\n",
       "\n",
       "    this.ws = websocket;\n",
       "\n",
       "    this.supports_binary = (this.ws.binaryType != undefined);\n",
       "\n",
       "    if (!this.supports_binary) {\n",
       "        var warnings = document.getElementById(\"mpl-warnings\");\n",
       "        if (warnings) {\n",
       "            warnings.style.display = 'block';\n",
       "            warnings.textContent = (\n",
       "                \"This browser does not support binary websocket messages. \" +\n",
       "                    \"Performance may be slow.\");\n",
       "        }\n",
       "    }\n",
       "\n",
       "    this.imageObj = new Image();\n",
       "\n",
       "    this.context = undefined;\n",
       "    this.message = undefined;\n",
       "    this.canvas = undefined;\n",
       "    this.rubberband_canvas = undefined;\n",
       "    this.rubberband_context = undefined;\n",
       "    this.format_dropdown = undefined;\n",
       "\n",
       "    this.image_mode = 'full';\n",
       "\n",
       "    this.root = $('<div/>');\n",
       "    this._root_extra_style(this.root)\n",
       "    this.root.attr('style', 'display: inline-block');\n",
       "\n",
       "    $(parent_element).append(this.root);\n",
       "\n",
       "    this._init_header(this);\n",
       "    this._init_canvas(this);\n",
       "    this._init_toolbar(this);\n",
       "\n",
       "    var fig = this;\n",
       "\n",
       "    this.waiting = false;\n",
       "\n",
       "    this.ws.onopen =  function () {\n",
       "            fig.send_message(\"supports_binary\", {value: fig.supports_binary});\n",
       "            fig.send_message(\"send_image_mode\", {});\n",
       "            if (mpl.ratio != 1) {\n",
       "                fig.send_message(\"set_dpi_ratio\", {'dpi_ratio': mpl.ratio});\n",
       "            }\n",
       "            fig.send_message(\"refresh\", {});\n",
       "        }\n",
       "\n",
       "    this.imageObj.onload = function() {\n",
       "            if (fig.image_mode == 'full') {\n",
       "                // Full images could contain transparency (where diff images\n",
       "                // almost always do), so we need to clear the canvas so that\n",
       "                // there is no ghosting.\n",
       "                fig.context.clearRect(0, 0, fig.canvas.width, fig.canvas.height);\n",
       "            }\n",
       "            fig.context.drawImage(fig.imageObj, 0, 0);\n",
       "        };\n",
       "\n",
       "    this.imageObj.onunload = function() {\n",
       "        fig.ws.close();\n",
       "    }\n",
       "\n",
       "    this.ws.onmessage = this._make_on_message_function(this);\n",
       "\n",
       "    this.ondownload = ondownload;\n",
       "}\n",
       "\n",
       "mpl.figure.prototype._init_header = function() {\n",
       "    var titlebar = $(\n",
       "        '<div class=\"ui-dialog-titlebar ui-widget-header ui-corner-all ' +\n",
       "        'ui-helper-clearfix\"/>');\n",
       "    var titletext = $(\n",
       "        '<div class=\"ui-dialog-title\" style=\"width: 100%; ' +\n",
       "        'text-align: center; padding: 3px;\"/>');\n",
       "    titlebar.append(titletext)\n",
       "    this.root.append(titlebar);\n",
       "    this.header = titletext[0];\n",
       "}\n",
       "\n",
       "\n",
       "\n",
       "mpl.figure.prototype._canvas_extra_style = function(canvas_div) {\n",
       "\n",
       "}\n",
       "\n",
       "\n",
       "mpl.figure.prototype._root_extra_style = function(canvas_div) {\n",
       "\n",
       "}\n",
       "\n",
       "mpl.figure.prototype._init_canvas = function() {\n",
       "    var fig = this;\n",
       "\n",
       "    var canvas_div = $('<div/>');\n",
       "\n",
       "    canvas_div.attr('style', 'position: relative; clear: both; outline: 0');\n",
       "\n",
       "    function canvas_keyboard_event(event) {\n",
       "        return fig.key_event(event, event['data']);\n",
       "    }\n",
       "\n",
       "    canvas_div.keydown('key_press', canvas_keyboard_event);\n",
       "    canvas_div.keyup('key_release', canvas_keyboard_event);\n",
       "    this.canvas_div = canvas_div\n",
       "    this._canvas_extra_style(canvas_div)\n",
       "    this.root.append(canvas_div);\n",
       "\n",
       "    var canvas = $('<canvas/>');\n",
       "    canvas.addClass('mpl-canvas');\n",
       "    canvas.attr('style', \"left: 0; top: 0; z-index: 0; outline: 0\")\n",
       "\n",
       "    this.canvas = canvas[0];\n",
       "    this.context = canvas[0].getContext(\"2d\");\n",
       "\n",
       "    var backingStore = this.context.backingStorePixelRatio ||\n",
       "\tthis.context.webkitBackingStorePixelRatio ||\n",
       "\tthis.context.mozBackingStorePixelRatio ||\n",
       "\tthis.context.msBackingStorePixelRatio ||\n",
       "\tthis.context.oBackingStorePixelRatio ||\n",
       "\tthis.context.backingStorePixelRatio || 1;\n",
       "\n",
       "    mpl.ratio = (window.devicePixelRatio || 1) / backingStore;\n",
       "\n",
       "    var rubberband = $('<canvas/>');\n",
       "    rubberband.attr('style', \"position: absolute; left: 0; top: 0; z-index: 1;\")\n",
       "\n",
       "    var pass_mouse_events = true;\n",
       "\n",
       "    canvas_div.resizable({\n",
       "        start: function(event, ui) {\n",
       "            pass_mouse_events = false;\n",
       "        },\n",
       "        resize: function(event, ui) {\n",
       "            fig.request_resize(ui.size.width, ui.size.height);\n",
       "        },\n",
       "        stop: function(event, ui) {\n",
       "            pass_mouse_events = true;\n",
       "            fig.request_resize(ui.size.width, ui.size.height);\n",
       "        },\n",
       "    });\n",
       "\n",
       "    function mouse_event_fn(event) {\n",
       "        if (pass_mouse_events)\n",
       "            return fig.mouse_event(event, event['data']);\n",
       "    }\n",
       "\n",
       "    rubberband.mousedown('button_press', mouse_event_fn);\n",
       "    rubberband.mouseup('button_release', mouse_event_fn);\n",
       "    // Throttle sequential mouse events to 1 every 20ms.\n",
       "    rubberband.mousemove('motion_notify', mouse_event_fn);\n",
       "\n",
       "    rubberband.mouseenter('figure_enter', mouse_event_fn);\n",
       "    rubberband.mouseleave('figure_leave', mouse_event_fn);\n",
       "\n",
       "    canvas_div.on(\"wheel\", function (event) {\n",
       "        event = event.originalEvent;\n",
       "        event['data'] = 'scroll'\n",
       "        if (event.deltaY < 0) {\n",
       "            event.step = 1;\n",
       "        } else {\n",
       "            event.step = -1;\n",
       "        }\n",
       "        mouse_event_fn(event);\n",
       "    });\n",
       "\n",
       "    canvas_div.append(canvas);\n",
       "    canvas_div.append(rubberband);\n",
       "\n",
       "    this.rubberband = rubberband;\n",
       "    this.rubberband_canvas = rubberband[0];\n",
       "    this.rubberband_context = rubberband[0].getContext(\"2d\");\n",
       "    this.rubberband_context.strokeStyle = \"#000000\";\n",
       "\n",
       "    this._resize_canvas = function(width, height) {\n",
       "        // Keep the size of the canvas, canvas container, and rubber band\n",
       "        // canvas in synch.\n",
       "        canvas_div.css('width', width)\n",
       "        canvas_div.css('height', height)\n",
       "\n",
       "        canvas.attr('width', width * mpl.ratio);\n",
       "        canvas.attr('height', height * mpl.ratio);\n",
       "        canvas.attr('style', 'width: ' + width + 'px; height: ' + height + 'px;');\n",
       "\n",
       "        rubberband.attr('width', width);\n",
       "        rubberband.attr('height', height);\n",
       "    }\n",
       "\n",
       "    // Set the figure to an initial 600x600px, this will subsequently be updated\n",
       "    // upon first draw.\n",
       "    this._resize_canvas(600, 600);\n",
       "\n",
       "    // Disable right mouse context menu.\n",
       "    $(this.rubberband_canvas).bind(\"contextmenu\",function(e){\n",
       "        return false;\n",
       "    });\n",
       "\n",
       "    function set_focus () {\n",
       "        canvas.focus();\n",
       "        canvas_div.focus();\n",
       "    }\n",
       "\n",
       "    window.setTimeout(set_focus, 100);\n",
       "}\n",
       "\n",
       "mpl.figure.prototype._init_toolbar = function() {\n",
       "    var fig = this;\n",
       "\n",
       "    var nav_element = $('<div/>')\n",
       "    nav_element.attr('style', 'width: 100%');\n",
       "    this.root.append(nav_element);\n",
       "\n",
       "    // Define a callback function for later on.\n",
       "    function toolbar_event(event) {\n",
       "        return fig.toolbar_button_onclick(event['data']);\n",
       "    }\n",
       "    function toolbar_mouse_event(event) {\n",
       "        return fig.toolbar_button_onmouseover(event['data']);\n",
       "    }\n",
       "\n",
       "    for(var toolbar_ind in mpl.toolbar_items) {\n",
       "        var name = mpl.toolbar_items[toolbar_ind][0];\n",
       "        var tooltip = mpl.toolbar_items[toolbar_ind][1];\n",
       "        var image = mpl.toolbar_items[toolbar_ind][2];\n",
       "        var method_name = mpl.toolbar_items[toolbar_ind][3];\n",
       "\n",
       "        if (!name) {\n",
       "            // put a spacer in here.\n",
       "            continue;\n",
       "        }\n",
       "        var button = $('<button/>');\n",
       "        button.addClass('ui-button ui-widget ui-state-default ui-corner-all ' +\n",
       "                        'ui-button-icon-only');\n",
       "        button.attr('role', 'button');\n",
       "        button.attr('aria-disabled', 'false');\n",
       "        button.click(method_name, toolbar_event);\n",
       "        button.mouseover(tooltip, toolbar_mouse_event);\n",
       "\n",
       "        var icon_img = $('<span/>');\n",
       "        icon_img.addClass('ui-button-icon-primary ui-icon');\n",
       "        icon_img.addClass(image);\n",
       "        icon_img.addClass('ui-corner-all');\n",
       "\n",
       "        var tooltip_span = $('<span/>');\n",
       "        tooltip_span.addClass('ui-button-text');\n",
       "        tooltip_span.html(tooltip);\n",
       "\n",
       "        button.append(icon_img);\n",
       "        button.append(tooltip_span);\n",
       "\n",
       "        nav_element.append(button);\n",
       "    }\n",
       "\n",
       "    var fmt_picker_span = $('<span/>');\n",
       "\n",
       "    var fmt_picker = $('<select/>');\n",
       "    fmt_picker.addClass('mpl-toolbar-option ui-widget ui-widget-content');\n",
       "    fmt_picker_span.append(fmt_picker);\n",
       "    nav_element.append(fmt_picker_span);\n",
       "    this.format_dropdown = fmt_picker[0];\n",
       "\n",
       "    for (var ind in mpl.extensions) {\n",
       "        var fmt = mpl.extensions[ind];\n",
       "        var option = $(\n",
       "            '<option/>', {selected: fmt === mpl.default_extension}).html(fmt);\n",
       "        fmt_picker.append(option)\n",
       "    }\n",
       "\n",
       "    // Add hover states to the ui-buttons\n",
       "    $( \".ui-button\" ).hover(\n",
       "        function() { $(this).addClass(\"ui-state-hover\");},\n",
       "        function() { $(this).removeClass(\"ui-state-hover\");}\n",
       "    );\n",
       "\n",
       "    var status_bar = $('<span class=\"mpl-message\"/>');\n",
       "    nav_element.append(status_bar);\n",
       "    this.message = status_bar[0];\n",
       "}\n",
       "\n",
       "mpl.figure.prototype.request_resize = function(x_pixels, y_pixels) {\n",
       "    // Request matplotlib to resize the figure. Matplotlib will then trigger a resize in the client,\n",
       "    // which will in turn request a refresh of the image.\n",
       "    this.send_message('resize', {'width': x_pixels, 'height': y_pixels});\n",
       "}\n",
       "\n",
       "mpl.figure.prototype.send_message = function(type, properties) {\n",
       "    properties['type'] = type;\n",
       "    properties['figure_id'] = this.id;\n",
       "    this.ws.send(JSON.stringify(properties));\n",
       "}\n",
       "\n",
       "mpl.figure.prototype.send_draw_message = function() {\n",
       "    if (!this.waiting) {\n",
       "        this.waiting = true;\n",
       "        this.ws.send(JSON.stringify({type: \"draw\", figure_id: this.id}));\n",
       "    }\n",
       "}\n",
       "\n",
       "\n",
       "mpl.figure.prototype.handle_save = function(fig, msg) {\n",
       "    var format_dropdown = fig.format_dropdown;\n",
       "    var format = format_dropdown.options[format_dropdown.selectedIndex].value;\n",
       "    fig.ondownload(fig, format);\n",
       "}\n",
       "\n",
       "\n",
       "mpl.figure.prototype.handle_resize = function(fig, msg) {\n",
       "    var size = msg['size'];\n",
       "    if (size[0] != fig.canvas.width || size[1] != fig.canvas.height) {\n",
       "        fig._resize_canvas(size[0], size[1]);\n",
       "        fig.send_message(\"refresh\", {});\n",
       "    };\n",
       "}\n",
       "\n",
       "mpl.figure.prototype.handle_rubberband = function(fig, msg) {\n",
       "    var x0 = msg['x0'] / mpl.ratio;\n",
       "    var y0 = (fig.canvas.height - msg['y0']) / mpl.ratio;\n",
       "    var x1 = msg['x1'] / mpl.ratio;\n",
       "    var y1 = (fig.canvas.height - msg['y1']) / mpl.ratio;\n",
       "    x0 = Math.floor(x0) + 0.5;\n",
       "    y0 = Math.floor(y0) + 0.5;\n",
       "    x1 = Math.floor(x1) + 0.5;\n",
       "    y1 = Math.floor(y1) + 0.5;\n",
       "    var min_x = Math.min(x0, x1);\n",
       "    var min_y = Math.min(y0, y1);\n",
       "    var width = Math.abs(x1 - x0);\n",
       "    var height = Math.abs(y1 - y0);\n",
       "\n",
       "    fig.rubberband_context.clearRect(\n",
       "        0, 0, fig.canvas.width, fig.canvas.height);\n",
       "\n",
       "    fig.rubberband_context.strokeRect(min_x, min_y, width, height);\n",
       "}\n",
       "\n",
       "mpl.figure.prototype.handle_figure_label = function(fig, msg) {\n",
       "    // Updates the figure title.\n",
       "    fig.header.textContent = msg['label'];\n",
       "}\n",
       "\n",
       "mpl.figure.prototype.handle_cursor = function(fig, msg) {\n",
       "    var cursor = msg['cursor'];\n",
       "    switch(cursor)\n",
       "    {\n",
       "    case 0:\n",
       "        cursor = 'pointer';\n",
       "        break;\n",
       "    case 1:\n",
       "        cursor = 'default';\n",
       "        break;\n",
       "    case 2:\n",
       "        cursor = 'crosshair';\n",
       "        break;\n",
       "    case 3:\n",
       "        cursor = 'move';\n",
       "        break;\n",
       "    }\n",
       "    fig.rubberband_canvas.style.cursor = cursor;\n",
       "}\n",
       "\n",
       "mpl.figure.prototype.handle_message = function(fig, msg) {\n",
       "    fig.message.textContent = msg['message'];\n",
       "}\n",
       "\n",
       "mpl.figure.prototype.handle_draw = function(fig, msg) {\n",
       "    // Request the server to send over a new figure.\n",
       "    fig.send_draw_message();\n",
       "}\n",
       "\n",
       "mpl.figure.prototype.handle_image_mode = function(fig, msg) {\n",
       "    fig.image_mode = msg['mode'];\n",
       "}\n",
       "\n",
       "mpl.figure.prototype.updated_canvas_event = function() {\n",
       "    // Called whenever the canvas gets updated.\n",
       "    this.send_message(\"ack\", {});\n",
       "}\n",
       "\n",
       "// A function to construct a web socket function for onmessage handling.\n",
       "// Called in the figure constructor.\n",
       "mpl.figure.prototype._make_on_message_function = function(fig) {\n",
       "    return function socket_on_message(evt) {\n",
       "        if (evt.data instanceof Blob) {\n",
       "            /* FIXME: We get \"Resource interpreted as Image but\n",
       "             * transferred with MIME type text/plain:\" errors on\n",
       "             * Chrome.  But how to set the MIME type?  It doesn't seem\n",
       "             * to be part of the websocket stream */\n",
       "            evt.data.type = \"image/png\";\n",
       "\n",
       "            /* Free the memory for the previous frames */\n",
       "            if (fig.imageObj.src) {\n",
       "                (window.URL || window.webkitURL).revokeObjectURL(\n",
       "                    fig.imageObj.src);\n",
       "            }\n",
       "\n",
       "            fig.imageObj.src = (window.URL || window.webkitURL).createObjectURL(\n",
       "                evt.data);\n",
       "            fig.updated_canvas_event();\n",
       "            fig.waiting = false;\n",
       "            return;\n",
       "        }\n",
       "        else if (typeof evt.data === 'string' && evt.data.slice(0, 21) == \"data:image/png;base64\") {\n",
       "            fig.imageObj.src = evt.data;\n",
       "            fig.updated_canvas_event();\n",
       "            fig.waiting = false;\n",
       "            return;\n",
       "        }\n",
       "\n",
       "        var msg = JSON.parse(evt.data);\n",
       "        var msg_type = msg['type'];\n",
       "\n",
       "        // Call the  \"handle_{type}\" callback, which takes\n",
       "        // the figure and JSON message as its only arguments.\n",
       "        try {\n",
       "            var callback = fig[\"handle_\" + msg_type];\n",
       "        } catch (e) {\n",
       "            console.log(\"No handler for the '\" + msg_type + \"' message type: \", msg);\n",
       "            return;\n",
       "        }\n",
       "\n",
       "        if (callback) {\n",
       "            try {\n",
       "                // console.log(\"Handling '\" + msg_type + \"' message: \", msg);\n",
       "                callback(fig, msg);\n",
       "            } catch (e) {\n",
       "                console.log(\"Exception inside the 'handler_\" + msg_type + \"' callback:\", e, e.stack, msg);\n",
       "            }\n",
       "        }\n",
       "    };\n",
       "}\n",
       "\n",
       "// from http://stackoverflow.com/questions/1114465/getting-mouse-location-in-canvas\n",
       "mpl.findpos = function(e) {\n",
       "    //this section is from http://www.quirksmode.org/js/events_properties.html\n",
       "    var targ;\n",
       "    if (!e)\n",
       "        e = window.event;\n",
       "    if (e.target)\n",
       "        targ = e.target;\n",
       "    else if (e.srcElement)\n",
       "        targ = e.srcElement;\n",
       "    if (targ.nodeType == 3) // defeat Safari bug\n",
       "        targ = targ.parentNode;\n",
       "\n",
       "    // jQuery normalizes the pageX and pageY\n",
       "    // pageX,Y are the mouse positions relative to the document\n",
       "    // offset() returns the position of the element relative to the document\n",
       "    var x = e.pageX - $(targ).offset().left;\n",
       "    var y = e.pageY - $(targ).offset().top;\n",
       "\n",
       "    return {\"x\": x, \"y\": y};\n",
       "};\n",
       "\n",
       "/*\n",
       " * return a copy of an object with only non-object keys\n",
       " * we need this to avoid circular references\n",
       " * http://stackoverflow.com/a/24161582/3208463\n",
       " */\n",
       "function simpleKeys (original) {\n",
       "  return Object.keys(original).reduce(function (obj, key) {\n",
       "    if (typeof original[key] !== 'object')\n",
       "        obj[key] = original[key]\n",
       "    return obj;\n",
       "  }, {});\n",
       "}\n",
       "\n",
       "mpl.figure.prototype.mouse_event = function(event, name) {\n",
       "    var canvas_pos = mpl.findpos(event)\n",
       "\n",
       "    if (name === 'button_press')\n",
       "    {\n",
       "        this.canvas.focus();\n",
       "        this.canvas_div.focus();\n",
       "    }\n",
       "\n",
       "    var x = canvas_pos.x * mpl.ratio;\n",
       "    var y = canvas_pos.y * mpl.ratio;\n",
       "\n",
       "    this.send_message(name, {x: x, y: y, button: event.button,\n",
       "                             step: event.step,\n",
       "                             guiEvent: simpleKeys(event)});\n",
       "\n",
       "    /* This prevents the web browser from automatically changing to\n",
       "     * the text insertion cursor when the button is pressed.  We want\n",
       "     * to control all of the cursor setting manually through the\n",
       "     * 'cursor' event from matplotlib */\n",
       "    event.preventDefault();\n",
       "    return false;\n",
       "}\n",
       "\n",
       "mpl.figure.prototype._key_event_extra = function(event, name) {\n",
       "    // Handle any extra behaviour associated with a key event\n",
       "}\n",
       "\n",
       "mpl.figure.prototype.key_event = function(event, name) {\n",
       "\n",
       "    // Prevent repeat events\n",
       "    if (name == 'key_press')\n",
       "    {\n",
       "        if (event.which === this._key)\n",
       "            return;\n",
       "        else\n",
       "            this._key = event.which;\n",
       "    }\n",
       "    if (name == 'key_release')\n",
       "        this._key = null;\n",
       "\n",
       "    var value = '';\n",
       "    if (event.ctrlKey && event.which != 17)\n",
       "        value += \"ctrl+\";\n",
       "    if (event.altKey && event.which != 18)\n",
       "        value += \"alt+\";\n",
       "    if (event.shiftKey && event.which != 16)\n",
       "        value += \"shift+\";\n",
       "\n",
       "    value += 'k';\n",
       "    value += event.which.toString();\n",
       "\n",
       "    this._key_event_extra(event, name);\n",
       "\n",
       "    this.send_message(name, {key: value,\n",
       "                             guiEvent: simpleKeys(event)});\n",
       "    return false;\n",
       "}\n",
       "\n",
       "mpl.figure.prototype.toolbar_button_onclick = function(name) {\n",
       "    if (name == 'download') {\n",
       "        this.handle_save(this, null);\n",
       "    } else {\n",
       "        this.send_message(\"toolbar_button\", {name: name});\n",
       "    }\n",
       "};\n",
       "\n",
       "mpl.figure.prototype.toolbar_button_onmouseover = function(tooltip) {\n",
       "    this.message.textContent = tooltip;\n",
       "};\n",
       "mpl.toolbar_items = [[\"Home\", \"Reset original view\", \"fa fa-home icon-home\", \"home\"], [\"Back\", \"Back to  previous view\", \"fa fa-arrow-left icon-arrow-left\", \"back\"], [\"Forward\", \"Forward to next view\", \"fa fa-arrow-right icon-arrow-right\", \"forward\"], [\"\", \"\", \"\", \"\"], [\"Pan\", \"Pan axes with left mouse, zoom with right\", \"fa fa-arrows icon-move\", \"pan\"], [\"Zoom\", \"Zoom to rectangle\", \"fa fa-square-o icon-check-empty\", \"zoom\"], [\"\", \"\", \"\", \"\"], [\"Download\", \"Download plot\", \"fa fa-floppy-o icon-save\", \"download\"]];\n",
       "\n",
       "mpl.extensions = [\"eps\", \"jpeg\", \"pdf\", \"png\", \"ps\", \"raw\", \"svg\", \"tif\"];\n",
       "\n",
       "mpl.default_extension = \"png\";var comm_websocket_adapter = function(comm) {\n",
       "    // Create a \"websocket\"-like object which calls the given IPython comm\n",
       "    // object with the appropriate methods. Currently this is a non binary\n",
       "    // socket, so there is still some room for performance tuning.\n",
       "    var ws = {};\n",
       "\n",
       "    ws.close = function() {\n",
       "        comm.close()\n",
       "    };\n",
       "    ws.send = function(m) {\n",
       "        //console.log('sending', m);\n",
       "        comm.send(m);\n",
       "    };\n",
       "    // Register the callback with on_msg.\n",
       "    comm.on_msg(function(msg) {\n",
       "        //console.log('receiving', msg['content']['data'], msg);\n",
       "        // Pass the mpl event to the overriden (by mpl) onmessage function.\n",
       "        ws.onmessage(msg['content']['data'])\n",
       "    });\n",
       "    return ws;\n",
       "}\n",
       "\n",
       "mpl.mpl_figure_comm = function(comm, msg) {\n",
       "    // This is the function which gets called when the mpl process\n",
       "    // starts-up an IPython Comm through the \"matplotlib\" channel.\n",
       "\n",
       "    var id = msg.content.data.id;\n",
       "    // Get hold of the div created by the display call when the Comm\n",
       "    // socket was opened in Python.\n",
       "    var element = $(\"#\" + id);\n",
       "    var ws_proxy = comm_websocket_adapter(comm)\n",
       "\n",
       "    function ondownload(figure, format) {\n",
       "        window.open(figure.imageObj.src);\n",
       "    }\n",
       "\n",
       "    var fig = new mpl.figure(id, ws_proxy,\n",
       "                           ondownload,\n",
       "                           element.get(0));\n",
       "\n",
       "    // Call onopen now - mpl needs it, as it is assuming we've passed it a real\n",
       "    // web socket which is closed, not our websocket->open comm proxy.\n",
       "    ws_proxy.onopen();\n",
       "\n",
       "    fig.parent_element = element.get(0);\n",
       "    fig.cell_info = mpl.find_output_cell(\"<div id='\" + id + \"'></div>\");\n",
       "    if (!fig.cell_info) {\n",
       "        console.error(\"Failed to find cell for figure\", id, fig);\n",
       "        return;\n",
       "    }\n",
       "\n",
       "    var output_index = fig.cell_info[2]\n",
       "    var cell = fig.cell_info[0];\n",
       "\n",
       "};\n",
       "\n",
       "mpl.figure.prototype.handle_close = function(fig, msg) {\n",
       "    var width = fig.canvas.width/mpl.ratio\n",
       "    fig.root.unbind('remove')\n",
       "\n",
       "    // Update the output cell to use the data from the current canvas.\n",
       "    fig.push_to_output();\n",
       "    var dataURL = fig.canvas.toDataURL();\n",
       "    // Re-enable the keyboard manager in IPython - without this line, in FF,\n",
       "    // the notebook keyboard shortcuts fail.\n",
       "    IPython.keyboard_manager.enable()\n",
       "    $(fig.parent_element).html('<img src=\"' + dataURL + '\" width=\"' + width + '\">');\n",
       "    fig.close_ws(fig, msg);\n",
       "}\n",
       "\n",
       "mpl.figure.prototype.close_ws = function(fig, msg){\n",
       "    fig.send_message('closing', msg);\n",
       "    // fig.ws.close()\n",
       "}\n",
       "\n",
       "mpl.figure.prototype.push_to_output = function(remove_interactive) {\n",
       "    // Turn the data on the canvas into data in the output cell.\n",
       "    var width = this.canvas.width/mpl.ratio\n",
       "    var dataURL = this.canvas.toDataURL();\n",
       "    this.cell_info[1]['text/html'] = '<img src=\"' + dataURL + '\" width=\"' + width + '\">';\n",
       "}\n",
       "\n",
       "mpl.figure.prototype.updated_canvas_event = function() {\n",
       "    // Tell IPython that the notebook contents must change.\n",
       "    IPython.notebook.set_dirty(true);\n",
       "    this.send_message(\"ack\", {});\n",
       "    var fig = this;\n",
       "    // Wait a second, then push the new image to the DOM so\n",
       "    // that it is saved nicely (might be nice to debounce this).\n",
       "    setTimeout(function () { fig.push_to_output() }, 1000);\n",
       "}\n",
       "\n",
       "mpl.figure.prototype._init_toolbar = function() {\n",
       "    var fig = this;\n",
       "\n",
       "    var nav_element = $('<div/>')\n",
       "    nav_element.attr('style', 'width: 100%');\n",
       "    this.root.append(nav_element);\n",
       "\n",
       "    // Define a callback function for later on.\n",
       "    function toolbar_event(event) {\n",
       "        return fig.toolbar_button_onclick(event['data']);\n",
       "    }\n",
       "    function toolbar_mouse_event(event) {\n",
       "        return fig.toolbar_button_onmouseover(event['data']);\n",
       "    }\n",
       "\n",
       "    for(var toolbar_ind in mpl.toolbar_items){\n",
       "        var name = mpl.toolbar_items[toolbar_ind][0];\n",
       "        var tooltip = mpl.toolbar_items[toolbar_ind][1];\n",
       "        var image = mpl.toolbar_items[toolbar_ind][2];\n",
       "        var method_name = mpl.toolbar_items[toolbar_ind][3];\n",
       "\n",
       "        if (!name) { continue; };\n",
       "\n",
       "        var button = $('<button class=\"btn btn-default\" href=\"#\" title=\"' + name + '\"><i class=\"fa ' + image + ' fa-lg\"></i></button>');\n",
       "        button.click(method_name, toolbar_event);\n",
       "        button.mouseover(tooltip, toolbar_mouse_event);\n",
       "        nav_element.append(button);\n",
       "    }\n",
       "\n",
       "    // Add the status bar.\n",
       "    var status_bar = $('<span class=\"mpl-message\" style=\"text-align:right; float: right;\"/>');\n",
       "    nav_element.append(status_bar);\n",
       "    this.message = status_bar[0];\n",
       "\n",
       "    // Add the close button to the window.\n",
       "    var buttongrp = $('<div class=\"btn-group inline pull-right\"></div>');\n",
       "    var button = $('<button class=\"btn btn-mini btn-primary\" href=\"#\" title=\"Stop Interaction\"><i class=\"fa fa-power-off icon-remove icon-large\"></i></button>');\n",
       "    button.click(function (evt) { fig.handle_close(fig, {}); } );\n",
       "    button.mouseover('Stop Interaction', toolbar_mouse_event);\n",
       "    buttongrp.append(button);\n",
       "    var titlebar = this.root.find($('.ui-dialog-titlebar'));\n",
       "    titlebar.prepend(buttongrp);\n",
       "}\n",
       "\n",
       "mpl.figure.prototype._root_extra_style = function(el){\n",
       "    var fig = this\n",
       "    el.on(\"remove\", function(){\n",
       "\tfig.close_ws(fig, {});\n",
       "    });\n",
       "}\n",
       "\n",
       "mpl.figure.prototype._canvas_extra_style = function(el){\n",
       "    // this is important to make the div 'focusable\n",
       "    el.attr('tabindex', 0)\n",
       "    // reach out to IPython and tell the keyboard manager to turn it's self\n",
       "    // off when our div gets focus\n",
       "\n",
       "    // location in version 3\n",
       "    if (IPython.notebook.keyboard_manager) {\n",
       "        IPython.notebook.keyboard_manager.register_events(el);\n",
       "    }\n",
       "    else {\n",
       "        // location in version 2\n",
       "        IPython.keyboard_manager.register_events(el);\n",
       "    }\n",
       "\n",
       "}\n",
       "\n",
       "mpl.figure.prototype._key_event_extra = function(event, name) {\n",
       "    var manager = IPython.notebook.keyboard_manager;\n",
       "    if (!manager)\n",
       "        manager = IPython.keyboard_manager;\n",
       "\n",
       "    // Check for shift+enter\n",
       "    if (event.shiftKey && event.which == 13) {\n",
       "        this.canvas_div.blur();\n",
       "        event.shiftKey = false;\n",
       "        // Send a \"J\" for go to next cell\n",
       "        event.which = 74;\n",
       "        event.keyCode = 74;\n",
       "        manager.command_mode();\n",
       "        manager.handle_keydown(event);\n",
       "    }\n",
       "}\n",
       "\n",
       "mpl.figure.prototype.handle_save = function(fig, msg) {\n",
       "    fig.ondownload(fig, null);\n",
       "}\n",
       "\n",
       "\n",
       "mpl.find_output_cell = function(html_output) {\n",
       "    // Return the cell and output element which can be found *uniquely* in the notebook.\n",
       "    // Note - this is a bit hacky, but it is done because the \"notebook_saving.Notebook\"\n",
       "    // IPython event is triggered only after the cells have been serialised, which for\n",
       "    // our purposes (turning an active figure into a static one), is too late.\n",
       "    var cells = IPython.notebook.get_cells();\n",
       "    var ncells = cells.length;\n",
       "    for (var i=0; i<ncells; i++) {\n",
       "        var cell = cells[i];\n",
       "        if (cell.cell_type === 'code'){\n",
       "            for (var j=0; j<cell.output_area.outputs.length; j++) {\n",
       "                var data = cell.output_area.outputs[j];\n",
       "                if (data.data) {\n",
       "                    // IPython >= 3 moved mimebundle to data attribute of output\n",
       "                    data = data.data;\n",
       "                }\n",
       "                if (data['text/html'] == html_output) {\n",
       "                    return [cell, data, j];\n",
       "                }\n",
       "            }\n",
       "        }\n",
       "    }\n",
       "}\n",
       "\n",
       "// Register the function which deals with the matplotlib target/channel.\n",
       "// The kernel may be null if the page has been refreshed.\n",
       "if (IPython.notebook.kernel != null) {\n",
       "    IPython.notebook.kernel.comm_manager.register_target('matplotlib', mpl.mpl_figure_comm);\n",
       "}\n"
      ],
      "text/plain": [
       "<IPython.core.display.Javascript object>"
      ]
     },
     "metadata": {},
     "output_type": "display_data"
    },
    {
     "data": {
      "text/html": [
       "<img src=\"data:image/png;base64,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\" width=\"640\">"
      ],
      "text/plain": [
       "<IPython.core.display.HTML object>"
      ]
     },
     "metadata": {},
     "output_type": "display_data"
    }
   ],
   "source": [
    "data['InvoiceDate'].plot();"
   ]
  },
  {
   "cell_type": "code",
   "execution_count": 172,
   "metadata": {
    "collapsed": false
   },
   "outputs": [
    {
     "data": {
      "text/plain": [
       "Timestamp('2011-01-01 00:00:00')"
      ]
     },
     "execution_count": 172,
     "metadata": {},
     "output_type": "execute_result"
    }
   ],
   "source": [
    "pd.Timestamp('January 1, 2011')"
   ]
  },
  {
   "cell_type": "code",
   "execution_count": 281,
   "metadata": {
    "collapsed": false
   },
   "outputs": [],
   "source": [
    "# 1 Dec 2010 + 60 days = cutoff value\n",
    "# training -> data from Dec 1 2010 -> cutoff time\n",
    "# prediction -> cutoff time + 4 weeks\n",
    "cutoff_time = pd.Timestamp('January 30, 2011')\n",
    "prediction_window = ft.Timedelta(\"4 weeks\")\n",
    "training_window = ft.Timedelta(\"60 days\")\n",
    "\n",
    "prediction_window_end = cutoff_time + prediction_window\n",
    "t_start = cutoff_time - training_window"
   ]
  },
  {
   "cell_type": "code",
   "execution_count": 282,
   "metadata": {
    "collapsed": false
   },
   "outputs": [
    {
     "data": {
      "text/plain": [
       "Timestamp('2011-02-27 00:00:00')"
      ]
     },
     "execution_count": 282,
     "metadata": {},
     "output_type": "execute_result"
    }
   ],
   "source": [
    "prediction_window_end"
   ]
  },
  {
   "cell_type": "code",
   "execution_count": 283,
   "metadata": {
    "collapsed": false
   },
   "outputs": [
    {
     "data": {
      "text/plain": [
       "Timestamp('2010-12-01 00:00:00')"
      ]
     },
     "execution_count": 283,
     "metadata": {},
     "output_type": "execute_result"
    }
   ],
   "source": [
    "t_start"
   ]
  },
  {
   "cell_type": "code",
   "execution_count": 284,
   "metadata": {
    "collapsed": true
   },
   "outputs": [],
   "source": [
    "orders = es['orders'].df\n",
    "ops = es['order_products'].df"
   ]
  },
  {
   "cell_type": "code",
   "execution_count": 285,
   "metadata": {
    "collapsed": false
   },
   "outputs": [
    {
     "data": {
      "text/html": [
       "<div>\n",
       "<style scoped>\n",
       "    .dataframe tbody tr th:only-of-type {\n",
       "        vertical-align: middle;\n",
       "    }\n",
       "\n",
       "    .dataframe tbody tr th {\n",
       "        vertical-align: top;\n",
       "    }\n",
       "\n",
       "    .dataframe thead th {\n",
       "        text-align: right;\n",
       "    }\n",
       "</style>\n",
       "<table border=\"1\" class=\"dataframe\">\n",
       "  <thead>\n",
       "    <tr style=\"text-align: right;\">\n",
       "      <th></th>\n",
       "      <th>order_product_id</th>\n",
       "      <th>InvoiceNo</th>\n",
       "      <th>Description</th>\n",
       "      <th>InvoiceDate</th>\n",
       "      <th>Country</th>\n",
       "      <th>UnitPrice</th>\n",
       "      <th>Quantity</th>\n",
       "      <th>Value</th>\n",
       "    </tr>\n",
       "    <tr>\n",
       "      <th>order_product_id</th>\n",
       "      <th></th>\n",
       "      <th></th>\n",
       "      <th></th>\n",
       "      <th></th>\n",
       "      <th></th>\n",
       "      <th></th>\n",
       "      <th></th>\n",
       "      <th></th>\n",
       "    </tr>\n",
       "  </thead>\n",
       "  <tbody>\n",
       "    <tr>\n",
       "      <th>0</th>\n",
       "      <td>0</td>\n",
       "      <td>536365</td>\n",
       "      <td>WHITE HANGING HEART T-LIGHT HOLDER</td>\n",
       "      <td>2010-12-01 08:26:00</td>\n",
       "      <td>United Kingdom</td>\n",
       "      <td>2.55</td>\n",
       "      <td>6</td>\n",
       "      <td>15.30</td>\n",
       "    </tr>\n",
       "    <tr>\n",
       "      <th>1</th>\n",
       "      <td>1</td>\n",
       "      <td>536365</td>\n",
       "      <td>WHITE METAL LANTERN</td>\n",
       "      <td>2010-12-01 08:26:00</td>\n",
       "      <td>United Kingdom</td>\n",
       "      <td>3.39</td>\n",
       "      <td>6</td>\n",
       "      <td>20.34</td>\n",
       "    </tr>\n",
       "    <tr>\n",
       "      <th>2</th>\n",
       "      <td>2</td>\n",
       "      <td>536365</td>\n",
       "      <td>CREAM CUPID HEARTS COAT HANGER</td>\n",
       "      <td>2010-12-01 08:26:00</td>\n",
       "      <td>United Kingdom</td>\n",
       "      <td>2.75</td>\n",
       "      <td>8</td>\n",
       "      <td>22.00</td>\n",
       "    </tr>\n",
       "    <tr>\n",
       "      <th>3</th>\n",
       "      <td>3</td>\n",
       "      <td>536365</td>\n",
       "      <td>KNITTED UNION FLAG HOT WATER BOTTLE</td>\n",
       "      <td>2010-12-01 08:26:00</td>\n",
       "      <td>United Kingdom</td>\n",
       "      <td>3.39</td>\n",
       "      <td>6</td>\n",
       "      <td>20.34</td>\n",
       "    </tr>\n",
       "    <tr>\n",
       "      <th>4</th>\n",
       "      <td>4</td>\n",
       "      <td>536365</td>\n",
       "      <td>RED WOOLLY HOTTIE WHITE HEART.</td>\n",
       "      <td>2010-12-01 08:26:00</td>\n",
       "      <td>United Kingdom</td>\n",
       "      <td>3.39</td>\n",
       "      <td>6</td>\n",
       "      <td>20.34</td>\n",
       "    </tr>\n",
       "  </tbody>\n",
       "</table>\n",
       "</div>"
      ],
      "text/plain": [
       "                  order_product_id InvoiceNo  \\\n",
       "order_product_id                               \n",
       "0                                0    536365   \n",
       "1                                1    536365   \n",
       "2                                2    536365   \n",
       "3                                3    536365   \n",
       "4                                4    536365   \n",
       "\n",
       "                                          Description         InvoiceDate  \\\n",
       "order_product_id                                                            \n",
       "0                  WHITE HANGING HEART T-LIGHT HOLDER 2010-12-01 08:26:00   \n",
       "1                                 WHITE METAL LANTERN 2010-12-01 08:26:00   \n",
       "2                      CREAM CUPID HEARTS COAT HANGER 2010-12-01 08:26:00   \n",
       "3                 KNITTED UNION FLAG HOT WATER BOTTLE 2010-12-01 08:26:00   \n",
       "4                      RED WOOLLY HOTTIE WHITE HEART. 2010-12-01 08:26:00   \n",
       "\n",
       "                         Country  UnitPrice  Quantity  Value  \n",
       "order_product_id                                              \n",
       "0                 United Kingdom       2.55         6  15.30  \n",
       "1                 United Kingdom       3.39         6  20.34  \n",
       "2                 United Kingdom       2.75         8  22.00  \n",
       "3                 United Kingdom       3.39         6  20.34  \n",
       "4                 United Kingdom       3.39         6  20.34  "
      ]
     },
     "execution_count": 285,
     "metadata": {},
     "output_type": "execute_result"
    }
   ],
   "source": [
    "ops.head()"
   ]
  },
  {
   "cell_type": "code",
   "execution_count": 286,
   "metadata": {
    "collapsed": false
   },
   "outputs": [
    {
     "data": {
      "text/html": [
       "<div>\n",
       "<style scoped>\n",
       "    .dataframe tbody tr th:only-of-type {\n",
       "        vertical-align: middle;\n",
       "    }\n",
       "\n",
       "    .dataframe tbody tr th {\n",
       "        vertical-align: top;\n",
       "    }\n",
       "\n",
       "    .dataframe thead th {\n",
       "        text-align: right;\n",
       "    }\n",
       "</style>\n",
       "<table border=\"1\" class=\"dataframe\">\n",
       "  <thead>\n",
       "    <tr style=\"text-align: right;\">\n",
       "      <th></th>\n",
       "      <th>InvoiceNo</th>\n",
       "      <th>CustomerID</th>\n",
       "      <th>InvoiceDate</th>\n",
       "    </tr>\n",
       "    <tr>\n",
       "      <th>InvoiceNo</th>\n",
       "      <th></th>\n",
       "      <th></th>\n",
       "      <th></th>\n",
       "    </tr>\n",
       "  </thead>\n",
       "  <tbody>\n",
       "    <tr>\n",
       "      <th>536365</th>\n",
       "      <td>536365</td>\n",
       "      <td>17850.0</td>\n",
       "      <td>2010-12-01 08:26:00</td>\n",
       "    </tr>\n",
       "    <tr>\n",
       "      <th>536366</th>\n",
       "      <td>536366</td>\n",
       "      <td>17850.0</td>\n",
       "      <td>2010-12-01 08:28:00</td>\n",
       "    </tr>\n",
       "    <tr>\n",
       "      <th>536367</th>\n",
       "      <td>536367</td>\n",
       "      <td>13047.0</td>\n",
       "      <td>2010-12-01 08:34:00</td>\n",
       "    </tr>\n",
       "    <tr>\n",
       "      <th>536368</th>\n",
       "      <td>536368</td>\n",
       "      <td>13047.0</td>\n",
       "      <td>2010-12-01 08:34:00</td>\n",
       "    </tr>\n",
       "    <tr>\n",
       "      <th>536369</th>\n",
       "      <td>536369</td>\n",
       "      <td>13047.0</td>\n",
       "      <td>2010-12-01 08:35:00</td>\n",
       "    </tr>\n",
       "  </tbody>\n",
       "</table>\n",
       "</div>"
      ],
      "text/plain": [
       "          InvoiceNo  CustomerID         InvoiceDate\n",
       "InvoiceNo                                          \n",
       "536365       536365     17850.0 2010-12-01 08:26:00\n",
       "536366       536366     17850.0 2010-12-01 08:28:00\n",
       "536367       536367     13047.0 2010-12-01 08:34:00\n",
       "536368       536368     13047.0 2010-12-01 08:34:00\n",
       "536369       536369     13047.0 2010-12-01 08:35:00"
      ]
     },
     "execution_count": 286,
     "metadata": {},
     "output_type": "execute_result"
    }
   ],
   "source": [
    "orders.head()"
   ]
  },
  {
   "cell_type": "code",
   "execution_count": 287,
   "metadata": {
    "collapsed": false
   },
   "outputs": [],
   "source": [
    "training_data = ops[(ops['InvoiceDate'] <= cutoff_time) & (ops['InvoiceDate'] > t_start)]\n",
    "prediction_data = ops[(ops['InvoiceDate'] > cutoff_time) & (ops['InvoiceDate'] < prediction_window_end)]"
   ]
  },
  {
   "cell_type": "code",
   "execution_count": 289,
   "metadata": {
    "collapsed": false
   },
   "outputs": [],
   "source": [
    "users_in_training = training_data.merge(orders)['CustomerID'].unique()"
   ]
  },
  {
   "cell_type": "code",
   "execution_count": 290,
   "metadata": {
    "collapsed": false
   },
   "outputs": [],
   "source": [
    "valid_pred_data = prediction_data.merge(orders)\n",
    "valid_pred_data = valid_pred_data[valid_pred_data['CustomerID'].isin(users_in_training)]"
   ]
  },
  {
   "cell_type": "code",
   "execution_count": 291,
   "metadata": {
    "collapsed": false
   },
   "outputs": [
    {
     "data": {
      "text/html": [
       "<div>\n",
       "<style scoped>\n",
       "    .dataframe tbody tr th:only-of-type {\n",
       "        vertical-align: middle;\n",
       "    }\n",
       "\n",
       "    .dataframe tbody tr th {\n",
       "        vertical-align: top;\n",
       "    }\n",
       "\n",
       "    .dataframe thead th {\n",
       "        text-align: right;\n",
       "    }\n",
       "</style>\n",
       "<table border=\"1\" class=\"dataframe\">\n",
       "  <thead>\n",
       "    <tr style=\"text-align: right;\">\n",
       "      <th></th>\n",
       "      <th>order_product_id</th>\n",
       "      <th>InvoiceNo</th>\n",
       "      <th>Description</th>\n",
       "      <th>InvoiceDate</th>\n",
       "      <th>Country</th>\n",
       "      <th>UnitPrice</th>\n",
       "      <th>Quantity</th>\n",
       "      <th>Value</th>\n",
       "      <th>CustomerID</th>\n",
       "    </tr>\n",
       "  </thead>\n",
       "  <tbody>\n",
       "    <tr>\n",
       "      <th>0</th>\n",
       "      <td>47004</td>\n",
       "      <td>542595</td>\n",
       "      <td>ASSORTED EASTER DECORATIONS  BELLS</td>\n",
       "      <td>2011-01-30 10:19:00</td>\n",
       "      <td>United Kingdom</td>\n",
       "      <td>1.25</td>\n",
       "      <td>6</td>\n",
       "      <td>7.50</td>\n",
       "      <td>14040.0</td>\n",
       "    </tr>\n",
       "    <tr>\n",
       "      <th>1</th>\n",
       "      <td>47005</td>\n",
       "      <td>542595</td>\n",
       "      <td>DOORMAT HEARTS</td>\n",
       "      <td>2011-01-30 10:19:00</td>\n",
       "      <td>United Kingdom</td>\n",
       "      <td>7.95</td>\n",
       "      <td>1</td>\n",
       "      <td>7.95</td>\n",
       "      <td>14040.0</td>\n",
       "    </tr>\n",
       "    <tr>\n",
       "      <th>2</th>\n",
       "      <td>47006</td>\n",
       "      <td>542595</td>\n",
       "      <td>DOORMAT RED RETROSPOT</td>\n",
       "      <td>2011-01-30 10:19:00</td>\n",
       "      <td>United Kingdom</td>\n",
       "      <td>7.95</td>\n",
       "      <td>2</td>\n",
       "      <td>15.90</td>\n",
       "      <td>14040.0</td>\n",
       "    </tr>\n",
       "    <tr>\n",
       "      <th>3</th>\n",
       "      <td>47007</td>\n",
       "      <td>542595</td>\n",
       "      <td>DOORMAT WELCOME PUPPIES</td>\n",
       "      <td>2011-01-30 10:19:00</td>\n",
       "      <td>United Kingdom</td>\n",
       "      <td>7.95</td>\n",
       "      <td>1</td>\n",
       "      <td>7.95</td>\n",
       "      <td>14040.0</td>\n",
       "    </tr>\n",
       "    <tr>\n",
       "      <th>4</th>\n",
       "      <td>47008</td>\n",
       "      <td>542595</td>\n",
       "      <td>DOORMAT UNION JACK GUNS AND ROSES</td>\n",
       "      <td>2011-01-30 10:19:00</td>\n",
       "      <td>United Kingdom</td>\n",
       "      <td>7.95</td>\n",
       "      <td>1</td>\n",
       "      <td>7.95</td>\n",
       "      <td>14040.0</td>\n",
       "    </tr>\n",
       "  </tbody>\n",
       "</table>\n",
       "</div>"
      ],
      "text/plain": [
       "   order_product_id InvoiceNo                         Description  \\\n",
       "0             47004    542595  ASSORTED EASTER DECORATIONS  BELLS   \n",
       "1             47005    542595                      DOORMAT HEARTS   \n",
       "2             47006    542595               DOORMAT RED RETROSPOT   \n",
       "3             47007    542595             DOORMAT WELCOME PUPPIES   \n",
       "4             47008    542595   DOORMAT UNION JACK GUNS AND ROSES   \n",
       "\n",
       "          InvoiceDate         Country  UnitPrice  Quantity  Value  CustomerID  \n",
       "0 2011-01-30 10:19:00  United Kingdom       1.25         6   7.50     14040.0  \n",
       "1 2011-01-30 10:19:00  United Kingdom       7.95         1   7.95     14040.0  \n",
       "2 2011-01-30 10:19:00  United Kingdom       7.95         2  15.90     14040.0  \n",
       "3 2011-01-30 10:19:00  United Kingdom       7.95         1   7.95     14040.0  \n",
       "4 2011-01-30 10:19:00  United Kingdom       7.95         1   7.95     14040.0  "
      ]
     },
     "execution_count": 291,
     "metadata": {},
     "output_type": "execute_result"
    }
   ],
   "source": [
    "valid_pred_data.head()"
   ]
  },
  {
   "cell_type": "code",
   "execution_count": 293,
   "metadata": {
    "collapsed": true
   },
   "outputs": [],
   "source": [
    "# get how much a customer spent each month on average- whether they were big spenders in the past\n",
    "# predict whether they will be a big spender in the next month"
   ]
  },
  {
   "cell_type": "code",
   "execution_count": 548,
   "metadata": {
    "collapsed": true
   },
   "outputs": [],
   "source": [
    "label = 'high_value_customer'"
   ]
  },
  {
   "cell_type": "markdown",
   "metadata": {},
   "source": [
    "### High value customer?"
   ]
  },
  {
   "cell_type": "code",
   "execution_count": 549,
   "metadata": {
    "collapsed": true
   },
   "outputs": [],
   "source": [
    "# 2 months of data per each customer, get a 80 percetile of customers based on spending (high spenders)"
   ]
  },
  {
   "cell_type": "code",
   "execution_count": 550,
   "metadata": {
    "collapsed": true
   },
   "outputs": [],
   "source": [
    "high_value = (data.groupby('CustomerID').sum()['Value'] / 2).quantile(0.80)"
   ]
  },
  {
   "cell_type": "code",
   "execution_count": 551,
   "metadata": {
    "collapsed": false
   },
   "outputs": [],
   "source": [
    "if label == 'high_value_customer':\n",
    "    label_times = pd.DataFrame((valid_pred_data.groupby('CustomerID').sum()['Value'] / 2) > high_value).reset_index()\n",
    "    label_times['cutoff_time'] = cutoff_time\n",
    "    label_times.columns = ['CustomerID', 'label', 'time']\n",
    "    label_times.head()"
   ]
  },
  {
   "cell_type": "code",
   "execution_count": 552,
   "metadata": {
    "collapsed": false
   },
   "outputs": [
    {
     "data": {
      "text/plain": [
       "429"
      ]
     },
     "execution_count": 552,
     "metadata": {},
     "output_type": "execute_result"
    }
   ],
   "source": [
    "len(label_times['CustomerID'].unique())"
   ]
  },
  {
   "cell_type": "markdown",
   "metadata": {},
   "source": [
    "### Repurchase product?"
   ]
  },
  {
   "cell_type": "code",
   "execution_count": 553,
   "metadata": {
    "collapsed": false
   },
   "outputs": [
    {
     "data": {
      "text/plain": [
       "WHITE HANGING HEART T-LIGHT HOLDER    2070\n",
       "REGENCY CAKESTAND 3 TIER              1905\n",
       "JUMBO BAG RED RETROSPOT               1662\n",
       "ASSORTED COLOUR BIRD ORNAMENT         1418\n",
       "PARTY BUNTING                         1416\n",
       "LUNCH BAG RED RETROSPOT               1358\n",
       "SET OF 3 CAKE TINS PANTRY DESIGN      1232\n",
       "POSTAGE                               1196\n",
       "LUNCH BAG  BLACK SKULL.               1126\n",
       "PACK OF 72 RETROSPOT CAKE CASES       1080\n",
       "PAPER CHAIN KIT 50'S CHRISTMAS        1029\n",
       "SPOTTY BUNTING                        1029\n",
       "LUNCH BAG SPACEBOY DESIGN             1021\n",
       "LUNCH BAG CARS BLUE                   1012\n",
       "NATURAL SLATE HEART CHALKBOARD         997\n",
       "HEART OF WICKER SMALL                  996\n",
       "LUNCH BAG PINK POLKADOT                977\n",
       "JAM MAKING SET WITH JARS               974\n",
       "REX CASH+CARRY JUMBO SHOPPER           955\n",
       "LUNCH BAG SUKI DESIGN                  950\n",
       "Name: Description, dtype: int64"
      ]
     },
     "execution_count": 553,
     "metadata": {},
     "output_type": "execute_result"
    }
   ],
   "source": [
    "data['Description'].value_counts()[0:20]"
   ]
  },
  {
   "cell_type": "code",
   "execution_count": 554,
   "metadata": {
    "collapsed": false
   },
   "outputs": [
    {
     "data": {
      "text/plain": [
       "445"
      ]
     },
     "execution_count": 554,
     "metadata": {},
     "output_type": "execute_result"
    }
   ],
   "source": [
    "len(data[data['Description'] == 'LUNCH BAG PINK POLKADOT']['CustomerID'].unique())"
   ]
  },
  {
   "cell_type": "code",
   "execution_count": 555,
   "metadata": {
    "collapsed": false
   },
   "outputs": [
    {
     "data": {
      "text/plain": [
       "[13148.0, 12720.0, 17068.0, 14744.0, 12682.0]"
      ]
     },
     "execution_count": 555,
     "metadata": {},
     "output_type": "execute_result"
    }
   ],
   "source": [
    "# did the customer buy the product?\n",
    "customer_bought_product = valid_pred_data[valid_pred_data['Description'] ==  'LUNCH BAG PINK POLKADOT']['CustomerID'].tolist()\n",
    "customer_bought_product[0:5]"
   ]
  },
  {
   "cell_type": "code",
   "execution_count": 556,
   "metadata": {
    "collapsed": false
   },
   "outputs": [],
   "source": [
    "# bought a product?\n",
    "if label == 'repurchase_product':\n",
    "    customer_bought_product = valid_pred_data[valid_pred_data['Description'] ==  'LUNCH BAG PINK POLKADOT']['CustomerID'].tolist()\n",
    "    customer_bought_product_binary = valid_pred_data['CustomerID'].isin(customer_bought_product)\n",
    "    label_times = pd.DataFrame(valid_pred_data['CustomerID'].unique())\n",
    "    label_times['label'] = customer_bought_product_binary\n",
    "    label_times['cutoff_time'] = cutoff_time\n",
    "    label_times.columns = ['CustomerID', 'label', 'time']"
   ]
  },
  {
   "cell_type": "code",
   "execution_count": 557,
   "metadata": {
    "collapsed": false
   },
   "outputs": [
    {
     "data": {
      "text/html": [
       "<div>\n",
       "<style scoped>\n",
       "    .dataframe tbody tr th:only-of-type {\n",
       "        vertical-align: middle;\n",
       "    }\n",
       "\n",
       "    .dataframe tbody tr th {\n",
       "        vertical-align: top;\n",
       "    }\n",
       "\n",
       "    .dataframe thead th {\n",
       "        text-align: right;\n",
       "    }\n",
       "</style>\n",
       "<table border=\"1\" class=\"dataframe\">\n",
       "  <thead>\n",
       "    <tr style=\"text-align: right;\">\n",
       "      <th></th>\n",
       "      <th>CustomerID</th>\n",
       "      <th>label</th>\n",
       "      <th>time</th>\n",
       "    </tr>\n",
       "  </thead>\n",
       "  <tbody>\n",
       "    <tr>\n",
       "      <th>0</th>\n",
       "      <td>12359.0</td>\n",
       "      <td>False</td>\n",
       "      <td>2011-01-30</td>\n",
       "    </tr>\n",
       "    <tr>\n",
       "      <th>1</th>\n",
       "      <td>12388.0</td>\n",
       "      <td>False</td>\n",
       "      <td>2011-01-30</td>\n",
       "    </tr>\n",
       "    <tr>\n",
       "      <th>2</th>\n",
       "      <td>12395.0</td>\n",
       "      <td>False</td>\n",
       "      <td>2011-01-30</td>\n",
       "    </tr>\n",
       "    <tr>\n",
       "      <th>3</th>\n",
       "      <td>12415.0</td>\n",
       "      <td>True</td>\n",
       "      <td>2011-01-30</td>\n",
       "    </tr>\n",
       "    <tr>\n",
       "      <th>4</th>\n",
       "      <td>12423.0</td>\n",
       "      <td>False</td>\n",
       "      <td>2011-01-30</td>\n",
       "    </tr>\n",
       "  </tbody>\n",
       "</table>\n",
       "</div>"
      ],
      "text/plain": [
       "   CustomerID  label       time\n",
       "0     12359.0  False 2011-01-30\n",
       "1     12388.0  False 2011-01-30\n",
       "2     12395.0  False 2011-01-30\n",
       "3     12415.0   True 2011-01-30\n",
       "4     12423.0  False 2011-01-30"
      ]
     },
     "execution_count": 557,
     "metadata": {},
     "output_type": "execute_result"
    }
   ],
   "source": [
    "label_times.head()"
   ]
  },
  {
   "cell_type": "code",
   "execution_count": 558,
   "metadata": {
    "collapsed": false
   },
   "outputs": [
    {
     "data": {
      "text/plain": [
       "False    406\n",
       "True      23\n",
       "Name: label, dtype: int64"
      ]
     },
     "execution_count": 558,
     "metadata": {},
     "output_type": "execute_result"
    }
   ],
   "source": [
    "# class balance\n",
    "label_times['label'].value_counts()"
   ]
  },
  {
   "cell_type": "markdown",
   "metadata": {},
   "source": [
    "## 5. Automated feature engineering"
   ]
  },
  {
   "cell_type": "code",
   "execution_count": 559,
   "metadata": {
    "collapsed": false
   },
   "outputs": [
    {
     "name": "stdout",
     "output_type": "stream",
     "text": [
      "Building features: 190it [00:00, 2743.21it/s]\n",
      "Progress:   0%|          | 0/1 [00:00<?, ?cutoff time/s]2018-01-07 17:06:33,069 featuretools.entityset - WARNING    Using training_window but last_time_index is not set on entity customers\n",
      "2018-01-07 17:06:33,291 featuretools.entityset - WARNING    Using training_window but last_time_index is not set on entity orders\n",
      "2018-01-07 17:06:33,668 featuretools.entityset - WARNING    Using training_window but last_time_index is not set on entity order_products\n",
      "Progress: 100%|██████████| 1/1 [00:34<00:00, 34.80s/cutoff time]\n"
     ]
    }
   ],
   "source": [
    "feature_matrix, features = ft.dfs(target_entity='customers',\n",
    "                                 cutoff_time=label_times,\n",
    "                                 training_window=ft.Timedelta('60 days'),\n",
    "                                 entityset=es,\n",
    "                                 verbose=True)"
   ]
  },
  {
   "cell_type": "code",
   "execution_count": 560,
   "metadata": {
    "collapsed": false
   },
   "outputs": [
    {
     "name": "stdout",
     "output_type": "stream",
     "text": [
      "Number of features 230\n"
     ]
    },
    {
     "data": {
      "text/html": [
       "<div>\n",
       "<style scoped>\n",
       "    .dataframe tbody tr th:only-of-type {\n",
       "        vertical-align: middle;\n",
       "    }\n",
       "\n",
       "    .dataframe tbody tr th {\n",
       "        vertical-align: top;\n",
       "    }\n",
       "\n",
       "    .dataframe thead th {\n",
       "        text-align: right;\n",
       "    }\n",
       "</style>\n",
       "<table border=\"1\" class=\"dataframe\">\n",
       "  <thead>\n",
       "    <tr style=\"text-align: right;\">\n",
       "      <th></th>\n",
       "      <th>SUM(order_products.UnitPrice)</th>\n",
       "      <th>SKEW(order_products.UnitPrice)</th>\n",
       "      <th>SUM(order_products.Value)</th>\n",
       "      <th>MAX(order_products.Quantity)</th>\n",
       "      <th>MIN(order_products.Quantity)</th>\n",
       "      <th>SUM(order_products.Quantity)</th>\n",
       "      <th>STD(order_products.Value)</th>\n",
       "      <th>MAX(order_products.Value)</th>\n",
       "      <th>SKEW(order_products.Value)</th>\n",
       "      <th>MAX(order_products.UnitPrice)</th>\n",
       "      <th>...</th>\n",
       "      <th>MIN(orders.STD(order_products.Value))</th>\n",
       "      <th>SUM(orders.MAX(order_products.Value))</th>\n",
       "      <th>MAX(orders.STD(order_products.UnitPrice))</th>\n",
       "      <th>NUM_UNIQUE(orders.MODE(order_products.Description))</th>\n",
       "      <th>MEAN(orders.STD(order_products.UnitPrice))</th>\n",
       "      <th>MIN(orders.SUM(order_products.Quantity))</th>\n",
       "      <th>MIN(orders.COUNT(order_products))</th>\n",
       "      <th>SKEW(orders.STD(order_products.UnitPrice))</th>\n",
       "      <th>SUM(orders.SKEW(order_products.UnitPrice))</th>\n",
       "      <th>STD(orders.NUM_UNIQUE(order_products.Country))</th>\n",
       "    </tr>\n",
       "    <tr>\n",
       "      <th>CustomerID</th>\n",
       "      <th></th>\n",
       "      <th></th>\n",
       "      <th></th>\n",
       "      <th></th>\n",
       "      <th></th>\n",
       "      <th></th>\n",
       "      <th></th>\n",
       "      <th></th>\n",
       "      <th></th>\n",
       "      <th></th>\n",
       "      <th></th>\n",
       "      <th></th>\n",
       "      <th></th>\n",
       "      <th></th>\n",
       "      <th></th>\n",
       "      <th></th>\n",
       "      <th></th>\n",
       "      <th></th>\n",
       "      <th></th>\n",
       "      <th></th>\n",
       "      <th></th>\n",
       "    </tr>\n",
       "  </thead>\n",
       "  <tbody>\n",
       "    <tr>\n",
       "      <th>12359.0</th>\n",
       "      <td>292.01</td>\n",
       "      <td>2.244135</td>\n",
       "      <td>547.50</td>\n",
       "      <td>20</td>\n",
       "      <td>1</td>\n",
       "      <td>144</td>\n",
       "      <td>39.468452</td>\n",
       "      <td>125.0</td>\n",
       "      <td>1.504796</td>\n",
       "      <td>125.00</td>\n",
       "      <td>...</td>\n",
       "      <td>39.468452</td>\n",
       "      <td>125.00</td>\n",
       "      <td>40.457023</td>\n",
       "      <td>1</td>\n",
       "      <td>40.457023</td>\n",
       "      <td>144</td>\n",
       "      <td>16</td>\n",
       "      <td>0.000000</td>\n",
       "      <td>2.244135</td>\n",
       "      <td>0</td>\n",
       "    </tr>\n",
       "    <tr>\n",
       "      <th>12388.0</th>\n",
       "      <td>52.15</td>\n",
       "      <td>0.292934</td>\n",
       "      <td>431.30</td>\n",
       "      <td>24</td>\n",
       "      <td>3</td>\n",
       "      <td>204</td>\n",
       "      <td>11.552341</td>\n",
       "      <td>47.4</td>\n",
       "      <td>0.725324</td>\n",
       "      <td>5.45</td>\n",
       "      <td>...</td>\n",
       "      <td>11.552341</td>\n",
       "      <td>47.40</td>\n",
       "      <td>1.634327</td>\n",
       "      <td>1</td>\n",
       "      <td>1.634327</td>\n",
       "      <td>204</td>\n",
       "      <td>19</td>\n",
       "      <td>0.000000</td>\n",
       "      <td>0.292934</td>\n",
       "      <td>0</td>\n",
       "    </tr>\n",
       "    <tr>\n",
       "      <th>12395.0</th>\n",
       "      <td>108.04</td>\n",
       "      <td>1.966699</td>\n",
       "      <td>676.97</td>\n",
       "      <td>120</td>\n",
       "      <td>-1</td>\n",
       "      <td>752</td>\n",
       "      <td>15.517956</td>\n",
       "      <td>54.0</td>\n",
       "      <td>0.701825</td>\n",
       "      <td>18.00</td>\n",
       "      <td>...</td>\n",
       "      <td>0.000000</td>\n",
       "      <td>101.45</td>\n",
       "      <td>5.159708</td>\n",
       "      <td>3</td>\n",
       "      <td>3.388093</td>\n",
       "      <td>-1</td>\n",
       "      <td>1</td>\n",
       "      <td>-0.704885</td>\n",
       "      <td>3.928814</td>\n",
       "      <td>0</td>\n",
       "    </tr>\n",
       "    <tr>\n",
       "      <th>12415.0</th>\n",
       "      <td>86.93</td>\n",
       "      <td>2.145328</td>\n",
       "      <td>7092.98</td>\n",
       "      <td>576</td>\n",
       "      <td>6</td>\n",
       "      <td>4758</td>\n",
       "      <td>158.262888</td>\n",
       "      <td>1020.0</td>\n",
       "      <td>3.922171</td>\n",
       "      <td>6.75</td>\n",
       "      <td>...</td>\n",
       "      <td>0.000000</td>\n",
       "      <td>1101.60</td>\n",
       "      <td>1.372000</td>\n",
       "      <td>2</td>\n",
       "      <td>0.686000</td>\n",
       "      <td>96</td>\n",
       "      <td>1</td>\n",
       "      <td>0.000000</td>\n",
       "      <td>2.120915</td>\n",
       "      <td>0</td>\n",
       "    </tr>\n",
       "    <tr>\n",
       "      <th>12423.0</th>\n",
       "      <td>42.19</td>\n",
       "      <td>2.423421</td>\n",
       "      <td>237.93</td>\n",
       "      <td>24</td>\n",
       "      <td>2</td>\n",
       "      <td>188</td>\n",
       "      <td>9.236188</td>\n",
       "      <td>45.0</td>\n",
       "      <td>2.349945</td>\n",
       "      <td>15.00</td>\n",
       "      <td>...</td>\n",
       "      <td>9.236188</td>\n",
       "      <td>45.00</td>\n",
       "      <td>3.715206</td>\n",
       "      <td>1</td>\n",
       "      <td>3.715206</td>\n",
       "      <td>188</td>\n",
       "      <td>16</td>\n",
       "      <td>0.000000</td>\n",
       "      <td>2.423421</td>\n",
       "      <td>0</td>\n",
       "    </tr>\n",
       "  </tbody>\n",
       "</table>\n",
       "<p>5 rows × 230 columns</p>\n",
       "</div>"
      ],
      "text/plain": [
       "            SUM(order_products.UnitPrice)  SKEW(order_products.UnitPrice)  \\\n",
       "CustomerID                                                                  \n",
       "12359.0                            292.01                        2.244135   \n",
       "12388.0                             52.15                        0.292934   \n",
       "12395.0                            108.04                        1.966699   \n",
       "12415.0                             86.93                        2.145328   \n",
       "12423.0                             42.19                        2.423421   \n",
       "\n",
       "            SUM(order_products.Value)  MAX(order_products.Quantity)  \\\n",
       "CustomerID                                                            \n",
       "12359.0                        547.50                            20   \n",
       "12388.0                        431.30                            24   \n",
       "12395.0                        676.97                           120   \n",
       "12415.0                       7092.98                           576   \n",
       "12423.0                        237.93                            24   \n",
       "\n",
       "            MIN(order_products.Quantity)  SUM(order_products.Quantity)  \\\n",
       "CustomerID                                                               \n",
       "12359.0                                1                           144   \n",
       "12388.0                                3                           204   \n",
       "12395.0                               -1                           752   \n",
       "12415.0                                6                          4758   \n",
       "12423.0                                2                           188   \n",
       "\n",
       "            STD(order_products.Value)  MAX(order_products.Value)  \\\n",
       "CustomerID                                                         \n",
       "12359.0                     39.468452                      125.0   \n",
       "12388.0                     11.552341                       47.4   \n",
       "12395.0                     15.517956                       54.0   \n",
       "12415.0                    158.262888                     1020.0   \n",
       "12423.0                      9.236188                       45.0   \n",
       "\n",
       "            SKEW(order_products.Value)  MAX(order_products.UnitPrice)  \\\n",
       "CustomerID                                                              \n",
       "12359.0                       1.504796                         125.00   \n",
       "12388.0                       0.725324                           5.45   \n",
       "12395.0                       0.701825                          18.00   \n",
       "12415.0                       3.922171                           6.75   \n",
       "12423.0                       2.349945                          15.00   \n",
       "\n",
       "                                 ...                        \\\n",
       "CustomerID                       ...                         \n",
       "12359.0                          ...                         \n",
       "12388.0                          ...                         \n",
       "12395.0                          ...                         \n",
       "12415.0                          ...                         \n",
       "12423.0                          ...                         \n",
       "\n",
       "            MIN(orders.STD(order_products.Value))  \\\n",
       "CustomerID                                          \n",
       "12359.0                                 39.468452   \n",
       "12388.0                                 11.552341   \n",
       "12395.0                                  0.000000   \n",
       "12415.0                                  0.000000   \n",
       "12423.0                                  9.236188   \n",
       "\n",
       "            SUM(orders.MAX(order_products.Value))  \\\n",
       "CustomerID                                          \n",
       "12359.0                                    125.00   \n",
       "12388.0                                     47.40   \n",
       "12395.0                                    101.45   \n",
       "12415.0                                   1101.60   \n",
       "12423.0                                     45.00   \n",
       "\n",
       "            MAX(orders.STD(order_products.UnitPrice))  \\\n",
       "CustomerID                                              \n",
       "12359.0                                     40.457023   \n",
       "12388.0                                      1.634327   \n",
       "12395.0                                      5.159708   \n",
       "12415.0                                      1.372000   \n",
       "12423.0                                      3.715206   \n",
       "\n",
       "            NUM_UNIQUE(orders.MODE(order_products.Description))  \\\n",
       "CustomerID                                                        \n",
       "12359.0                                                     1     \n",
       "12388.0                                                     1     \n",
       "12395.0                                                     3     \n",
       "12415.0                                                     2     \n",
       "12423.0                                                     1     \n",
       "\n",
       "            MEAN(orders.STD(order_products.UnitPrice))  \\\n",
       "CustomerID                                               \n",
       "12359.0                                      40.457023   \n",
       "12388.0                                       1.634327   \n",
       "12395.0                                       3.388093   \n",
       "12415.0                                       0.686000   \n",
       "12423.0                                       3.715206   \n",
       "\n",
       "            MIN(orders.SUM(order_products.Quantity))  \\\n",
       "CustomerID                                             \n",
       "12359.0                                          144   \n",
       "12388.0                                          204   \n",
       "12395.0                                           -1   \n",
       "12415.0                                           96   \n",
       "12423.0                                          188   \n",
       "\n",
       "            MIN(orders.COUNT(order_products))  \\\n",
       "CustomerID                                      \n",
       "12359.0                                    16   \n",
       "12388.0                                    19   \n",
       "12395.0                                     1   \n",
       "12415.0                                     1   \n",
       "12423.0                                    16   \n",
       "\n",
       "            SKEW(orders.STD(order_products.UnitPrice))  \\\n",
       "CustomerID                                               \n",
       "12359.0                                       0.000000   \n",
       "12388.0                                       0.000000   \n",
       "12395.0                                      -0.704885   \n",
       "12415.0                                       0.000000   \n",
       "12423.0                                       0.000000   \n",
       "\n",
       "            SUM(orders.SKEW(order_products.UnitPrice))  \\\n",
       "CustomerID                                               \n",
       "12359.0                                       2.244135   \n",
       "12388.0                                       0.292934   \n",
       "12395.0                                       3.928814   \n",
       "12415.0                                       2.120915   \n",
       "12423.0                                       2.423421   \n",
       "\n",
       "            STD(orders.NUM_UNIQUE(order_products.Country))  \n",
       "CustomerID                                                  \n",
       "12359.0                                                  0  \n",
       "12388.0                                                  0  \n",
       "12395.0                                                  0  \n",
       "12415.0                                                  0  \n",
       "12423.0                                                  0  \n",
       "\n",
       "[5 rows x 230 columns]"
      ]
     },
     "execution_count": 560,
     "metadata": {},
     "output_type": "execute_result"
    }
   ],
   "source": [
    "# encode categorical features\n",
    "fm_encoded, features_encoded = ft.encode_features(feature_matrix,\n",
    "                                                 features)\n",
    "\n",
    "print('Number of features %s' % len(features_encoded))\n",
    "fm_encoded.head()"
   ]
  },
  {
   "cell_type": "code",
   "execution_count": 561,
   "metadata": {
    "collapsed": false
   },
   "outputs": [
    {
     "data": {
      "text/plain": [
       "0                          SUM(order_products.UnitPrice)\n",
       "1                         SKEW(order_products.UnitPrice)\n",
       "2                              SUM(order_products.Value)\n",
       "3                           MAX(order_products.Quantity)\n",
       "4                           MIN(order_products.Quantity)\n",
       "5                           SUM(order_products.Quantity)\n",
       "6                              STD(order_products.Value)\n",
       "7                              MAX(order_products.Value)\n",
       "8                             SKEW(order_products.Value)\n",
       "9                          MAX(order_products.UnitPrice)\n",
       "10                    NUM_UNIQUE(order_products.Country)\n",
       "11     MODE(order_products.Description) = ASSORTED CO...\n",
       "12     MODE(order_products.Description) = ALARM CLOCK...\n",
       "13     MODE(order_products.Description) = WHITE HANGI...\n",
       "14     MODE(order_products.Description) = REGENCY CAK...\n",
       "15     MODE(order_products.Description) =  SET 2 TEA ...\n",
       "16            MODE(order_products.Description) = POSTAGE\n",
       "17     MODE(order_products.Description) = HAND WARMER...\n",
       "18     MODE(order_products.Description) = 3 HOOK PHOT...\n",
       "19     MODE(order_products.Description) = 20 DOLLY PE...\n",
       "20     MODE(order_products.Description) = RED RETROSP...\n",
       "21            MODE(order_products.Description) = unknown\n",
       "22                         MONTH(first_orders_time) = 12\n",
       "23                          MONTH(first_orders_time) = 1\n",
       "24                    MONTH(first_orders_time) = unknown\n",
       "25                        MEAN(order_products.UnitPrice)\n",
       "26                        YEAR(first_orders_time) = 2010\n",
       "27                        YEAR(first_orders_time) = 2011\n",
       "28                     YEAR(first_orders_time) = unknown\n",
       "29                            DAY(first_orders_time) = 2\n",
       "                             ...                        \n",
       "200            STD(orders.MIN(order_products.UnitPrice))\n",
       "201           MEAN(orders.MEAN(order_products.Quantity))\n",
       "202               STD(orders.SKEW(order_products.Value))\n",
       "203              NUM_UNIQUE(orders.WEEKDAY(InvoiceDate))\n",
       "204                 MODE(orders.MONTH(InvoiceDate)) = 12\n",
       "205                  MODE(orders.MONTH(InvoiceDate)) = 1\n",
       "206            MODE(orders.MONTH(InvoiceDate)) = unknown\n",
       "207                SUM(orders.MIN(order_products.Value))\n",
       "208             MIN(orders.STD(order_products.Quantity))\n",
       "209           MAX(orders.MEAN(order_products.UnitPrice))\n",
       "210               MIN(orders.MEAN(order_products.Value))\n",
       "211                MAX(orders.MIN(order_products.Value))\n",
       "212                STD(orders.MIN(order_products.Value))\n",
       "213       SUM(orders.NUM_UNIQUE(order_products.Country))\n",
       "214    SUM(orders.NUM_UNIQUE(order_products.Descripti...\n",
       "215               SKEW(orders.SUM(order_products.Value))\n",
       "216    MEAN(orders.NUM_UNIQUE(order_products.Descript...\n",
       "217              MEAN(orders.MEAN(order_products.Value))\n",
       "218                MIN(orders.SUM(order_products.Value))\n",
       "219            MIN(orders.MEAN(order_products.Quantity))\n",
       "220                MIN(orders.STD(order_products.Value))\n",
       "221                SUM(orders.MAX(order_products.Value))\n",
       "222            MAX(orders.STD(order_products.UnitPrice))\n",
       "223    NUM_UNIQUE(orders.MODE(order_products.Descript...\n",
       "224           MEAN(orders.STD(order_products.UnitPrice))\n",
       "225             MIN(orders.SUM(order_products.Quantity))\n",
       "226                    MIN(orders.COUNT(order_products))\n",
       "227           SKEW(orders.STD(order_products.UnitPrice))\n",
       "228           SUM(orders.SKEW(order_products.UnitPrice))\n",
       "229       STD(orders.NUM_UNIQUE(order_products.Country))\n",
       "Length: 230, dtype: object"
      ]
     },
     "execution_count": 561,
     "metadata": {},
     "output_type": "execute_result"
    }
   ],
   "source": [
    "pd.Series(fm_encoded.columns)"
   ]
  },
  {
   "cell_type": "markdown",
   "metadata": {},
   "source": [
    "## 6. Machine Learning"
   ]
  },
  {
   "cell_type": "code",
   "execution_count": 562,
   "metadata": {
    "collapsed": false
   },
   "outputs": [
    {
     "data": {
      "text/html": [
       "<div>\n",
       "<style scoped>\n",
       "    .dataframe tbody tr th:only-of-type {\n",
       "        vertical-align: middle;\n",
       "    }\n",
       "\n",
       "    .dataframe tbody tr th {\n",
       "        vertical-align: top;\n",
       "    }\n",
       "\n",
       "    .dataframe thead th {\n",
       "        text-align: right;\n",
       "    }\n",
       "</style>\n",
       "<table border=\"1\" class=\"dataframe\">\n",
       "  <thead>\n",
       "    <tr style=\"text-align: right;\">\n",
       "      <th></th>\n",
       "      <th>SUM(order_products.UnitPrice)</th>\n",
       "      <th>SKEW(order_products.UnitPrice)</th>\n",
       "      <th>SUM(order_products.Value)</th>\n",
       "      <th>MAX(order_products.Quantity)</th>\n",
       "      <th>MIN(order_products.Quantity)</th>\n",
       "      <th>SUM(order_products.Quantity)</th>\n",
       "      <th>STD(order_products.Value)</th>\n",
       "      <th>MAX(order_products.Value)</th>\n",
       "      <th>SKEW(order_products.Value)</th>\n",
       "      <th>MAX(order_products.UnitPrice)</th>\n",
       "      <th>...</th>\n",
       "      <th>MIN(orders.STD(order_products.Value))</th>\n",
       "      <th>SUM(orders.MAX(order_products.Value))</th>\n",
       "      <th>MAX(orders.STD(order_products.UnitPrice))</th>\n",
       "      <th>NUM_UNIQUE(orders.MODE(order_products.Description))</th>\n",
       "      <th>MEAN(orders.STD(order_products.UnitPrice))</th>\n",
       "      <th>MIN(orders.SUM(order_products.Quantity))</th>\n",
       "      <th>MIN(orders.COUNT(order_products))</th>\n",
       "      <th>SKEW(orders.STD(order_products.UnitPrice))</th>\n",
       "      <th>SUM(orders.SKEW(order_products.UnitPrice))</th>\n",
       "      <th>STD(orders.NUM_UNIQUE(order_products.Country))</th>\n",
       "    </tr>\n",
       "  </thead>\n",
       "  <tbody>\n",
       "    <tr>\n",
       "      <th>0</th>\n",
       "      <td>292.01</td>\n",
       "      <td>2.244135</td>\n",
       "      <td>547.50</td>\n",
       "      <td>20</td>\n",
       "      <td>1</td>\n",
       "      <td>144</td>\n",
       "      <td>39.468452</td>\n",
       "      <td>125.0</td>\n",
       "      <td>1.504796</td>\n",
       "      <td>125.00</td>\n",
       "      <td>...</td>\n",
       "      <td>39.468452</td>\n",
       "      <td>125.00</td>\n",
       "      <td>40.457023</td>\n",
       "      <td>1</td>\n",
       "      <td>40.457023</td>\n",
       "      <td>144</td>\n",
       "      <td>16</td>\n",
       "      <td>0.000000</td>\n",
       "      <td>2.244135</td>\n",
       "      <td>0</td>\n",
       "    </tr>\n",
       "    <tr>\n",
       "      <th>1</th>\n",
       "      <td>52.15</td>\n",
       "      <td>0.292934</td>\n",
       "      <td>431.30</td>\n",
       "      <td>24</td>\n",
       "      <td>3</td>\n",
       "      <td>204</td>\n",
       "      <td>11.552341</td>\n",
       "      <td>47.4</td>\n",
       "      <td>0.725324</td>\n",
       "      <td>5.45</td>\n",
       "      <td>...</td>\n",
       "      <td>11.552341</td>\n",
       "      <td>47.40</td>\n",
       "      <td>1.634327</td>\n",
       "      <td>1</td>\n",
       "      <td>1.634327</td>\n",
       "      <td>204</td>\n",
       "      <td>19</td>\n",
       "      <td>0.000000</td>\n",
       "      <td>0.292934</td>\n",
       "      <td>0</td>\n",
       "    </tr>\n",
       "    <tr>\n",
       "      <th>2</th>\n",
       "      <td>108.04</td>\n",
       "      <td>1.966699</td>\n",
       "      <td>676.97</td>\n",
       "      <td>120</td>\n",
       "      <td>-1</td>\n",
       "      <td>752</td>\n",
       "      <td>15.517956</td>\n",
       "      <td>54.0</td>\n",
       "      <td>0.701825</td>\n",
       "      <td>18.00</td>\n",
       "      <td>...</td>\n",
       "      <td>0.000000</td>\n",
       "      <td>101.45</td>\n",
       "      <td>5.159708</td>\n",
       "      <td>3</td>\n",
       "      <td>3.388093</td>\n",
       "      <td>-1</td>\n",
       "      <td>1</td>\n",
       "      <td>-0.704885</td>\n",
       "      <td>3.928814</td>\n",
       "      <td>0</td>\n",
       "    </tr>\n",
       "    <tr>\n",
       "      <th>3</th>\n",
       "      <td>86.93</td>\n",
       "      <td>2.145328</td>\n",
       "      <td>7092.98</td>\n",
       "      <td>576</td>\n",
       "      <td>6</td>\n",
       "      <td>4758</td>\n",
       "      <td>158.262888</td>\n",
       "      <td>1020.0</td>\n",
       "      <td>3.922171</td>\n",
       "      <td>6.75</td>\n",
       "      <td>...</td>\n",
       "      <td>0.000000</td>\n",
       "      <td>1101.60</td>\n",
       "      <td>1.372000</td>\n",
       "      <td>2</td>\n",
       "      <td>0.686000</td>\n",
       "      <td>96</td>\n",
       "      <td>1</td>\n",
       "      <td>0.000000</td>\n",
       "      <td>2.120915</td>\n",
       "      <td>0</td>\n",
       "    </tr>\n",
       "    <tr>\n",
       "      <th>4</th>\n",
       "      <td>42.19</td>\n",
       "      <td>2.423421</td>\n",
       "      <td>237.93</td>\n",
       "      <td>24</td>\n",
       "      <td>2</td>\n",
       "      <td>188</td>\n",
       "      <td>9.236188</td>\n",
       "      <td>45.0</td>\n",
       "      <td>2.349945</td>\n",
       "      <td>15.00</td>\n",
       "      <td>...</td>\n",
       "      <td>9.236188</td>\n",
       "      <td>45.00</td>\n",
       "      <td>3.715206</td>\n",
       "      <td>1</td>\n",
       "      <td>3.715206</td>\n",
       "      <td>188</td>\n",
       "      <td>16</td>\n",
       "      <td>0.000000</td>\n",
       "      <td>2.423421</td>\n",
       "      <td>0</td>\n",
       "    </tr>\n",
       "  </tbody>\n",
       "</table>\n",
       "<p>5 rows × 230 columns</p>\n",
       "</div>"
      ],
      "text/plain": [
       "   SUM(order_products.UnitPrice)  SKEW(order_products.UnitPrice)  \\\n",
       "0                         292.01                        2.244135   \n",
       "1                          52.15                        0.292934   \n",
       "2                         108.04                        1.966699   \n",
       "3                          86.93                        2.145328   \n",
       "4                          42.19                        2.423421   \n",
       "\n",
       "   SUM(order_products.Value)  MAX(order_products.Quantity)  \\\n",
       "0                     547.50                            20   \n",
       "1                     431.30                            24   \n",
       "2                     676.97                           120   \n",
       "3                    7092.98                           576   \n",
       "4                     237.93                            24   \n",
       "\n",
       "   MIN(order_products.Quantity)  SUM(order_products.Quantity)  \\\n",
       "0                             1                           144   \n",
       "1                             3                           204   \n",
       "2                            -1                           752   \n",
       "3                             6                          4758   \n",
       "4                             2                           188   \n",
       "\n",
       "   STD(order_products.Value)  MAX(order_products.Value)  \\\n",
       "0                  39.468452                      125.0   \n",
       "1                  11.552341                       47.4   \n",
       "2                  15.517956                       54.0   \n",
       "3                 158.262888                     1020.0   \n",
       "4                   9.236188                       45.0   \n",
       "\n",
       "   SKEW(order_products.Value)  MAX(order_products.UnitPrice)  \\\n",
       "0                    1.504796                         125.00   \n",
       "1                    0.725324                           5.45   \n",
       "2                    0.701825                          18.00   \n",
       "3                    3.922171                           6.75   \n",
       "4                    2.349945                          15.00   \n",
       "\n",
       "                        ...                        \\\n",
       "0                       ...                         \n",
       "1                       ...                         \n",
       "2                       ...                         \n",
       "3                       ...                         \n",
       "4                       ...                         \n",
       "\n",
       "   MIN(orders.STD(order_products.Value))  \\\n",
       "0                              39.468452   \n",
       "1                              11.552341   \n",
       "2                               0.000000   \n",
       "3                               0.000000   \n",
       "4                               9.236188   \n",
       "\n",
       "   SUM(orders.MAX(order_products.Value))  \\\n",
       "0                                 125.00   \n",
       "1                                  47.40   \n",
       "2                                 101.45   \n",
       "3                                1101.60   \n",
       "4                                  45.00   \n",
       "\n",
       "   MAX(orders.STD(order_products.UnitPrice))  \\\n",
       "0                                  40.457023   \n",
       "1                                   1.634327   \n",
       "2                                   5.159708   \n",
       "3                                   1.372000   \n",
       "4                                   3.715206   \n",
       "\n",
       "   NUM_UNIQUE(orders.MODE(order_products.Description))  \\\n",
       "0                                                  1     \n",
       "1                                                  1     \n",
       "2                                                  3     \n",
       "3                                                  2     \n",
       "4                                                  1     \n",
       "\n",
       "   MEAN(orders.STD(order_products.UnitPrice))  \\\n",
       "0                                   40.457023   \n",
       "1                                    1.634327   \n",
       "2                                    3.388093   \n",
       "3                                    0.686000   \n",
       "4                                    3.715206   \n",
       "\n",
       "   MIN(orders.SUM(order_products.Quantity))  \\\n",
       "0                                       144   \n",
       "1                                       204   \n",
       "2                                        -1   \n",
       "3                                        96   \n",
       "4                                       188   \n",
       "\n",
       "   MIN(orders.COUNT(order_products))  \\\n",
       "0                                 16   \n",
       "1                                 19   \n",
       "2                                  1   \n",
       "3                                  1   \n",
       "4                                 16   \n",
       "\n",
       "   SKEW(orders.STD(order_products.UnitPrice))  \\\n",
       "0                                    0.000000   \n",
       "1                                    0.000000   \n",
       "2                                   -0.704885   \n",
       "3                                    0.000000   \n",
       "4                                    0.000000   \n",
       "\n",
       "   SUM(orders.SKEW(order_products.UnitPrice))  \\\n",
       "0                                    2.244135   \n",
       "1                                    0.292934   \n",
       "2                                    3.928814   \n",
       "3                                    2.120915   \n",
       "4                                    2.423421   \n",
       "\n",
       "   STD(orders.NUM_UNIQUE(order_products.Country))  \n",
       "0                                               0  \n",
       "1                                               0  \n",
       "2                                               0  \n",
       "3                                               0  \n",
       "4                                               0  \n",
       "\n",
       "[5 rows x 230 columns]"
      ]
     },
     "execution_count": 562,
     "metadata": {},
     "output_type": "execute_result"
    }
   ],
   "source": [
    "X.head()"
   ]
  },
  {
   "cell_type": "code",
   "execution_count": 563,
   "metadata": {
    "collapsed": true
   },
   "outputs": [],
   "source": [
    "# with the generated features we use the feature matrix\n",
    "# merge all features into one\n",
    "X = fm_encoded.reset_index().merge(label_times)\n",
    "X.drop(['CustomerID', 'time'], axis=1, inplace=True)\n",
    "X = X.fillna(0)\n",
    "y = X.pop('label').astype('int')"
   ]
  },
  {
   "cell_type": "code",
   "execution_count": 564,
   "metadata": {
    "collapsed": false
   },
   "outputs": [
    {
     "data": {
      "text/plain": [
       "0    406\n",
       "1     23\n",
       "Name: label, dtype: int64"
      ]
     },
     "execution_count": 564,
     "metadata": {},
     "output_type": "execute_result"
    }
   ],
   "source": [
    "y.value_counts()"
   ]
  },
  {
   "cell_type": "code",
   "execution_count": 565,
   "metadata": {
    "collapsed": false
   },
   "outputs": [
    {
     "name": "stderr",
     "output_type": "stream",
     "text": [
      "[Parallel(n_jobs=1)]: Done   5 out of   5 | elapsed:   12.7s finished\n"
     ]
    },
    {
     "data": {
      "text/plain": [
       "'AUC 0.89 +/- 0.05'"
      ]
     },
     "execution_count": 565,
     "metadata": {},
     "output_type": "execute_result"
    }
   ],
   "source": [
    "# build first a random forest classifier, 3-fold cross validation\n",
    "clf = RandomForestClassifier(n_estimators=400, n_jobs=-1)\n",
    "scores = cross_val_score(estimator=clf, X=X, y=y, cv=5, scoring='roc_auc', verbose=True)\n",
    "\"AUC %.2f +/- %.2f\" % (scores.mean(), scores.std())"
   ]
  },
  {
   "cell_type": "code",
   "execution_count": 566,
   "metadata": {
    "collapsed": false
   },
   "outputs": [
    {
     "data": {
      "text/plain": [
       "array([ 0.86219512,  0.97530864,  0.85555556,  0.82407407,  0.91203704])"
      ]
     },
     "execution_count": 566,
     "metadata": {},
     "output_type": "execute_result"
    }
   ],
   "source": [
    "scores"
   ]
  },
  {
   "cell_type": "code",
   "execution_count": 567,
   "metadata": {
    "collapsed": true
   },
   "outputs": [],
   "source": [
    "# F1 score -> harmonic mean of precision and recall\n",
    "# precision -> how certain when we predict positive\n",
    "# recall -> how certain we are aoubt predicting "
   ]
  },
  {
   "cell_type": "code",
   "execution_count": null,
   "metadata": {
    "collapsed": true
   },
   "outputs": [],
   "source": [
    "from sklearn.metrics import f1_score\n",
    "scores = f1_score(y_true, y_pred)\n",
    "\"AUC %.2f +/- %.2f\" % (scores.mean(), scores.std())"
   ]
  },
  {
   "cell_type": "code",
   "execution_count": 202,
   "metadata": {
    "collapsed": true
   },
   "outputs": [],
   "source": [
    "# based on the std determine whether present variance\n",
    "# solutions: more data or less features"
   ]
  },
  {
   "cell_type": "code",
   "execution_count": 541,
   "metadata": {
    "collapsed": false
   },
   "outputs": [
    {
     "data": {
      "text/plain": [
       "RandomForestClassifier(bootstrap=True, class_weight=None, criterion='gini',\n",
       "            max_depth=None, max_features='auto', max_leaf_nodes=None,\n",
       "            min_impurity_decrease=0.0, min_impurity_split=None,\n",
       "            min_samples_leaf=1, min_samples_split=2,\n",
       "            min_weight_fraction_leaf=0.0, n_estimators=400, n_jobs=-1,\n",
       "            oob_score=False, random_state=None, verbose=0,\n",
       "            warm_start=False)"
      ]
     },
     "execution_count": 541,
     "metadata": {},
     "output_type": "execute_result"
    }
   ],
   "source": [
    "clf.fit(X,y)"
   ]
  },
  {
   "cell_type": "code",
   "execution_count": 542,
   "metadata": {
    "collapsed": false,
    "scrolled": false
   },
   "outputs": [
    {
     "name": "stdout",
     "output_type": "stream",
     "text": [
      "1: Feature: SKEW(orders.STD(order_products.UnitPrice)), 0.013\n",
      "2: Feature: MAX(orders.MEAN(order_products.UnitPrice)), 0.013\n",
      "3: Feature: STD(orders.MEAN(order_products.UnitPrice)), 0.012\n",
      "4: Feature: STD(orders.SUM(order_products.UnitPrice)), 0.012\n",
      "5: Feature: MIN(orders.COUNT(order_products)), 0.012\n",
      "6: Feature: STD(orders.MAX(order_products.UnitPrice)), 0.011\n",
      "7: Feature: NUM_UNIQUE(orders.MONTH(InvoiceDate)), 0.011\n",
      "8: Feature: SKEW(order_products.UnitPrice), 0.011\n",
      "9: Feature: MEAN(orders.MAX(order_products.Value)), 0.011\n",
      "10: Feature: MIN(order_products.UnitPrice), 0.010\n",
      "11: Feature: MIN(orders.STD(order_products.Quantity)), 0.010\n",
      "12: Feature: STD(orders.SUM(order_products.Quantity)), 0.010\n",
      "13: Feature: MODE(orders.MODE(order_products.Description)), 0.010\n",
      "14: Feature: MAX(orders.MIN(order_products.UnitPrice)), 0.010\n",
      "15: Feature: SUM(order_products.Quantity), 0.010\n",
      "16: Feature: SUM(orders.MEAN(order_products.UnitPrice)), 0.010\n",
      "17: Feature: MODE(orders.MODE(order_products.Country)), 0.009\n",
      "18: Feature: SKEW(order_products.Value), 0.009\n",
      "19: Feature: SKEW(orders.NUM_UNIQUE(order_products.Description)), 0.009\n",
      "20: Feature: SUM(orders.MIN(order_products.Value)), 0.009\n"
     ]
    },
    {
     "data": {
      "text/plain": [
       "[<Feature: SKEW(orders.STD(order_products.UnitPrice))>,\n",
       " <Feature: MAX(orders.MEAN(order_products.UnitPrice))>,\n",
       " <Feature: STD(orders.MEAN(order_products.UnitPrice))>,\n",
       " <Feature: STD(orders.SUM(order_products.UnitPrice))>,\n",
       " <Feature: MIN(orders.COUNT(order_products))>,\n",
       " <Feature: STD(orders.MAX(order_products.UnitPrice))>,\n",
       " <Feature: NUM_UNIQUE(orders.MONTH(InvoiceDate))>,\n",
       " <Feature: SKEW(order_products.UnitPrice)>,\n",
       " <Feature: MEAN(orders.MAX(order_products.Value))>,\n",
       " <Feature: MIN(order_products.UnitPrice)>,\n",
       " <Feature: MIN(orders.STD(order_products.Quantity))>,\n",
       " <Feature: STD(orders.SUM(order_products.Quantity))>,\n",
       " <Feature: MODE(orders.MODE(order_products.Description))>,\n",
       " <Feature: MAX(orders.MIN(order_products.UnitPrice))>,\n",
       " <Feature: SUM(order_products.Quantity)>,\n",
       " <Feature: SUM(orders.MEAN(order_products.UnitPrice))>,\n",
       " <Feature: MODE(orders.MODE(order_products.Country))>,\n",
       " <Feature: SKEW(order_products.Value)>,\n",
       " <Feature: SKEW(orders.NUM_UNIQUE(order_products.Description))>,\n",
       " <Feature: SUM(orders.MIN(order_products.Value))>]"
      ]
     },
     "execution_count": 542,
     "metadata": {},
     "output_type": "execute_result"
    }
   ],
   "source": [
    "# feature importance calculation\n",
    "importances = clf.feature_importances_\n",
    "# number of top features to keep\n",
    "n = 20\n",
    "\n",
    "zipped = sorted(zip(features, importances), key=lambda x: - x[1])\n",
    "\n",
    "for i, f in enumerate(zipped[:n]):\n",
    "    print(\"%d: Feature: %s, %.3f\" % (i+1, f[0].get_name(), f[1]))\n",
    "\n",
    "top_features = [f[0] for f in zipped[:n]]\n",
    "top_features"
   ]
  },
  {
   "cell_type": "code",
   "execution_count": 569,
   "metadata": {
    "collapsed": false
   },
   "outputs": [
    {
     "data": {
      "text/plain": [
       "<Feature: SKEW(orders.STD(order_products.UnitPrice))>"
      ]
     },
     "execution_count": 569,
     "metadata": {},
     "output_type": "execute_result"
    }
   ],
   "source": [
    "top_features[0]"
   ]
  },
  {
   "cell_type": "code",
   "execution_count": null,
   "metadata": {
    "collapsed": true
   },
   "outputs": [],
   "source": []
  },
  {
   "cell_type": "code",
   "execution_count": 209,
   "metadata": {
    "collapsed": true
   },
   "outputs": [],
   "source": [
    "ft.save_features(top_features, 'top features')"
   ]
  },
  {
   "cell_type": "code",
   "execution_count": 207,
   "metadata": {
    "collapsed": true
   },
   "outputs": [],
   "source": [
    "# feature engineering -> aggregations and stacking of aggregations across relationships in the dataset"
   ]
  },
  {
   "cell_type": "code",
   "execution_count": 208,
   "metadata": {
    "collapsed": true
   },
   "outputs": [],
   "source": [
    "# rerun the classifier with one the top features to reduce the variance"
   ]
  },
  {
   "cell_type": "code",
   "execution_count": null,
   "metadata": {
    "collapsed": true
   },
   "outputs": [],
   "source": [
    "top_features = ft.load_features('top_features', es)"
   ]
  },
  {
   "cell_type": "code",
   "execution_count": null,
   "metadata": {
    "collapsed": true
   },
   "outputs": [],
   "source": [
    "label_times, es = "
   ]
  }
 ],
 "metadata": {
  "anaconda-cloud": {},
  "kernelspec": {
   "display_name": "Python [default]",
   "language": "python",
   "name": "python3"
  },
  "language_info": {
   "codemirror_mode": {
    "name": "ipython",
    "version": 3
   },
   "file_extension": ".py",
   "mimetype": "text/x-python",
   "name": "python",
   "nbconvert_exporter": "python",
   "pygments_lexer": "ipython3",
   "version": "3.5.4"
  }
 },
 "nbformat": 4,
 "nbformat_minor": 1
}
