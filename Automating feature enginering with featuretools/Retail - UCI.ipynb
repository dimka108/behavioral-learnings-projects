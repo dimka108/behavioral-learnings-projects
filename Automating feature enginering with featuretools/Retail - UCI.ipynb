{
 "cells": [
  {
   "cell_type": "code",
   "execution_count": 1,
   "metadata": {
    "collapsed": true
   },
   "outputs": [],
   "source": [
    "# data munging and visualization\n",
    "import numpy as np\n",
    "import pandas as pd\n",
    "import matplotlib\n",
    "%matplotlib notebook\n",
    "\n",
    "\n",
    "# feature engineering\n",
    "import featuretools as ft\n",
    "\n",
    "# machine learning\n",
    "from sklearn.ensemble import RandomForestClassifier\n",
    "from sklearn.model_selection import cross_val_score\n",
    "import os"
   ]
  },
  {
   "cell_type": "markdown",
   "metadata": {},
   "source": [
    "## 1. Load data"
   ]
  },
  {
   "cell_type": "markdown",
   "metadata": {},
   "source": [
    "This is a transnational data set which contains all the transactions occurring between 01/12/2010 and 09/12/2011 for a UK-based and registered non-store online retail.The company mainly sells unique all-occasion gifts. Many customers of the company are wholesalers."
   ]
  },
  {
   "cell_type": "code",
   "execution_count": 2,
   "metadata": {
    "collapsed": false
   },
   "outputs": [
    {
     "data": {
      "text/plain": [
       "541909"
      ]
     },
     "execution_count": 2,
     "metadata": {},
     "output_type": "execute_result"
    }
   ],
   "source": [
    "data = pd.read_csv('online_retail_data.csv', encoding = \"ISO-8859-1\")\n",
    "len(data)"
   ]
  },
  {
   "cell_type": "code",
   "execution_count": 3,
   "metadata": {
    "collapsed": false
   },
   "outputs": [
    {
     "data": {
      "text/plain": [
       "135080"
      ]
     },
     "execution_count": 3,
     "metadata": {},
     "output_type": "execute_result"
    }
   ],
   "source": [
    "# deleting all rows without a CustomerID\n",
    "len(data[data['CustomerID'].isnull()])"
   ]
  },
  {
   "cell_type": "code",
   "execution_count": 4,
   "metadata": {
    "collapsed": false
   },
   "outputs": [
    {
     "data": {
      "text/plain": [
       "406829"
      ]
     },
     "execution_count": 4,
     "metadata": {},
     "output_type": "execute_result"
    }
   ],
   "source": [
    "data = data[data['CustomerID'].isnull() == False]\n",
    "len(data)"
   ]
  },
  {
   "cell_type": "code",
   "execution_count": 5,
   "metadata": {
    "collapsed": true
   },
   "outputs": [],
   "source": [
    "# sample the data (1/2 of data)\n",
    "# data = data[0:int(len(data) / 4)]"
   ]
  },
  {
   "cell_type": "code",
   "execution_count": 6,
   "metadata": {
    "collapsed": false
   },
   "outputs": [
    {
     "data": {
      "text/html": [
       "<div>\n",
       "<style scoped>\n",
       "    .dataframe tbody tr th:only-of-type {\n",
       "        vertical-align: middle;\n",
       "    }\n",
       "\n",
       "    .dataframe tbody tr th {\n",
       "        vertical-align: top;\n",
       "    }\n",
       "\n",
       "    .dataframe thead th {\n",
       "        text-align: right;\n",
       "    }\n",
       "</style>\n",
       "<table border=\"1\" class=\"dataframe\">\n",
       "  <thead>\n",
       "    <tr style=\"text-align: right;\">\n",
       "      <th></th>\n",
       "      <th>InvoiceNo</th>\n",
       "      <th>StockCode</th>\n",
       "      <th>Description</th>\n",
       "      <th>Quantity</th>\n",
       "      <th>InvoiceDate</th>\n",
       "      <th>UnitPrice</th>\n",
       "      <th>CustomerID</th>\n",
       "      <th>Country</th>\n",
       "    </tr>\n",
       "  </thead>\n",
       "  <tbody>\n",
       "    <tr>\n",
       "      <th>0</th>\n",
       "      <td>536365</td>\n",
       "      <td>85123A</td>\n",
       "      <td>WHITE HANGING HEART T-LIGHT HOLDER</td>\n",
       "      <td>6</td>\n",
       "      <td>12/1/2010 8:26</td>\n",
       "      <td>2.55</td>\n",
       "      <td>17850.0</td>\n",
       "      <td>United Kingdom</td>\n",
       "    </tr>\n",
       "    <tr>\n",
       "      <th>1</th>\n",
       "      <td>536365</td>\n",
       "      <td>71053</td>\n",
       "      <td>WHITE METAL LANTERN</td>\n",
       "      <td>6</td>\n",
       "      <td>12/1/2010 8:26</td>\n",
       "      <td>3.39</td>\n",
       "      <td>17850.0</td>\n",
       "      <td>United Kingdom</td>\n",
       "    </tr>\n",
       "    <tr>\n",
       "      <th>2</th>\n",
       "      <td>536365</td>\n",
       "      <td>84406B</td>\n",
       "      <td>CREAM CUPID HEARTS COAT HANGER</td>\n",
       "      <td>8</td>\n",
       "      <td>12/1/2010 8:26</td>\n",
       "      <td>2.75</td>\n",
       "      <td>17850.0</td>\n",
       "      <td>United Kingdom</td>\n",
       "    </tr>\n",
       "    <tr>\n",
       "      <th>3</th>\n",
       "      <td>536365</td>\n",
       "      <td>84029G</td>\n",
       "      <td>KNITTED UNION FLAG HOT WATER BOTTLE</td>\n",
       "      <td>6</td>\n",
       "      <td>12/1/2010 8:26</td>\n",
       "      <td>3.39</td>\n",
       "      <td>17850.0</td>\n",
       "      <td>United Kingdom</td>\n",
       "    </tr>\n",
       "    <tr>\n",
       "      <th>4</th>\n",
       "      <td>536365</td>\n",
       "      <td>84029E</td>\n",
       "      <td>RED WOOLLY HOTTIE WHITE HEART.</td>\n",
       "      <td>6</td>\n",
       "      <td>12/1/2010 8:26</td>\n",
       "      <td>3.39</td>\n",
       "      <td>17850.0</td>\n",
       "      <td>United Kingdom</td>\n",
       "    </tr>\n",
       "  </tbody>\n",
       "</table>\n",
       "</div>"
      ],
      "text/plain": [
       "  InvoiceNo StockCode                          Description  Quantity  \\\n",
       "0    536365    85123A   WHITE HANGING HEART T-LIGHT HOLDER         6   \n",
       "1    536365     71053                  WHITE METAL LANTERN         6   \n",
       "2    536365    84406B       CREAM CUPID HEARTS COAT HANGER         8   \n",
       "3    536365    84029G  KNITTED UNION FLAG HOT WATER BOTTLE         6   \n",
       "4    536365    84029E       RED WOOLLY HOTTIE WHITE HEART.         6   \n",
       "\n",
       "      InvoiceDate  UnitPrice  CustomerID         Country  \n",
       "0  12/1/2010 8:26       2.55     17850.0  United Kingdom  \n",
       "1  12/1/2010 8:26       3.39     17850.0  United Kingdom  \n",
       "2  12/1/2010 8:26       2.75     17850.0  United Kingdom  \n",
       "3  12/1/2010 8:26       3.39     17850.0  United Kingdom  \n",
       "4  12/1/2010 8:26       3.39     17850.0  United Kingdom  "
      ]
     },
     "execution_count": 6,
     "metadata": {},
     "output_type": "execute_result"
    }
   ],
   "source": [
    "data.head()"
   ]
  },
  {
   "cell_type": "code",
   "execution_count": 7,
   "metadata": {
    "collapsed": false
   },
   "outputs": [],
   "source": [
    "# converting the InvoiceDate column to a pandas datetime\n",
    "data['InvoiceDate'] = pd.to_datetime(data['InvoiceDate'])"
   ]
  },
  {
   "cell_type": "code",
   "execution_count": 8,
   "metadata": {
    "collapsed": false
   },
   "outputs": [],
   "source": [
    "# extracting month from InvoiceDate\n",
    "data['InvoiceMonth'] = data['InvoiceDate'].dt.to_period('M')"
   ]
  },
  {
   "cell_type": "code",
   "execution_count": 9,
   "metadata": {
    "collapsed": false
   },
   "outputs": [
    {
     "data": {
      "text/plain": [
       "20.401853884564613"
      ]
     },
     "execution_count": 9,
     "metadata": {},
     "output_type": "execute_result"
    }
   ],
   "source": [
    "# building an additional feature\n",
    "data['Value'] = data['Quantity'] * data['UnitPrice']\n",
    "data['Value'].mean()"
   ]
  },
  {
   "cell_type": "code",
   "execution_count": 10,
   "metadata": {
    "collapsed": false
   },
   "outputs": [
    {
     "data": {
      "text/html": [
       "<div>\n",
       "<style scoped>\n",
       "    .dataframe tbody tr th:only-of-type {\n",
       "        vertical-align: middle;\n",
       "    }\n",
       "\n",
       "    .dataframe tbody tr th {\n",
       "        vertical-align: top;\n",
       "    }\n",
       "\n",
       "    .dataframe thead th {\n",
       "        text-align: right;\n",
       "    }\n",
       "</style>\n",
       "<table border=\"1\" class=\"dataframe\">\n",
       "  <thead>\n",
       "    <tr style=\"text-align: right;\">\n",
       "      <th></th>\n",
       "      <th>InvoiceNo</th>\n",
       "      <th>StockCode</th>\n",
       "      <th>Description</th>\n",
       "      <th>Quantity</th>\n",
       "      <th>InvoiceDate</th>\n",
       "      <th>UnitPrice</th>\n",
       "      <th>CustomerID</th>\n",
       "      <th>Country</th>\n",
       "      <th>InvoiceMonth</th>\n",
       "      <th>Value</th>\n",
       "    </tr>\n",
       "  </thead>\n",
       "  <tbody>\n",
       "    <tr>\n",
       "      <th>0</th>\n",
       "      <td>536365</td>\n",
       "      <td>85123A</td>\n",
       "      <td>WHITE HANGING HEART T-LIGHT HOLDER</td>\n",
       "      <td>6</td>\n",
       "      <td>2010-12-01 08:26:00</td>\n",
       "      <td>2.55</td>\n",
       "      <td>17850.0</td>\n",
       "      <td>United Kingdom</td>\n",
       "      <td>2010-12</td>\n",
       "      <td>15.30</td>\n",
       "    </tr>\n",
       "    <tr>\n",
       "      <th>1</th>\n",
       "      <td>536365</td>\n",
       "      <td>71053</td>\n",
       "      <td>WHITE METAL LANTERN</td>\n",
       "      <td>6</td>\n",
       "      <td>2010-12-01 08:26:00</td>\n",
       "      <td>3.39</td>\n",
       "      <td>17850.0</td>\n",
       "      <td>United Kingdom</td>\n",
       "      <td>2010-12</td>\n",
       "      <td>20.34</td>\n",
       "    </tr>\n",
       "    <tr>\n",
       "      <th>2</th>\n",
       "      <td>536365</td>\n",
       "      <td>84406B</td>\n",
       "      <td>CREAM CUPID HEARTS COAT HANGER</td>\n",
       "      <td>8</td>\n",
       "      <td>2010-12-01 08:26:00</td>\n",
       "      <td>2.75</td>\n",
       "      <td>17850.0</td>\n",
       "      <td>United Kingdom</td>\n",
       "      <td>2010-12</td>\n",
       "      <td>22.00</td>\n",
       "    </tr>\n",
       "    <tr>\n",
       "      <th>3</th>\n",
       "      <td>536365</td>\n",
       "      <td>84029G</td>\n",
       "      <td>KNITTED UNION FLAG HOT WATER BOTTLE</td>\n",
       "      <td>6</td>\n",
       "      <td>2010-12-01 08:26:00</td>\n",
       "      <td>3.39</td>\n",
       "      <td>17850.0</td>\n",
       "      <td>United Kingdom</td>\n",
       "      <td>2010-12</td>\n",
       "      <td>20.34</td>\n",
       "    </tr>\n",
       "    <tr>\n",
       "      <th>4</th>\n",
       "      <td>536365</td>\n",
       "      <td>84029E</td>\n",
       "      <td>RED WOOLLY HOTTIE WHITE HEART.</td>\n",
       "      <td>6</td>\n",
       "      <td>2010-12-01 08:26:00</td>\n",
       "      <td>3.39</td>\n",
       "      <td>17850.0</td>\n",
       "      <td>United Kingdom</td>\n",
       "      <td>2010-12</td>\n",
       "      <td>20.34</td>\n",
       "    </tr>\n",
       "  </tbody>\n",
       "</table>\n",
       "</div>"
      ],
      "text/plain": [
       "  InvoiceNo StockCode                          Description  Quantity  \\\n",
       "0    536365    85123A   WHITE HANGING HEART T-LIGHT HOLDER         6   \n",
       "1    536365     71053                  WHITE METAL LANTERN         6   \n",
       "2    536365    84406B       CREAM CUPID HEARTS COAT HANGER         8   \n",
       "3    536365    84029G  KNITTED UNION FLAG HOT WATER BOTTLE         6   \n",
       "4    536365    84029E       RED WOOLLY HOTTIE WHITE HEART.         6   \n",
       "\n",
       "          InvoiceDate  UnitPrice  CustomerID         Country InvoiceMonth  \\\n",
       "0 2010-12-01 08:26:00       2.55     17850.0  United Kingdom      2010-12   \n",
       "1 2010-12-01 08:26:00       3.39     17850.0  United Kingdom      2010-12   \n",
       "2 2010-12-01 08:26:00       2.75     17850.0  United Kingdom      2010-12   \n",
       "3 2010-12-01 08:26:00       3.39     17850.0  United Kingdom      2010-12   \n",
       "4 2010-12-01 08:26:00       3.39     17850.0  United Kingdom      2010-12   \n",
       "\n",
       "   Value  \n",
       "0  15.30  \n",
       "1  20.34  \n",
       "2  22.00  \n",
       "3  20.34  \n",
       "4  20.34  "
      ]
     },
     "execution_count": 10,
     "metadata": {},
     "output_type": "execute_result"
    }
   ],
   "source": [
    "data.head()"
   ]
  },
  {
   "cell_type": "markdown",
   "metadata": {},
   "source": [
    "## 2. EDA"
   ]
  },
  {
   "cell_type": "code",
   "execution_count": 11,
   "metadata": {
    "collapsed": false
   },
   "outputs": [
    {
     "data": {
      "text/plain": [
       "37"
      ]
     },
     "execution_count": 11,
     "metadata": {},
     "output_type": "execute_result"
    }
   ],
   "source": [
    "# countries\n",
    "len(data['Country'].unique())"
   ]
  },
  {
   "cell_type": "code",
   "execution_count": 12,
   "metadata": {
    "collapsed": false
   },
   "outputs": [
    {
     "data": {
      "text/plain": [
       "3896"
      ]
     },
     "execution_count": 12,
     "metadata": {},
     "output_type": "execute_result"
    }
   ],
   "source": [
    "# unique descriptions\n",
    "len(data['Description'].unique())"
   ]
  },
  {
   "cell_type": "code",
   "execution_count": 13,
   "metadata": {
    "collapsed": false
   },
   "outputs": [
    {
     "data": {
      "text/plain": [
       "3684"
      ]
     },
     "execution_count": 13,
     "metadata": {},
     "output_type": "execute_result"
    }
   ],
   "source": [
    "# 3684 unique stock codes\n",
    "len(data['StockCode'].unique())"
   ]
  },
  {
   "cell_type": "code",
   "execution_count": 14,
   "metadata": {
    "collapsed": false
   },
   "outputs": [
    {
     "data": {
      "text/plain": [
       "406829"
      ]
     },
     "execution_count": 14,
     "metadata": {},
     "output_type": "execute_result"
    }
   ],
   "source": [
    "# rows of data\n",
    "len(data)"
   ]
  },
  {
   "cell_type": "code",
   "execution_count": 15,
   "metadata": {
    "collapsed": false
   },
   "outputs": [
    {
     "data": {
      "text/plain": [
       "93"
      ]
     },
     "execution_count": 15,
     "metadata": {},
     "output_type": "execute_result"
    }
   ],
   "source": [
    "# invoices per customer\n",
    "int(len(data)*1.0 / len(data['CustomerID'].unique())*1.0)"
   ]
  },
  {
   "cell_type": "code",
   "execution_count": 16,
   "metadata": {
    "collapsed": false
   },
   "outputs": [
    {
     "data": {
      "text/plain": [
       "4372"
      ]
     },
     "execution_count": 16,
     "metadata": {},
     "output_type": "execute_result"
    }
   ],
   "source": [
    "# unique customers \n",
    "len(data['CustomerID'].unique())"
   ]
  },
  {
   "cell_type": "code",
   "execution_count": 17,
   "metadata": {
    "collapsed": false
   },
   "outputs": [
    {
     "data": {
      "text/plain": [
       "(Timestamp('2010-12-01 08:26:00'), ' -> ', Timestamp('2011-12-09 12:50:00'))"
      ]
     },
     "execution_count": 17,
     "metadata": {},
     "output_type": "execute_result"
    }
   ],
   "source": [
    "# first invoice timestamp to last invoice timestamp\n",
    "data['InvoiceDate'].min(), ' -> ', data['InvoiceDate'].max()"
   ]
  },
  {
   "cell_type": "code",
   "execution_count": 18,
   "metadata": {
    "collapsed": false
   },
   "outputs": [
    {
     "data": {
      "text/plain": [
       "312"
      ]
     },
     "execution_count": 18,
     "metadata": {},
     "output_type": "execute_result"
    }
   ],
   "source": [
    "# rows of data for the first customer by index\n",
    "len(data[data['CustomerID'] == data['CustomerID'][0]])"
   ]
  },
  {
   "cell_type": "code",
   "execution_count": 19,
   "metadata": {
    "collapsed": false
   },
   "outputs": [
    {
     "data": {
      "text/plain": [
       "35"
      ]
     },
     "execution_count": 19,
     "metadata": {},
     "output_type": "execute_result"
    }
   ],
   "source": [
    "# invoices for the first customer by index\n",
    "len(data[data['CustomerID'] == data['CustomerID'][0]]['InvoiceNo'].unique())"
   ]
  },
  {
   "cell_type": "code",
   "execution_count": 20,
   "metadata": {
    "collapsed": false
   },
   "outputs": [
    {
     "data": {
      "text/plain": [
       "0.02237864516842412"
      ]
     },
     "execution_count": 20,
     "metadata": {},
     "output_type": "execute_result"
    }
   ],
   "source": [
    "# % of orders with a negative quantity\n",
    "len(data[data['Quantity'] < 0])*1.0 /  len(data[data['Quantity'] > 0])*1.0"
   ]
  },
  {
   "cell_type": "code",
   "execution_count": 21,
   "metadata": {
    "collapsed": false
   },
   "outputs": [],
   "source": [
    "data.to_csv('data.csv')"
   ]
  },
  {
   "cell_type": "code",
   "execution_count": 22,
   "metadata": {
    "collapsed": true
   },
   "outputs": [],
   "source": [
    "# if it loads too long\n",
    "# data = pd.read_csv('data.csv')"
   ]
  },
  {
   "cell_type": "markdown",
   "metadata": {},
   "source": [
    "## 3. Building an EntitySet"
   ]
  },
  {
   "cell_type": "code",
   "execution_count": 23,
   "metadata": {
    "collapsed": true
   },
   "outputs": [],
   "source": [
    "es = ft.EntitySet(\"online_retail\")"
   ]
  },
  {
   "cell_type": "code",
   "execution_count": 24,
   "metadata": {
    "collapsed": false
   },
   "outputs": [
    {
     "data": {
      "text/html": [
       "<div>\n",
       "<style scoped>\n",
       "    .dataframe tbody tr th:only-of-type {\n",
       "        vertical-align: middle;\n",
       "    }\n",
       "\n",
       "    .dataframe tbody tr th {\n",
       "        vertical-align: top;\n",
       "    }\n",
       "\n",
       "    .dataframe thead th {\n",
       "        text-align: right;\n",
       "    }\n",
       "</style>\n",
       "<table border=\"1\" class=\"dataframe\">\n",
       "  <thead>\n",
       "    <tr style=\"text-align: right;\">\n",
       "      <th></th>\n",
       "      <th>InvoiceNo</th>\n",
       "      <th>CustomerID</th>\n",
       "      <th>InvoiceDate</th>\n",
       "    </tr>\n",
       "  </thead>\n",
       "  <tbody>\n",
       "    <tr>\n",
       "      <th>0</th>\n",
       "      <td>536365</td>\n",
       "      <td>17850.0</td>\n",
       "      <td>2010-12-01 08:26:00</td>\n",
       "    </tr>\n",
       "    <tr>\n",
       "      <th>1</th>\n",
       "      <td>536365</td>\n",
       "      <td>17850.0</td>\n",
       "      <td>2010-12-01 08:26:00</td>\n",
       "    </tr>\n",
       "    <tr>\n",
       "      <th>2</th>\n",
       "      <td>536365</td>\n",
       "      <td>17850.0</td>\n",
       "      <td>2010-12-01 08:26:00</td>\n",
       "    </tr>\n",
       "    <tr>\n",
       "      <th>3</th>\n",
       "      <td>536365</td>\n",
       "      <td>17850.0</td>\n",
       "      <td>2010-12-01 08:26:00</td>\n",
       "    </tr>\n",
       "    <tr>\n",
       "      <th>4</th>\n",
       "      <td>536365</td>\n",
       "      <td>17850.0</td>\n",
       "      <td>2010-12-01 08:26:00</td>\n",
       "    </tr>\n",
       "  </tbody>\n",
       "</table>\n",
       "</div>"
      ],
      "text/plain": [
       "  InvoiceNo  CustomerID         InvoiceDate\n",
       "0    536365     17850.0 2010-12-01 08:26:00\n",
       "1    536365     17850.0 2010-12-01 08:26:00\n",
       "2    536365     17850.0 2010-12-01 08:26:00\n",
       "3    536365     17850.0 2010-12-01 08:26:00\n",
       "4    536365     17850.0 2010-12-01 08:26:00"
      ]
     },
     "execution_count": 24,
     "metadata": {},
     "output_type": "execute_result"
    }
   ],
   "source": [
    "orders = data[['InvoiceNo', 'CustomerID', 'InvoiceDate']]\n",
    "orders.head()"
   ]
  },
  {
   "cell_type": "code",
   "execution_count": 25,
   "metadata": {
    "collapsed": false
   },
   "outputs": [
    {
     "data": {
      "text/plain": [
       "406829"
      ]
     },
     "execution_count": 25,
     "metadata": {},
     "output_type": "execute_result"
    }
   ],
   "source": [
    "len(orders)"
   ]
  },
  {
   "cell_type": "code",
   "execution_count": 26,
   "metadata": {
    "collapsed": false
   },
   "outputs": [
    {
     "data": {
      "text/html": [
       "<div>\n",
       "<style scoped>\n",
       "    .dataframe tbody tr th:only-of-type {\n",
       "        vertical-align: middle;\n",
       "    }\n",
       "\n",
       "    .dataframe tbody tr th {\n",
       "        vertical-align: top;\n",
       "    }\n",
       "\n",
       "    .dataframe thead th {\n",
       "        text-align: right;\n",
       "    }\n",
       "</style>\n",
       "<table border=\"1\" class=\"dataframe\">\n",
       "  <thead>\n",
       "    <tr style=\"text-align: right;\">\n",
       "      <th></th>\n",
       "      <th>InvoiceNo</th>\n",
       "      <th>CustomerID</th>\n",
       "    </tr>\n",
       "  </thead>\n",
       "  <tbody>\n",
       "    <tr>\n",
       "      <th>0</th>\n",
       "      <td>536365</td>\n",
       "      <td>17850.0</td>\n",
       "    </tr>\n",
       "    <tr>\n",
       "      <th>1</th>\n",
       "      <td>536366</td>\n",
       "      <td>17850.0</td>\n",
       "    </tr>\n",
       "    <tr>\n",
       "      <th>2</th>\n",
       "      <td>536367</td>\n",
       "      <td>13047.0</td>\n",
       "    </tr>\n",
       "    <tr>\n",
       "      <th>3</th>\n",
       "      <td>536368</td>\n",
       "      <td>13047.0</td>\n",
       "    </tr>\n",
       "    <tr>\n",
       "      <th>4</th>\n",
       "      <td>536369</td>\n",
       "      <td>13047.0</td>\n",
       "    </tr>\n",
       "  </tbody>\n",
       "</table>\n",
       "</div>"
      ],
      "text/plain": [
       "  InvoiceNo  CustomerID\n",
       "0    536365     17850.0\n",
       "1    536366     17850.0\n",
       "2    536367     13047.0\n",
       "3    536368     13047.0\n",
       "4    536369     13047.0"
      ]
     },
     "execution_count": 26,
     "metadata": {},
     "output_type": "execute_result"
    }
   ],
   "source": [
    "orders = orders.groupby('InvoiceNo').mean().reset_index()\n",
    "orders.head()"
   ]
  },
  {
   "cell_type": "code",
   "execution_count": 27,
   "metadata": {
    "collapsed": false
   },
   "outputs": [
    {
     "data": {
      "text/plain": [
       "22190"
      ]
     },
     "execution_count": 27,
     "metadata": {},
     "output_type": "execute_result"
    }
   ],
   "source": [
    "len(orders)"
   ]
  },
  {
   "cell_type": "code",
   "execution_count": 28,
   "metadata": {
    "collapsed": true
   },
   "outputs": [],
   "source": [
    "# InvoiceNo | CustomerID | InvoiceDate\n",
    "invoice_dates = data[['InvoiceNo', 'InvoiceDate']].groupby('InvoiceNo').min().reset_index()\n",
    "orders = pd.merge(orders, invoice_dates, on='InvoiceNo', how='left')"
   ]
  },
  {
   "cell_type": "code",
   "execution_count": 29,
   "metadata": {
    "collapsed": false
   },
   "outputs": [
    {
     "data": {
      "text/html": [
       "<div>\n",
       "<style scoped>\n",
       "    .dataframe tbody tr th:only-of-type {\n",
       "        vertical-align: middle;\n",
       "    }\n",
       "\n",
       "    .dataframe tbody tr th {\n",
       "        vertical-align: top;\n",
       "    }\n",
       "\n",
       "    .dataframe thead th {\n",
       "        text-align: right;\n",
       "    }\n",
       "</style>\n",
       "<table border=\"1\" class=\"dataframe\">\n",
       "  <thead>\n",
       "    <tr style=\"text-align: right;\">\n",
       "      <th></th>\n",
       "      <th>InvoiceNo</th>\n",
       "      <th>CustomerID</th>\n",
       "      <th>InvoiceDate</th>\n",
       "    </tr>\n",
       "  </thead>\n",
       "  <tbody>\n",
       "    <tr>\n",
       "      <th>0</th>\n",
       "      <td>536365</td>\n",
       "      <td>17850.0</td>\n",
       "      <td>2010-12-01 08:26:00</td>\n",
       "    </tr>\n",
       "    <tr>\n",
       "      <th>1</th>\n",
       "      <td>536366</td>\n",
       "      <td>17850.0</td>\n",
       "      <td>2010-12-01 08:28:00</td>\n",
       "    </tr>\n",
       "    <tr>\n",
       "      <th>2</th>\n",
       "      <td>536367</td>\n",
       "      <td>13047.0</td>\n",
       "      <td>2010-12-01 08:34:00</td>\n",
       "    </tr>\n",
       "    <tr>\n",
       "      <th>3</th>\n",
       "      <td>536368</td>\n",
       "      <td>13047.0</td>\n",
       "      <td>2010-12-01 08:34:00</td>\n",
       "    </tr>\n",
       "    <tr>\n",
       "      <th>4</th>\n",
       "      <td>536369</td>\n",
       "      <td>13047.0</td>\n",
       "      <td>2010-12-01 08:35:00</td>\n",
       "    </tr>\n",
       "  </tbody>\n",
       "</table>\n",
       "</div>"
      ],
      "text/plain": [
       "  InvoiceNo  CustomerID         InvoiceDate\n",
       "0    536365     17850.0 2010-12-01 08:26:00\n",
       "1    536366     17850.0 2010-12-01 08:28:00\n",
       "2    536367     13047.0 2010-12-01 08:34:00\n",
       "3    536368     13047.0 2010-12-01 08:34:00\n",
       "4    536369     13047.0 2010-12-01 08:35:00"
      ]
     },
     "execution_count": 29,
     "metadata": {},
     "output_type": "execute_result"
    }
   ],
   "source": [
    "orders.head()"
   ]
  },
  {
   "cell_type": "code",
   "execution_count": 30,
   "metadata": {
    "collapsed": false
   },
   "outputs": [
    {
     "data": {
      "text/plain": [
       "True"
      ]
     },
     "execution_count": 30,
     "metadata": {},
     "output_type": "execute_result"
    }
   ],
   "source": [
    "len(orders) == len(data['InvoiceNo'].unique())"
   ]
  },
  {
   "cell_type": "code",
   "execution_count": 31,
   "metadata": {
    "collapsed": false
   },
   "outputs": [
    {
     "data": {
      "text/plain": [
       "Entityset: online_retail\n",
       "  Entities:\n",
       "    orders (shape = [22190, 3])\n",
       "  Relationships:\n",
       "    No relationships"
      ]
     },
     "execution_count": 31,
     "metadata": {},
     "output_type": "execute_result"
    }
   ],
   "source": [
    "es.entity_from_dataframe(entity_id='orders',\n",
    "                        dataframe=orders,\n",
    "                        index='InvoiceNo',\n",
    "                        time_index='InvoiceDate')"
   ]
  },
  {
   "cell_type": "code",
   "execution_count": 32,
   "metadata": {
    "collapsed": false
   },
   "outputs": [
    {
     "data": {
      "text/html": [
       "<div>\n",
       "<style scoped>\n",
       "    .dataframe tbody tr th:only-of-type {\n",
       "        vertical-align: middle;\n",
       "    }\n",
       "\n",
       "    .dataframe tbody tr th {\n",
       "        vertical-align: top;\n",
       "    }\n",
       "\n",
       "    .dataframe thead th {\n",
       "        text-align: right;\n",
       "    }\n",
       "</style>\n",
       "<table border=\"1\" class=\"dataframe\">\n",
       "  <thead>\n",
       "    <tr style=\"text-align: right;\">\n",
       "      <th></th>\n",
       "      <th>InvoiceNo</th>\n",
       "      <th>Description</th>\n",
       "      <th>InvoiceDate</th>\n",
       "      <th>InvoiceMonth</th>\n",
       "      <th>Country</th>\n",
       "      <th>UnitPrice</th>\n",
       "      <th>Quantity</th>\n",
       "      <th>Value</th>\n",
       "    </tr>\n",
       "  </thead>\n",
       "  <tbody>\n",
       "    <tr>\n",
       "      <th>0</th>\n",
       "      <td>536365</td>\n",
       "      <td>WHITE HANGING HEART T-LIGHT HOLDER</td>\n",
       "      <td>2010-12-01 08:26:00</td>\n",
       "      <td>2010-12</td>\n",
       "      <td>United Kingdom</td>\n",
       "      <td>2.55</td>\n",
       "      <td>6</td>\n",
       "      <td>15.30</td>\n",
       "    </tr>\n",
       "    <tr>\n",
       "      <th>1</th>\n",
       "      <td>536365</td>\n",
       "      <td>WHITE METAL LANTERN</td>\n",
       "      <td>2010-12-01 08:26:00</td>\n",
       "      <td>2010-12</td>\n",
       "      <td>United Kingdom</td>\n",
       "      <td>3.39</td>\n",
       "      <td>6</td>\n",
       "      <td>20.34</td>\n",
       "    </tr>\n",
       "    <tr>\n",
       "      <th>2</th>\n",
       "      <td>536365</td>\n",
       "      <td>CREAM CUPID HEARTS COAT HANGER</td>\n",
       "      <td>2010-12-01 08:26:00</td>\n",
       "      <td>2010-12</td>\n",
       "      <td>United Kingdom</td>\n",
       "      <td>2.75</td>\n",
       "      <td>8</td>\n",
       "      <td>22.00</td>\n",
       "    </tr>\n",
       "    <tr>\n",
       "      <th>3</th>\n",
       "      <td>536365</td>\n",
       "      <td>KNITTED UNION FLAG HOT WATER BOTTLE</td>\n",
       "      <td>2010-12-01 08:26:00</td>\n",
       "      <td>2010-12</td>\n",
       "      <td>United Kingdom</td>\n",
       "      <td>3.39</td>\n",
       "      <td>6</td>\n",
       "      <td>20.34</td>\n",
       "    </tr>\n",
       "    <tr>\n",
       "      <th>4</th>\n",
       "      <td>536365</td>\n",
       "      <td>RED WOOLLY HOTTIE WHITE HEART.</td>\n",
       "      <td>2010-12-01 08:26:00</td>\n",
       "      <td>2010-12</td>\n",
       "      <td>United Kingdom</td>\n",
       "      <td>3.39</td>\n",
       "      <td>6</td>\n",
       "      <td>20.34</td>\n",
       "    </tr>\n",
       "  </tbody>\n",
       "</table>\n",
       "</div>"
      ],
      "text/plain": [
       "  InvoiceNo                          Description         InvoiceDate  \\\n",
       "0    536365   WHITE HANGING HEART T-LIGHT HOLDER 2010-12-01 08:26:00   \n",
       "1    536365                  WHITE METAL LANTERN 2010-12-01 08:26:00   \n",
       "2    536365       CREAM CUPID HEARTS COAT HANGER 2010-12-01 08:26:00   \n",
       "3    536365  KNITTED UNION FLAG HOT WATER BOTTLE 2010-12-01 08:26:00   \n",
       "4    536365       RED WOOLLY HOTTIE WHITE HEART. 2010-12-01 08:26:00   \n",
       "\n",
       "  InvoiceMonth         Country  UnitPrice  Quantity  Value  \n",
       "0      2010-12  United Kingdom       2.55         6  15.30  \n",
       "1      2010-12  United Kingdom       3.39         6  20.34  \n",
       "2      2010-12  United Kingdom       2.75         8  22.00  \n",
       "3      2010-12  United Kingdom       3.39         6  20.34  \n",
       "4      2010-12  United Kingdom       3.39         6  20.34  "
      ]
     },
     "execution_count": 32,
     "metadata": {},
     "output_type": "execute_result"
    }
   ],
   "source": [
    "order_products = data[['InvoiceNo', 'Description', 'InvoiceDate', 'InvoiceMonth', 'Country', 'UnitPrice', 'Quantity', 'Value']]\n",
    "order_products.head()"
   ]
  },
  {
   "cell_type": "code",
   "execution_count": 33,
   "metadata": {
    "collapsed": false
   },
   "outputs": [
    {
     "name": "stdout",
     "output_type": "stream",
     "text": [
      "2018-01-09 19:12:55,866 featuretools.entityset - WARNING    index order_product_id not found in dataframe, creating new integer column\n"
     ]
    },
    {
     "data": {
      "text/plain": [
       "Entityset: online_retail\n",
       "  Entities:\n",
       "    order_products (shape = [406829, 9])\n",
       "    orders (shape = [22190, 3])\n",
       "  Relationships:\n",
       "    No relationships"
      ]
     },
     "execution_count": 33,
     "metadata": {},
     "output_type": "execute_result"
    }
   ],
   "source": [
    "es.entity_from_dataframe(entity_id='order_products',\n",
    "                        dataframe=order_products,\n",
    "                        index='order_product_id',\n",
    "                        time_index='InvoiceDate')"
   ]
  },
  {
   "cell_type": "code",
   "execution_count": 34,
   "metadata": {
    "collapsed": false
   },
   "outputs": [
    {
     "data": {
      "text/plain": [
       "Entityset: online_retail\n",
       "  Entities:\n",
       "    order_products (shape = [406829, 9])\n",
       "    orders (shape = [22190, 3])\n",
       "  Relationships:\n",
       "    order_products.InvoiceNo -> orders.InvoiceNo"
      ]
     },
     "execution_count": 34,
     "metadata": {},
     "output_type": "execute_result"
    }
   ],
   "source": [
    "# add a relationship between entities -> orders and order_products\n",
    "es.add_relationship(ft.Relationship(es['orders']['InvoiceNo'], es['order_products']['InvoiceNo']))"
   ]
  },
  {
   "cell_type": "code",
   "execution_count": 35,
   "metadata": {
    "collapsed": false
   },
   "outputs": [
    {
     "data": {
      "text/plain": [
       "Entityset: online_retail\n",
       "  Entities:\n",
       "    order_products (shape = [406829, 9])\n",
       "    orders (shape = [22190, 3])\n",
       "    customers (shape = [4372, 2])\n",
       "  Relationships:\n",
       "    order_products.InvoiceNo -> orders.InvoiceNo\n",
       "    orders.CustomerID -> customers.CustomerID"
      ]
     },
     "execution_count": 35,
     "metadata": {},
     "output_type": "execute_result"
    }
   ],
   "source": [
    "# add customers entity (which we'll use as an entity to predict later on)\n",
    "es.normalize_entity(base_entity_id='orders', new_entity_id='customers', index='CustomerID')"
   ]
  },
  {
   "cell_type": "code",
   "execution_count": 36,
   "metadata": {
    "collapsed": false
   },
   "outputs": [
    {
     "data": {
      "text/plain": [
       "True"
      ]
     },
     "execution_count": 36,
     "metadata": {},
     "output_type": "execute_result"
    }
   ],
   "source": [
    "len(data['CustomerID'].unique()) == len(es['customers'].df)"
   ]
  },
  {
   "cell_type": "markdown",
   "metadata": {
    "collapsed": true
   },
   "source": [
    "## 4. Building labels"
   ]
  },
  {
   "cell_type": "code",
   "execution_count": 37,
   "metadata": {
    "collapsed": false,
    "scrolled": true
   },
   "outputs": [
    {
     "data": {
      "text/plain": [
       "Timedelta('373 days 04:24:00')"
      ]
     },
     "execution_count": 37,
     "metadata": {},
     "output_type": "execute_result"
    }
   ],
   "source": [
    "# dataset length\n",
    "data['InvoiceDate'].max() - data['InvoiceDate'].min()"
   ]
  },
  {
   "cell_type": "markdown",
   "metadata": {},
   "source": [
    "* *training_window* = the amount of historical data we want to use when calculating features\n",
    "* *cutoff_time* = the point in time to calculate the features\n",
    "\n",
    "We use cutoff times to avoid the risk of leaking labels into prediction (and overfit the data)"
   ]
  },
  {
   "cell_type": "code",
   "execution_count": 38,
   "metadata": {
    "collapsed": false
   },
   "outputs": [],
   "source": [
    "cutoff_time = pd.Timestamp('June 10, 2011')\n",
    "# 1 month prediction window\n",
    "prediction_window = ft.Timedelta(\"4 weeks\")\n",
    "# 6 months of training data\n",
    "training_window = ft.Timedelta(\"180 days\")\n",
    "\n",
    "prediction_window_end = cutoff_time + prediction_window\n",
    "t_start = cutoff_time - training_window"
   ]
  },
  {
   "cell_type": "code",
   "execution_count": 39,
   "metadata": {
    "collapsed": false
   },
   "outputs": [
    {
     "data": {
      "text/plain": [
       "Timestamp('2011-07-08 00:00:00')"
      ]
     },
     "execution_count": 39,
     "metadata": {},
     "output_type": "execute_result"
    }
   ],
   "source": [
    "prediction_window_end"
   ]
  },
  {
   "cell_type": "code",
   "execution_count": 40,
   "metadata": {
    "collapsed": false
   },
   "outputs": [
    {
     "data": {
      "text/plain": [
       "Timestamp('2010-12-12 00:00:00')"
      ]
     },
     "execution_count": 40,
     "metadata": {},
     "output_type": "execute_result"
    }
   ],
   "source": [
    "t_start"
   ]
  },
  {
   "cell_type": "code",
   "execution_count": 41,
   "metadata": {
    "collapsed": true
   },
   "outputs": [],
   "source": [
    "orders = es['orders'].df\n",
    "ops = es['order_products'].df"
   ]
  },
  {
   "cell_type": "code",
   "execution_count": 42,
   "metadata": {
    "collapsed": false
   },
   "outputs": [
    {
     "data": {
      "text/html": [
       "<div>\n",
       "<style scoped>\n",
       "    .dataframe tbody tr th:only-of-type {\n",
       "        vertical-align: middle;\n",
       "    }\n",
       "\n",
       "    .dataframe tbody tr th {\n",
       "        vertical-align: top;\n",
       "    }\n",
       "\n",
       "    .dataframe thead th {\n",
       "        text-align: right;\n",
       "    }\n",
       "</style>\n",
       "<table border=\"1\" class=\"dataframe\">\n",
       "  <thead>\n",
       "    <tr style=\"text-align: right;\">\n",
       "      <th></th>\n",
       "      <th>order_product_id</th>\n",
       "      <th>InvoiceNo</th>\n",
       "      <th>Description</th>\n",
       "      <th>InvoiceDate</th>\n",
       "      <th>InvoiceMonth</th>\n",
       "      <th>Country</th>\n",
       "      <th>UnitPrice</th>\n",
       "      <th>Quantity</th>\n",
       "      <th>Value</th>\n",
       "    </tr>\n",
       "    <tr>\n",
       "      <th>order_product_id</th>\n",
       "      <th></th>\n",
       "      <th></th>\n",
       "      <th></th>\n",
       "      <th></th>\n",
       "      <th></th>\n",
       "      <th></th>\n",
       "      <th></th>\n",
       "      <th></th>\n",
       "      <th></th>\n",
       "    </tr>\n",
       "  </thead>\n",
       "  <tbody>\n",
       "    <tr>\n",
       "      <th>0</th>\n",
       "      <td>0</td>\n",
       "      <td>536365</td>\n",
       "      <td>WHITE HANGING HEART T-LIGHT HOLDER</td>\n",
       "      <td>2010-12-01 08:26:00</td>\n",
       "      <td>2010-12</td>\n",
       "      <td>United Kingdom</td>\n",
       "      <td>2.55</td>\n",
       "      <td>6</td>\n",
       "      <td>15.30</td>\n",
       "    </tr>\n",
       "    <tr>\n",
       "      <th>1</th>\n",
       "      <td>1</td>\n",
       "      <td>536365</td>\n",
       "      <td>WHITE METAL LANTERN</td>\n",
       "      <td>2010-12-01 08:26:00</td>\n",
       "      <td>2010-12</td>\n",
       "      <td>United Kingdom</td>\n",
       "      <td>3.39</td>\n",
       "      <td>6</td>\n",
       "      <td>20.34</td>\n",
       "    </tr>\n",
       "    <tr>\n",
       "      <th>2</th>\n",
       "      <td>2</td>\n",
       "      <td>536365</td>\n",
       "      <td>CREAM CUPID HEARTS COAT HANGER</td>\n",
       "      <td>2010-12-01 08:26:00</td>\n",
       "      <td>2010-12</td>\n",
       "      <td>United Kingdom</td>\n",
       "      <td>2.75</td>\n",
       "      <td>8</td>\n",
       "      <td>22.00</td>\n",
       "    </tr>\n",
       "    <tr>\n",
       "      <th>3</th>\n",
       "      <td>3</td>\n",
       "      <td>536365</td>\n",
       "      <td>KNITTED UNION FLAG HOT WATER BOTTLE</td>\n",
       "      <td>2010-12-01 08:26:00</td>\n",
       "      <td>2010-12</td>\n",
       "      <td>United Kingdom</td>\n",
       "      <td>3.39</td>\n",
       "      <td>6</td>\n",
       "      <td>20.34</td>\n",
       "    </tr>\n",
       "    <tr>\n",
       "      <th>4</th>\n",
       "      <td>4</td>\n",
       "      <td>536365</td>\n",
       "      <td>RED WOOLLY HOTTIE WHITE HEART.</td>\n",
       "      <td>2010-12-01 08:26:00</td>\n",
       "      <td>2010-12</td>\n",
       "      <td>United Kingdom</td>\n",
       "      <td>3.39</td>\n",
       "      <td>6</td>\n",
       "      <td>20.34</td>\n",
       "    </tr>\n",
       "  </tbody>\n",
       "</table>\n",
       "</div>"
      ],
      "text/plain": [
       "                  order_product_id InvoiceNo  \\\n",
       "order_product_id                               \n",
       "0                                0    536365   \n",
       "1                                1    536365   \n",
       "2                                2    536365   \n",
       "3                                3    536365   \n",
       "4                                4    536365   \n",
       "\n",
       "                                          Description         InvoiceDate  \\\n",
       "order_product_id                                                            \n",
       "0                  WHITE HANGING HEART T-LIGHT HOLDER 2010-12-01 08:26:00   \n",
       "1                                 WHITE METAL LANTERN 2010-12-01 08:26:00   \n",
       "2                      CREAM CUPID HEARTS COAT HANGER 2010-12-01 08:26:00   \n",
       "3                 KNITTED UNION FLAG HOT WATER BOTTLE 2010-12-01 08:26:00   \n",
       "4                      RED WOOLLY HOTTIE WHITE HEART. 2010-12-01 08:26:00   \n",
       "\n",
       "                 InvoiceMonth         Country  UnitPrice  Quantity  Value  \n",
       "order_product_id                                                           \n",
       "0                     2010-12  United Kingdom       2.55         6  15.30  \n",
       "1                     2010-12  United Kingdom       3.39         6  20.34  \n",
       "2                     2010-12  United Kingdom       2.75         8  22.00  \n",
       "3                     2010-12  United Kingdom       3.39         6  20.34  \n",
       "4                     2010-12  United Kingdom       3.39         6  20.34  "
      ]
     },
     "execution_count": 42,
     "metadata": {},
     "output_type": "execute_result"
    }
   ],
   "source": [
    "ops.head()"
   ]
  },
  {
   "cell_type": "code",
   "execution_count": 43,
   "metadata": {
    "collapsed": false
   },
   "outputs": [
    {
     "data": {
      "text/html": [
       "<div>\n",
       "<style scoped>\n",
       "    .dataframe tbody tr th:only-of-type {\n",
       "        vertical-align: middle;\n",
       "    }\n",
       "\n",
       "    .dataframe tbody tr th {\n",
       "        vertical-align: top;\n",
       "    }\n",
       "\n",
       "    .dataframe thead th {\n",
       "        text-align: right;\n",
       "    }\n",
       "</style>\n",
       "<table border=\"1\" class=\"dataframe\">\n",
       "  <thead>\n",
       "    <tr style=\"text-align: right;\">\n",
       "      <th></th>\n",
       "      <th>InvoiceNo</th>\n",
       "      <th>CustomerID</th>\n",
       "      <th>InvoiceDate</th>\n",
       "    </tr>\n",
       "    <tr>\n",
       "      <th>InvoiceNo</th>\n",
       "      <th></th>\n",
       "      <th></th>\n",
       "      <th></th>\n",
       "    </tr>\n",
       "  </thead>\n",
       "  <tbody>\n",
       "    <tr>\n",
       "      <th>536365</th>\n",
       "      <td>536365</td>\n",
       "      <td>17850.0</td>\n",
       "      <td>2010-12-01 08:26:00</td>\n",
       "    </tr>\n",
       "    <tr>\n",
       "      <th>536366</th>\n",
       "      <td>536366</td>\n",
       "      <td>17850.0</td>\n",
       "      <td>2010-12-01 08:28:00</td>\n",
       "    </tr>\n",
       "    <tr>\n",
       "      <th>536367</th>\n",
       "      <td>536367</td>\n",
       "      <td>13047.0</td>\n",
       "      <td>2010-12-01 08:34:00</td>\n",
       "    </tr>\n",
       "    <tr>\n",
       "      <th>536368</th>\n",
       "      <td>536368</td>\n",
       "      <td>13047.0</td>\n",
       "      <td>2010-12-01 08:34:00</td>\n",
       "    </tr>\n",
       "    <tr>\n",
       "      <th>536369</th>\n",
       "      <td>536369</td>\n",
       "      <td>13047.0</td>\n",
       "      <td>2010-12-01 08:35:00</td>\n",
       "    </tr>\n",
       "  </tbody>\n",
       "</table>\n",
       "</div>"
      ],
      "text/plain": [
       "          InvoiceNo  CustomerID         InvoiceDate\n",
       "InvoiceNo                                          \n",
       "536365       536365     17850.0 2010-12-01 08:26:00\n",
       "536366       536366     17850.0 2010-12-01 08:28:00\n",
       "536367       536367     13047.0 2010-12-01 08:34:00\n",
       "536368       536368     13047.0 2010-12-01 08:34:00\n",
       "536369       536369     13047.0 2010-12-01 08:35:00"
      ]
     },
     "execution_count": 43,
     "metadata": {},
     "output_type": "execute_result"
    }
   ],
   "source": [
    "orders.head()"
   ]
  },
  {
   "cell_type": "code",
   "execution_count": 44,
   "metadata": {
    "collapsed": false
   },
   "outputs": [],
   "source": [
    "training_data = ops[(ops['InvoiceDate'] <= cutoff_time) & (ops['InvoiceDate'] > t_start)]\n",
    "prediction_data = ops[(ops['InvoiceDate'] > cutoff_time) & (ops['InvoiceDate'] < prediction_window_end)]"
   ]
  },
  {
   "cell_type": "code",
   "execution_count": 45,
   "metadata": {
    "collapsed": false
   },
   "outputs": [],
   "source": [
    "users_in_training = training_data.merge(orders)['CustomerID'].unique()"
   ]
  },
  {
   "cell_type": "code",
   "execution_count": 46,
   "metadata": {
    "collapsed": false
   },
   "outputs": [],
   "source": [
    "valid_pred_data = prediction_data.merge(orders)\n",
    "valid_pred_data = valid_pred_data[valid_pred_data['CustomerID'].isin(users_in_training)]"
   ]
  },
  {
   "cell_type": "code",
   "execution_count": 47,
   "metadata": {
    "collapsed": false
   },
   "outputs": [
    {
     "data": {
      "text/html": [
       "<div>\n",
       "<style scoped>\n",
       "    .dataframe tbody tr th:only-of-type {\n",
       "        vertical-align: middle;\n",
       "    }\n",
       "\n",
       "    .dataframe tbody tr th {\n",
       "        vertical-align: top;\n",
       "    }\n",
       "\n",
       "    .dataframe thead th {\n",
       "        text-align: right;\n",
       "    }\n",
       "</style>\n",
       "<table border=\"1\" class=\"dataframe\">\n",
       "  <thead>\n",
       "    <tr style=\"text-align: right;\">\n",
       "      <th></th>\n",
       "      <th>order_product_id</th>\n",
       "      <th>InvoiceNo</th>\n",
       "      <th>Description</th>\n",
       "      <th>InvoiceDate</th>\n",
       "      <th>InvoiceMonth</th>\n",
       "      <th>Country</th>\n",
       "      <th>UnitPrice</th>\n",
       "      <th>Quantity</th>\n",
       "      <th>Value</th>\n",
       "      <th>CustomerID</th>\n",
       "    </tr>\n",
       "  </thead>\n",
       "  <tbody>\n",
       "    <tr>\n",
       "      <th>13</th>\n",
       "      <td>158578</td>\n",
       "      <td>556283</td>\n",
       "      <td>DOORMAT KEEP CALM AND COME IN</td>\n",
       "      <td>2011-06-10 08:50:00</td>\n",
       "      <td>2011-06</td>\n",
       "      <td>United Kingdom</td>\n",
       "      <td>7.95</td>\n",
       "      <td>2</td>\n",
       "      <td>15.90</td>\n",
       "      <td>15628.0</td>\n",
       "    </tr>\n",
       "    <tr>\n",
       "      <th>14</th>\n",
       "      <td>158579</td>\n",
       "      <td>556283</td>\n",
       "      <td>HANGING HEART JAR T-LIGHT HOLDER</td>\n",
       "      <td>2011-06-10 08:50:00</td>\n",
       "      <td>2011-06</td>\n",
       "      <td>United Kingdom</td>\n",
       "      <td>1.25</td>\n",
       "      <td>12</td>\n",
       "      <td>15.00</td>\n",
       "      <td>15628.0</td>\n",
       "    </tr>\n",
       "    <tr>\n",
       "      <th>15</th>\n",
       "      <td>158580</td>\n",
       "      <td>556283</td>\n",
       "      <td>GARDENERS KNEELING PAD KEEP CALM</td>\n",
       "      <td>2011-06-10 08:50:00</td>\n",
       "      <td>2011-06</td>\n",
       "      <td>United Kingdom</td>\n",
       "      <td>1.65</td>\n",
       "      <td>24</td>\n",
       "      <td>39.60</td>\n",
       "      <td>15628.0</td>\n",
       "    </tr>\n",
       "    <tr>\n",
       "      <th>16</th>\n",
       "      <td>158581</td>\n",
       "      <td>556283</td>\n",
       "      <td>RETROSPOT TEA SET CERAMIC 11 PC</td>\n",
       "      <td>2011-06-10 08:50:00</td>\n",
       "      <td>2011-06</td>\n",
       "      <td>United Kingdom</td>\n",
       "      <td>4.95</td>\n",
       "      <td>3</td>\n",
       "      <td>14.85</td>\n",
       "      <td>15628.0</td>\n",
       "    </tr>\n",
       "    <tr>\n",
       "      <th>17</th>\n",
       "      <td>158582</td>\n",
       "      <td>556283</td>\n",
       "      <td>FELTCRAFT BUTTERFLY HEARTS</td>\n",
       "      <td>2011-06-10 08:50:00</td>\n",
       "      <td>2011-06</td>\n",
       "      <td>United Kingdom</td>\n",
       "      <td>1.45</td>\n",
       "      <td>12</td>\n",
       "      <td>17.40</td>\n",
       "      <td>15628.0</td>\n",
       "    </tr>\n",
       "  </tbody>\n",
       "</table>\n",
       "</div>"
      ],
      "text/plain": [
       "    order_product_id InvoiceNo                        Description  \\\n",
       "13            158578    556283      DOORMAT KEEP CALM AND COME IN   \n",
       "14            158579    556283   HANGING HEART JAR T-LIGHT HOLDER   \n",
       "15            158580    556283  GARDENERS KNEELING PAD KEEP CALM    \n",
       "16            158581    556283   RETROSPOT TEA SET CERAMIC 11 PC    \n",
       "17            158582    556283         FELTCRAFT BUTTERFLY HEARTS   \n",
       "\n",
       "           InvoiceDate InvoiceMonth         Country  UnitPrice  Quantity  \\\n",
       "13 2011-06-10 08:50:00      2011-06  United Kingdom       7.95         2   \n",
       "14 2011-06-10 08:50:00      2011-06  United Kingdom       1.25        12   \n",
       "15 2011-06-10 08:50:00      2011-06  United Kingdom       1.65        24   \n",
       "16 2011-06-10 08:50:00      2011-06  United Kingdom       4.95         3   \n",
       "17 2011-06-10 08:50:00      2011-06  United Kingdom       1.45        12   \n",
       "\n",
       "    Value  CustomerID  \n",
       "13  15.90     15628.0  \n",
       "14  15.00     15628.0  \n",
       "15  39.60     15628.0  \n",
       "16  14.85     15628.0  \n",
       "17  17.40     15628.0  "
      ]
     },
     "execution_count": 47,
     "metadata": {},
     "output_type": "execute_result"
    }
   ],
   "source": [
    "valid_pred_data.head()"
   ]
  },
  {
   "cell_type": "code",
   "execution_count": 48,
   "metadata": {
    "collapsed": true
   },
   "outputs": [],
   "source": [
    "# which value do we want to predict?\n",
    "label = 'high_value_customer'"
   ]
  },
  {
   "cell_type": "markdown",
   "metadata": {},
   "source": [
    "### High value customer?"
   ]
  },
  {
   "cell_type": "code",
   "execution_count": 49,
   "metadata": {
    "collapsed": true
   },
   "outputs": [],
   "source": [
    "# get average spending per each month - build labels\n",
    "# total spending / unique months as a customer\n",
    "# binary labels > 80th percentile"
   ]
  },
  {
   "cell_type": "code",
   "execution_count": 50,
   "metadata": {
    "collapsed": false
   },
   "outputs": [],
   "source": [
    "# print(\"Training/validation set size: \", len(training_data),\",\", len(valid_pred_data))"
   ]
  },
  {
   "cell_type": "code",
   "execution_count": 51,
   "metadata": {
    "collapsed": true
   },
   "outputs": [],
   "source": [
    "# why calculating labels on the validation set?"
   ]
  },
  {
   "cell_type": "code",
   "execution_count": 52,
   "metadata": {
    "collapsed": false
   },
   "outputs": [
    {
     "data": {
      "text/html": [
       "<div>\n",
       "<style scoped>\n",
       "    .dataframe tbody tr th:only-of-type {\n",
       "        vertical-align: middle;\n",
       "    }\n",
       "\n",
       "    .dataframe tbody tr th {\n",
       "        vertical-align: top;\n",
       "    }\n",
       "\n",
       "    .dataframe thead th {\n",
       "        text-align: right;\n",
       "    }\n",
       "</style>\n",
       "<table border=\"1\" class=\"dataframe\">\n",
       "  <thead>\n",
       "    <tr style=\"text-align: right;\">\n",
       "      <th></th>\n",
       "      <th>CustomerID</th>\n",
       "      <th>InvoiceMonth</th>\n",
       "    </tr>\n",
       "  </thead>\n",
       "  <tbody>\n",
       "    <tr>\n",
       "      <th>0</th>\n",
       "      <td>12362.0</td>\n",
       "      <td>1</td>\n",
       "    </tr>\n",
       "    <tr>\n",
       "      <th>1</th>\n",
       "      <td>12395.0</td>\n",
       "      <td>1</td>\n",
       "    </tr>\n",
       "    <tr>\n",
       "      <th>2</th>\n",
       "      <td>12407.0</td>\n",
       "      <td>1</td>\n",
       "    </tr>\n",
       "    <tr>\n",
       "      <th>3</th>\n",
       "      <td>12408.0</td>\n",
       "      <td>1</td>\n",
       "    </tr>\n",
       "    <tr>\n",
       "      <th>4</th>\n",
       "      <td>12415.0</td>\n",
       "      <td>1</td>\n",
       "    </tr>\n",
       "  </tbody>\n",
       "</table>\n",
       "</div>"
      ],
      "text/plain": [
       "   CustomerID  InvoiceMonth\n",
       "0     12362.0             1\n",
       "1     12395.0             1\n",
       "2     12407.0             1\n",
       "3     12408.0             1\n",
       "4     12415.0             1"
      ]
     },
     "execution_count": 52,
     "metadata": {},
     "output_type": "execute_result"
    }
   ],
   "source": [
    "customer_months = pd.DataFrame(valid_pred_data.groupby('CustomerID')['InvoiceMonth'].nunique())\n",
    "customer_months.reset_index(inplace=True)\n",
    "customer_months.head()"
   ]
  },
  {
   "cell_type": "code",
   "execution_count": 53,
   "metadata": {
    "collapsed": false
   },
   "outputs": [
    {
     "data": {
      "text/html": [
       "<div>\n",
       "<style scoped>\n",
       "    .dataframe tbody tr th:only-of-type {\n",
       "        vertical-align: middle;\n",
       "    }\n",
       "\n",
       "    .dataframe tbody tr th {\n",
       "        vertical-align: top;\n",
       "    }\n",
       "\n",
       "    .dataframe thead th {\n",
       "        text-align: right;\n",
       "    }\n",
       "</style>\n",
       "<table border=\"1\" class=\"dataframe\">\n",
       "  <thead>\n",
       "    <tr style=\"text-align: right;\">\n",
       "      <th></th>\n",
       "      <th>CustomerID</th>\n",
       "      <th>Value</th>\n",
       "    </tr>\n",
       "  </thead>\n",
       "  <tbody>\n",
       "    <tr>\n",
       "      <th>0</th>\n",
       "      <td>12362.0</td>\n",
       "      <td>303.76</td>\n",
       "    </tr>\n",
       "    <tr>\n",
       "      <th>1</th>\n",
       "      <td>12395.0</td>\n",
       "      <td>163.90</td>\n",
       "    </tr>\n",
       "    <tr>\n",
       "      <th>2</th>\n",
       "      <td>12407.0</td>\n",
       "      <td>719.06</td>\n",
       "    </tr>\n",
       "    <tr>\n",
       "      <th>3</th>\n",
       "      <td>12408.0</td>\n",
       "      <td>652.53</td>\n",
       "    </tr>\n",
       "    <tr>\n",
       "      <th>4</th>\n",
       "      <td>12415.0</td>\n",
       "      <td>23426.81</td>\n",
       "    </tr>\n",
       "  </tbody>\n",
       "</table>\n",
       "</div>"
      ],
      "text/plain": [
       "   CustomerID     Value\n",
       "0     12362.0    303.76\n",
       "1     12395.0    163.90\n",
       "2     12407.0    719.06\n",
       "3     12408.0    652.53\n",
       "4     12415.0  23426.81"
      ]
     },
     "execution_count": 53,
     "metadata": {},
     "output_type": "execute_result"
    }
   ],
   "source": [
    "total_spending = pd.DataFrame(valid_pred_data.groupby('CustomerID')['Value'].sum())\n",
    "total_spending.reset_index(inplace=True)\n",
    "total_spending.head()"
   ]
  },
  {
   "cell_type": "code",
   "execution_count": 54,
   "metadata": {
    "collapsed": false
   },
   "outputs": [
    {
     "data": {
      "text/html": [
       "<div>\n",
       "<style scoped>\n",
       "    .dataframe tbody tr th:only-of-type {\n",
       "        vertical-align: middle;\n",
       "    }\n",
       "\n",
       "    .dataframe tbody tr th {\n",
       "        vertical-align: top;\n",
       "    }\n",
       "\n",
       "    .dataframe thead th {\n",
       "        text-align: right;\n",
       "    }\n",
       "</style>\n",
       "<table border=\"1\" class=\"dataframe\">\n",
       "  <thead>\n",
       "    <tr style=\"text-align: right;\">\n",
       "      <th></th>\n",
       "      <th>CustomerID</th>\n",
       "      <th>CustomerMonths</th>\n",
       "      <th>TotalSpending</th>\n",
       "      <th>ValuePerMonth</th>\n",
       "    </tr>\n",
       "  </thead>\n",
       "  <tbody>\n",
       "    <tr>\n",
       "      <th>0</th>\n",
       "      <td>12362.0</td>\n",
       "      <td>1</td>\n",
       "      <td>303.76</td>\n",
       "      <td>303.76</td>\n",
       "    </tr>\n",
       "    <tr>\n",
       "      <th>1</th>\n",
       "      <td>12395.0</td>\n",
       "      <td>1</td>\n",
       "      <td>163.90</td>\n",
       "      <td>163.90</td>\n",
       "    </tr>\n",
       "    <tr>\n",
       "      <th>2</th>\n",
       "      <td>12407.0</td>\n",
       "      <td>1</td>\n",
       "      <td>719.06</td>\n",
       "      <td>719.06</td>\n",
       "    </tr>\n",
       "    <tr>\n",
       "      <th>3</th>\n",
       "      <td>12408.0</td>\n",
       "      <td>1</td>\n",
       "      <td>652.53</td>\n",
       "      <td>652.53</td>\n",
       "    </tr>\n",
       "    <tr>\n",
       "      <th>4</th>\n",
       "      <td>12415.0</td>\n",
       "      <td>1</td>\n",
       "      <td>23426.81</td>\n",
       "      <td>23426.81</td>\n",
       "    </tr>\n",
       "  </tbody>\n",
       "</table>\n",
       "</div>"
      ],
      "text/plain": [
       "   CustomerID  CustomerMonths  TotalSpending  ValuePerMonth\n",
       "0     12362.0               1         303.76         303.76\n",
       "1     12395.0               1         163.90         163.90\n",
       "2     12407.0               1         719.06         719.06\n",
       "3     12408.0               1         652.53         652.53\n",
       "4     12415.0               1       23426.81       23426.81"
      ]
     },
     "execution_count": 54,
     "metadata": {},
     "output_type": "execute_result"
    }
   ],
   "source": [
    "value_per_customer = pd.merge(customer_months, total_spending)\n",
    "value_per_customer.columns = ['CustomerID', 'CustomerMonths', 'TotalSpending']\n",
    "value_per_customer['ValuePerMonth'] = value_per_customer['TotalSpending'] /  value_per_customer['CustomerMonths']\n",
    "value_per_customer.head()"
   ]
  },
  {
   "cell_type": "code",
   "execution_count": 55,
   "metadata": {
    "collapsed": true
   },
   "outputs": [],
   "source": [
    "# extracting top 20% spenders\n",
    "high_value = int(value_per_customer['ValuePerMonth'].quantile(0.80))"
   ]
  },
  {
   "cell_type": "code",
   "execution_count": 56,
   "metadata": {
    "collapsed": false
   },
   "outputs": [],
   "source": [
    "value_per_customer['HighValueCustomer'] = value_per_customer['ValuePerMonth'] > high_value"
   ]
  },
  {
   "cell_type": "code",
   "execution_count": 57,
   "metadata": {
    "collapsed": false
   },
   "outputs": [
    {
     "data": {
      "text/html": [
       "<div>\n",
       "<style scoped>\n",
       "    .dataframe tbody tr th:only-of-type {\n",
       "        vertical-align: middle;\n",
       "    }\n",
       "\n",
       "    .dataframe tbody tr th {\n",
       "        vertical-align: top;\n",
       "    }\n",
       "\n",
       "    .dataframe thead th {\n",
       "        text-align: right;\n",
       "    }\n",
       "</style>\n",
       "<table border=\"1\" class=\"dataframe\">\n",
       "  <thead>\n",
       "    <tr style=\"text-align: right;\">\n",
       "      <th></th>\n",
       "      <th>CustomerID</th>\n",
       "      <th>CustomerMonths</th>\n",
       "      <th>TotalSpending</th>\n",
       "      <th>ValuePerMonth</th>\n",
       "      <th>HighValueCustomer</th>\n",
       "    </tr>\n",
       "  </thead>\n",
       "  <tbody>\n",
       "    <tr>\n",
       "      <th>0</th>\n",
       "      <td>12362.0</td>\n",
       "      <td>1</td>\n",
       "      <td>303.76</td>\n",
       "      <td>303.76</td>\n",
       "      <td>False</td>\n",
       "    </tr>\n",
       "    <tr>\n",
       "      <th>1</th>\n",
       "      <td>12395.0</td>\n",
       "      <td>1</td>\n",
       "      <td>163.90</td>\n",
       "      <td>163.90</td>\n",
       "      <td>False</td>\n",
       "    </tr>\n",
       "    <tr>\n",
       "      <th>2</th>\n",
       "      <td>12407.0</td>\n",
       "      <td>1</td>\n",
       "      <td>719.06</td>\n",
       "      <td>719.06</td>\n",
       "      <td>True</td>\n",
       "    </tr>\n",
       "    <tr>\n",
       "      <th>3</th>\n",
       "      <td>12408.0</td>\n",
       "      <td>1</td>\n",
       "      <td>652.53</td>\n",
       "      <td>652.53</td>\n",
       "      <td>True</td>\n",
       "    </tr>\n",
       "    <tr>\n",
       "      <th>4</th>\n",
       "      <td>12415.0</td>\n",
       "      <td>1</td>\n",
       "      <td>23426.81</td>\n",
       "      <td>23426.81</td>\n",
       "      <td>True</td>\n",
       "    </tr>\n",
       "  </tbody>\n",
       "</table>\n",
       "</div>"
      ],
      "text/plain": [
       "   CustomerID  CustomerMonths  TotalSpending  ValuePerMonth  HighValueCustomer\n",
       "0     12362.0               1         303.76         303.76              False\n",
       "1     12395.0               1         163.90         163.90              False\n",
       "2     12407.0               1         719.06         719.06               True\n",
       "3     12408.0               1         652.53         652.53               True\n",
       "4     12415.0               1       23426.81       23426.81               True"
      ]
     },
     "execution_count": 57,
     "metadata": {},
     "output_type": "execute_result"
    }
   ],
   "source": [
    "value_per_customer.head()"
   ]
  },
  {
   "cell_type": "code",
   "execution_count": 58,
   "metadata": {
    "collapsed": false
   },
   "outputs": [],
   "source": [
    "if label == 'high_value_customer':\n",
    "    # label_times = pd.DataFrame((valid_pred_data.groupby('CustomerID').sum()['Value'] / 2) > high_value).reset_index()\n",
    "    label_times = value_per_customer[['CustomerID', 'HighValueCustomer']]\n",
    "    label_times['cutoff_time'] = cutoff_time\n",
    "    label_times.columns = ['CustomerID', 'label', 'time']"
   ]
  },
  {
   "cell_type": "code",
   "execution_count": 59,
   "metadata": {
    "collapsed": false
   },
   "outputs": [
    {
     "data": {
      "text/plain": [
       "722"
      ]
     },
     "execution_count": 59,
     "metadata": {},
     "output_type": "execute_result"
    }
   ],
   "source": [
    "len(label_times['CustomerID'].unique())"
   ]
  },
  {
   "cell_type": "code",
   "execution_count": 60,
   "metadata": {
    "collapsed": false
   },
   "outputs": [
    {
     "data": {
      "text/html": [
       "<div>\n",
       "<style scoped>\n",
       "    .dataframe tbody tr th:only-of-type {\n",
       "        vertical-align: middle;\n",
       "    }\n",
       "\n",
       "    .dataframe tbody tr th {\n",
       "        vertical-align: top;\n",
       "    }\n",
       "\n",
       "    .dataframe thead th {\n",
       "        text-align: right;\n",
       "    }\n",
       "</style>\n",
       "<table border=\"1\" class=\"dataframe\">\n",
       "  <thead>\n",
       "    <tr style=\"text-align: right;\">\n",
       "      <th></th>\n",
       "      <th>CustomerID</th>\n",
       "      <th>label</th>\n",
       "      <th>time</th>\n",
       "    </tr>\n",
       "  </thead>\n",
       "  <tbody>\n",
       "    <tr>\n",
       "      <th>0</th>\n",
       "      <td>12362.0</td>\n",
       "      <td>False</td>\n",
       "      <td>2011-06-10</td>\n",
       "    </tr>\n",
       "    <tr>\n",
       "      <th>1</th>\n",
       "      <td>12395.0</td>\n",
       "      <td>False</td>\n",
       "      <td>2011-06-10</td>\n",
       "    </tr>\n",
       "    <tr>\n",
       "      <th>2</th>\n",
       "      <td>12407.0</td>\n",
       "      <td>True</td>\n",
       "      <td>2011-06-10</td>\n",
       "    </tr>\n",
       "    <tr>\n",
       "      <th>3</th>\n",
       "      <td>12408.0</td>\n",
       "      <td>True</td>\n",
       "      <td>2011-06-10</td>\n",
       "    </tr>\n",
       "    <tr>\n",
       "      <th>4</th>\n",
       "      <td>12415.0</td>\n",
       "      <td>True</td>\n",
       "      <td>2011-06-10</td>\n",
       "    </tr>\n",
       "  </tbody>\n",
       "</table>\n",
       "</div>"
      ],
      "text/plain": [
       "   CustomerID  label       time\n",
       "0     12362.0  False 2011-06-10\n",
       "1     12395.0  False 2011-06-10\n",
       "2     12407.0   True 2011-06-10\n",
       "3     12408.0   True 2011-06-10\n",
       "4     12415.0   True 2011-06-10"
      ]
     },
     "execution_count": 60,
     "metadata": {},
     "output_type": "execute_result"
    }
   ],
   "source": [
    "label_times.head()"
   ]
  },
  {
   "cell_type": "markdown",
   "metadata": {},
   "source": [
    "### Repurchase product?"
   ]
  },
  {
   "cell_type": "code",
   "execution_count": 61,
   "metadata": {
    "collapsed": false
   },
   "outputs": [],
   "source": [
    "# data['Description'].value_counts()[0:20]"
   ]
  },
  {
   "cell_type": "code",
   "execution_count": 62,
   "metadata": {
    "collapsed": false
   },
   "outputs": [],
   "source": [
    "# len(data[data['Description'] == 'LUNCH BAG PINK POLKADOT']['CustomerID'].unique())"
   ]
  },
  {
   "cell_type": "code",
   "execution_count": 63,
   "metadata": {
    "collapsed": true
   },
   "outputs": [],
   "source": [
    "# product_name = 'LUNCH BAG PINK POLKADOT'"
   ]
  },
  {
   "cell_type": "code",
   "execution_count": 64,
   "metadata": {
    "collapsed": false
   },
   "outputs": [
    {
     "data": {
      "text/plain": [
       "\"\\n\\n# bought a product?\\nif label == 'repurchase_product':\\n    customer_bought_product = valid_pred_data[valid_pred_data['Description'] ==  'LUNCH BAG PINK POLKADOT']['CustomerID'].tolist()\\n    customer_bought_product_binary = valid_pred_data['CustomerID'].isin(customer_bought_product)\\n    label_times = pd.DataFrame(valid_pred_data['CustomerID'].unique())\\n    label_times['label'] = customer_bought_product_binary\\n    label_times['cutoff_time'] = cutoff_time\\n    label_times.columns = ['CustomerID', 'label', 'time']\\n    \\n    \\n\""
      ]
     },
     "execution_count": 64,
     "metadata": {},
     "output_type": "execute_result"
    }
   ],
   "source": [
    "\"\"\"\n",
    "\n",
    "# bought a product?\n",
    "if label == 'repurchase_product':\n",
    "    customer_bought_product = valid_pred_data[valid_pred_data['Description'] ==  'LUNCH BAG PINK POLKADOT']['CustomerID'].tolist()\n",
    "    customer_bought_product_binary = valid_pred_data['CustomerID'].isin(customer_bought_product)\n",
    "    label_times = pd.DataFrame(valid_pred_data['CustomerID'].unique())\n",
    "    label_times['label'] = customer_bought_product_binary\n",
    "    label_times['cutoff_time'] = cutoff_time\n",
    "    label_times.columns = ['CustomerID', 'label', 'time']\n",
    "    \n",
    "    \n",
    "\"\"\""
   ]
  },
  {
   "cell_type": "code",
   "execution_count": 65,
   "metadata": {
    "collapsed": false
   },
   "outputs": [
    {
     "data": {
      "text/html": [
       "<div>\n",
       "<style scoped>\n",
       "    .dataframe tbody tr th:only-of-type {\n",
       "        vertical-align: middle;\n",
       "    }\n",
       "\n",
       "    .dataframe tbody tr th {\n",
       "        vertical-align: top;\n",
       "    }\n",
       "\n",
       "    .dataframe thead th {\n",
       "        text-align: right;\n",
       "    }\n",
       "</style>\n",
       "<table border=\"1\" class=\"dataframe\">\n",
       "  <thead>\n",
       "    <tr style=\"text-align: right;\">\n",
       "      <th></th>\n",
       "      <th>CustomerID</th>\n",
       "      <th>label</th>\n",
       "      <th>time</th>\n",
       "    </tr>\n",
       "  </thead>\n",
       "  <tbody>\n",
       "    <tr>\n",
       "      <th>0</th>\n",
       "      <td>12362.0</td>\n",
       "      <td>False</td>\n",
       "      <td>2011-06-10</td>\n",
       "    </tr>\n",
       "    <tr>\n",
       "      <th>1</th>\n",
       "      <td>12395.0</td>\n",
       "      <td>False</td>\n",
       "      <td>2011-06-10</td>\n",
       "    </tr>\n",
       "    <tr>\n",
       "      <th>2</th>\n",
       "      <td>12407.0</td>\n",
       "      <td>True</td>\n",
       "      <td>2011-06-10</td>\n",
       "    </tr>\n",
       "    <tr>\n",
       "      <th>3</th>\n",
       "      <td>12408.0</td>\n",
       "      <td>True</td>\n",
       "      <td>2011-06-10</td>\n",
       "    </tr>\n",
       "    <tr>\n",
       "      <th>4</th>\n",
       "      <td>12415.0</td>\n",
       "      <td>True</td>\n",
       "      <td>2011-06-10</td>\n",
       "    </tr>\n",
       "  </tbody>\n",
       "</table>\n",
       "</div>"
      ],
      "text/plain": [
       "   CustomerID  label       time\n",
       "0     12362.0  False 2011-06-10\n",
       "1     12395.0  False 2011-06-10\n",
       "2     12407.0   True 2011-06-10\n",
       "3     12408.0   True 2011-06-10\n",
       "4     12415.0   True 2011-06-10"
      ]
     },
     "execution_count": 65,
     "metadata": {},
     "output_type": "execute_result"
    }
   ],
   "source": [
    "label_times.head()"
   ]
  },
  {
   "cell_type": "code",
   "execution_count": 66,
   "metadata": {
    "collapsed": false
   },
   "outputs": [
    {
     "data": {
      "text/plain": [
       "0.25129982668977469"
      ]
     },
     "execution_count": 66,
     "metadata": {},
     "output_type": "execute_result"
    }
   ],
   "source": [
    "# class balance\n",
    "label_times['label'].value_counts()[1] / label_times['label'].value_counts()[0]"
   ]
  },
  {
   "cell_type": "markdown",
   "metadata": {},
   "source": [
    "## 5. Automated feature engineering"
   ]
  },
  {
   "cell_type": "code",
   "execution_count": 67,
   "metadata": {
    "collapsed": false
   },
   "outputs": [
    {
     "name": "stdout",
     "output_type": "stream",
     "text": [
      "Building features: 203it [00:00, 1285.29it/s]\n",
      "Progress:   0%|          | 0/1 [00:00<?, ?cutoff time/s]2018-01-09 19:14:45,345 featuretools.entityset - WARNING    Using training_window but last_time_index is not set on entity customers\n",
      "2018-01-09 19:14:45,607 featuretools.entityset - WARNING    Using training_window but last_time_index is not set on entity orders\n",
      "2018-01-09 19:14:46,579 featuretools.entityset - WARNING    Using training_window but last_time_index is not set on entity order_products\n",
      "Progress: 100%|██████████| 1/1 [01:24<00:00, 84.70s/cutoff time]\n"
     ]
    }
   ],
   "source": [
    "feature_matrix, features = ft.dfs(target_entity='customers',\n",
    "                                 cutoff_time=label_times,\n",
    "                                 training_window=training_window,\n",
    "                                 entityset=es,\n",
    "                                 verbose=True)"
   ]
  },
  {
   "cell_type": "code",
   "execution_count": 68,
   "metadata": {
    "collapsed": false
   },
   "outputs": [
    {
     "name": "stdout",
     "output_type": "stream",
     "text": [
      "Number of features 264\n"
     ]
    },
    {
     "data": {
      "text/html": [
       "<div>\n",
       "<style scoped>\n",
       "    .dataframe tbody tr th:only-of-type {\n",
       "        vertical-align: middle;\n",
       "    }\n",
       "\n",
       "    .dataframe tbody tr th {\n",
       "        vertical-align: top;\n",
       "    }\n",
       "\n",
       "    .dataframe thead th {\n",
       "        text-align: right;\n",
       "    }\n",
       "</style>\n",
       "<table border=\"1\" class=\"dataframe\">\n",
       "  <thead>\n",
       "    <tr style=\"text-align: right;\">\n",
       "      <th></th>\n",
       "      <th>COUNT(orders)</th>\n",
       "      <th>SKEW(order_products.Quantity)</th>\n",
       "      <th>MONTH(first_orders_time) = 1.0</th>\n",
       "      <th>MONTH(first_orders_time) = 12.0</th>\n",
       "      <th>MONTH(first_orders_time) = 3.0</th>\n",
       "      <th>MONTH(first_orders_time) = 2.0</th>\n",
       "      <th>MONTH(first_orders_time) = 4.0</th>\n",
       "      <th>MONTH(first_orders_time) = 5.0</th>\n",
       "      <th>MONTH(first_orders_time) = 6.0</th>\n",
       "      <th>MONTH(first_orders_time) = unknown</th>\n",
       "      <th>...</th>\n",
       "      <th>MIN(orders.SUM(order_products.Quantity))</th>\n",
       "      <th>SUM(orders.MEAN(order_products.Quantity))</th>\n",
       "      <th>MIN(orders.MEAN(order_products.Value))</th>\n",
       "      <th>MIN(orders.SUM(order_products.UnitPrice))</th>\n",
       "      <th>MAX(orders.MEAN(order_products.Quantity))</th>\n",
       "      <th>SKEW(orders.NUM_UNIQUE(order_products.Country))</th>\n",
       "      <th>NUM_UNIQUE(orders.MODE(order_products.Country))</th>\n",
       "      <th>MAX(orders.NUM_UNIQUE(order_products.Description))</th>\n",
       "      <th>SUM(orders.NUM_UNIQUE(order_products.Description))</th>\n",
       "      <th>MIN(orders.NUM_UNIQUE(order_products.Description))</th>\n",
       "    </tr>\n",
       "    <tr>\n",
       "      <th>CustomerID</th>\n",
       "      <th></th>\n",
       "      <th></th>\n",
       "      <th></th>\n",
       "      <th></th>\n",
       "      <th></th>\n",
       "      <th></th>\n",
       "      <th></th>\n",
       "      <th></th>\n",
       "      <th></th>\n",
       "      <th></th>\n",
       "      <th></th>\n",
       "      <th></th>\n",
       "      <th></th>\n",
       "      <th></th>\n",
       "      <th></th>\n",
       "      <th></th>\n",
       "      <th></th>\n",
       "      <th></th>\n",
       "      <th></th>\n",
       "      <th></th>\n",
       "      <th></th>\n",
       "    </tr>\n",
       "  </thead>\n",
       "  <tbody>\n",
       "    <tr>\n",
       "      <th>12362.0</th>\n",
       "      <td>3</td>\n",
       "      <td>2.059116</td>\n",
       "      <td>0</td>\n",
       "      <td>0</td>\n",
       "      <td>0</td>\n",
       "      <td>1</td>\n",
       "      <td>0</td>\n",
       "      <td>0</td>\n",
       "      <td>0</td>\n",
       "      <td>0</td>\n",
       "      <td>...</td>\n",
       "      <td>-2.0</td>\n",
       "      <td>16.964240</td>\n",
       "      <td>-2.450000</td>\n",
       "      <td>4.90</td>\n",
       "      <td>9.482759</td>\n",
       "      <td>0.0</td>\n",
       "      <td>1.0</td>\n",
       "      <td>29.0</td>\n",
       "      <td>58.0</td>\n",
       "      <td>2.0</td>\n",
       "    </tr>\n",
       "    <tr>\n",
       "      <th>12407.0</th>\n",
       "      <td>2</td>\n",
       "      <td>1.409863</td>\n",
       "      <td>0</td>\n",
       "      <td>0</td>\n",
       "      <td>1</td>\n",
       "      <td>0</td>\n",
       "      <td>0</td>\n",
       "      <td>0</td>\n",
       "      <td>0</td>\n",
       "      <td>0</td>\n",
       "      <td>...</td>\n",
       "      <td>204.0</td>\n",
       "      <td>31.333333</td>\n",
       "      <td>15.086667</td>\n",
       "      <td>35.71</td>\n",
       "      <td>17.000000</td>\n",
       "      <td>0.0</td>\n",
       "      <td>1.0</td>\n",
       "      <td>15.0</td>\n",
       "      <td>27.0</td>\n",
       "      <td>12.0</td>\n",
       "    </tr>\n",
       "    <tr>\n",
       "      <th>12408.0</th>\n",
       "      <td>4</td>\n",
       "      <td>0.335942</td>\n",
       "      <td>0</td>\n",
       "      <td>0</td>\n",
       "      <td>1</td>\n",
       "      <td>0</td>\n",
       "      <td>0</td>\n",
       "      <td>0</td>\n",
       "      <td>0</td>\n",
       "      <td>0</td>\n",
       "      <td>...</td>\n",
       "      <td>-5.0</td>\n",
       "      <td>12.812500</td>\n",
       "      <td>-14.850000</td>\n",
       "      <td>4.95</td>\n",
       "      <td>10.312500</td>\n",
       "      <td>0.0</td>\n",
       "      <td>1.0</td>\n",
       "      <td>32.0</td>\n",
       "      <td>42.0</td>\n",
       "      <td>1.0</td>\n",
       "    </tr>\n",
       "    <tr>\n",
       "      <th>12415.0</th>\n",
       "      <td>9</td>\n",
       "      <td>2.093069</td>\n",
       "      <td>1</td>\n",
       "      <td>0</td>\n",
       "      <td>0</td>\n",
       "      <td>0</td>\n",
       "      <td>0</td>\n",
       "      <td>0</td>\n",
       "      <td>0</td>\n",
       "      <td>0</td>\n",
       "      <td>...</td>\n",
       "      <td>-110.0</td>\n",
       "      <td>502.383639</td>\n",
       "      <td>-425.000000</td>\n",
       "      <td>0.85</td>\n",
       "      <td>125.268293</td>\n",
       "      <td>0.0</td>\n",
       "      <td>1.0</td>\n",
       "      <td>82.0</td>\n",
       "      <td>279.0</td>\n",
       "      <td>1.0</td>\n",
       "    </tr>\n",
       "    <tr>\n",
       "      <th>12421.0</th>\n",
       "      <td>1</td>\n",
       "      <td>1.097479</td>\n",
       "      <td>1</td>\n",
       "      <td>0</td>\n",
       "      <td>0</td>\n",
       "      <td>0</td>\n",
       "      <td>0</td>\n",
       "      <td>0</td>\n",
       "      <td>0</td>\n",
       "      <td>0</td>\n",
       "      <td>...</td>\n",
       "      <td>104.0</td>\n",
       "      <td>9.454545</td>\n",
       "      <td>14.313636</td>\n",
       "      <td>45.73</td>\n",
       "      <td>9.454545</td>\n",
       "      <td>0.0</td>\n",
       "      <td>1.0</td>\n",
       "      <td>11.0</td>\n",
       "      <td>11.0</td>\n",
       "      <td>11.0</td>\n",
       "    </tr>\n",
       "  </tbody>\n",
       "</table>\n",
       "<p>5 rows × 264 columns</p>\n",
       "</div>"
      ],
      "text/plain": [
       "            COUNT(orders)  SKEW(order_products.Quantity)  \\\n",
       "CustomerID                                                 \n",
       "12362.0                 3                       2.059116   \n",
       "12407.0                 2                       1.409863   \n",
       "12408.0                 4                       0.335942   \n",
       "12415.0                 9                       2.093069   \n",
       "12421.0                 1                       1.097479   \n",
       "\n",
       "            MONTH(first_orders_time) = 1.0  MONTH(first_orders_time) = 12.0  \\\n",
       "CustomerID                                                                    \n",
       "12362.0                                  0                                0   \n",
       "12407.0                                  0                                0   \n",
       "12408.0                                  0                                0   \n",
       "12415.0                                  1                                0   \n",
       "12421.0                                  1                                0   \n",
       "\n",
       "            MONTH(first_orders_time) = 3.0  MONTH(first_orders_time) = 2.0  \\\n",
       "CustomerID                                                                   \n",
       "12362.0                                  0                               1   \n",
       "12407.0                                  1                               0   \n",
       "12408.0                                  1                               0   \n",
       "12415.0                                  0                               0   \n",
       "12421.0                                  0                               0   \n",
       "\n",
       "            MONTH(first_orders_time) = 4.0  MONTH(first_orders_time) = 5.0  \\\n",
       "CustomerID                                                                   \n",
       "12362.0                                  0                               0   \n",
       "12407.0                                  0                               0   \n",
       "12408.0                                  0                               0   \n",
       "12415.0                                  0                               0   \n",
       "12421.0                                  0                               0   \n",
       "\n",
       "            MONTH(first_orders_time) = 6.0  \\\n",
       "CustomerID                                   \n",
       "12362.0                                  0   \n",
       "12407.0                                  0   \n",
       "12408.0                                  0   \n",
       "12415.0                                  0   \n",
       "12421.0                                  0   \n",
       "\n",
       "            MONTH(first_orders_time) = unknown  \\\n",
       "CustomerID                                       \n",
       "12362.0                                      0   \n",
       "12407.0                                      0   \n",
       "12408.0                                      0   \n",
       "12415.0                                      0   \n",
       "12421.0                                      0   \n",
       "\n",
       "                                   ...                          \\\n",
       "CustomerID                         ...                           \n",
       "12362.0                            ...                           \n",
       "12407.0                            ...                           \n",
       "12408.0                            ...                           \n",
       "12415.0                            ...                           \n",
       "12421.0                            ...                           \n",
       "\n",
       "            MIN(orders.SUM(order_products.Quantity))  \\\n",
       "CustomerID                                             \n",
       "12362.0                                         -2.0   \n",
       "12407.0                                        204.0   \n",
       "12408.0                                         -5.0   \n",
       "12415.0                                       -110.0   \n",
       "12421.0                                        104.0   \n",
       "\n",
       "            SUM(orders.MEAN(order_products.Quantity))  \\\n",
       "CustomerID                                              \n",
       "12362.0                                     16.964240   \n",
       "12407.0                                     31.333333   \n",
       "12408.0                                     12.812500   \n",
       "12415.0                                    502.383639   \n",
       "12421.0                                      9.454545   \n",
       "\n",
       "            MIN(orders.MEAN(order_products.Value))  \\\n",
       "CustomerID                                           \n",
       "12362.0                                  -2.450000   \n",
       "12407.0                                  15.086667   \n",
       "12408.0                                 -14.850000   \n",
       "12415.0                                -425.000000   \n",
       "12421.0                                  14.313636   \n",
       "\n",
       "            MIN(orders.SUM(order_products.UnitPrice))  \\\n",
       "CustomerID                                              \n",
       "12362.0                                          4.90   \n",
       "12407.0                                         35.71   \n",
       "12408.0                                          4.95   \n",
       "12415.0                                          0.85   \n",
       "12421.0                                         45.73   \n",
       "\n",
       "            MAX(orders.MEAN(order_products.Quantity))  \\\n",
       "CustomerID                                              \n",
       "12362.0                                      9.482759   \n",
       "12407.0                                     17.000000   \n",
       "12408.0                                     10.312500   \n",
       "12415.0                                    125.268293   \n",
       "12421.0                                      9.454545   \n",
       "\n",
       "            SKEW(orders.NUM_UNIQUE(order_products.Country))  \\\n",
       "CustomerID                                                    \n",
       "12362.0                                                 0.0   \n",
       "12407.0                                                 0.0   \n",
       "12408.0                                                 0.0   \n",
       "12415.0                                                 0.0   \n",
       "12421.0                                                 0.0   \n",
       "\n",
       "            NUM_UNIQUE(orders.MODE(order_products.Country))  \\\n",
       "CustomerID                                                    \n",
       "12362.0                                                 1.0   \n",
       "12407.0                                                 1.0   \n",
       "12408.0                                                 1.0   \n",
       "12415.0                                                 1.0   \n",
       "12421.0                                                 1.0   \n",
       "\n",
       "            MAX(orders.NUM_UNIQUE(order_products.Description))  \\\n",
       "CustomerID                                                       \n",
       "12362.0                                                  29.0    \n",
       "12407.0                                                  15.0    \n",
       "12408.0                                                  32.0    \n",
       "12415.0                                                  82.0    \n",
       "12421.0                                                  11.0    \n",
       "\n",
       "            SUM(orders.NUM_UNIQUE(order_products.Description))  \\\n",
       "CustomerID                                                       \n",
       "12362.0                                                  58.0    \n",
       "12407.0                                                  27.0    \n",
       "12408.0                                                  42.0    \n",
       "12415.0                                                 279.0    \n",
       "12421.0                                                  11.0    \n",
       "\n",
       "            MIN(orders.NUM_UNIQUE(order_products.Description))  \n",
       "CustomerID                                                      \n",
       "12362.0                                                   2.0   \n",
       "12407.0                                                  12.0   \n",
       "12408.0                                                   1.0   \n",
       "12415.0                                                   1.0   \n",
       "12421.0                                                  11.0   \n",
       "\n",
       "[5 rows x 264 columns]"
      ]
     },
     "execution_count": 68,
     "metadata": {},
     "output_type": "execute_result"
    }
   ],
   "source": [
    "# encode categorical features\n",
    "fm_encoded, features_encoded = ft.encode_features(feature_matrix,\n",
    "                                                 features)\n",
    "\n",
    "print('Number of features %s' % len(features_encoded))\n",
    "fm_encoded.head()"
   ]
  },
  {
   "cell_type": "code",
   "execution_count": 69,
   "metadata": {
    "collapsed": false
   },
   "outputs": [
    {
     "data": {
      "text/plain": [
       "0                         COUNT(orders)\n",
       "1         SKEW(order_products.Quantity)\n",
       "2        MONTH(first_orders_time) = 1.0\n",
       "3       MONTH(first_orders_time) = 12.0\n",
       "4        MONTH(first_orders_time) = 3.0\n",
       "5        MONTH(first_orders_time) = 2.0\n",
       "6        MONTH(first_orders_time) = 4.0\n",
       "7        MONTH(first_orders_time) = 5.0\n",
       "8        MONTH(first_orders_time) = 6.0\n",
       "9    MONTH(first_orders_time) = unknown\n",
       "dtype: object"
      ]
     },
     "execution_count": 69,
     "metadata": {},
     "output_type": "execute_result"
    }
   ],
   "source": [
    "pd.Series(fm_encoded.columns)[0:10]"
   ]
  },
  {
   "cell_type": "markdown",
   "metadata": {},
   "source": [
    "## 6. Machine Learning"
   ]
  },
  {
   "cell_type": "code",
   "execution_count": 70,
   "metadata": {
    "collapsed": true
   },
   "outputs": [],
   "source": [
    "# with the generated features we use the feature matrix\n",
    "# merge all features into one\n",
    "X = fm_encoded.reset_index().merge(label_times)\n",
    "X.drop(['CustomerID', 'time'], axis=1, inplace=True)\n",
    "X = X.fillna(0)\n",
    "y = X.pop('label').astype('int')"
   ]
  },
  {
   "cell_type": "code",
   "execution_count": 71,
   "metadata": {
    "collapsed": false
   },
   "outputs": [
    {
     "data": {
      "text/plain": [
       "0    577\n",
       "1    145\n",
       "Name: label, dtype: int64"
      ]
     },
     "execution_count": 71,
     "metadata": {},
     "output_type": "execute_result"
    }
   ],
   "source": [
    "y.value_counts()"
   ]
  },
  {
   "cell_type": "code",
   "execution_count": 84,
   "metadata": {
    "collapsed": false
   },
   "outputs": [
    {
     "data": {
      "text/plain": [
       "0.25129982668977469"
      ]
     },
     "execution_count": 84,
     "metadata": {},
     "output_type": "execute_result"
    }
   ],
   "source": [
    "y.value_counts()[1] / y.value_counts()[0]"
   ]
  },
  {
   "cell_type": "code",
   "execution_count": 72,
   "metadata": {
    "collapsed": false
   },
   "outputs": [
    {
     "name": "stderr",
     "output_type": "stream",
     "text": [
      "[Parallel(n_jobs=1)]: Done   5 out of   5 | elapsed:   21.1s finished\n"
     ]
    },
    {
     "data": {
      "text/plain": [
       "'AUC 0.70 +/- 0.11'"
      ]
     },
     "execution_count": 72,
     "metadata": {},
     "output_type": "execute_result"
    }
   ],
   "source": [
    "# random forest classifier, 5-fold cross validation\n",
    "clf = RandomForestClassifier(n_estimators=400, n_jobs=-1)\n",
    "scores = cross_val_score(estimator=clf, X=X, y=y, cv=5, scoring='roc_auc', verbose=True)\n",
    "\"AUC %.2f +/- %.2f\" % (scores.mean(), scores.std())"
   ]
  },
  {
   "cell_type": "code",
   "execution_count": 73,
   "metadata": {
    "collapsed": false
   },
   "outputs": [
    {
     "data": {
      "text/plain": [
       "array([ 0.77036266,  0.81168252,  0.77106447,  0.65217391,  0.5       ])"
      ]
     },
     "execution_count": 73,
     "metadata": {},
     "output_type": "execute_result"
    }
   ],
   "source": [
    "scores"
   ]
  },
  {
   "cell_type": "code",
   "execution_count": 74,
   "metadata": {
    "collapsed": true
   },
   "outputs": [],
   "source": [
    "# F1 score -> harmonic mean of precision and recall\n",
    "# precision -> how certain when we predict positive\n",
    "# recall -> how certain we are aoubt predicting "
   ]
  },
  {
   "cell_type": "code",
   "execution_count": 75,
   "metadata": {
    "collapsed": true
   },
   "outputs": [],
   "source": [
    "# based on the std check for variance\n",
    "# solution: more data or less features (decrease the degrees of freedom)"
   ]
  },
  {
   "cell_type": "code",
   "execution_count": 85,
   "metadata": {
    "collapsed": false
   },
   "outputs": [
    {
     "data": {
      "text/plain": [
       "RandomForestClassifier(bootstrap=True, class_weight=None, criterion='gini',\n",
       "            max_depth=None, max_features='auto', max_leaf_nodes=None,\n",
       "            min_impurity_decrease=0.0, min_impurity_split=None,\n",
       "            min_samples_leaf=1, min_samples_split=2,\n",
       "            min_weight_fraction_leaf=0.0, n_estimators=400, n_jobs=-1,\n",
       "            oob_score=False, random_state=None, verbose=0,\n",
       "            warm_start=False)"
      ]
     },
     "execution_count": 85,
     "metadata": {},
     "output_type": "execute_result"
    }
   ],
   "source": [
    "clf.fit(X,y)"
   ]
  },
  {
   "cell_type": "code",
   "execution_count": 77,
   "metadata": {
    "collapsed": false,
    "scrolled": false
   },
   "outputs": [
    {
     "name": "stdout",
     "output_type": "stream",
     "text": [
      "1: Feature: SUM(orders.SKEW(order_products.UnitPrice)), 0.029\n",
      "2: Feature: STD(order_products.Value), 0.015\n",
      "3: Feature: STD(orders.NUM_UNIQUE(order_products.InvoiceMonth)), 0.012\n",
      "4: Feature: SKEW(orders.NUM_UNIQUE(order_products.Description)), 0.011\n",
      "5: Feature: SUM(orders.MIN(order_products.UnitPrice)), 0.011\n",
      "6: Feature: SUM(orders.MAX(order_products.UnitPrice)), 0.011\n",
      "7: Feature: MIN(order_products.Quantity), 0.011\n",
      "8: Feature: SUM(order_products.UnitPrice), 0.010\n",
      "9: Feature: MIN(orders.SUM(order_products.UnitPrice)), 0.009\n",
      "10: Feature: MEAN(orders.MEAN(order_products.Value)), 0.009\n",
      "11: Feature: STD(orders.MIN(order_products.Quantity)), 0.009\n",
      "12: Feature: SUM(orders.MEAN(order_products.Value)), 0.009\n",
      "13: Feature: MEAN(orders.SUM(order_products.Value)), 0.009\n",
      "14: Feature: MAX(orders.STD(order_products.Quantity)), 0.009\n",
      "15: Feature: MIN(orders.MAX(order_products.UnitPrice)), 0.009\n",
      "16: Feature: MIN(orders.MAX(order_products.Value)), 0.009\n",
      "17: Feature: MIN(orders.SKEW(order_products.Quantity)), 0.008\n",
      "18: Feature: MIN(orders.NUM_UNIQUE(order_products.Country)), 0.008\n",
      "19: Feature: MAX(order_products.UnitPrice), 0.008\n",
      "20: Feature: STD(orders.NUM_UNIQUE(order_products.Country)), 0.008\n"
     ]
    },
    {
     "data": {
      "text/plain": [
       "[<Feature: SUM(orders.SKEW(order_products.UnitPrice))>,\n",
       " <Feature: STD(order_products.Value)>,\n",
       " <Feature: STD(orders.NUM_UNIQUE(order_products.InvoiceMonth))>,\n",
       " <Feature: SKEW(orders.NUM_UNIQUE(order_products.Description))>,\n",
       " <Feature: SUM(orders.MIN(order_products.UnitPrice))>,\n",
       " <Feature: SUM(orders.MAX(order_products.UnitPrice))>,\n",
       " <Feature: MIN(order_products.Quantity)>,\n",
       " <Feature: SUM(order_products.UnitPrice)>,\n",
       " <Feature: MIN(orders.SUM(order_products.UnitPrice))>,\n",
       " <Feature: MEAN(orders.MEAN(order_products.Value))>,\n",
       " <Feature: STD(orders.MIN(order_products.Quantity))>,\n",
       " <Feature: SUM(orders.MEAN(order_products.Value))>,\n",
       " <Feature: MEAN(orders.SUM(order_products.Value))>,\n",
       " <Feature: MAX(orders.STD(order_products.Quantity))>,\n",
       " <Feature: MIN(orders.MAX(order_products.UnitPrice))>,\n",
       " <Feature: MIN(orders.MAX(order_products.Value))>,\n",
       " <Feature: MIN(orders.SKEW(order_products.Quantity))>,\n",
       " <Feature: MIN(orders.NUM_UNIQUE(order_products.Country))>,\n",
       " <Feature: MAX(order_products.UnitPrice)>,\n",
       " <Feature: STD(orders.NUM_UNIQUE(order_products.Country))>]"
      ]
     },
     "execution_count": 77,
     "metadata": {},
     "output_type": "execute_result"
    }
   ],
   "source": [
    "# feature importance calculation\n",
    "importances = clf.feature_importances_\n",
    "# number of top features to keep\n",
    "n = 20\n",
    "\n",
    "zipped = sorted(zip(features, importances), key=lambda x: - x[1])\n",
    "\n",
    "for i, f in enumerate(zipped[:n]):\n",
    "    print(\"%d: Feature: %s, %.3f\" % (i+1, f[0].get_name(), f[1]))\n",
    "\n",
    "top_features = [f[0] for f in zipped[:n]]\n",
    "top_features"
   ]
  },
  {
   "cell_type": "code",
   "execution_count": 78,
   "metadata": {
    "collapsed": false
   },
   "outputs": [
    {
     "data": {
      "text/plain": [
       "<Feature: SUM(orders.SKEW(order_products.UnitPrice))>"
      ]
     },
     "execution_count": 78,
     "metadata": {},
     "output_type": "execute_result"
    }
   ],
   "source": [
    "top_features[0]"
   ]
  },
  {
   "cell_type": "code",
   "execution_count": null,
   "metadata": {
    "collapsed": true
   },
   "outputs": [],
   "source": []
  },
  {
   "cell_type": "code",
   "execution_count": 79,
   "metadata": {
    "collapsed": true
   },
   "outputs": [],
   "source": [
    "ft.save_features(top_features, 'top features')"
   ]
  },
  {
   "cell_type": "code",
   "execution_count": 80,
   "metadata": {
    "collapsed": true
   },
   "outputs": [],
   "source": [
    "# feature engineering -> aggregations and stacking of aggregations across relationships in the dataset"
   ]
  },
  {
   "cell_type": "code",
   "execution_count": 81,
   "metadata": {
    "collapsed": true
   },
   "outputs": [],
   "source": [
    "# rerun the classifier with one the top features to reduce the variance"
   ]
  },
  {
   "cell_type": "code",
   "execution_count": 82,
   "metadata": {
    "collapsed": true
   },
   "outputs": [],
   "source": [
    "top_features = ft.load_features('top_features', es)"
   ]
  },
  {
   "cell_type": "code",
   "execution_count": 83,
   "metadata": {
    "collapsed": false
   },
   "outputs": [
    {
     "ename": "SyntaxError",
     "evalue": "invalid syntax (<ipython-input-83-1e571318a923>, line 1)",
     "output_type": "error",
     "traceback": [
      "\u001b[0;36m  File \u001b[0;32m\"<ipython-input-83-1e571318a923>\"\u001b[0;36m, line \u001b[0;32m1\u001b[0m\n\u001b[0;31m    label_times, es =\u001b[0m\n\u001b[0m                      ^\u001b[0m\n\u001b[0;31mSyntaxError\u001b[0m\u001b[0;31m:\u001b[0m invalid syntax\n"
     ]
    }
   ],
   "source": [
    "label_times, es = "
   ]
  },
  {
   "cell_type": "code",
   "execution_count": null,
   "metadata": {
    "collapsed": true
   },
   "outputs": [],
   "source": []
  },
  {
   "cell_type": "code",
   "execution_count": null,
   "metadata": {
    "collapsed": true
   },
   "outputs": [],
   "source": []
  },
  {
   "cell_type": "code",
   "execution_count": null,
   "metadata": {
    "collapsed": true
   },
   "outputs": [],
   "source": []
  },
  {
   "cell_type": "code",
   "execution_count": null,
   "metadata": {
    "collapsed": true
   },
   "outputs": [],
   "source": []
  },
  {
   "cell_type": "code",
   "execution_count": null,
   "metadata": {
    "collapsed": true
   },
   "outputs": [],
   "source": []
  }
 ],
 "metadata": {
  "anaconda-cloud": {},
  "kernelspec": {
   "display_name": "Python [conda root]",
   "language": "python",
   "name": "conda-root-py"
  },
  "language_info": {
   "codemirror_mode": {
    "name": "ipython",
    "version": 3
   },
   "file_extension": ".py",
   "mimetype": "text/x-python",
   "name": "python",
   "nbconvert_exporter": "python",
   "pygments_lexer": "ipython3",
   "version": "3.5.4"
  }
 },
 "nbformat": 4,
 "nbformat_minor": 1
}
