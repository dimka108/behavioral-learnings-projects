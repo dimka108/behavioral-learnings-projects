{
 "cells": [
  {
   "cell_type": "code",
   "execution_count": 53,
   "metadata": {
    "collapsed": true
   },
   "outputs": [],
   "source": [
    "# http://leananalyticsbook.com/one-metric-that-matters/\n",
    "# https://v4-alpha.getbootstrap.com/content/code/\n",
    "# https://fizzle.co/sparkline/vanity-vs-actionable-metrics\n",
    "\n",
    "\n",
    "\n",
    "import pandas as pd\n",
    "import numpy as np\n",
    "import uuid\n",
    "from datetime import datetime\n",
    "from dateutil.relativedelta import relativedelta\n",
    "# set the settingWithCopyWarning in Pandas to None\n",
    "pd.options.mode.chained_assignment = None  # default='warn'\n",
    "%matplotlib inline"
   ]
  },
  {
   "cell_type": "code",
   "execution_count": 54,
   "metadata": {
    "collapsed": true
   },
   "outputs": [],
   "source": [
    "# number of device uuids \n",
    "num_device_uuids = 1000\n",
    "\n",
    "# number of months per device uuid\n",
    "num_months = 20\n",
    "\n",
    "# starting month of app usage data\n",
    "start_month = '2016-01-01'\n",
    "\n",
    "\n",
    "# usage features\n",
    "feature_usage_ratio = 0.8\n",
    "num_usage_features = 3\n",
    "\n",
    "# segmentation features\n",
    "num_segmentation_featues = 3\n",
    "platforms = ['iOS', 'Android']\n",
    "countries = ['NL', 'AU', 'FR']\n",
    "user_registered = [True, False]\n",
    "\n",
    "\n",
    "device_uuids_limit = num_device_uuids # 200"
   ]
  },
  {
   "cell_type": "markdown",
   "metadata": {},
   "source": [
    "### 1. Generating device uuids"
   ]
  },
  {
   "cell_type": "code",
   "execution_count": 101,
   "metadata": {},
   "outputs": [],
   "source": [
    "uuids = pd.Series([str(uuid.uuid4()) for i in range(1,num_device_uuids)])\n",
    "user_data = pd.DataFrame()\n",
    "user_data['device_uuid'] = pd.Series(uuids).repeat(num_months)\n",
    "user_data =user_data.reset_index().drop('index', 1)"
   ]
  },
  {
   "cell_type": "code",
   "execution_count": 102,
   "metadata": {
    "scrolled": true
   },
   "outputs": [
    {
     "data": {
      "text/html": [
       "<div>\n",
       "<style>\n",
       "    .dataframe thead tr:only-child th {\n",
       "        text-align: right;\n",
       "    }\n",
       "\n",
       "    .dataframe thead th {\n",
       "        text-align: left;\n",
       "    }\n",
       "\n",
       "    .dataframe tbody tr th {\n",
       "        vertical-align: top;\n",
       "    }\n",
       "</style>\n",
       "<table border=\"1\" class=\"dataframe\">\n",
       "  <thead>\n",
       "    <tr style=\"text-align: right;\">\n",
       "      <th></th>\n",
       "      <th>device_uuid</th>\n",
       "    </tr>\n",
       "  </thead>\n",
       "  <tbody>\n",
       "    <tr>\n",
       "      <th>0</th>\n",
       "      <td>bdf92591-92e7-4a58-890d-4410621d03ef</td>\n",
       "    </tr>\n",
       "    <tr>\n",
       "      <th>1</th>\n",
       "      <td>bdf92591-92e7-4a58-890d-4410621d03ef</td>\n",
       "    </tr>\n",
       "    <tr>\n",
       "      <th>2</th>\n",
       "      <td>bdf92591-92e7-4a58-890d-4410621d03ef</td>\n",
       "    </tr>\n",
       "    <tr>\n",
       "      <th>3</th>\n",
       "      <td>bdf92591-92e7-4a58-890d-4410621d03ef</td>\n",
       "    </tr>\n",
       "    <tr>\n",
       "      <th>4</th>\n",
       "      <td>bdf92591-92e7-4a58-890d-4410621d03ef</td>\n",
       "    </tr>\n",
       "    <tr>\n",
       "      <th>5</th>\n",
       "      <td>bdf92591-92e7-4a58-890d-4410621d03ef</td>\n",
       "    </tr>\n",
       "    <tr>\n",
       "      <th>6</th>\n",
       "      <td>bdf92591-92e7-4a58-890d-4410621d03ef</td>\n",
       "    </tr>\n",
       "    <tr>\n",
       "      <th>7</th>\n",
       "      <td>bdf92591-92e7-4a58-890d-4410621d03ef</td>\n",
       "    </tr>\n",
       "    <tr>\n",
       "      <th>8</th>\n",
       "      <td>bdf92591-92e7-4a58-890d-4410621d03ef</td>\n",
       "    </tr>\n",
       "    <tr>\n",
       "      <th>9</th>\n",
       "      <td>bdf92591-92e7-4a58-890d-4410621d03ef</td>\n",
       "    </tr>\n",
       "    <tr>\n",
       "      <th>10</th>\n",
       "      <td>bdf92591-92e7-4a58-890d-4410621d03ef</td>\n",
       "    </tr>\n",
       "    <tr>\n",
       "      <th>11</th>\n",
       "      <td>bdf92591-92e7-4a58-890d-4410621d03ef</td>\n",
       "    </tr>\n",
       "    <tr>\n",
       "      <th>12</th>\n",
       "      <td>bdf92591-92e7-4a58-890d-4410621d03ef</td>\n",
       "    </tr>\n",
       "    <tr>\n",
       "      <th>13</th>\n",
       "      <td>bdf92591-92e7-4a58-890d-4410621d03ef</td>\n",
       "    </tr>\n",
       "    <tr>\n",
       "      <th>14</th>\n",
       "      <td>bdf92591-92e7-4a58-890d-4410621d03ef</td>\n",
       "    </tr>\n",
       "    <tr>\n",
       "      <th>15</th>\n",
       "      <td>bdf92591-92e7-4a58-890d-4410621d03ef</td>\n",
       "    </tr>\n",
       "    <tr>\n",
       "      <th>16</th>\n",
       "      <td>bdf92591-92e7-4a58-890d-4410621d03ef</td>\n",
       "    </tr>\n",
       "    <tr>\n",
       "      <th>17</th>\n",
       "      <td>bdf92591-92e7-4a58-890d-4410621d03ef</td>\n",
       "    </tr>\n",
       "    <tr>\n",
       "      <th>18</th>\n",
       "      <td>bdf92591-92e7-4a58-890d-4410621d03ef</td>\n",
       "    </tr>\n",
       "    <tr>\n",
       "      <th>19</th>\n",
       "      <td>bdf92591-92e7-4a58-890d-4410621d03ef</td>\n",
       "    </tr>\n",
       "    <tr>\n",
       "      <th>20</th>\n",
       "      <td>70541dfc-0c40-4bf7-aa83-02ad7feee91c</td>\n",
       "    </tr>\n",
       "    <tr>\n",
       "      <th>21</th>\n",
       "      <td>70541dfc-0c40-4bf7-aa83-02ad7feee91c</td>\n",
       "    </tr>\n",
       "    <tr>\n",
       "      <th>22</th>\n",
       "      <td>70541dfc-0c40-4bf7-aa83-02ad7feee91c</td>\n",
       "    </tr>\n",
       "    <tr>\n",
       "      <th>23</th>\n",
       "      <td>70541dfc-0c40-4bf7-aa83-02ad7feee91c</td>\n",
       "    </tr>\n",
       "    <tr>\n",
       "      <th>24</th>\n",
       "      <td>70541dfc-0c40-4bf7-aa83-02ad7feee91c</td>\n",
       "    </tr>\n",
       "    <tr>\n",
       "      <th>25</th>\n",
       "      <td>70541dfc-0c40-4bf7-aa83-02ad7feee91c</td>\n",
       "    </tr>\n",
       "    <tr>\n",
       "      <th>26</th>\n",
       "      <td>70541dfc-0c40-4bf7-aa83-02ad7feee91c</td>\n",
       "    </tr>\n",
       "    <tr>\n",
       "      <th>27</th>\n",
       "      <td>70541dfc-0c40-4bf7-aa83-02ad7feee91c</td>\n",
       "    </tr>\n",
       "    <tr>\n",
       "      <th>28</th>\n",
       "      <td>70541dfc-0c40-4bf7-aa83-02ad7feee91c</td>\n",
       "    </tr>\n",
       "    <tr>\n",
       "      <th>29</th>\n",
       "      <td>70541dfc-0c40-4bf7-aa83-02ad7feee91c</td>\n",
       "    </tr>\n",
       "    <tr>\n",
       "      <th>...</th>\n",
       "      <td>...</td>\n",
       "    </tr>\n",
       "    <tr>\n",
       "      <th>19950</th>\n",
       "      <td>6115f38e-0f63-427b-8794-04d82373f378</td>\n",
       "    </tr>\n",
       "    <tr>\n",
       "      <th>19951</th>\n",
       "      <td>6115f38e-0f63-427b-8794-04d82373f378</td>\n",
       "    </tr>\n",
       "    <tr>\n",
       "      <th>19952</th>\n",
       "      <td>6115f38e-0f63-427b-8794-04d82373f378</td>\n",
       "    </tr>\n",
       "    <tr>\n",
       "      <th>19953</th>\n",
       "      <td>6115f38e-0f63-427b-8794-04d82373f378</td>\n",
       "    </tr>\n",
       "    <tr>\n",
       "      <th>19954</th>\n",
       "      <td>6115f38e-0f63-427b-8794-04d82373f378</td>\n",
       "    </tr>\n",
       "    <tr>\n",
       "      <th>19955</th>\n",
       "      <td>6115f38e-0f63-427b-8794-04d82373f378</td>\n",
       "    </tr>\n",
       "    <tr>\n",
       "      <th>19956</th>\n",
       "      <td>6115f38e-0f63-427b-8794-04d82373f378</td>\n",
       "    </tr>\n",
       "    <tr>\n",
       "      <th>19957</th>\n",
       "      <td>6115f38e-0f63-427b-8794-04d82373f378</td>\n",
       "    </tr>\n",
       "    <tr>\n",
       "      <th>19958</th>\n",
       "      <td>6115f38e-0f63-427b-8794-04d82373f378</td>\n",
       "    </tr>\n",
       "    <tr>\n",
       "      <th>19959</th>\n",
       "      <td>6115f38e-0f63-427b-8794-04d82373f378</td>\n",
       "    </tr>\n",
       "    <tr>\n",
       "      <th>19960</th>\n",
       "      <td>40ee2540-4d63-4f72-beea-0500f888ceb0</td>\n",
       "    </tr>\n",
       "    <tr>\n",
       "      <th>19961</th>\n",
       "      <td>40ee2540-4d63-4f72-beea-0500f888ceb0</td>\n",
       "    </tr>\n",
       "    <tr>\n",
       "      <th>19962</th>\n",
       "      <td>40ee2540-4d63-4f72-beea-0500f888ceb0</td>\n",
       "    </tr>\n",
       "    <tr>\n",
       "      <th>19963</th>\n",
       "      <td>40ee2540-4d63-4f72-beea-0500f888ceb0</td>\n",
       "    </tr>\n",
       "    <tr>\n",
       "      <th>19964</th>\n",
       "      <td>40ee2540-4d63-4f72-beea-0500f888ceb0</td>\n",
       "    </tr>\n",
       "    <tr>\n",
       "      <th>19965</th>\n",
       "      <td>40ee2540-4d63-4f72-beea-0500f888ceb0</td>\n",
       "    </tr>\n",
       "    <tr>\n",
       "      <th>19966</th>\n",
       "      <td>40ee2540-4d63-4f72-beea-0500f888ceb0</td>\n",
       "    </tr>\n",
       "    <tr>\n",
       "      <th>19967</th>\n",
       "      <td>40ee2540-4d63-4f72-beea-0500f888ceb0</td>\n",
       "    </tr>\n",
       "    <tr>\n",
       "      <th>19968</th>\n",
       "      <td>40ee2540-4d63-4f72-beea-0500f888ceb0</td>\n",
       "    </tr>\n",
       "    <tr>\n",
       "      <th>19969</th>\n",
       "      <td>40ee2540-4d63-4f72-beea-0500f888ceb0</td>\n",
       "    </tr>\n",
       "    <tr>\n",
       "      <th>19970</th>\n",
       "      <td>40ee2540-4d63-4f72-beea-0500f888ceb0</td>\n",
       "    </tr>\n",
       "    <tr>\n",
       "      <th>19971</th>\n",
       "      <td>40ee2540-4d63-4f72-beea-0500f888ceb0</td>\n",
       "    </tr>\n",
       "    <tr>\n",
       "      <th>19972</th>\n",
       "      <td>40ee2540-4d63-4f72-beea-0500f888ceb0</td>\n",
       "    </tr>\n",
       "    <tr>\n",
       "      <th>19973</th>\n",
       "      <td>40ee2540-4d63-4f72-beea-0500f888ceb0</td>\n",
       "    </tr>\n",
       "    <tr>\n",
       "      <th>19974</th>\n",
       "      <td>40ee2540-4d63-4f72-beea-0500f888ceb0</td>\n",
       "    </tr>\n",
       "    <tr>\n",
       "      <th>19975</th>\n",
       "      <td>40ee2540-4d63-4f72-beea-0500f888ceb0</td>\n",
       "    </tr>\n",
       "    <tr>\n",
       "      <th>19976</th>\n",
       "      <td>40ee2540-4d63-4f72-beea-0500f888ceb0</td>\n",
       "    </tr>\n",
       "    <tr>\n",
       "      <th>19977</th>\n",
       "      <td>40ee2540-4d63-4f72-beea-0500f888ceb0</td>\n",
       "    </tr>\n",
       "    <tr>\n",
       "      <th>19978</th>\n",
       "      <td>40ee2540-4d63-4f72-beea-0500f888ceb0</td>\n",
       "    </tr>\n",
       "    <tr>\n",
       "      <th>19979</th>\n",
       "      <td>40ee2540-4d63-4f72-beea-0500f888ceb0</td>\n",
       "    </tr>\n",
       "  </tbody>\n",
       "</table>\n",
       "<p>19980 rows × 1 columns</p>\n",
       "</div>"
      ],
      "text/plain": [
       "                                device_uuid\n",
       "0      bdf92591-92e7-4a58-890d-4410621d03ef\n",
       "1      bdf92591-92e7-4a58-890d-4410621d03ef\n",
       "2      bdf92591-92e7-4a58-890d-4410621d03ef\n",
       "3      bdf92591-92e7-4a58-890d-4410621d03ef\n",
       "4      bdf92591-92e7-4a58-890d-4410621d03ef\n",
       "5      bdf92591-92e7-4a58-890d-4410621d03ef\n",
       "6      bdf92591-92e7-4a58-890d-4410621d03ef\n",
       "7      bdf92591-92e7-4a58-890d-4410621d03ef\n",
       "8      bdf92591-92e7-4a58-890d-4410621d03ef\n",
       "9      bdf92591-92e7-4a58-890d-4410621d03ef\n",
       "10     bdf92591-92e7-4a58-890d-4410621d03ef\n",
       "11     bdf92591-92e7-4a58-890d-4410621d03ef\n",
       "12     bdf92591-92e7-4a58-890d-4410621d03ef\n",
       "13     bdf92591-92e7-4a58-890d-4410621d03ef\n",
       "14     bdf92591-92e7-4a58-890d-4410621d03ef\n",
       "15     bdf92591-92e7-4a58-890d-4410621d03ef\n",
       "16     bdf92591-92e7-4a58-890d-4410621d03ef\n",
       "17     bdf92591-92e7-4a58-890d-4410621d03ef\n",
       "18     bdf92591-92e7-4a58-890d-4410621d03ef\n",
       "19     bdf92591-92e7-4a58-890d-4410621d03ef\n",
       "20     70541dfc-0c40-4bf7-aa83-02ad7feee91c\n",
       "21     70541dfc-0c40-4bf7-aa83-02ad7feee91c\n",
       "22     70541dfc-0c40-4bf7-aa83-02ad7feee91c\n",
       "23     70541dfc-0c40-4bf7-aa83-02ad7feee91c\n",
       "24     70541dfc-0c40-4bf7-aa83-02ad7feee91c\n",
       "25     70541dfc-0c40-4bf7-aa83-02ad7feee91c\n",
       "26     70541dfc-0c40-4bf7-aa83-02ad7feee91c\n",
       "27     70541dfc-0c40-4bf7-aa83-02ad7feee91c\n",
       "28     70541dfc-0c40-4bf7-aa83-02ad7feee91c\n",
       "29     70541dfc-0c40-4bf7-aa83-02ad7feee91c\n",
       "...                                     ...\n",
       "19950  6115f38e-0f63-427b-8794-04d82373f378\n",
       "19951  6115f38e-0f63-427b-8794-04d82373f378\n",
       "19952  6115f38e-0f63-427b-8794-04d82373f378\n",
       "19953  6115f38e-0f63-427b-8794-04d82373f378\n",
       "19954  6115f38e-0f63-427b-8794-04d82373f378\n",
       "19955  6115f38e-0f63-427b-8794-04d82373f378\n",
       "19956  6115f38e-0f63-427b-8794-04d82373f378\n",
       "19957  6115f38e-0f63-427b-8794-04d82373f378\n",
       "19958  6115f38e-0f63-427b-8794-04d82373f378\n",
       "19959  6115f38e-0f63-427b-8794-04d82373f378\n",
       "19960  40ee2540-4d63-4f72-beea-0500f888ceb0\n",
       "19961  40ee2540-4d63-4f72-beea-0500f888ceb0\n",
       "19962  40ee2540-4d63-4f72-beea-0500f888ceb0\n",
       "19963  40ee2540-4d63-4f72-beea-0500f888ceb0\n",
       "19964  40ee2540-4d63-4f72-beea-0500f888ceb0\n",
       "19965  40ee2540-4d63-4f72-beea-0500f888ceb0\n",
       "19966  40ee2540-4d63-4f72-beea-0500f888ceb0\n",
       "19967  40ee2540-4d63-4f72-beea-0500f888ceb0\n",
       "19968  40ee2540-4d63-4f72-beea-0500f888ceb0\n",
       "19969  40ee2540-4d63-4f72-beea-0500f888ceb0\n",
       "19970  40ee2540-4d63-4f72-beea-0500f888ceb0\n",
       "19971  40ee2540-4d63-4f72-beea-0500f888ceb0\n",
       "19972  40ee2540-4d63-4f72-beea-0500f888ceb0\n",
       "19973  40ee2540-4d63-4f72-beea-0500f888ceb0\n",
       "19974  40ee2540-4d63-4f72-beea-0500f888ceb0\n",
       "19975  40ee2540-4d63-4f72-beea-0500f888ceb0\n",
       "19976  40ee2540-4d63-4f72-beea-0500f888ceb0\n",
       "19977  40ee2540-4d63-4f72-beea-0500f888ceb0\n",
       "19978  40ee2540-4d63-4f72-beea-0500f888ceb0\n",
       "19979  40ee2540-4d63-4f72-beea-0500f888ceb0\n",
       "\n",
       "[19980 rows x 1 columns]"
      ]
     },
     "execution_count": 102,
     "metadata": {},
     "output_type": "execute_result"
    }
   ],
   "source": [
    "user_data"
   ]
  },
  {
   "cell_type": "markdown",
   "metadata": {},
   "source": [
    "### 2. Generate dates"
   ]
  },
  {
   "cell_type": "code",
   "execution_count": 103,
   "metadata": {},
   "outputs": [
    {
     "data": {
      "text/plain": [
       "('2016-01-01 00:00:00', '2017-08-01 00:00:00')"
      ]
     },
     "execution_count": 103,
     "metadata": {},
     "output_type": "execute_result"
    }
   ],
   "source": [
    "start_month_ts = pd.to_datetime(start_month)\n",
    "end_month_ts = start_month_ts + relativedelta(months=+num_months - 1)\n",
    "str(start_month_ts), str(end_month_ts)"
   ]
  },
  {
   "cell_type": "code",
   "execution_count": 104,
   "metadata": {},
   "outputs": [
    {
     "data": {
      "text/plain": [
       "0    2016-01-01\n",
       "1    2016-02-01\n",
       "2    2016-03-01\n",
       "3    2016-04-01\n",
       "4    2016-05-01\n",
       "5    2016-06-01\n",
       "6    2016-07-01\n",
       "7    2016-08-01\n",
       "8    2016-09-01\n",
       "9    2016-10-01\n",
       "10   2016-11-01\n",
       "11   2016-12-01\n",
       "12   2017-01-01\n",
       "13   2017-02-01\n",
       "14   2017-03-01\n",
       "15   2017-04-01\n",
       "16   2017-05-01\n",
       "17   2017-06-01\n",
       "18   2017-07-01\n",
       "19   2017-08-01\n",
       "dtype: datetime64[ns]"
      ]
     },
     "execution_count": 104,
     "metadata": {},
     "output_type": "execute_result"
    }
   ],
   "source": [
    "months = pd.Series(pd.date_range(start_month_ts, end_month_ts, freq='MS'))\n",
    "months"
   ]
  },
  {
   "cell_type": "code",
   "execution_count": 105,
   "metadata": {},
   "outputs": [
    {
     "data": {
      "text/html": [
       "<div>\n",
       "<style>\n",
       "    .dataframe thead tr:only-child th {\n",
       "        text-align: right;\n",
       "    }\n",
       "\n",
       "    .dataframe thead th {\n",
       "        text-align: left;\n",
       "    }\n",
       "\n",
       "    .dataframe tbody tr th {\n",
       "        vertical-align: top;\n",
       "    }\n",
       "</style>\n",
       "<table border=\"1\" class=\"dataframe\">\n",
       "  <thead>\n",
       "    <tr style=\"text-align: right;\">\n",
       "      <th></th>\n",
       "      <th>device_uuid</th>\n",
       "    </tr>\n",
       "  </thead>\n",
       "  <tbody>\n",
       "    <tr>\n",
       "      <th>0</th>\n",
       "      <td>bdf92591-92e7-4a58-890d-4410621d03ef</td>\n",
       "    </tr>\n",
       "    <tr>\n",
       "      <th>1</th>\n",
       "      <td>bdf92591-92e7-4a58-890d-4410621d03ef</td>\n",
       "    </tr>\n",
       "    <tr>\n",
       "      <th>2</th>\n",
       "      <td>bdf92591-92e7-4a58-890d-4410621d03ef</td>\n",
       "    </tr>\n",
       "    <tr>\n",
       "      <th>3</th>\n",
       "      <td>bdf92591-92e7-4a58-890d-4410621d03ef</td>\n",
       "    </tr>\n",
       "    <tr>\n",
       "      <th>4</th>\n",
       "      <td>bdf92591-92e7-4a58-890d-4410621d03ef</td>\n",
       "    </tr>\n",
       "  </tbody>\n",
       "</table>\n",
       "</div>"
      ],
      "text/plain": [
       "                            device_uuid\n",
       "0  bdf92591-92e7-4a58-890d-4410621d03ef\n",
       "1  bdf92591-92e7-4a58-890d-4410621d03ef\n",
       "2  bdf92591-92e7-4a58-890d-4410621d03ef\n",
       "3  bdf92591-92e7-4a58-890d-4410621d03ef\n",
       "4  bdf92591-92e7-4a58-890d-4410621d03ef"
      ]
     },
     "execution_count": 105,
     "metadata": {},
     "output_type": "execute_result"
    }
   ],
   "source": [
    "user_data.head()"
   ]
  },
  {
   "cell_type": "code",
   "execution_count": 106,
   "metadata": {},
   "outputs": [],
   "source": [
    "user_data['date'] = pd.concat([months] * num_device_uuids, axis=0).reset_index().drop('index', 1)"
   ]
  },
  {
   "cell_type": "code",
   "execution_count": 109,
   "metadata": {},
   "outputs": [
    {
     "data": {
      "text/html": [
       "<div>\n",
       "<style>\n",
       "    .dataframe thead tr:only-child th {\n",
       "        text-align: right;\n",
       "    }\n",
       "\n",
       "    .dataframe thead th {\n",
       "        text-align: left;\n",
       "    }\n",
       "\n",
       "    .dataframe tbody tr th {\n",
       "        vertical-align: top;\n",
       "    }\n",
       "</style>\n",
       "<table border=\"1\" class=\"dataframe\">\n",
       "  <thead>\n",
       "    <tr style=\"text-align: right;\">\n",
       "      <th></th>\n",
       "      <th>device_uuid</th>\n",
       "      <th>date</th>\n",
       "    </tr>\n",
       "  </thead>\n",
       "  <tbody>\n",
       "    <tr>\n",
       "      <th>0</th>\n",
       "      <td>bdf92591-92e7-4a58-890d-4410621d03ef</td>\n",
       "      <td>2016-01-01</td>\n",
       "    </tr>\n",
       "    <tr>\n",
       "      <th>1</th>\n",
       "      <td>bdf92591-92e7-4a58-890d-4410621d03ef</td>\n",
       "      <td>2016-02-01</td>\n",
       "    </tr>\n",
       "    <tr>\n",
       "      <th>2</th>\n",
       "      <td>bdf92591-92e7-4a58-890d-4410621d03ef</td>\n",
       "      <td>2016-03-01</td>\n",
       "    </tr>\n",
       "    <tr>\n",
       "      <th>3</th>\n",
       "      <td>bdf92591-92e7-4a58-890d-4410621d03ef</td>\n",
       "      <td>2016-04-01</td>\n",
       "    </tr>\n",
       "    <tr>\n",
       "      <th>4</th>\n",
       "      <td>bdf92591-92e7-4a58-890d-4410621d03ef</td>\n",
       "      <td>2016-05-01</td>\n",
       "    </tr>\n",
       "  </tbody>\n",
       "</table>\n",
       "</div>"
      ],
      "text/plain": [
       "                            device_uuid       date\n",
       "0  bdf92591-92e7-4a58-890d-4410621d03ef 2016-01-01\n",
       "1  bdf92591-92e7-4a58-890d-4410621d03ef 2016-02-01\n",
       "2  bdf92591-92e7-4a58-890d-4410621d03ef 2016-03-01\n",
       "3  bdf92591-92e7-4a58-890d-4410621d03ef 2016-04-01\n",
       "4  bdf92591-92e7-4a58-890d-4410621d03ef 2016-05-01"
      ]
     },
     "execution_count": 109,
     "metadata": {},
     "output_type": "execute_result"
    }
   ],
   "source": [
    "user_data.head()"
   ]
  },
  {
   "cell_type": "markdown",
   "metadata": {},
   "source": [
    "### 3. Generate usage features"
   ]
  },
  {
   "cell_type": "code",
   "execution_count": 11,
   "metadata": {
    "collapsed": true
   },
   "outputs": [],
   "source": [
    "device_uuids = pd.Series(user_data['device_uuid'].unique())\n",
    "user_data_with_usage = pd.DataFrame()"
   ]
  },
  {
   "cell_type": "code",
   "execution_count": 12,
   "metadata": {},
   "outputs": [
    {
     "data": {
      "text/plain": [
       "0    001aa2ab-3705-4a5e-aa82-d69fc20e77a2\n",
       "1    0031d125-1145-4a6c-aec8-b5a4fcad3cf0\n",
       "2    00637ef1-5221-4429-87d4-d393e18005fa\n",
       "3    006cd6a6-57ec-4812-a898-6b95df025fdf\n",
       "4    0078c00d-83cc-465a-a9de-5c5ccca6080f\n",
       "dtype: object"
      ]
     },
     "execution_count": 12,
     "metadata": {},
     "output_type": "execute_result"
    }
   ],
   "source": [
    "device_uuids[0:5]"
   ]
  },
  {
   "cell_type": "code",
   "execution_count": 13,
   "metadata": {
    "collapsed": true
   },
   "outputs": [],
   "source": [
    "# extrac the names for each feature based on the pre-set number of feature\n",
    "features = ['feature' + str(i) for i in range(1,num_usage_features+1)]"
   ]
  },
  {
   "cell_type": "code",
   "execution_count": 14,
   "metadata": {},
   "outputs": [
    {
     "data": {
      "text/plain": [
       "{'feature1': 1.0, 'feature2': 0.8, 'feature3': 0.6}"
      ]
     },
     "execution_count": 14,
     "metadata": {},
     "output_type": "execute_result"
    }
   ],
   "source": [
    "# generate random usage data for each feature and simulate falling usage per feature\n",
    "# (each feature 80% of the previous one)\n",
    "# example: F1 = 1, F2 = F1*0.8 = 0.8, F3 = F2*0.8 = 0.64\n",
    "\n",
    "usage_features_ratio = {}\n",
    "\n",
    "# set the feature_ratio for the first feature (100%)\n",
    "cur_feature = 1.0\n",
    "\n",
    "for feature in features:\n",
    "    usage_features_ratio[feature] = float(\"{0:.1f}\".format(cur_feature))\n",
    "    cur_feature*= 0.8\n",
    "\n",
    "usage_features_ratio"
   ]
  },
  {
   "cell_type": "markdown",
   "metadata": {},
   "source": [
    "#### 4.1. Assign cohort groups to device_uuids"
   ]
  },
  {
   "cell_type": "code",
   "execution_count": 15,
   "metadata": {},
   "outputs": [
    {
     "data": {
      "text/plain": [
       "5"
      ]
     },
     "execution_count": 15,
     "metadata": {},
     "output_type": "execute_result"
    }
   ],
   "source": [
    "# 10 months = 5 cohorts, 11 months = 5 cohorts\n",
    "num_cohorts = int(10 / 2) \n",
    "num_cohorts"
   ]
  },
  {
   "cell_type": "code",
   "execution_count": 16,
   "metadata": {},
   "outputs": [
    {
     "data": {
      "text/html": [
       "<div>\n",
       "<style>\n",
       "    .dataframe thead tr:only-child th {\n",
       "        text-align: right;\n",
       "    }\n",
       "\n",
       "    .dataframe thead th {\n",
       "        text-align: left;\n",
       "    }\n",
       "\n",
       "    .dataframe tbody tr th {\n",
       "        vertical-align: top;\n",
       "    }\n",
       "</style>\n",
       "<table border=\"1\" class=\"dataframe\">\n",
       "  <thead>\n",
       "    <tr style=\"text-align: right;\">\n",
       "      <th></th>\n",
       "      <th>device_uuid</th>\n",
       "      <th>cohort_group</th>\n",
       "    </tr>\n",
       "  </thead>\n",
       "  <tbody>\n",
       "    <tr>\n",
       "      <th>0</th>\n",
       "      <td>001aa2ab-3705-4a5e-aa82-d69fc20e77a2</td>\n",
       "      <td>5</td>\n",
       "    </tr>\n",
       "    <tr>\n",
       "      <th>1</th>\n",
       "      <td>0031d125-1145-4a6c-aec8-b5a4fcad3cf0</td>\n",
       "      <td>5</td>\n",
       "    </tr>\n",
       "    <tr>\n",
       "      <th>2</th>\n",
       "      <td>00637ef1-5221-4429-87d4-d393e18005fa</td>\n",
       "      <td>4</td>\n",
       "    </tr>\n",
       "    <tr>\n",
       "      <th>3</th>\n",
       "      <td>006cd6a6-57ec-4812-a898-6b95df025fdf</td>\n",
       "      <td>8</td>\n",
       "    </tr>\n",
       "    <tr>\n",
       "      <th>4</th>\n",
       "      <td>0078c00d-83cc-465a-a9de-5c5ccca6080f</td>\n",
       "      <td>0</td>\n",
       "    </tr>\n",
       "  </tbody>\n",
       "</table>\n",
       "</div>"
      ],
      "text/plain": [
       "                            device_uuid  cohort_group\n",
       "0  001aa2ab-3705-4a5e-aa82-d69fc20e77a2             5\n",
       "1  0031d125-1145-4a6c-aec8-b5a4fcad3cf0             5\n",
       "2  00637ef1-5221-4429-87d4-d393e18005fa             4\n",
       "3  006cd6a6-57ec-4812-a898-6b95df025fdf             8\n",
       "4  0078c00d-83cc-465a-a9de-5c5ccca6080f             0"
      ]
     },
     "execution_count": 16,
     "metadata": {},
     "output_type": "execute_result"
    }
   ],
   "source": [
    "num_cohorts = int(num_months / 2) \n",
    "\n",
    "# assign cohorts to users randomly (when did the device_uuid first used the app?)\n",
    "cohorts = pd.DataFrame()\n",
    "cohorts['device_uuid'] = device_uuids\n",
    "cohorts['cohort_group'] = np.random.randint(low=0, high=num_cohorts, size=num_device_uuids-1)\n",
    "cohorts.head()"
   ]
  },
  {
   "cell_type": "code",
   "execution_count": 17,
   "metadata": {},
   "outputs": [
    {
     "data": {
      "text/plain": [
       "2    110\n",
       "7    109\n",
       "8    105\n",
       "9    104\n",
       "1     98\n",
       "3     97\n",
       "5     96\n",
       "6     95\n",
       "0     94\n",
       "4     91\n",
       "Name: cohort_group, dtype: int64"
      ]
     },
     "execution_count": 17,
     "metadata": {},
     "output_type": "execute_result"
    }
   ],
   "source": [
    "# number of users per cohort (number of months for the cut-off point)\n",
    "cohorts['cohort_group'].value_counts()"
   ]
  },
  {
   "cell_type": "markdown",
   "metadata": {},
   "source": [
    "#### 4.2. Creating usage features"
   ]
  },
  {
   "cell_type": "code",
   "execution_count": 77,
   "metadata": {
    "collapsed": true
   },
   "outputs": [],
   "source": [
    "# finding cohort groups for each device_uuid\n",
    "user_data_with_cohort_groups = pd.DataFrame()\n",
    "\n",
    "for device_uuid in device_uuids:\n",
    "    \n",
    "    # 1. slice user_data, create a device_uuid data for each user\n",
    "    device_uuid_data = user_data[user_data['device_uuid'] == device_uuid]\n",
    "    \n",
    "    # 2. find cohort group of the device_uui and delete all unnecessary months\n",
    "    device_uuid_cohort_group = int(cohorts[cohorts['device_uuid'] == device_uuid]['cohort_group'])\n",
    "    device_uuid_data = device_uuid_data[device_uuid_cohort_group:]\n",
    "\n",
    "    user_data_with_cohort_groups = user_data_with_cohort_groups.append(device_uuid_data)"
   ]
  },
  {
   "cell_type": "code",
   "execution_count": 78,
   "metadata": {},
   "outputs": [
    {
     "data": {
      "text/plain": [
       "15.433433433433434"
      ]
     },
     "execution_count": 78,
     "metadata": {},
     "output_type": "execute_result"
    }
   ],
   "source": [
    "len(user_data_with_cohort_groups) / len(device_uuids)\n",
    "# len(user_data) / len(device_uuids)"
   ]
  },
  {
   "cell_type": "code",
   "execution_count": 79,
   "metadata": {},
   "outputs": [
    {
     "data": {
      "text/html": [
       "<div>\n",
       "<style>\n",
       "    .dataframe thead tr:only-child th {\n",
       "        text-align: right;\n",
       "    }\n",
       "\n",
       "    .dataframe thead th {\n",
       "        text-align: left;\n",
       "    }\n",
       "\n",
       "    .dataframe tbody tr th {\n",
       "        vertical-align: top;\n",
       "    }\n",
       "</style>\n",
       "<table border=\"1\" class=\"dataframe\">\n",
       "  <thead>\n",
       "    <tr style=\"text-align: right;\">\n",
       "      <th></th>\n",
       "      <th>device_uuid</th>\n",
       "      <th>date</th>\n",
       "      <th>feature1</th>\n",
       "      <th>feature2</th>\n",
       "      <th>feature3</th>\n",
       "    </tr>\n",
       "  </thead>\n",
       "  <tbody>\n",
       "    <tr>\n",
       "      <th>0</th>\n",
       "      <td>001aa2ab-3705-4a5e-aa82-d69fc20e77a2</td>\n",
       "      <td>2016-06-01</td>\n",
       "      <td>10</td>\n",
       "      <td>8.0</td>\n",
       "      <td>6.0</td>\n",
       "    </tr>\n",
       "    <tr>\n",
       "      <th>1</th>\n",
       "      <td>001aa2ab-3705-4a5e-aa82-d69fc20e77a2</td>\n",
       "      <td>2016-07-01</td>\n",
       "      <td>1</td>\n",
       "      <td>0.8</td>\n",
       "      <td>0.6</td>\n",
       "    </tr>\n",
       "    <tr>\n",
       "      <th>2</th>\n",
       "      <td>001aa2ab-3705-4a5e-aa82-d69fc20e77a2</td>\n",
       "      <td>2016-08-01</td>\n",
       "      <td>2</td>\n",
       "      <td>1.6</td>\n",
       "      <td>1.2</td>\n",
       "    </tr>\n",
       "    <tr>\n",
       "      <th>3</th>\n",
       "      <td>001aa2ab-3705-4a5e-aa82-d69fc20e77a2</td>\n",
       "      <td>2016-09-01</td>\n",
       "      <td>13</td>\n",
       "      <td>10.4</td>\n",
       "      <td>7.8</td>\n",
       "    </tr>\n",
       "    <tr>\n",
       "      <th>4</th>\n",
       "      <td>001aa2ab-3705-4a5e-aa82-d69fc20e77a2</td>\n",
       "      <td>2016-10-01</td>\n",
       "      <td>13</td>\n",
       "      <td>10.4</td>\n",
       "      <td>7.8</td>\n",
       "    </tr>\n",
       "  </tbody>\n",
       "</table>\n",
       "</div>"
      ],
      "text/plain": [
       "                            device_uuid       date  feature1  feature2  \\\n",
       "0  001aa2ab-3705-4a5e-aa82-d69fc20e77a2 2016-06-01        10       8.0   \n",
       "1  001aa2ab-3705-4a5e-aa82-d69fc20e77a2 2016-07-01         1       0.8   \n",
       "2  001aa2ab-3705-4a5e-aa82-d69fc20e77a2 2016-08-01         2       1.6   \n",
       "3  001aa2ab-3705-4a5e-aa82-d69fc20e77a2 2016-09-01        13      10.4   \n",
       "4  001aa2ab-3705-4a5e-aa82-d69fc20e77a2 2016-10-01        13      10.4   \n",
       "\n",
       "   feature3  \n",
       "0       6.0  \n",
       "1       0.6  \n",
       "2       1.2  \n",
       "3       7.8  \n",
       "4       7.8  "
      ]
     },
     "execution_count": 79,
     "metadata": {},
     "output_type": "execute_result"
    }
   ],
   "source": [
    "# 3.1. - Generate random data for Feature1\n",
    "\n",
    "user_data_with_cohort_groups = user_data_with_cohort_groups.reset_index().drop('index', axis=1)\n",
    "\n",
    "user_data_with_cohort_groups[features[0]] = pd.Series((\n",
    "        np.random.randint(low=0, high=14, \n",
    "                          size=len(user_data_with_cohort_groups))))\n",
    "\n",
    "# 3.2. - Generate data for remaining features (Feature2, Feature3...)\n",
    "for feature in features[1:]:\n",
    "        user_data_with_cohort_groups[feature] = user_data_with_cohort_groups[features[0]] * usage_features_ratio[feature]\n",
    "        \n",
    "user_data_with_cohort_groups.head()"
   ]
  },
  {
   "cell_type": "code",
   "execution_count": 80,
   "metadata": {
    "collapsed": true
   },
   "outputs": [],
   "source": [
    "user_data_with_usage_features = pd.DataFrame()\n",
    "\n",
    "# 4.- Churner stays a churner\n",
    "\n",
    "for device_uuid in device_uuids:\n",
    "    \n",
    "    churner = False\n",
    "            \n",
    "    device_uuid_data = user_data_with_cohort_groups[user_data_with_cohort_groups['device_uuid'] == device_uuid]\n",
    "    \n",
    "    \n",
    "    for index, row in device_uuid_data.iterrows():\n",
    "        \n",
    "        if row[features[0]] == 0:\n",
    "            churner = True\n",
    "\n",
    "        if churner == True:\n",
    "            # if a churner, set the value of all usage features to 0\n",
    "            device_uuid_data.loc[index, features[0:]] = 0\n",
    "    \n",
    "    # print(device_uuid_data)\n",
    "            \n",
    "    user_data_with_usage_features = user_data_with_usage_features.append(device_uuid_data)\n",
    "    \n",
    "# delete the months when with churned device_uuid months\n",
    "user_data_with_usage_features = user_data_with_usage_features[user_data_with_usage_features[features[0]] != 0]"
   ]
  },
  {
   "cell_type": "code",
   "execution_count": 81,
   "metadata": {},
   "outputs": [
    {
     "data": {
      "text/html": [
       "<div>\n",
       "<style>\n",
       "    .dataframe thead tr:only-child th {\n",
       "        text-align: right;\n",
       "    }\n",
       "\n",
       "    .dataframe thead th {\n",
       "        text-align: left;\n",
       "    }\n",
       "\n",
       "    .dataframe tbody tr th {\n",
       "        vertical-align: top;\n",
       "    }\n",
       "</style>\n",
       "<table border=\"1\" class=\"dataframe\">\n",
       "  <thead>\n",
       "    <tr style=\"text-align: right;\">\n",
       "      <th></th>\n",
       "      <th>device_uuid</th>\n",
       "      <th>date</th>\n",
       "      <th>feature1</th>\n",
       "      <th>feature2</th>\n",
       "      <th>feature3</th>\n",
       "    </tr>\n",
       "  </thead>\n",
       "  <tbody>\n",
       "    <tr>\n",
       "      <th>0</th>\n",
       "      <td>001aa2ab-3705-4a5e-aa82-d69fc20e77a2</td>\n",
       "      <td>2016-06-01</td>\n",
       "      <td>10</td>\n",
       "      <td>8.0</td>\n",
       "      <td>6.0</td>\n",
       "    </tr>\n",
       "    <tr>\n",
       "      <th>1</th>\n",
       "      <td>001aa2ab-3705-4a5e-aa82-d69fc20e77a2</td>\n",
       "      <td>2016-07-01</td>\n",
       "      <td>1</td>\n",
       "      <td>0.8</td>\n",
       "      <td>0.6</td>\n",
       "    </tr>\n",
       "    <tr>\n",
       "      <th>2</th>\n",
       "      <td>001aa2ab-3705-4a5e-aa82-d69fc20e77a2</td>\n",
       "      <td>2016-08-01</td>\n",
       "      <td>2</td>\n",
       "      <td>1.6</td>\n",
       "      <td>1.2</td>\n",
       "    </tr>\n",
       "    <tr>\n",
       "      <th>3</th>\n",
       "      <td>001aa2ab-3705-4a5e-aa82-d69fc20e77a2</td>\n",
       "      <td>2016-09-01</td>\n",
       "      <td>13</td>\n",
       "      <td>10.4</td>\n",
       "      <td>7.8</td>\n",
       "    </tr>\n",
       "    <tr>\n",
       "      <th>4</th>\n",
       "      <td>001aa2ab-3705-4a5e-aa82-d69fc20e77a2</td>\n",
       "      <td>2016-10-01</td>\n",
       "      <td>13</td>\n",
       "      <td>10.4</td>\n",
       "      <td>7.8</td>\n",
       "    </tr>\n",
       "  </tbody>\n",
       "</table>\n",
       "</div>"
      ],
      "text/plain": [
       "                            device_uuid       date  feature1  feature2  \\\n",
       "0  001aa2ab-3705-4a5e-aa82-d69fc20e77a2 2016-06-01        10       8.0   \n",
       "1  001aa2ab-3705-4a5e-aa82-d69fc20e77a2 2016-07-01         1       0.8   \n",
       "2  001aa2ab-3705-4a5e-aa82-d69fc20e77a2 2016-08-01         2       1.6   \n",
       "3  001aa2ab-3705-4a5e-aa82-d69fc20e77a2 2016-09-01        13      10.4   \n",
       "4  001aa2ab-3705-4a5e-aa82-d69fc20e77a2 2016-10-01        13      10.4   \n",
       "\n",
       "   feature3  \n",
       "0       6.0  \n",
       "1       0.6  \n",
       "2       1.2  \n",
       "3       7.8  \n",
       "4       7.8  "
      ]
     },
     "execution_count": 81,
     "metadata": {},
     "output_type": "execute_result"
    }
   ],
   "source": [
    "user_data_with_usage_features.head()"
   ]
  },
  {
   "cell_type": "code",
   "execution_count": 82,
   "metadata": {},
   "outputs": [
    {
     "data": {
      "text/plain": [
       "8.464464464464465"
      ]
     },
     "execution_count": 82,
     "metadata": {},
     "output_type": "execute_result"
    }
   ],
   "source": [
    "# average number of months of usage per device_uuid\n",
    "len(user_data_with_usage_features) / len(device_uuids)"
   ]
  },
  {
   "cell_type": "code",
   "execution_count": 83,
   "metadata": {},
   "outputs": [
    {
     "data": {
      "text/plain": [
       "20"
      ]
     },
     "execution_count": 83,
     "metadata": {},
     "output_type": "execute_result"
    }
   ],
   "source": [
    "num_months"
   ]
  },
  {
   "cell_type": "markdown",
   "metadata": {},
   "source": [
    "### 4. Generate segmentation features"
   ]
  },
  {
   "cell_type": "markdown",
   "metadata": {},
   "source": [
    "#### function to generate random features\n",
    "#### parameters: name of feature, list of all feature values"
   ]
  },
  {
   "cell_type": "code",
   "execution_count": 84,
   "metadata": {
    "collapsed": true
   },
   "outputs": [],
   "source": [
    "segmentation_features = {'platform': platforms,\n",
    "                'user_registered': user_registered,\n",
    "                'country': countries}"
   ]
  },
  {
   "cell_type": "code",
   "execution_count": 85,
   "metadata": {},
   "outputs": [
    {
     "data": {
      "text/plain": [
       "{'country': ['NL', 'AU', 'FR'],\n",
       " 'platform': ['iOS', 'Android'],\n",
       " 'user_registered': [True, False]}"
      ]
     },
     "execution_count": 85,
     "metadata": {},
     "output_type": "execute_result"
    }
   ],
   "source": [
    "segmentation_features"
   ]
  },
  {
   "cell_type": "code",
   "execution_count": 86,
   "metadata": {
    "collapsed": true
   },
   "outputs": [],
   "source": [
    "# user_data_with_segmentation_features = pd.DataFrame()\n",
    "\n",
    "segmentation_features_df = pd.DataFrame()\n",
    "\n",
    "weights_2 = [0.7, 0.3]\n",
    "weights_3 = [0.6, 0.3, 0.1]\n",
    "\n",
    "for device_uuid in device_uuids[0:device_uuids_limit]:\n",
    "    \n",
    "    device_uuid_feature_values_dict = {}\n",
    "    \n",
    "    for feature_name, feature_values in segmentation_features.items():\n",
    "\n",
    "        # generate the random feature value\n",
    "        # add code if you want to add features with > 3 values\n",
    "        if len(feature_values) == 2:\n",
    "            feature_weights = weights_2\n",
    "        elif len(feature_values) == 3:\n",
    "            feature_weights = weights_3\n",
    "        \n",
    "        # generate the feature value from assigned weights\n",
    "        feature_value = np.random.choice(feature_values, p=feature_weights)\n",
    "        \n",
    "        \n",
    "        # device_uuid_feature_values_list.append(feature_value)\n",
    "        \n",
    "        # make a dict of feature_name\n",
    "        device_uuid_feature_values_dict[feature_name] = feature_value\n",
    "        \n",
    "        \n",
    "        \n",
    "    # make a df with segmentation features for the device_uuid\n",
    "    device_segm_features = pd.DataFrame(list(device_uuid_feature_values_dict.items())).T\n",
    "    device_segm_features.columns = device_segm_features.iloc[0]\n",
    "    device_segm_features['device_uuid'] = device_uuid\n",
    "    device_segm_features = device_segm_features.reindex(device_segm_features.index.drop(0))\n",
    "    device_segm_features['device_uuid'] = device_uuid\n",
    "    # device_segm_features\n",
    "        \n",
    "    # append to the main df\n",
    "        \n",
    "    segmentation_features_df = segmentation_features_df.append(device_segm_features)\n",
    "    \n",
    "    \n",
    "# segmentation_features_df = segmentation_features_df.reset_index().drop('index', axis=1)\n",
    "segmentation_features_df = segmentation_features_df.set_index('device_uuid').reset_index()"
   ]
  },
  {
   "cell_type": "code",
   "execution_count": 87,
   "metadata": {},
   "outputs": [
    {
     "data": {
      "text/html": [
       "<div>\n",
       "<style>\n",
       "    .dataframe thead tr:only-child th {\n",
       "        text-align: right;\n",
       "    }\n",
       "\n",
       "    .dataframe thead th {\n",
       "        text-align: left;\n",
       "    }\n",
       "\n",
       "    .dataframe tbody tr th {\n",
       "        vertical-align: top;\n",
       "    }\n",
       "</style>\n",
       "<table border=\"1\" class=\"dataframe\">\n",
       "  <thead>\n",
       "    <tr style=\"text-align: right;\">\n",
       "      <th></th>\n",
       "      <th>device_uuid</th>\n",
       "      <th>user_registered</th>\n",
       "      <th>platform</th>\n",
       "      <th>country</th>\n",
       "    </tr>\n",
       "  </thead>\n",
       "  <tbody>\n",
       "    <tr>\n",
       "      <th>0</th>\n",
       "      <td>001aa2ab-3705-4a5e-aa82-d69fc20e77a2</td>\n",
       "      <td>True</td>\n",
       "      <td>Android</td>\n",
       "      <td>NL</td>\n",
       "    </tr>\n",
       "    <tr>\n",
       "      <th>1</th>\n",
       "      <td>0031d125-1145-4a6c-aec8-b5a4fcad3cf0</td>\n",
       "      <td>True</td>\n",
       "      <td>Android</td>\n",
       "      <td>AU</td>\n",
       "    </tr>\n",
       "    <tr>\n",
       "      <th>2</th>\n",
       "      <td>00637ef1-5221-4429-87d4-d393e18005fa</td>\n",
       "      <td>True</td>\n",
       "      <td>Android</td>\n",
       "      <td>NL</td>\n",
       "    </tr>\n",
       "    <tr>\n",
       "      <th>3</th>\n",
       "      <td>006cd6a6-57ec-4812-a898-6b95df025fdf</td>\n",
       "      <td>True</td>\n",
       "      <td>Android</td>\n",
       "      <td>NL</td>\n",
       "    </tr>\n",
       "    <tr>\n",
       "      <th>4</th>\n",
       "      <td>0078c00d-83cc-465a-a9de-5c5ccca6080f</td>\n",
       "      <td>True</td>\n",
       "      <td>iOS</td>\n",
       "      <td>NL</td>\n",
       "    </tr>\n",
       "  </tbody>\n",
       "</table>\n",
       "</div>"
      ],
      "text/plain": [
       "0                           device_uuid user_registered platform country\n",
       "0  001aa2ab-3705-4a5e-aa82-d69fc20e77a2            True  Android      NL\n",
       "1  0031d125-1145-4a6c-aec8-b5a4fcad3cf0            True  Android      AU\n",
       "2  00637ef1-5221-4429-87d4-d393e18005fa            True  Android      NL\n",
       "3  006cd6a6-57ec-4812-a898-6b95df025fdf            True  Android      NL\n",
       "4  0078c00d-83cc-465a-a9de-5c5ccca6080f            True      iOS      NL"
      ]
     },
     "execution_count": 87,
     "metadata": {},
     "output_type": "execute_result"
    }
   ],
   "source": [
    "segmentation_features_df.head()"
   ]
  },
  {
   "cell_type": "code",
   "execution_count": 89,
   "metadata": {
    "collapsed": true,
    "scrolled": true
   },
   "outputs": [],
   "source": [
    "final_df = pd.DataFrame()\n",
    "\n",
    "for device_uuid in device_uuids[0:device_uuids_limit]:\n",
    "    \n",
    "    # extract device data from the main df\n",
    "    device_uuid_df = user_data_with_usage_features[user_data_with_usage_features['device_uuid'] == device_uuid]\n",
    "    # extract device data for segmentation features data\n",
    "    device_seg_feature_values_df = segmentation_features_df[segmentation_features_df['device_uuid'] == device_uuid]\n",
    "\n",
    "    \n",
    "    # print(device_seg_feature_values_df[0:10])\n",
    "    \n",
    "    # assign the values of segmentation features to the main df\n",
    "    for seg_feature_name in device_seg_feature_values_df.columns[1:]:\n",
    "        # device_uuid_data[seg_feature_name] = device_seg_feature_values_df[seg_feature_name]\n",
    "        device_uuid_df[seg_feature_name] = device_seg_feature_values_df[seg_feature_name][int(device_seg_feature_values_df[seg_feature_name].index.values)]\n",
    "        # None\n",
    "        # print(device_seg_feature_values_df[seg_feature_name][int(device_seg_feature_values_df[seg_feature_name].index.values)])\n",
    "        # [device_seg_feature_values_df[seg_feature_name].index.values])\n",
    "\n",
    "    # append the device data to the main df\n",
    "    final_df = final_df.append(device_uuid_df)\n",
    "\n",
    "final_df.reset_index(inplace=True, drop=True)"
   ]
  },
  {
   "cell_type": "code",
   "execution_count": 90,
   "metadata": {},
   "outputs": [
    {
     "data": {
      "text/plain": [
       "8456"
      ]
     },
     "execution_count": 90,
     "metadata": {},
     "output_type": "execute_result"
    }
   ],
   "source": [
    "len(final_df)"
   ]
  },
  {
   "cell_type": "code",
   "execution_count": 103,
   "metadata": {},
   "outputs": [
    {
     "data": {
      "image/png": "[encoded data removed]",
      "text/plain": [
       "<matplotlib.figure.Figure at 0x7fbe6c9149e8>"
      ]
     },
     "metadata": {},
     "output_type": "display_data"
    }
   ],
   "source": [
    "final_df.groupby(['country']).count()['device_uuid'].plot(kind='hist');"
   ]
  },
  {
   "cell_type": "code",
   "execution_count": 104,
   "metadata": {},
   "outputs": [
    {
     "data": {
      "text/html": [
       "<div>\n",
       "<style>\n",
       "    .dataframe thead tr:only-child th {\n",
       "        text-align: right;\n",
       "    }\n",
       "\n",
       "    .dataframe thead th {\n",
       "        text-align: left;\n",
       "    }\n",
       "\n",
       "    .dataframe tbody tr th {\n",
       "        vertical-align: top;\n",
       "    }\n",
       "</style>\n",
       "<table border=\"1\" class=\"dataframe\">\n",
       "  <thead>\n",
       "    <tr style=\"text-align: right;\">\n",
       "      <th></th>\n",
       "      <th>feature1</th>\n",
       "      <th>feature2</th>\n",
       "      <th>feature3</th>\n",
       "    </tr>\n",
       "    <tr>\n",
       "      <th>user_registered</th>\n",
       "      <th></th>\n",
       "      <th></th>\n",
       "      <th></th>\n",
       "    </tr>\n",
       "  </thead>\n",
       "  <tbody>\n",
       "    <tr>\n",
       "      <th>False</th>\n",
       "      <td>6.930481</td>\n",
       "      <td>5.544385</td>\n",
       "      <td>4.158289</td>\n",
       "    </tr>\n",
       "    <tr>\n",
       "      <th>True</th>\n",
       "      <td>6.893628</td>\n",
       "      <td>5.514902</td>\n",
       "      <td>4.136177</td>\n",
       "    </tr>\n",
       "  </tbody>\n",
       "</table>\n",
       "</div>"
      ],
      "text/plain": [
       "                 feature1  feature2  feature3\n",
       "user_registered                              \n",
       "False            6.930481  5.544385  4.158289\n",
       "True             6.893628  5.514902  4.136177"
      ]
     },
     "execution_count": 104,
     "metadata": {},
     "output_type": "execute_result"
    }
   ],
   "source": [
    "final_df.groupby(['user_registered']).mean()"
   ]
  },
  {
   "cell_type": "code",
   "execution_count": 107,
   "metadata": {
    "scrolled": true
   },
   "outputs": [
    {
     "data": {
      "text/html": [
       "<div>\n",
       "<style>\n",
       "    .dataframe thead tr:only-child th {\n",
       "        text-align: right;\n",
       "    }\n",
       "\n",
       "    .dataframe thead th {\n",
       "        text-align: left;\n",
       "    }\n",
       "\n",
       "    .dataframe tbody tr th {\n",
       "        vertical-align: top;\n",
       "    }\n",
       "</style>\n",
       "<table border=\"1\" class=\"dataframe\">\n",
       "  <thead>\n",
       "    <tr style=\"text-align: right;\">\n",
       "      <th></th>\n",
       "      <th>device_uuid</th>\n",
       "      <th>date</th>\n",
       "      <th>feature1</th>\n",
       "      <th>feature2</th>\n",
       "      <th>feature3</th>\n",
       "      <th>user_registered</th>\n",
       "      <th>platform</th>\n",
       "      <th>country</th>\n",
       "    </tr>\n",
       "  </thead>\n",
       "  <tbody>\n",
       "    <tr>\n",
       "      <th>0</th>\n",
       "      <td>001aa2ab-3705-4a5e-aa82-d69fc20e77a2</td>\n",
       "      <td>2016-06-01</td>\n",
       "      <td>10</td>\n",
       "      <td>8.0</td>\n",
       "      <td>6.0</td>\n",
       "      <td>True</td>\n",
       "      <td>Android</td>\n",
       "      <td>NL</td>\n",
       "    </tr>\n",
       "    <tr>\n",
       "      <th>1</th>\n",
       "      <td>001aa2ab-3705-4a5e-aa82-d69fc20e77a2</td>\n",
       "      <td>2016-07-01</td>\n",
       "      <td>1</td>\n",
       "      <td>0.8</td>\n",
       "      <td>0.6</td>\n",
       "      <td>True</td>\n",
       "      <td>Android</td>\n",
       "      <td>NL</td>\n",
       "    </tr>\n",
       "    <tr>\n",
       "      <th>2</th>\n",
       "      <td>001aa2ab-3705-4a5e-aa82-d69fc20e77a2</td>\n",
       "      <td>2016-08-01</td>\n",
       "      <td>2</td>\n",
       "      <td>1.6</td>\n",
       "      <td>1.2</td>\n",
       "      <td>True</td>\n",
       "      <td>Android</td>\n",
       "      <td>NL</td>\n",
       "    </tr>\n",
       "    <tr>\n",
       "      <th>3</th>\n",
       "      <td>001aa2ab-3705-4a5e-aa82-d69fc20e77a2</td>\n",
       "      <td>2016-09-01</td>\n",
       "      <td>13</td>\n",
       "      <td>10.4</td>\n",
       "      <td>7.8</td>\n",
       "      <td>True</td>\n",
       "      <td>Android</td>\n",
       "      <td>NL</td>\n",
       "    </tr>\n",
       "    <tr>\n",
       "      <th>4</th>\n",
       "      <td>001aa2ab-3705-4a5e-aa82-d69fc20e77a2</td>\n",
       "      <td>2016-10-01</td>\n",
       "      <td>13</td>\n",
       "      <td>10.4</td>\n",
       "      <td>7.8</td>\n",
       "      <td>True</td>\n",
       "      <td>Android</td>\n",
       "      <td>NL</td>\n",
       "    </tr>\n",
       "  </tbody>\n",
       "</table>\n",
       "</div>"
      ],
      "text/plain": [
       "                            device_uuid       date  feature1  feature2  \\\n",
       "0  001aa2ab-3705-4a5e-aa82-d69fc20e77a2 2016-06-01        10       8.0   \n",
       "1  001aa2ab-3705-4a5e-aa82-d69fc20e77a2 2016-07-01         1       0.8   \n",
       "2  001aa2ab-3705-4a5e-aa82-d69fc20e77a2 2016-08-01         2       1.6   \n",
       "3  001aa2ab-3705-4a5e-aa82-d69fc20e77a2 2016-09-01        13      10.4   \n",
       "4  001aa2ab-3705-4a5e-aa82-d69fc20e77a2 2016-10-01        13      10.4   \n",
       "\n",
       "   feature3  user_registered platform country  \n",
       "0       6.0             True  Android      NL  \n",
       "1       0.6             True  Android      NL  \n",
       "2       1.2             True  Android      NL  \n",
       "3       7.8             True  Android      NL  \n",
       "4       7.8             True  Android      NL  "
      ]
     },
     "execution_count": 107,
     "metadata": {},
     "output_type": "execute_result"
    }
   ],
   "source": [
    "final_df.head()"
   ]
  },
  {
   "cell_type": "code",
   "execution_count": 110,
   "metadata": {},
   "outputs": [
    {
     "data": {
      "text/plain": [
       "910"
      ]
     },
     "execution_count": 110,
     "metadata": {},
     "output_type": "execute_result"
    }
   ],
   "source": [
    "len(final_df['device_uuid'].unique())"
   ]
  },
  {
   "cell_type": "code",
   "execution_count": 112,
   "metadata": {
    "collapsed": true
   },
   "outputs": [],
   "source": [
    "final_df.to_csv('generating_user_behavioral_data.csv')"
   ]
  },
  {
   "cell_type": "markdown",
   "metadata": {},
   "source": [
    "### Random code"
   ]
  },
  {
   "cell_type": "code",
   "execution_count": null,
   "metadata": {
    "collapsed": true
   },
   "outputs": [],
   "source": [
    "# device_uuid_data[seg_feature_name]\n",
    "# int(device_seg_feature_values_df['platform'].index.values)\n",
    "device_seg_feature_values_df['platform'][int(device_seg_feature_values_df['platform'].index.values)]"
   ]
  },
  {
   "cell_type": "code",
   "execution_count": null,
   "metadata": {
    "collapsed": true
   },
   "outputs": [],
   "source": [
    "for index, row in sample_df.iterrows():\n",
    "    new_sample_df = pd.DataFrame\n",
    "    \n",
    "    if index == 0:\n",
    "            churner = False\n",
    "            \n",
    "    if row['app_usage'] == 0:\n",
    "        churner = True\n",
    "    \n",
    "    if churner == True:\n",
    "        # None\n",
    "        sample_df.loc[index, 'app_usage'] = 0\n",
    "\n",
    "sample_df# df['Col1_0_prev'] = df.groupby('User')['Col1_0'].shift()\n",
    "user_data['prev_device_uuid'] = user_data['device_uuid'].shift(1)"
   ]
  },
  {
   "cell_type": "code",
   "execution_count": null,
   "metadata": {
    "collapsed": true
   },
   "outputs": [],
   "source": [
    "start_month = pd.to_datetime('2016-01-01')\n",
    "add_month = relativedelta(months=+1)\n",
    "user_data['date'] = start_month\n",
    "\n",
    "for index, row in user_data.iterrows():\n",
    "    \n",
    "    if row['device_uuid'] == row['prev_device_uuid']:\n",
    "        row['date'] += add_month\n",
    "        # print(str(row['device_uuid']) + \"    \" + str(row['prev_device_uuid']))\n",
    "    \n",
    "    \n",
    "    \"\"\"\n",
    "    \n",
    "    if row['device_uuid'] == row['prev_device_uuid'] or row['prev_device_uuid'] == None:\n",
    "        month += add_month\n",
    "        row['date']  = month\n",
    "    else:\n",
    "        month = start_month\n",
    "        row['date'] = month\n",
    "        \n",
    "        \n",
    "    \"\"\"\n",
    "    "
   ]
  },
  {
   "cell_type": "code",
   "execution_count": null,
   "metadata": {
    "collapsed": true
   },
   "outputs": [],
   "source": [
    "for index, row in sample_df.iterrows():\n",
    "    new_sample_df = pd.DataFrame\n",
    "    \n",
    "    if index == 0:\n",
    "            churner = False\n",
    "            \n",
    "    if row['app_usage'] == 0:\n",
    "        churner = True\n",
    "    \n",
    "    if churner == True:\n",
    "        # None\n",
    "        sample_df.loc[index, 'app_usage'] = 0\n",
    "\n",
    "sample_df"
   ]
  }
 ],
 "metadata": {
  "kernelspec": {
   "display_name": "Python [default]",
   "language": "python",
   "name": "python3"
  },
  "language_info": {
   "codemirror_mode": {
    "name": "ipython",
    "version": 3
   },
   "file_extension": ".py",
   "mimetype": "text/x-python",
   "name": "python",
   "nbconvert_exporter": "python",
   "pygments_lexer": "ipython3",
   "version": "3.5.3"
  }
 },
 "nbformat": 4,
 "nbformat_minor": 2
}
